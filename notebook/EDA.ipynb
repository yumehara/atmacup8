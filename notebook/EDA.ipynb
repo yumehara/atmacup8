{
 "cells": [
  {
   "cell_type": "code",
   "execution_count": 1,
   "metadata": {},
   "outputs": [],
   "source": [
    "import numpy as np\n",
    "import matplotlib.pyplot as plt\n",
    "import pandas as pd\n",
    "import feather\n",
    "import datetime\n",
    "from matplotlib_venn import venn2\n",
    "pd.set_option('display.max_Columns', 100)"
   ]
  },
  {
   "cell_type": "code",
   "execution_count": 2,
   "metadata": {},
   "outputs": [
    {
     "name": "stdout",
     "output_type": "stream",
     "text": [
      "(8359, 16)\n",
      "(8360, 11)\n",
      "(8360, 1)\n"
     ]
    }
   ],
   "source": [
    "train = pd.read_csv('../inputs/train.csv')\n",
    "print(train.shape)\n",
    "test = pd.read_csv('../inputs/test.csv')\n",
    "print(test.shape)\n",
    "sample = pd.read_csv('../inputs/atmaCup8_sample-submission.csv')\n",
    "print(sample.shape)"
   ]
  },
  {
   "cell_type": "code",
   "execution_count": 3,
   "metadata": {},
   "outputs": [],
   "source": [
    "train['User_Score'] = train['User_Score'].replace({'nan': np.NaN, 'tbd': np.NaN}).astype(float)\n",
    "test['User_Score'] = test['User_Score'].replace({'nan': np.NaN, 'tbd': np.NaN}).astype(float)"
   ]
  },
  {
   "cell_type": "code",
   "execution_count": 4,
   "metadata": {},
   "outputs": [
    {
     "data": {
      "text/html": [
       "<div>\n",
       "<style scoped>\n",
       "    .dataframe tbody tr th:only-of-type {\n",
       "        vertical-align: middle;\n",
       "    }\n",
       "\n",
       "    .dataframe tbody tr th {\n",
       "        vertical-align: top;\n",
       "    }\n",
       "\n",
       "    .dataframe thead th {\n",
       "        text-align: right;\n",
       "    }\n",
       "</style>\n",
       "<table border=\"1\" class=\"dataframe\">\n",
       "  <thead>\n",
       "    <tr style=\"text-align: right;\">\n",
       "      <th></th>\n",
       "      <th>Name</th>\n",
       "      <th>Platform</th>\n",
       "      <th>Year_of_Release</th>\n",
       "      <th>Genre</th>\n",
       "      <th>Publisher</th>\n",
       "      <th>NA_Sales</th>\n",
       "      <th>EU_Sales</th>\n",
       "      <th>JP_Sales</th>\n",
       "      <th>Other_Sales</th>\n",
       "      <th>Global_Sales</th>\n",
       "      <th>Critic_Score</th>\n",
       "      <th>Critic_Count</th>\n",
       "      <th>User_Score</th>\n",
       "      <th>User_Count</th>\n",
       "      <th>Developer</th>\n",
       "      <th>Rating</th>\n",
       "    </tr>\n",
       "  </thead>\n",
       "  <tbody>\n",
       "    <tr>\n",
       "      <th>0</th>\n",
       "      <td>LEGO Batman: The Videogame</td>\n",
       "      <td>Wii</td>\n",
       "      <td>NaN</td>\n",
       "      <td>Action</td>\n",
       "      <td>Warner Bros. Interactive Entertainment</td>\n",
       "      <td>180</td>\n",
       "      <td>97</td>\n",
       "      <td>0</td>\n",
       "      <td>28</td>\n",
       "      <td>306</td>\n",
       "      <td>74.0</td>\n",
       "      <td>17.0</td>\n",
       "      <td>7.9</td>\n",
       "      <td>22.0</td>\n",
       "      <td>Traveller's Tales</td>\n",
       "      <td>E10+</td>\n",
       "    </tr>\n",
       "    <tr>\n",
       "      <th>1</th>\n",
       "      <td>LEGO Indiana Jones: The Original Adventures</td>\n",
       "      <td>Wii</td>\n",
       "      <td>NaN</td>\n",
       "      <td>Action</td>\n",
       "      <td>LucasArts</td>\n",
       "      <td>151</td>\n",
       "      <td>61</td>\n",
       "      <td>0</td>\n",
       "      <td>21</td>\n",
       "      <td>234</td>\n",
       "      <td>78.0</td>\n",
       "      <td>22.0</td>\n",
       "      <td>6.6</td>\n",
       "      <td>28.0</td>\n",
       "      <td>Traveller's Tales</td>\n",
       "      <td>E10+</td>\n",
       "    </tr>\n",
       "    <tr>\n",
       "      <th>2</th>\n",
       "      <td>LEGO Batman: The Videogame</td>\n",
       "      <td>PSP</td>\n",
       "      <td>NaN</td>\n",
       "      <td>Action</td>\n",
       "      <td>Warner Bros. Interactive Entertainment</td>\n",
       "      <td>56</td>\n",
       "      <td>44</td>\n",
       "      <td>0</td>\n",
       "      <td>27</td>\n",
       "      <td>128</td>\n",
       "      <td>73.0</td>\n",
       "      <td>5.0</td>\n",
       "      <td>7.4</td>\n",
       "      <td>10.0</td>\n",
       "      <td>Traveller's Tales</td>\n",
       "      <td>E10+</td>\n",
       "    </tr>\n",
       "    <tr>\n",
       "      <th>3</th>\n",
       "      <td>Combat</td>\n",
       "      <td>2600</td>\n",
       "      <td>NaN</td>\n",
       "      <td>Action</td>\n",
       "      <td>Atari</td>\n",
       "      <td>117</td>\n",
       "      <td>7</td>\n",
       "      <td>0</td>\n",
       "      <td>1</td>\n",
       "      <td>125</td>\n",
       "      <td>NaN</td>\n",
       "      <td>NaN</td>\n",
       "      <td>NaN</td>\n",
       "      <td>NaN</td>\n",
       "      <td>NaN</td>\n",
       "      <td>NaN</td>\n",
       "    </tr>\n",
       "    <tr>\n",
       "      <th>4</th>\n",
       "      <td>LEGO Harry Potter: Years 5-7</td>\n",
       "      <td>Wii</td>\n",
       "      <td>NaN</td>\n",
       "      <td>Action</td>\n",
       "      <td>Warner Bros. Interactive Entertainment</td>\n",
       "      <td>69</td>\n",
       "      <td>42</td>\n",
       "      <td>0</td>\n",
       "      <td>12</td>\n",
       "      <td>124</td>\n",
       "      <td>76.0</td>\n",
       "      <td>8.0</td>\n",
       "      <td>7.8</td>\n",
       "      <td>13.0</td>\n",
       "      <td>Traveller's Tales</td>\n",
       "      <td>E10+</td>\n",
       "    </tr>\n",
       "  </tbody>\n",
       "</table>\n",
       "</div>"
      ],
      "text/plain": [
       "                                          Name Platform  Year_of_Release  \\\n",
       "0                   LEGO Batman: The Videogame      Wii              NaN   \n",
       "1  LEGO Indiana Jones: The Original Adventures      Wii              NaN   \n",
       "2                   LEGO Batman: The Videogame      PSP              NaN   \n",
       "3                                       Combat     2600              NaN   \n",
       "4                 LEGO Harry Potter: Years 5-7      Wii              NaN   \n",
       "\n",
       "    Genre                               Publisher  NA_Sales  EU_Sales  \\\n",
       "0  Action  Warner Bros. Interactive Entertainment       180        97   \n",
       "1  Action                               LucasArts       151        61   \n",
       "2  Action  Warner Bros. Interactive Entertainment        56        44   \n",
       "3  Action                                   Atari       117         7   \n",
       "4  Action  Warner Bros. Interactive Entertainment        69        42   \n",
       "\n",
       "   JP_Sales  Other_Sales  Global_Sales  Critic_Score  Critic_Count  \\\n",
       "0         0           28           306          74.0          17.0   \n",
       "1         0           21           234          78.0          22.0   \n",
       "2         0           27           128          73.0           5.0   \n",
       "3         0            1           125           NaN           NaN   \n",
       "4         0           12           124          76.0           8.0   \n",
       "\n",
       "   User_Score  User_Count          Developer Rating  \n",
       "0         7.9        22.0  Traveller's Tales   E10+  \n",
       "1         6.6        28.0  Traveller's Tales   E10+  \n",
       "2         7.4        10.0  Traveller's Tales   E10+  \n",
       "3         NaN         NaN                NaN    NaN  \n",
       "4         7.8        13.0  Traveller's Tales   E10+  "
      ]
     },
     "execution_count": 4,
     "metadata": {},
     "output_type": "execute_result"
    }
   ],
   "source": [
    "train.head()"
   ]
  },
  {
   "cell_type": "code",
   "execution_count": 5,
   "metadata": {},
   "outputs": [
    {
     "data": {
      "text/html": [
       "<div>\n",
       "<style scoped>\n",
       "    .dataframe tbody tr th:only-of-type {\n",
       "        vertical-align: middle;\n",
       "    }\n",
       "\n",
       "    .dataframe tbody tr th {\n",
       "        vertical-align: top;\n",
       "    }\n",
       "\n",
       "    .dataframe thead th {\n",
       "        text-align: right;\n",
       "    }\n",
       "</style>\n",
       "<table border=\"1\" class=\"dataframe\">\n",
       "  <thead>\n",
       "    <tr style=\"text-align: right;\">\n",
       "      <th></th>\n",
       "      <th>Name</th>\n",
       "      <th>Platform</th>\n",
       "      <th>Year_of_Release</th>\n",
       "      <th>Genre</th>\n",
       "      <th>Publisher</th>\n",
       "      <th>Critic_Score</th>\n",
       "      <th>Critic_Count</th>\n",
       "      <th>User_Score</th>\n",
       "      <th>User_Count</th>\n",
       "      <th>Developer</th>\n",
       "      <th>Rating</th>\n",
       "    </tr>\n",
       "  </thead>\n",
       "  <tbody>\n",
       "    <tr>\n",
       "      <th>0</th>\n",
       "      <td>Hitman 2: Silent Assassin</td>\n",
       "      <td>XB</td>\n",
       "      <td>NaN</td>\n",
       "      <td>Action</td>\n",
       "      <td>Eidos Interactive</td>\n",
       "      <td>84.0</td>\n",
       "      <td>23.0</td>\n",
       "      <td>8.0</td>\n",
       "      <td>19.0</td>\n",
       "      <td>Io Interactive</td>\n",
       "      <td>M</td>\n",
       "    </tr>\n",
       "    <tr>\n",
       "      <th>1</th>\n",
       "      <td>Legacy of Kain: Soul Reaver</td>\n",
       "      <td>PS</td>\n",
       "      <td>NaN</td>\n",
       "      <td>Action</td>\n",
       "      <td>Eidos Interactive</td>\n",
       "      <td>91.0</td>\n",
       "      <td>17.0</td>\n",
       "      <td>9.0</td>\n",
       "      <td>132.0</td>\n",
       "      <td>Crystal Dynamics</td>\n",
       "      <td>T</td>\n",
       "    </tr>\n",
       "    <tr>\n",
       "      <th>2</th>\n",
       "      <td>Metal Gear Solid 2: Substance</td>\n",
       "      <td>XB</td>\n",
       "      <td>NaN</td>\n",
       "      <td>Action</td>\n",
       "      <td>Konami Digital Entertainment</td>\n",
       "      <td>87.0</td>\n",
       "      <td>28.0</td>\n",
       "      <td>8.5</td>\n",
       "      <td>39.0</td>\n",
       "      <td>KCEJ</td>\n",
       "      <td>M</td>\n",
       "    </tr>\n",
       "    <tr>\n",
       "      <th>3</th>\n",
       "      <td>Silent Hill: Homecoming</td>\n",
       "      <td>X360</td>\n",
       "      <td>NaN</td>\n",
       "      <td>Action</td>\n",
       "      <td>Konami Digital Entertainment</td>\n",
       "      <td>70.0</td>\n",
       "      <td>54.0</td>\n",
       "      <td>6.9</td>\n",
       "      <td>180.0</td>\n",
       "      <td>Double Helix Games</td>\n",
       "      <td>M</td>\n",
       "    </tr>\n",
       "    <tr>\n",
       "      <th>4</th>\n",
       "      <td>Silent Hill: Homecoming</td>\n",
       "      <td>PS3</td>\n",
       "      <td>NaN</td>\n",
       "      <td>Action</td>\n",
       "      <td>Konami Digital Entertainment</td>\n",
       "      <td>71.0</td>\n",
       "      <td>41.0</td>\n",
       "      <td>6.9</td>\n",
       "      <td>143.0</td>\n",
       "      <td>Double Helix Games</td>\n",
       "      <td>M</td>\n",
       "    </tr>\n",
       "  </tbody>\n",
       "</table>\n",
       "</div>"
      ],
      "text/plain": [
       "                            Name Platform  Year_of_Release   Genre  \\\n",
       "0      Hitman 2: Silent Assassin       XB              NaN  Action   \n",
       "1    Legacy of Kain: Soul Reaver       PS              NaN  Action   \n",
       "2  Metal Gear Solid 2: Substance       XB              NaN  Action   \n",
       "3        Silent Hill: Homecoming     X360              NaN  Action   \n",
       "4        Silent Hill: Homecoming      PS3              NaN  Action   \n",
       "\n",
       "                      Publisher  Critic_Score  Critic_Count  User_Score  \\\n",
       "0             Eidos Interactive          84.0          23.0         8.0   \n",
       "1             Eidos Interactive          91.0          17.0         9.0   \n",
       "2  Konami Digital Entertainment          87.0          28.0         8.5   \n",
       "3  Konami Digital Entertainment          70.0          54.0         6.9   \n",
       "4  Konami Digital Entertainment          71.0          41.0         6.9   \n",
       "\n",
       "   User_Count           Developer Rating  \n",
       "0        19.0      Io Interactive      M  \n",
       "1       132.0    Crystal Dynamics      T  \n",
       "2        39.0                KCEJ      M  \n",
       "3       180.0  Double Helix Games      M  \n",
       "4       143.0  Double Helix Games      M  "
      ]
     },
     "execution_count": 5,
     "metadata": {},
     "output_type": "execute_result"
    }
   ],
   "source": [
    "test.head()"
   ]
  },
  {
   "cell_type": "code",
   "execution_count": 6,
   "metadata": {},
   "outputs": [
    {
     "data": {
      "text/plain": [
       "Name                object\n",
       "Platform            object\n",
       "Year_of_Release    float64\n",
       "Genre               object\n",
       "Publisher           object\n",
       "NA_Sales             int64\n",
       "EU_Sales             int64\n",
       "JP_Sales             int64\n",
       "Other_Sales          int64\n",
       "Global_Sales         int64\n",
       "Critic_Score       float64\n",
       "Critic_Count       float64\n",
       "User_Score         float64\n",
       "User_Count         float64\n",
       "Developer           object\n",
       "Rating              object\n",
       "dtype: object"
      ]
     },
     "execution_count": 6,
     "metadata": {},
     "output_type": "execute_result"
    }
   ],
   "source": [
    "train.dtypes"
   ]
  },
  {
   "cell_type": "code",
   "execution_count": 7,
   "metadata": {},
   "outputs": [
    {
     "data": {
      "text/plain": [
       "Name                object\n",
       "Platform            object\n",
       "Year_of_Release    float64\n",
       "Genre               object\n",
       "Publisher           object\n",
       "Critic_Score       float64\n",
       "Critic_Count       float64\n",
       "User_Score         float64\n",
       "User_Count         float64\n",
       "Developer           object\n",
       "Rating              object\n",
       "dtype: object"
      ]
     },
     "execution_count": 7,
     "metadata": {},
     "output_type": "execute_result"
    }
   ],
   "source": [
    "test.dtypes"
   ]
  },
  {
   "cell_type": "code",
   "execution_count": 43,
   "metadata": {},
   "outputs": [],
   "source": [
    "train['User_Count_log'] = train['User_Count'].apply(lambda x: np.log1p(x))\n",
    "test['User_Count_log'] = test['User_Count'].apply(lambda x: np.log1p(x))"
   ]
  },
  {
   "cell_type": "code",
   "execution_count": 44,
   "metadata": {},
   "outputs": [
    {
     "data": {
      "text/html": [
       "<div>\n",
       "<style scoped>\n",
       "    .dataframe tbody tr th:only-of-type {\n",
       "        vertical-align: middle;\n",
       "    }\n",
       "\n",
       "    .dataframe tbody tr th {\n",
       "        vertical-align: top;\n",
       "    }\n",
       "\n",
       "    .dataframe thead th {\n",
       "        text-align: right;\n",
       "    }\n",
       "</style>\n",
       "<table border=\"1\" class=\"dataframe\">\n",
       "  <thead>\n",
       "    <tr style=\"text-align: right;\">\n",
       "      <th></th>\n",
       "      <th>Year_of_Release</th>\n",
       "      <th>NA_Sales</th>\n",
       "      <th>EU_Sales</th>\n",
       "      <th>JP_Sales</th>\n",
       "      <th>Other_Sales</th>\n",
       "      <th>Global_Sales</th>\n",
       "      <th>Critic_Score</th>\n",
       "      <th>Critic_Count</th>\n",
       "      <th>User_Score</th>\n",
       "      <th>User_Count</th>\n",
       "      <th>User_Count_log</th>\n",
       "    </tr>\n",
       "  </thead>\n",
       "  <tbody>\n",
       "    <tr>\n",
       "      <th>count</th>\n",
       "      <td>8275.000000</td>\n",
       "      <td>8359.000000</td>\n",
       "      <td>8359.000000</td>\n",
       "      <td>8359.000000</td>\n",
       "      <td>8359.000000</td>\n",
       "      <td>8359.000000</td>\n",
       "      <td>3976.000000</td>\n",
       "      <td>3976.00000</td>\n",
       "      <td>3699.000000</td>\n",
       "      <td>3699.000000</td>\n",
       "      <td>3699.000000</td>\n",
       "    </tr>\n",
       "    <tr>\n",
       "      <th>mean</th>\n",
       "      <td>2006.393716</td>\n",
       "      <td>30.719943</td>\n",
       "      <td>16.067711</td>\n",
       "      <td>11.308889</td>\n",
       "      <td>5.241058</td>\n",
       "      <td>63.371815</td>\n",
       "      <td>69.187626</td>\n",
       "      <td>28.53999</td>\n",
       "      <td>7.255474</td>\n",
       "      <td>180.262503</td>\n",
       "      <td>3.680579</td>\n",
       "    </tr>\n",
       "    <tr>\n",
       "      <th>std</th>\n",
       "      <td>6.099621</td>\n",
       "      <td>104.349935</td>\n",
       "      <td>60.936947</td>\n",
       "      <td>41.215915</td>\n",
       "      <td>22.941531</td>\n",
       "      <td>199.394856</td>\n",
       "      <td>13.756481</td>\n",
       "      <td>20.42759</td>\n",
       "      <td>1.426251</td>\n",
       "      <td>576.988465</td>\n",
       "      <td>1.539503</td>\n",
       "    </tr>\n",
       "    <tr>\n",
       "      <th>min</th>\n",
       "      <td>1980.000000</td>\n",
       "      <td>0.000000</td>\n",
       "      <td>0.000000</td>\n",
       "      <td>0.000000</td>\n",
       "      <td>0.000000</td>\n",
       "      <td>1.000000</td>\n",
       "      <td>19.000000</td>\n",
       "      <td>4.00000</td>\n",
       "      <td>0.000000</td>\n",
       "      <td>4.000000</td>\n",
       "      <td>1.609438</td>\n",
       "    </tr>\n",
       "    <tr>\n",
       "      <th>25%</th>\n",
       "      <td>2003.000000</td>\n",
       "      <td>0.000000</td>\n",
       "      <td>0.000000</td>\n",
       "      <td>0.000000</td>\n",
       "      <td>0.000000</td>\n",
       "      <td>6.000000</td>\n",
       "      <td>61.000000</td>\n",
       "      <td>12.00000</td>\n",
       "      <td>6.600000</td>\n",
       "      <td>11.000000</td>\n",
       "      <td>2.484907</td>\n",
       "    </tr>\n",
       "    <tr>\n",
       "      <th>50%</th>\n",
       "      <td>2007.000000</td>\n",
       "      <td>8.000000</td>\n",
       "      <td>2.000000</td>\n",
       "      <td>0.000000</td>\n",
       "      <td>1.000000</td>\n",
       "      <td>18.000000</td>\n",
       "      <td>71.000000</td>\n",
       "      <td>24.00000</td>\n",
       "      <td>7.600000</td>\n",
       "      <td>28.000000</td>\n",
       "      <td>3.367296</td>\n",
       "    </tr>\n",
       "    <tr>\n",
       "      <th>75%</th>\n",
       "      <td>2010.000000</td>\n",
       "      <td>25.000000</td>\n",
       "      <td>12.000000</td>\n",
       "      <td>6.000000</td>\n",
       "      <td>4.000000</td>\n",
       "      <td>51.000000</td>\n",
       "      <td>79.000000</td>\n",
       "      <td>40.00000</td>\n",
       "      <td>8.300000</td>\n",
       "      <td>100.000000</td>\n",
       "      <td>4.615121</td>\n",
       "    </tr>\n",
       "    <tr>\n",
       "      <th>max</th>\n",
       "      <td>2017.000000</td>\n",
       "      <td>4136.000000</td>\n",
       "      <td>2896.000000</td>\n",
       "      <td>1022.000000</td>\n",
       "      <td>1057.000000</td>\n",
       "      <td>8253.000000</td>\n",
       "      <td>98.000000</td>\n",
       "      <td>113.00000</td>\n",
       "      <td>9.700000</td>\n",
       "      <td>9851.000000</td>\n",
       "      <td>9.195430</td>\n",
       "    </tr>\n",
       "  </tbody>\n",
       "</table>\n",
       "</div>"
      ],
      "text/plain": [
       "       Year_of_Release     NA_Sales     EU_Sales     JP_Sales  Other_Sales  \\\n",
       "count      8275.000000  8359.000000  8359.000000  8359.000000  8359.000000   \n",
       "mean       2006.393716    30.719943    16.067711    11.308889     5.241058   \n",
       "std           6.099621   104.349935    60.936947    41.215915    22.941531   \n",
       "min        1980.000000     0.000000     0.000000     0.000000     0.000000   \n",
       "25%        2003.000000     0.000000     0.000000     0.000000     0.000000   \n",
       "50%        2007.000000     8.000000     2.000000     0.000000     1.000000   \n",
       "75%        2010.000000    25.000000    12.000000     6.000000     4.000000   \n",
       "max        2017.000000  4136.000000  2896.000000  1022.000000  1057.000000   \n",
       "\n",
       "       Global_Sales  Critic_Score  Critic_Count   User_Score   User_Count  \\\n",
       "count   8359.000000   3976.000000    3976.00000  3699.000000  3699.000000   \n",
       "mean      63.371815     69.187626      28.53999     7.255474   180.262503   \n",
       "std      199.394856     13.756481      20.42759     1.426251   576.988465   \n",
       "min        1.000000     19.000000       4.00000     0.000000     4.000000   \n",
       "25%        6.000000     61.000000      12.00000     6.600000    11.000000   \n",
       "50%       18.000000     71.000000      24.00000     7.600000    28.000000   \n",
       "75%       51.000000     79.000000      40.00000     8.300000   100.000000   \n",
       "max     8253.000000     98.000000     113.00000     9.700000  9851.000000   \n",
       "\n",
       "       User_Count_log  \n",
       "count     3699.000000  \n",
       "mean         3.680579  \n",
       "std          1.539503  \n",
       "min          1.609438  \n",
       "25%          2.484907  \n",
       "50%          3.367296  \n",
       "75%          4.615121  \n",
       "max          9.195430  "
      ]
     },
     "execution_count": 44,
     "metadata": {},
     "output_type": "execute_result"
    }
   ],
   "source": [
    "train.describe()"
   ]
  },
  {
   "cell_type": "code",
   "execution_count": 45,
   "metadata": {},
   "outputs": [
    {
     "data": {
      "text/html": [
       "<div>\n",
       "<style scoped>\n",
       "    .dataframe tbody tr th:only-of-type {\n",
       "        vertical-align: middle;\n",
       "    }\n",
       "\n",
       "    .dataframe tbody tr th {\n",
       "        vertical-align: top;\n",
       "    }\n",
       "\n",
       "    .dataframe thead th {\n",
       "        text-align: right;\n",
       "    }\n",
       "</style>\n",
       "<table border=\"1\" class=\"dataframe\">\n",
       "  <thead>\n",
       "    <tr style=\"text-align: right;\">\n",
       "      <th></th>\n",
       "      <th>Year_of_Release</th>\n",
       "      <th>Critic_Score</th>\n",
       "      <th>Critic_Count</th>\n",
       "      <th>User_Score</th>\n",
       "      <th>User_Count</th>\n",
       "      <th>User_Count_log</th>\n",
       "    </tr>\n",
       "  </thead>\n",
       "  <tbody>\n",
       "    <tr>\n",
       "      <th>count</th>\n",
       "      <td>8175.000000</td>\n",
       "      <td>4161.000000</td>\n",
       "      <td>4161.000000</td>\n",
       "      <td>3891.000000</td>\n",
       "      <td>3891.000000</td>\n",
       "      <td>3891.000000</td>\n",
       "    </tr>\n",
       "    <tr>\n",
       "      <th>mean</th>\n",
       "      <td>2006.582141</td>\n",
       "      <td>68.757510</td>\n",
       "      <td>24.278539</td>\n",
       "      <td>7.001054</td>\n",
       "      <td>145.087124</td>\n",
       "      <td>3.455771</td>\n",
       "    </tr>\n",
       "    <tr>\n",
       "      <th>std</th>\n",
       "      <td>5.645690</td>\n",
       "      <td>14.108034</td>\n",
       "      <td>17.233075</td>\n",
       "      <td>1.556990</td>\n",
       "      <td>545.454160</td>\n",
       "      <td>1.445831</td>\n",
       "    </tr>\n",
       "    <tr>\n",
       "      <th>min</th>\n",
       "      <td>1980.000000</td>\n",
       "      <td>13.000000</td>\n",
       "      <td>3.000000</td>\n",
       "      <td>0.200000</td>\n",
       "      <td>4.000000</td>\n",
       "      <td>1.609438</td>\n",
       "    </tr>\n",
       "    <tr>\n",
       "      <th>25%</th>\n",
       "      <td>2003.000000</td>\n",
       "      <td>60.000000</td>\n",
       "      <td>11.000000</td>\n",
       "      <td>6.200000</td>\n",
       "      <td>9.000000</td>\n",
       "      <td>2.302585</td>\n",
       "    </tr>\n",
       "    <tr>\n",
       "      <th>50%</th>\n",
       "      <td>2007.000000</td>\n",
       "      <td>71.000000</td>\n",
       "      <td>20.000000</td>\n",
       "      <td>7.400000</td>\n",
       "      <td>22.000000</td>\n",
       "      <td>3.135494</td>\n",
       "    </tr>\n",
       "    <tr>\n",
       "      <th>75%</th>\n",
       "      <td>2010.000000</td>\n",
       "      <td>79.000000</td>\n",
       "      <td>33.000000</td>\n",
       "      <td>8.100000</td>\n",
       "      <td>65.000000</td>\n",
       "      <td>4.189655</td>\n",
       "    </tr>\n",
       "    <tr>\n",
       "      <th>max</th>\n",
       "      <td>2020.000000</td>\n",
       "      <td>98.000000</td>\n",
       "      <td>100.000000</td>\n",
       "      <td>9.600000</td>\n",
       "      <td>10665.000000</td>\n",
       "      <td>9.274816</td>\n",
       "    </tr>\n",
       "  </tbody>\n",
       "</table>\n",
       "</div>"
      ],
      "text/plain": [
       "       Year_of_Release  Critic_Score  Critic_Count   User_Score    User_Count  \\\n",
       "count      8175.000000   4161.000000   4161.000000  3891.000000   3891.000000   \n",
       "mean       2006.582141     68.757510     24.278539     7.001054    145.087124   \n",
       "std           5.645690     14.108034     17.233075     1.556990    545.454160   \n",
       "min        1980.000000     13.000000      3.000000     0.200000      4.000000   \n",
       "25%        2003.000000     60.000000     11.000000     6.200000      9.000000   \n",
       "50%        2007.000000     71.000000     20.000000     7.400000     22.000000   \n",
       "75%        2010.000000     79.000000     33.000000     8.100000     65.000000   \n",
       "max        2020.000000     98.000000    100.000000     9.600000  10665.000000   \n",
       "\n",
       "       User_Count_log  \n",
       "count     3891.000000  \n",
       "mean         3.455771  \n",
       "std          1.445831  \n",
       "min          1.609438  \n",
       "25%          2.302585  \n",
       "50%          3.135494  \n",
       "75%          4.189655  \n",
       "max          9.274816  "
      ]
     },
     "execution_count": 45,
     "metadata": {},
     "output_type": "execute_result"
    }
   ],
   "source": [
    "test.describe()"
   ]
  },
  {
   "cell_type": "code",
   "execution_count": 12,
   "metadata": {},
   "outputs": [],
   "source": [
    "def drawVenn(col):\n",
    "    train_uniq = set(train[col].unique())\n",
    "    test_uniq = set(test[col].unique())\n",
    "    union = train_uniq | test_uniq\n",
    "    intersection = train_uniq & test_uniq\n",
    "    onlyTrain = train_uniq - intersection\n",
    "    onlyTest = test_uniq - intersection\n",
    "\n",
    "    print(col, len(union))\n",
    "        \n",
    "    if len(intersection) == 0:\n",
    "        print('intersection = 0')\n",
    "    elif len(intersection) < 100:\n",
    "        print('intersection', intersection)\n",
    "    \n",
    "    if len(onlyTrain) == 0:\n",
    "        print('onlyTrain = 0')\n",
    "    elif len(onlyTrain) < 100:\n",
    "        print('onlyTrain', onlyTrain)\n",
    "    \n",
    "    if len(onlyTest) == 0:\n",
    "        print('onlyTest = 0')\n",
    "    elif len(onlyTest) < 100:\n",
    "        print('onlyTest', onlyTest)\n",
    "        \n",
    "    venn2(subsets=(train_uniq, test_uniq), set_labels=('train_'+col, 'test_'+col))"
   ]
  },
  {
   "cell_type": "code",
   "execution_count": 13,
   "metadata": {},
   "outputs": [
    {
     "name": "stdout",
     "output_type": "stream",
     "text": [
      "Name 11563\n"
     ]
    },
    {
     "data": {
      "image/png": "[encoded data removed]",
      "text/plain": [
       "<Figure size 432x288 with 1 Axes>"
      ]
     },
     "metadata": {},
     "output_type": "display_data"
    }
   ],
   "source": [
    "drawVenn('Name')"
   ]
  },
  {
   "cell_type": "code",
   "execution_count": 14,
   "metadata": {},
   "outputs": [
    {
     "name": "stdout",
     "output_type": "stream",
     "text": [
      "Platform 31\n",
      "intersection {'GC', '3DS', 'PC', 'WS', 'PS', '2600', 'NG', 'SNES', 'GEN', 'SAT', 'X360', 'DS', '3DO', 'PSP', 'PSV', 'WiiU', 'PS2', 'PS3', 'NES', 'N64', 'PS4', 'DC', 'Wii', 'GB', 'TG16', 'XOne', 'XB', 'GBA'}\n",
      "onlyTrain {'SCD', 'GG', 'PCFX'}\n",
      "onlyTest = 0\n"
     ]
    },
    {
     "data": {
      "image/png": "[encoded data removed]",
      "text/plain": [
       "<Figure size 432x288 with 1 Axes>"
      ]
     },
     "metadata": {},
     "output_type": "display_data"
    }
   ],
   "source": [
    "drawVenn('Platform')"
   ]
  },
  {
   "cell_type": "code",
   "execution_count": 15,
   "metadata": {},
   "outputs": [
    {
     "name": "stdout",
     "output_type": "stream",
     "text": [
      "Genre 13\n",
      "intersection {'Adventure', 'Fighting', 'Sports', 'Misc', 'Action', 'Simulation', 'Strategy', 'Puzzle', 'Shooter', 'Platform', 'Role-Playing', 'Racing'}\n",
      "onlyTrain = 0\n",
      "onlyTest {nan}\n"
     ]
    },
    {
     "data": {
      "image/png": "[encoded data removed]",
      "text/plain": [
       "<Figure size 432x288 with 1 Axes>"
      ]
     },
     "metadata": {},
     "output_type": "display_data"
    }
   ],
   "source": [
    "drawVenn('Genre')"
   ]
  },
  {
   "cell_type": "code",
   "execution_count": 16,
   "metadata": {},
   "outputs": [
    {
     "name": "stdout",
     "output_type": "stream",
     "text": [
      "Publisher 582\n",
      "intersection = 0\n"
     ]
    },
    {
     "data": {
      "image/png": "[encoded data removed]",
      "text/plain": [
       "<Figure size 432x288 with 1 Axes>"
      ]
     },
     "metadata": {},
     "output_type": "display_data"
    }
   ],
   "source": [
    "drawVenn('Publisher')"
   ]
  },
  {
   "cell_type": "code",
   "execution_count": 17,
   "metadata": {},
   "outputs": [
    {
     "name": "stdout",
     "output_type": "stream",
     "text": [
      "Developer 1697\n"
     ]
    },
    {
     "data": {
      "image/png": "[encoded data removed]",
      "text/plain": [
       "<Figure size 432x288 with 1 Axes>"
      ]
     },
     "metadata": {},
     "output_type": "display_data"
    }
   ],
   "source": [
    "drawVenn('Developer')"
   ]
  },
  {
   "cell_type": "code",
   "execution_count": 18,
   "metadata": {},
   "outputs": [
    {
     "name": "stdout",
     "output_type": "stream",
     "text": [
      "Rating 9\n",
      "intersection {nan, 'E', 'K-A', 'M', 'RP', 'E10+', 'T'}\n",
      "onlyTrain {'AO', 'EC'}\n",
      "onlyTest = 0\n"
     ]
    },
    {
     "data": {
      "image/png": "[encoded data removed]",
      "text/plain": [
       "<Figure size 432x288 with 1 Axes>"
      ]
     },
     "metadata": {},
     "output_type": "display_data"
    }
   ],
   "source": [
    "drawVenn('Rating')"
   ]
  },
  {
   "cell_type": "code",
   "execution_count": 19,
   "metadata": {},
   "outputs": [
    {
     "name": "stdout",
     "output_type": "stream",
     "text": [
      "User_Score 97\n",
      "intersection {0.5, 1.0, 2.0, 2.2, 4.1, 5.7, 6.3, 6.6, 7.8, 7.4, 7.9, 8.0, 8.3, 7.0, 6.8, 7.2, 7.6, 8.5, 9.5, 2.5, 3.5, 4.5, 4.0, 3.0, 5.0, 5.5, 6.5, 6.0, 7.5, 9.0, 1.9, 2.4, 2.9, 3.4, 3.9, 4.9, 4.4, 5.4, 5.9, 6.4, 6.9, 8.9, 8.4, 9.4, 2.8, 3.8, 3.3, 4.8, 4.3, 1.8, 1.3, 5.3, 5.8, 7.3, 0.6, 0.9, 8.7, 8.2, 8.8, 9.2, 9.3, 1.2, 1.7, 2.7, 3.2, 3.7, 4.7, 4.2, 5.2, 6.7, 6.2, 7.7, 4.6, 5.1, 5.6, 6.1, 7.1, 1.1, 1.6, 8.1, 8.6, 2.1, 9.1, 3.6, 3.1}\n",
      "onlyTrain {nan, 0.0, 9.7}\n",
      "onlyTest {nan, 1.5, 2.3, 0.2, 1.4, 0.7, 0.3, 2.6, 9.6}\n"
     ]
    },
    {
     "data": {
      "image/png": "[encoded data removed]",
      "text/plain": [
       "<Figure size 432x288 with 1 Axes>"
      ]
     },
     "metadata": {},
     "output_type": "display_data"
    }
   ],
   "source": [
    "drawVenn('User_Score')"
   ]
  },
  {
   "cell_type": "code",
   "execution_count": 32,
   "metadata": {},
   "outputs": [],
   "source": [
    "def draw_bar_plot(col, bins=20):\n",
    "    fig = plt.figure()\n",
    "    ax = fig.add_subplot(1, 1, 1)\n",
    "    ax.hist([train[col], test[col]], bins=bins, label=['train', 'test'])\n",
    "    ax.legend()\n",
    "    ax.set_xlabel(col)"
   ]
  },
  {
   "cell_type": "code",
   "execution_count": 34,
   "metadata": {},
   "outputs": [
    {
     "data": {
      "image/png": "[encoded data removed]",
      "text/plain": [
       "<Figure size 432x288 with 1 Axes>"
      ]
     },
     "metadata": {
      "needs_background": "light"
     },
     "output_type": "display_data"
    }
   ],
   "source": [
    "draw_bar_plot('Year_of_Release')"
   ]
  },
  {
   "cell_type": "code",
   "execution_count": 35,
   "metadata": {},
   "outputs": [
    {
     "data": {
      "image/png": "[encoded data removed]",
      "text/plain": [
       "<Figure size 432x288 with 1 Axes>"
      ]
     },
     "metadata": {
      "needs_background": "light"
     },
     "output_type": "display_data"
    }
   ],
   "source": [
    "draw_bar_plot('Critic_Score')"
   ]
  },
  {
   "cell_type": "code",
   "execution_count": 36,
   "metadata": {},
   "outputs": [
    {
     "data": {
      "image/png": "[encoded data removed]",
      "text/plain": [
       "<Figure size 432x288 with 1 Axes>"
      ]
     },
     "metadata": {
      "needs_background": "light"
     },
     "output_type": "display_data"
    }
   ],
   "source": [
    "draw_bar_plot('Critic_Count')"
   ]
  },
  {
   "cell_type": "code",
   "execution_count": 37,
   "metadata": {},
   "outputs": [
    {
     "data": {
      "image/png": "[encoded data removed]",
      "text/plain": [
       "<Figure size 432x288 with 1 Axes>"
      ]
     },
     "metadata": {
      "needs_background": "light"
     },
     "output_type": "display_data"
    }
   ],
   "source": [
    "draw_bar_plot('User_Score')"
   ]
  },
  {
   "cell_type": "code",
   "execution_count": 46,
   "metadata": {},
   "outputs": [
    {
     "data": {
      "image/png": "[encoded data removed]",
      "text/plain": [
       "<Figure size 432x288 with 1 Axes>"
      ]
     },
     "metadata": {
      "needs_background": "light"
     },
     "output_type": "display_data"
    }
   ],
   "source": [
    "draw_bar_plot('User_Count')"
   ]
  },
  {
   "cell_type": "code",
   "execution_count": 47,
   "metadata": {},
   "outputs": [
    {
     "data": {
      "image/png": "[encoded data removed]",
      "text/plain": [
       "<Figure size 432x288 with 1 Axes>"
      ]
     },
     "metadata": {
      "needs_background": "light"
     },
     "output_type": "display_data"
    }
   ],
   "source": [
    "draw_bar_plot('User_Count_log')"
   ]
  },
  {
   "cell_type": "code",
   "execution_count": null,
   "metadata": {},
   "outputs": [],
   "source": []
  }
 ],
 "metadata": {
  "kernelspec": {
   "display_name": "Python 3",
   "language": "python",
   "name": "python3"
  },
  "language_info": {
   "codemirror_mode": {
    "name": "ipython",
    "version": 3
   },
   "file_extension": ".py",
   "mimetype": "text/x-python",
   "name": "python",
   "nbconvert_exporter": "python",
   "pygments_lexer": "ipython3",
   "version": "3.7.6"
  }
 },
 "nbformat": 4,
 "nbformat_minor": 4
}
