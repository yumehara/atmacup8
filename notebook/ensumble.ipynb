{
 "cells": [
  {
   "cell_type": "markdown",
   "metadata": {},
   "source": [
    "### ensumble"
   ]
  },
  {
   "cell_type": "code",
   "execution_count": 1,
   "metadata": {},
   "outputs": [],
   "source": [
    "import os\n",
    "import numpy as np\n",
    "import matplotlib.pyplot as plt\n",
    "import pandas as pd"
   ]
  },
  {
   "cell_type": "code",
   "execution_count": 2,
   "metadata": {},
   "outputs": [
    {
     "name": "stdout",
     "output_type": "stream",
     "text": [
      "(8360, 11)\n"
     ]
    }
   ],
   "source": [
    "test = pd.read_csv('../inputs/test.csv')\n",
    "print(test.shape)"
   ]
  },
  {
   "cell_type": "code",
   "execution_count": 3,
   "metadata": {},
   "outputs": [
    {
     "name": "stdout",
     "output_type": "stream",
     "text": [
      "(8360, 1)\n",
      "(8360, 1)\n"
     ]
    }
   ],
   "source": [
    "lgbm_out = pd.read_csv('../outputs/submission_lgbm_9.csv').rename(columns={'Global_Sales': 'lgbm'})\n",
    "cat_out = pd.read_csv('../outputs/submission_cat.csv').rename(columns={'Global_Sales': 'cat'})\n",
    "print(lgbm_out.shape)\n",
    "print(cat_out.shape)"
   ]
  },
  {
   "cell_type": "code",
   "execution_count": 4,
   "metadata": {},
   "outputs": [
    {
     "data": {
      "text/html": [
       "<div>\n",
       "<style scoped>\n",
       "    .dataframe tbody tr th:only-of-type {\n",
       "        vertical-align: middle;\n",
       "    }\n",
       "\n",
       "    .dataframe tbody tr th {\n",
       "        vertical-align: top;\n",
       "    }\n",
       "\n",
       "    .dataframe thead th {\n",
       "        text-align: right;\n",
       "    }\n",
       "</style>\n",
       "<table border=\"1\" class=\"dataframe\">\n",
       "  <thead>\n",
       "    <tr style=\"text-align: right;\">\n",
       "      <th></th>\n",
       "      <th>lgbm</th>\n",
       "      <th>cat</th>\n",
       "    </tr>\n",
       "  </thead>\n",
       "  <tbody>\n",
       "    <tr>\n",
       "      <th>lgbm</th>\n",
       "      <td>1.000000</td>\n",
       "      <td>0.944568</td>\n",
       "    </tr>\n",
       "    <tr>\n",
       "      <th>cat</th>\n",
       "      <td>0.944568</td>\n",
       "      <td>1.000000</td>\n",
       "    </tr>\n",
       "  </tbody>\n",
       "</table>\n",
       "</div>"
      ],
      "text/plain": [
       "          lgbm       cat\n",
       "lgbm  1.000000  0.944568\n",
       "cat   0.944568  1.000000"
      ]
     },
     "execution_count": 4,
     "metadata": {},
     "output_type": "execute_result"
    }
   ],
   "source": [
    "ensumble = pd.concat([lgbm_out, cat_out], axis=1)\n",
    "ensumble.corr()"
   ]
  },
  {
   "cell_type": "code",
   "execution_count": 5,
   "metadata": {},
   "outputs": [],
   "source": [
    "x0= ensumble['lgbm']\n",
    "y0 = ensumble['cat']\n",
    "x1= np.log1p(x0)\n",
    "y1 = np.log1p(y0)"
   ]
  },
  {
   "cell_type": "code",
   "execution_count": 6,
   "metadata": {},
   "outputs": [
    {
     "data": {
      "text/plain": [
       "<matplotlib.legend.Legend at 0x7f9f175ce7c0>"
      ]
     },
     "execution_count": 6,
     "metadata": {},
     "output_type": "execute_result"
    },
    {
     "data": {
      "image/png": "[encoded data removed]",
      "text/plain": [
       "<Figure size 432x288 with 1 Axes>"
      ]
     },
     "metadata": {
      "needs_background": "light"
     },
     "output_type": "display_data"
    }
   ],
   "source": [
    "fig = plt.figure()\n",
    "ax = fig.add_subplot(1, 1, 1)\n",
    "ax.hist([x1, y1], bins=20, label=['lgbm', 'cat'])\n",
    "ax.legend()"
   ]
  },
  {
   "cell_type": "code",
   "execution_count": 7,
   "metadata": {},
   "outputs": [],
   "source": [
    "def plot_scatter(x, y, xlabel, ylabel):\n",
    "    fig = plt.figure(figsize=(5, 5))\n",
    "    ax = fig.add_subplot(1, 1, 1)\n",
    "    ax.scatter(x, y, alpha=0.5)\n",
    "    ax.plot(x, x, color='black', linewidth=0.3)\n",
    "    plt.xlabel(xlabel)\n",
    "    plt.ylabel(ylabel)\n",
    "    maxvalue = max(x.max(), y.max())*1.05\n",
    "    plt.xlim(0, maxvalue)\n",
    "    plt.ylim(0, maxvalue)"
   ]
  },
  {
   "cell_type": "code",
   "execution_count": 8,
   "metadata": {},
   "outputs": [
    {
     "data": {
      "image/png": "[encoded data removed]",
      "text/plain": [
       "<Figure size 360x360 with 1 Axes>"
      ]
     },
     "metadata": {
      "needs_background": "light"
     },
     "output_type": "display_data"
    }
   ],
   "source": [
    "plot_scatter(x0, y0, 'lgbm', 'cat')"
   ]
  },
  {
   "cell_type": "code",
   "execution_count": 9,
   "metadata": {},
   "outputs": [],
   "source": [
    "lgbm_rate = 0.7"
   ]
  },
  {
   "cell_type": "code",
   "execution_count": 10,
   "metadata": {},
   "outputs": [
    {
     "name": "stdout",
     "output_type": "stream",
     "text": [
      "- mean = 25.7865\n",
      "- max = 588.5373\n"
     ]
    }
   ],
   "source": [
    "ensumble['Global_Sales'] = (ensumble['lgbm']*lgbm_rate + ensumble['cat']*(1-lgbm_rate))\n",
    "gsales = ensumble.drop(columns=['lgbm', 'cat'])\n",
    "assert len(gsales) == len(test)\n",
    "gsales.to_csv('../outputs/submission.csv', index=False)\n",
    "\n",
    "print('- mean = {:.4f}'.format(gsales['Global_Sales'].mean()))\n",
    "print('- max = {:.4f}'.format(gsales['Global_Sales'].max()))"
   ]
  },
  {
   "cell_type": "markdown",
   "metadata": {},
   "source": [
    "#### 30-2: \n",
    "- feat = 975\n",
    "- mean = 25.7865\n",
    "- max = 588.5373\n",
    "- lgbm = 0.8493 (lr=0.01, max_depth=9)\n",
    "- cat = 0.8364\n",
    "- corr = 0.944568\n",
    "- LB= 0.8866\n",
    "\n",
    "#### 30-1: \n",
    "- feat = 975\n",
    "- mean = 26.1815\n",
    "- max = 558.3740\n",
    "- lgbm = 0.8533 (lr=0.01, max_depth=6)\n",
    "- cat = 0.8364\n",
    "- corr = 0.938934\n",
    "- LB= 0.8873\n",
    "\n",
    "#### 30: \n",
    "- feat = 975\n",
    "- mean = 26.0706\n",
    "- max = 599.9416\n",
    "- lgbm = 0.8504 (lr=0.01, max_depth=8)\n",
    "- cat = 0.8364\n",
    "- corr = 0.942463\n",
    "- LB= 0.8856　★best★\n",
    "\n",
    "#### 29: \n",
    "- feat = 985\n",
    "- mean = 22.7269\n",
    "- max = 583.3985\n",
    "- lgbm = 0.8394\n",
    "- cat = 0.8316\n",
    "- corr = 0.932447\n",
    "- LB= 0.919\n",
    "\n",
    "#### 28: groupKfold -> StratifiedKFold\n",
    "- feat = 1431\n",
    "- mean = 25.9207\n",
    "- max = 753.1347\n",
    "- lgbm = 0.8525 (lr=0.01, max_depth=6)\n",
    "- cat = 0.8369\n",
    "- corr = 0.95026\n",
    "- LB= 0.8987"
   ]
  },
  {
   "cell_type": "code",
   "execution_count": null,
   "metadata": {},
   "outputs": [],
   "source": []
  }
 ],
 "metadata": {
  "kernelspec": {
   "display_name": "Python 3",
   "language": "python",
   "name": "python3"
  },
  "language_info": {
   "codemirror_mode": {
    "name": "ipython",
    "version": 3
   },
   "file_extension": ".py",
   "mimetype": "text/x-python",
   "name": "python",
   "nbconvert_exporter": "python",
   "pygments_lexer": "ipython3",
   "version": "3.8.3"
  }
 },
 "nbformat": 4,
 "nbformat_minor": 4
}
