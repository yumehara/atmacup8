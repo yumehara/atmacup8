{
 "cells": [
  {
   "cell_type": "code",
   "execution_count": 1,
   "metadata": {},
   "outputs": [],
   "source": [
    "import os\n",
    "\n",
    "import pandas as pd\n",
    "import matplotlib.pyplot as plt\n",
    "import seaborn as sns\n",
    "import numpy as np\n",
    "\n",
    "# from pandas_profiling import ProfileReport # profile report を作る用\n",
    "from matplotlib_venn import venn2 # venn図を作成する用\n",
    "\n",
    "NOTEOOKNAME = 'baseline_nyk510_base_EX028'\n",
    "\n",
    "sns.set_style('ticks')\n",
    "\n",
    "INPUT_DIR = './data'\n",
    "OUTPUT_DIR = './submission'\n",
    "\n",
    "os.makedirs(OUTPUT_DIR, exist_ok=True)\n",
    "\n",
    "train_df = pd.read_csv(os.path.join(INPUT_DIR, 'train.csv'))\n",
    "test_df = pd.read_csv(os.path.join(INPUT_DIR, 'test.csv'))\n",
    "\n",
    "# whole_df = pd.concat([train_df, test_df], ignore_index=True)"
   ]
  },
  {
   "cell_type": "code",
   "execution_count": 2,
   "metadata": {
    "scrolled": false
   },
   "outputs": [
    {
     "data": {
      "text/html": [
       "<div>\n",
       "<style scoped>\n",
       "    .dataframe tbody tr th:only-of-type {\n",
       "        vertical-align: middle;\n",
       "    }\n",
       "\n",
       "    .dataframe tbody tr th {\n",
       "        vertical-align: top;\n",
       "    }\n",
       "\n",
       "    .dataframe thead th {\n",
       "        text-align: right;\n",
       "    }\n",
       "</style>\n",
       "<table border=\"1\" class=\"dataframe\">\n",
       "  <thead>\n",
       "    <tr style=\"text-align: right;\">\n",
       "      <th></th>\n",
       "      <th>0</th>\n",
       "      <th>1</th>\n",
       "      <th>2</th>\n",
       "      <th>3</th>\n",
       "      <th>4</th>\n",
       "    </tr>\n",
       "  </thead>\n",
       "  <tbody>\n",
       "    <tr>\n",
       "      <th>Name</th>\n",
       "      <td>LEGO Batman: The Videogame</td>\n",
       "      <td>LEGO Indiana Jones: The Original Adventures</td>\n",
       "      <td>LEGO Batman: The Videogame</td>\n",
       "      <td>Combat</td>\n",
       "      <td>LEGO Harry Potter: Years 5-7</td>\n",
       "    </tr>\n",
       "    <tr>\n",
       "      <th>Platform</th>\n",
       "      <td>Wii</td>\n",
       "      <td>Wii</td>\n",
       "      <td>PSP</td>\n",
       "      <td>2600</td>\n",
       "      <td>Wii</td>\n",
       "    </tr>\n",
       "    <tr>\n",
       "      <th>Year_of_Release</th>\n",
       "      <td>NaN</td>\n",
       "      <td>NaN</td>\n",
       "      <td>NaN</td>\n",
       "      <td>NaN</td>\n",
       "      <td>NaN</td>\n",
       "    </tr>\n",
       "    <tr>\n",
       "      <th>Genre</th>\n",
       "      <td>Action</td>\n",
       "      <td>Action</td>\n",
       "      <td>Action</td>\n",
       "      <td>Action</td>\n",
       "      <td>Action</td>\n",
       "    </tr>\n",
       "    <tr>\n",
       "      <th>Publisher</th>\n",
       "      <td>Warner Bros. Interactive Entertainment</td>\n",
       "      <td>LucasArts</td>\n",
       "      <td>Warner Bros. Interactive Entertainment</td>\n",
       "      <td>Atari</td>\n",
       "      <td>Warner Bros. Interactive Entertainment</td>\n",
       "    </tr>\n",
       "    <tr>\n",
       "      <th>NA_Sales</th>\n",
       "      <td>180</td>\n",
       "      <td>151</td>\n",
       "      <td>56</td>\n",
       "      <td>117</td>\n",
       "      <td>69</td>\n",
       "    </tr>\n",
       "    <tr>\n",
       "      <th>EU_Sales</th>\n",
       "      <td>97</td>\n",
       "      <td>61</td>\n",
       "      <td>44</td>\n",
       "      <td>7</td>\n",
       "      <td>42</td>\n",
       "    </tr>\n",
       "    <tr>\n",
       "      <th>JP_Sales</th>\n",
       "      <td>0</td>\n",
       "      <td>0</td>\n",
       "      <td>0</td>\n",
       "      <td>0</td>\n",
       "      <td>0</td>\n",
       "    </tr>\n",
       "    <tr>\n",
       "      <th>Other_Sales</th>\n",
       "      <td>28</td>\n",
       "      <td>21</td>\n",
       "      <td>27</td>\n",
       "      <td>1</td>\n",
       "      <td>12</td>\n",
       "    </tr>\n",
       "    <tr>\n",
       "      <th>Global_Sales</th>\n",
       "      <td>306</td>\n",
       "      <td>234</td>\n",
       "      <td>128</td>\n",
       "      <td>125</td>\n",
       "      <td>124</td>\n",
       "    </tr>\n",
       "    <tr>\n",
       "      <th>Critic_Score</th>\n",
       "      <td>74</td>\n",
       "      <td>78</td>\n",
       "      <td>73</td>\n",
       "      <td>NaN</td>\n",
       "      <td>76</td>\n",
       "    </tr>\n",
       "    <tr>\n",
       "      <th>Critic_Count</th>\n",
       "      <td>17</td>\n",
       "      <td>22</td>\n",
       "      <td>5</td>\n",
       "      <td>NaN</td>\n",
       "      <td>8</td>\n",
       "    </tr>\n",
       "    <tr>\n",
       "      <th>User_Score</th>\n",
       "      <td>7.9</td>\n",
       "      <td>6.6</td>\n",
       "      <td>7.4</td>\n",
       "      <td>NaN</td>\n",
       "      <td>7.8</td>\n",
       "    </tr>\n",
       "    <tr>\n",
       "      <th>User_Count</th>\n",
       "      <td>22</td>\n",
       "      <td>28</td>\n",
       "      <td>10</td>\n",
       "      <td>NaN</td>\n",
       "      <td>13</td>\n",
       "    </tr>\n",
       "    <tr>\n",
       "      <th>Developer</th>\n",
       "      <td>Traveller's Tales</td>\n",
       "      <td>Traveller's Tales</td>\n",
       "      <td>Traveller's Tales</td>\n",
       "      <td>NaN</td>\n",
       "      <td>Traveller's Tales</td>\n",
       "    </tr>\n",
       "    <tr>\n",
       "      <th>Rating</th>\n",
       "      <td>E10+</td>\n",
       "      <td>E10+</td>\n",
       "      <td>E10+</td>\n",
       "      <td>NaN</td>\n",
       "      <td>E10+</td>\n",
       "    </tr>\n",
       "  </tbody>\n",
       "</table>\n",
       "</div>"
      ],
      "text/plain": [
       "                                                      0  \\\n",
       "Name                         LEGO Batman: The Videogame   \n",
       "Platform                                            Wii   \n",
       "Year_of_Release                                     NaN   \n",
       "Genre                                            Action   \n",
       "Publisher        Warner Bros. Interactive Entertainment   \n",
       "NA_Sales                                            180   \n",
       "EU_Sales                                             97   \n",
       "JP_Sales                                              0   \n",
       "Other_Sales                                          28   \n",
       "Global_Sales                                        306   \n",
       "Critic_Score                                         74   \n",
       "Critic_Count                                         17   \n",
       "User_Score                                          7.9   \n",
       "User_Count                                           22   \n",
       "Developer                             Traveller's Tales   \n",
       "Rating                                             E10+   \n",
       "\n",
       "                                                           1  \\\n",
       "Name             LEGO Indiana Jones: The Original Adventures   \n",
       "Platform                                                 Wii   \n",
       "Year_of_Release                                          NaN   \n",
       "Genre                                                 Action   \n",
       "Publisher                                          LucasArts   \n",
       "NA_Sales                                                 151   \n",
       "EU_Sales                                                  61   \n",
       "JP_Sales                                                   0   \n",
       "Other_Sales                                               21   \n",
       "Global_Sales                                             234   \n",
       "Critic_Score                                              78   \n",
       "Critic_Count                                              22   \n",
       "User_Score                                               6.6   \n",
       "User_Count                                                28   \n",
       "Developer                                  Traveller's Tales   \n",
       "Rating                                                  E10+   \n",
       "\n",
       "                                                      2       3  \\\n",
       "Name                         LEGO Batman: The Videogame  Combat   \n",
       "Platform                                            PSP    2600   \n",
       "Year_of_Release                                     NaN     NaN   \n",
       "Genre                                            Action  Action   \n",
       "Publisher        Warner Bros. Interactive Entertainment   Atari   \n",
       "NA_Sales                                             56     117   \n",
       "EU_Sales                                             44       7   \n",
       "JP_Sales                                              0       0   \n",
       "Other_Sales                                          27       1   \n",
       "Global_Sales                                        128     125   \n",
       "Critic_Score                                         73     NaN   \n",
       "Critic_Count                                          5     NaN   \n",
       "User_Score                                          7.4     NaN   \n",
       "User_Count                                           10     NaN   \n",
       "Developer                             Traveller's Tales     NaN   \n",
       "Rating                                             E10+     NaN   \n",
       "\n",
       "                                                      4  \n",
       "Name                       LEGO Harry Potter: Years 5-7  \n",
       "Platform                                            Wii  \n",
       "Year_of_Release                                     NaN  \n",
       "Genre                                            Action  \n",
       "Publisher        Warner Bros. Interactive Entertainment  \n",
       "NA_Sales                                             69  \n",
       "EU_Sales                                             42  \n",
       "JP_Sales                                              0  \n",
       "Other_Sales                                          12  \n",
       "Global_Sales                                        124  \n",
       "Critic_Score                                         76  \n",
       "Critic_Count                                          8  \n",
       "User_Score                                          7.8  \n",
       "User_Count                                           13  \n",
       "Developer                             Traveller's Tales  \n",
       "Rating                                             E10+  "
      ]
     },
     "execution_count": 2,
     "metadata": {},
     "output_type": "execute_result"
    }
   ],
   "source": [
    "train_df.head().T"
   ]
  },
  {
   "cell_type": "code",
   "execution_count": 3,
   "metadata": {},
   "outputs": [],
   "source": [
    "train_df['Year_of_Release_Platform'] = train_df['Year_of_Release'].astype(str) + '_' + train_df['Platform']\n",
    "test_df['Year_of_Release_Platform'] = test_df['Year_of_Release'].astype(str) + '_' +  test_df['Platform']\n",
    "\n",
    "train_df['Year_of_Release_Genre'] = train_df['Year_of_Release'].astype(str) + ' ' + train_df['Genre'].astype(str)\n",
    "test_df['Year_of_Release_Genre'] = test_df['Year_of_Release'].astype(str) + ' '+ test_df['Genre'].astype(str)\n",
    "\n",
    "train_df['Year_of_Release_Platform_Genre'] = train_df['Year_of_Release'].astype(str) + '_' + train_df['Platform'] + ' ' + train_df['Genre'].astype(str)\n",
    "test_df['Year_of_Release_Platform_Genre'] = test_df['Year_of_Release'].astype(str) + '_' +  test_df['Platform'] + ' ' + train_df['Genre'].astype(str)\n",
    "\n",
    "train_df['Year_of_Release_Platform_Genre_Rating'] = train_df['Year_of_Release'].astype(str) + '_' + train_df['Platform'] + ' ' + train_df['Genre'].astype(str)  + ' ' + train_df['Rating'].astype(str)\n",
    "test_df['Year_of_Release_Platform_Genre_Rating'] = test_df['Year_of_Release'].astype(str) + '_' +  test_df['Platform'] + ' ' + test_df['Genre'].astype(str) + ' ' + test_df['Rating'].astype(str)\n",
    "\n",
    "train_df['Year_of_Release_Rating'] = train_df['Year_of_Release'].astype(str) + ' ' + train_df['Rating'].astype(str)\n",
    "test_df['Year_of_Release_Rating'] = test_df['Year_of_Release'].astype(str) + ' '+ test_df['Rating'].astype(str)\n",
    "\n",
    "train_df['Platform_Genre'] = train_df['Platform'].astype(str) + ' ' + train_df['Genre'].astype(str)\n",
    "test_df['Platform_Genre'] = test_df['Platform'].astype(str) + ' '+ test_df['Genre'].astype(str)\n",
    "\n",
    "train_df['Publisher_Genre'] = train_df['Publisher'].astype(str) + ' ' + train_df['Genre'].astype(str)\n",
    "test_df['Publisher_Genre'] = test_df['Publisher'].astype(str) + ' '+ test_df['Genre'].astype(str)"
   ]
  },
  {
   "cell_type": "code",
   "execution_count": 4,
   "metadata": {},
   "outputs": [],
   "source": [
    "whole_df = pd.concat([train_df, test_df], ignore_index=True)"
   ]
  },
  {
   "cell_type": "markdown",
   "metadata": {},
   "source": [
    "# 特徴量作成用のクラス群"
   ]
  },
  {
   "cell_type": "code",
   "execution_count": 5,
   "metadata": {},
   "outputs": [],
   "source": [
    "def preprocess(input_df: pd.DataFrame) -> pd.DataFrame:\n",
    "    output_df = input_df.copy()\n",
    "    \n",
    "    idx_tbd = input_df['User_Score'] == 'tbd'\n",
    "    output_df['User_Score_is_tbd'] = idx_tbd.astype(int)\n",
    "    \n",
    "    output_df['User_Score'] = input_df['User_Score'].replace('tbd', None).astype(float)\n",
    "    return output_df\n",
    "\n",
    "def create_continuous_features(input_df):\n",
    "    input_df = preprocess(input_df)\n",
    "    use_columns = [\n",
    "        # 連続変数\n",
    "        'Critic_Score',\n",
    "        'Critic_Count', \n",
    "        'User_Score', \n",
    "        'User_Count',\n",
    "        'Year_of_Release',\n",
    "        'User_Score_is_tbd'\n",
    "    ]\n",
    "    return input_df[use_columns].copy()"
   ]
  },
  {
   "cell_type": "code",
   "execution_count": 6,
   "metadata": {},
   "outputs": [],
   "source": [
    "assert len(create_continuous_features(train_df)) == len(train_df)"
   ]
  },
  {
   "cell_type": "code",
   "execution_count": 7,
   "metadata": {},
   "outputs": [],
   "source": [
    "assert create_continuous_features(train_df.head()).equals(create_continuous_features(train_df.head()))"
   ]
  },
  {
   "cell_type": "markdown",
   "metadata": {},
   "source": [
    "### Booleanの特徴量\n",
    "\n",
    "特定の条件を満たしているかどうか, を表す特徴量です。例えばテキストカラムに特定の文字列が存在しているかどうか、などが該当します。"
   ]
  },
  {
   "cell_type": "code",
   "execution_count": 8,
   "metadata": {},
   "outputs": [],
   "source": [
    "import re\n",
    "\n",
    "def extract_brackets(text:str)->str:\n",
    "    m = re.findall(r'\\(.+?\\)', text)\n",
    "    \n",
    "    # カッコ有無の確認\n",
    "    if len(m) > 0:\n",
    "        result = m[-1].strip('()')[:-1]\n",
    "            \n",
    "    else:\n",
    "        result = ''\n",
    "        \n",
    "    result = result.replace('weekly', '').replace('higher', '').replace('old', '').replace('american', 'america').replace('us', 'america').replace(' ', '')\n",
    "    \n",
    "    return result"
   ]
  },
  {
   "cell_type": "code",
   "execution_count": 9,
   "metadata": {},
   "outputs": [],
   "source": [
    "def create_boolean_feature(input_df):\n",
    "    output_df = pd.DataFrame()\n",
    "    \n",
    "    developer_texts = [\n",
    "        'japan', 'nintendo',\n",
    "    ]\n",
    "    \n",
    "    name_texts = [\n",
    "        'allregion', 'jp', 'butwrongsyste','america','other'\n",
    "    ]\n",
    "    \n",
    "    for t in developer_texts:\n",
    "        output_df[f'Developer_has_{t}'] = input_df['Developer'].fillna('').str.lower().str.contains(t).astype(int)\n",
    "    \n",
    "    for t in name_texts:\n",
    "        output_df[f'Name_has_{t}'] = input_df['Name'].fillna('').str.lower().apply(extract_brackets).str.contains(t).astype(int)\n",
    "        \n",
    "    return output_df"
   ]
  },
  {
   "cell_type": "code",
   "execution_count": 10,
   "metadata": {},
   "outputs": [
    {
     "data": {
      "text/plain": [
       "Developer_has_japan       23\n",
       "Developer_has_nintendo    88\n",
       "Name_has_allregion         1\n",
       "Name_has_jp               54\n",
       "Name_has_butwrongsyste     2\n",
       "Name_has_america          18\n",
       "Name_has_other             2\n",
       "dtype: int64"
      ]
     },
     "execution_count": 10,
     "metadata": {},
     "output_type": "execute_result"
    }
   ],
   "source": [
    "create_boolean_feature(train_df).sum()"
   ]
  },
  {
   "cell_type": "code",
   "execution_count": 11,
   "metadata": {},
   "outputs": [],
   "source": [
    "class BaseBlock(object):\n",
    "    def fit(self, input_df, y=None):\n",
    "        return self.transform(input_df)\n",
    "        \n",
    "    def transform(self, input_df):\n",
    "        raise NotImplementedError()"
   ]
  },
  {
   "cell_type": "markdown",
   "metadata": {},
   "source": [
    "### CountEncoding"
   ]
  },
  {
   "cell_type": "code",
   "execution_count": 12,
   "metadata": {},
   "outputs": [],
   "source": [
    "class CountEncodingBlock(BaseBlock):\n",
    "    def __init__(self, column, whole_df: pd.DataFrame):\n",
    "        self.column = column\n",
    "        self.whole_df = whole_df\n",
    "\n",
    "    def transform(self, input_df):\n",
    "        output_df = pd.DataFrame()\n",
    "        c = self.column\n",
    "        \n",
    "        vc = self.whole_df[c].value_counts()\n",
    "        output_df[c] = input_df[c].map(vc)\n",
    "        return output_df.add_prefix('CE_')"
   ]
  },
  {
   "cell_type": "code",
   "execution_count": 13,
   "metadata": {},
   "outputs": [],
   "source": [
    "assert len(train_df) == len(CountEncodingBlock('Name', whole_df=whole_df).fit(train_df))"
   ]
  },
  {
   "cell_type": "markdown",
   "metadata": {},
   "source": [
    "### OneHotEncoding"
   ]
  },
  {
   "cell_type": "code",
   "execution_count": 14,
   "metadata": {},
   "outputs": [],
   "source": [
    "class OneHotBlock(BaseBlock):\n",
    "    def __init__(self, column: str, count_limit: int):\n",
    "        self.column = column\n",
    "        self.cats_ = None\n",
    "        self.count_limit = count_limit\n",
    "        \n",
    "    def fit(self, input_df, y=None):\n",
    "        vc = input_df[self.column].dropna().value_counts()\n",
    "        cats = vc[vc > self.count_limit].index\n",
    "        self.cats_ = cats\n",
    "        return self.transform(input_df)\n",
    "    \n",
    "    def transform(self, input_df):\n",
    "        x = pd.Categorical(input_df[self.column], categories=self.cats_)\n",
    "        out_df = pd.get_dummies(x, dummy_na=False)\n",
    "        out_df.columns = out_df.columns.tolist()\n",
    "        return out_df.add_prefix(f'OH_{self.column}=')"
   ]
  },
  {
   "cell_type": "code",
   "execution_count": 15,
   "metadata": {},
   "outputs": [
    {
     "data": {
      "text/plain": [
       "OH_Platform=DS      1106\n",
       "OH_Platform=PS2     1104\n",
       "OH_Platform=Wii      645\n",
       "OH_Platform=PS3      643\n",
       "OH_Platform=PSP      642\n",
       "OH_Platform=X360     588\n",
       "OH_Platform=PS       512\n",
       "OH_Platform=GBA      445\n",
       "OH_Platform=PC       439\n",
       "OH_Platform=XB       371\n",
       "OH_Platform=3DS      270\n",
       "OH_Platform=PSV      240\n",
       "OH_Platform=GC       240\n",
       "OH_Platform=PS4      206\n",
       "OH_Platform=SNES     130\n",
       "OH_Platform=SAT      129\n",
       "OH_Platform=N64      125\n",
       "OH_Platform=XOne     121\n",
       "OH_Platform=2600      88\n",
       "OH_Platform=WiiU      87\n",
       "OH_Platform=GB        78\n",
       "OH_Platform=NES       66\n",
       "OH_Platform=DC        41\n",
       "dtype: int64"
      ]
     },
     "execution_count": 15,
     "metadata": {},
     "output_type": "execute_result"
    }
   ],
   "source": [
    "OneHotBlock('Platform', 30).fit(train_df).sum(axis=0)"
   ]
  },
  {
   "cell_type": "markdown",
   "metadata": {},
   "source": [
    "### n-gram の特徴量への使い方\n",
    "\n",
    "上位に属している組み合わせが存在するかどうかを 0-1 のフラグとして持つ方法があるでしょう。"
   ]
  },
  {
   "cell_type": "code",
   "execution_count": 16,
   "metadata": {},
   "outputs": [],
   "source": [
    "import texthero as hero\n",
    "from texthero import preprocessing\n",
    "from nltk.util import ngrams"
   ]
  },
  {
   "cell_type": "code",
   "execution_count": 17,
   "metadata": {},
   "outputs": [],
   "source": [
    "def clearn_by_hero(x):\n",
    "    custom_pipeline = [preprocessing.fillna\n",
    "                   , preprocessing.lowercase\n",
    "                   , preprocessing.remove_digits\n",
    "                   , preprocessing.remove_punctuation\n",
    "                   , preprocessing.remove_diacritics\n",
    "                   , preprocessing.remove_whitespace\n",
    "                   , preprocessing.remove_stopwords\n",
    "                  ]\n",
    "    return hero.clean(x, custom_pipeline)\n",
    "\n",
    "def line_ngram(line, n=2):\n",
    "    words = [w for w in line.split(' ') if len(w) != 0] # 空文字は取り除く\n",
    "    return list(ngrams(words, n))\n",
    "\n",
    "def create_n_gram(x, n=3):\n",
    "    x = clearn_by_hero(x)\n",
    "    x = pd.Series(x).map(lambda r: line_ngram(r, n=n))\n",
    "    return x\n",
    "\n",
    "class NGramBlock(BaseBlock):\n",
    "    def __init__(self, whole_df, column:str='Name', top_n:int=20, n=3):\n",
    "        self.whole_df = whole_df\n",
    "        self.column = column\n",
    "        self.top_n = top_n\n",
    "        self.n = n\n",
    "    \n",
    "    def fit(self, input_df, y=None):\n",
    "        name_grams = create_n_gram(self.whole_df[self.column], n=self.n)\n",
    "        grams = [x for row in name_grams for x in row if len(x) > 0]\n",
    "        top_grams = pd.Series(grams).value_counts().head(self.top_n).index\n",
    "        \n",
    "        self.top_grams_ = top_grams\n",
    "        return self.transform(input_df)\n",
    "    \n",
    "    def transform(self, input_df):\n",
    "        name_grams = create_n_gram(input_df[self.column], n=self.n)\n",
    "        output_df = pd.DataFrame()\n",
    "        \n",
    "        for top in self.top_grams_:\n",
    "            s_top = '-'.join(top)\n",
    "            output_df[f'{s_top}'] = name_grams.map(lambda x: top in x).map(int)\n",
    "\n",
    "        return output_df.add_prefix(f'{self.column}_has_').add_suffix(f'_n={self.n}')"
   ]
  },
  {
   "cell_type": "code",
   "execution_count": 18,
   "metadata": {},
   "outputs": [
    {
     "data": {
      "text/html": [
       "<div>\n",
       "<style scoped>\n",
       "    .dataframe tbody tr th:only-of-type {\n",
       "        vertical-align: middle;\n",
       "    }\n",
       "\n",
       "    .dataframe tbody tr th {\n",
       "        vertical-align: top;\n",
       "    }\n",
       "\n",
       "    .dataframe thead th {\n",
       "        text-align: right;\n",
       "    }\n",
       "</style>\n",
       "<table border=\"1\" class=\"dataframe\">\n",
       "  <thead>\n",
       "    <tr style=\"text-align: right;\">\n",
       "      <th></th>\n",
       "      <th>Developer_has_high-voltage-software_n=3</th>\n",
       "      <th>Developer_has_harmonix-music-systems_n=3</th>\n",
       "      <th>Developer_has_artificial-mind-movement_n=3</th>\n",
       "      <th>Developer_has_eurocom-entertainment-software_n=3</th>\n",
       "      <th>Developer_has_san-diego-studios_n=3</th>\n",
       "      <th>Developer_has_scea-san-diego_n=3</th>\n",
       "      <th>Developer_has_arc-system-works_n=3</th>\n",
       "      <th>Developer_has_heavy-iron-studios_n=3</th>\n",
       "      <th>Developer_has_nippon-ichi-software_n=3</th>\n",
       "      <th>Developer_has_scee-london-studio_n=3</th>\n",
       "      <th>Developer_has_sce-japan-studio_n=3</th>\n",
       "      <th>Developer_has_rockstar-san-diego_n=3</th>\n",
       "      <th>Developer_has_blue-castle-games_n=3</th>\n",
       "      <th>Developer_has_take-two-interactive_n=3</th>\n",
       "      <th>Developer_has_monkey-bar-games_n=3</th>\n",
       "      <th>Developer_has_black-lantern-studios_n=3</th>\n",
       "      <th>Developer_has_double-helix-games_n=3</th>\n",
       "      <th>Developer_has_microsoft-game-studios_n=3</th>\n",
       "      <th>Developer_has_koei-tecmo-games_n=3</th>\n",
       "      <th>Developer_has_namco-bandai-games_n=3</th>\n",
       "    </tr>\n",
       "  </thead>\n",
       "  <tbody>\n",
       "    <tr>\n",
       "      <th>0</th>\n",
       "      <td>0</td>\n",
       "      <td>0</td>\n",
       "      <td>0</td>\n",
       "      <td>0</td>\n",
       "      <td>0</td>\n",
       "      <td>0</td>\n",
       "      <td>0</td>\n",
       "      <td>0</td>\n",
       "      <td>0</td>\n",
       "      <td>0</td>\n",
       "      <td>0</td>\n",
       "      <td>0</td>\n",
       "      <td>0</td>\n",
       "      <td>0</td>\n",
       "      <td>0</td>\n",
       "      <td>0</td>\n",
       "      <td>0</td>\n",
       "      <td>0</td>\n",
       "      <td>0</td>\n",
       "      <td>0</td>\n",
       "    </tr>\n",
       "    <tr>\n",
       "      <th>1</th>\n",
       "      <td>0</td>\n",
       "      <td>0</td>\n",
       "      <td>0</td>\n",
       "      <td>0</td>\n",
       "      <td>0</td>\n",
       "      <td>0</td>\n",
       "      <td>0</td>\n",
       "      <td>0</td>\n",
       "      <td>0</td>\n",
       "      <td>0</td>\n",
       "      <td>0</td>\n",
       "      <td>0</td>\n",
       "      <td>0</td>\n",
       "      <td>0</td>\n",
       "      <td>0</td>\n",
       "      <td>0</td>\n",
       "      <td>0</td>\n",
       "      <td>0</td>\n",
       "      <td>0</td>\n",
       "      <td>0</td>\n",
       "    </tr>\n",
       "    <tr>\n",
       "      <th>2</th>\n",
       "      <td>0</td>\n",
       "      <td>0</td>\n",
       "      <td>0</td>\n",
       "      <td>0</td>\n",
       "      <td>0</td>\n",
       "      <td>0</td>\n",
       "      <td>0</td>\n",
       "      <td>0</td>\n",
       "      <td>0</td>\n",
       "      <td>0</td>\n",
       "      <td>0</td>\n",
       "      <td>0</td>\n",
       "      <td>0</td>\n",
       "      <td>0</td>\n",
       "      <td>0</td>\n",
       "      <td>0</td>\n",
       "      <td>0</td>\n",
       "      <td>0</td>\n",
       "      <td>0</td>\n",
       "      <td>0</td>\n",
       "    </tr>\n",
       "    <tr>\n",
       "      <th>3</th>\n",
       "      <td>0</td>\n",
       "      <td>0</td>\n",
       "      <td>0</td>\n",
       "      <td>0</td>\n",
       "      <td>0</td>\n",
       "      <td>0</td>\n",
       "      <td>0</td>\n",
       "      <td>0</td>\n",
       "      <td>0</td>\n",
       "      <td>0</td>\n",
       "      <td>0</td>\n",
       "      <td>0</td>\n",
       "      <td>0</td>\n",
       "      <td>0</td>\n",
       "      <td>0</td>\n",
       "      <td>0</td>\n",
       "      <td>0</td>\n",
       "      <td>0</td>\n",
       "      <td>0</td>\n",
       "      <td>0</td>\n",
       "    </tr>\n",
       "    <tr>\n",
       "      <th>4</th>\n",
       "      <td>0</td>\n",
       "      <td>0</td>\n",
       "      <td>0</td>\n",
       "      <td>0</td>\n",
       "      <td>0</td>\n",
       "      <td>0</td>\n",
       "      <td>0</td>\n",
       "      <td>0</td>\n",
       "      <td>0</td>\n",
       "      <td>0</td>\n",
       "      <td>0</td>\n",
       "      <td>0</td>\n",
       "      <td>0</td>\n",
       "      <td>0</td>\n",
       "      <td>0</td>\n",
       "      <td>0</td>\n",
       "      <td>0</td>\n",
       "      <td>0</td>\n",
       "      <td>0</td>\n",
       "      <td>0</td>\n",
       "    </tr>\n",
       "  </tbody>\n",
       "</table>\n",
       "</div>"
      ],
      "text/plain": [
       "   Developer_has_high-voltage-software_n=3  \\\n",
       "0                                        0   \n",
       "1                                        0   \n",
       "2                                        0   \n",
       "3                                        0   \n",
       "4                                        0   \n",
       "\n",
       "   Developer_has_harmonix-music-systems_n=3  \\\n",
       "0                                         0   \n",
       "1                                         0   \n",
       "2                                         0   \n",
       "3                                         0   \n",
       "4                                         0   \n",
       "\n",
       "   Developer_has_artificial-mind-movement_n=3  \\\n",
       "0                                           0   \n",
       "1                                           0   \n",
       "2                                           0   \n",
       "3                                           0   \n",
       "4                                           0   \n",
       "\n",
       "   Developer_has_eurocom-entertainment-software_n=3  \\\n",
       "0                                                 0   \n",
       "1                                                 0   \n",
       "2                                                 0   \n",
       "3                                                 0   \n",
       "4                                                 0   \n",
       "\n",
       "   Developer_has_san-diego-studios_n=3  Developer_has_scea-san-diego_n=3  \\\n",
       "0                                    0                                 0   \n",
       "1                                    0                                 0   \n",
       "2                                    0                                 0   \n",
       "3                                    0                                 0   \n",
       "4                                    0                                 0   \n",
       "\n",
       "   Developer_has_arc-system-works_n=3  Developer_has_heavy-iron-studios_n=3  \\\n",
       "0                                   0                                     0   \n",
       "1                                   0                                     0   \n",
       "2                                   0                                     0   \n",
       "3                                   0                                     0   \n",
       "4                                   0                                     0   \n",
       "\n",
       "   Developer_has_nippon-ichi-software_n=3  \\\n",
       "0                                       0   \n",
       "1                                       0   \n",
       "2                                       0   \n",
       "3                                       0   \n",
       "4                                       0   \n",
       "\n",
       "   Developer_has_scee-london-studio_n=3  Developer_has_sce-japan-studio_n=3  \\\n",
       "0                                     0                                   0   \n",
       "1                                     0                                   0   \n",
       "2                                     0                                   0   \n",
       "3                                     0                                   0   \n",
       "4                                     0                                   0   \n",
       "\n",
       "   Developer_has_rockstar-san-diego_n=3  Developer_has_blue-castle-games_n=3  \\\n",
       "0                                     0                                    0   \n",
       "1                                     0                                    0   \n",
       "2                                     0                                    0   \n",
       "3                                     0                                    0   \n",
       "4                                     0                                    0   \n",
       "\n",
       "   Developer_has_take-two-interactive_n=3  Developer_has_monkey-bar-games_n=3  \\\n",
       "0                                       0                                   0   \n",
       "1                                       0                                   0   \n",
       "2                                       0                                   0   \n",
       "3                                       0                                   0   \n",
       "4                                       0                                   0   \n",
       "\n",
       "   Developer_has_black-lantern-studios_n=3  \\\n",
       "0                                        0   \n",
       "1                                        0   \n",
       "2                                        0   \n",
       "3                                        0   \n",
       "4                                        0   \n",
       "\n",
       "   Developer_has_double-helix-games_n=3  \\\n",
       "0                                     0   \n",
       "1                                     0   \n",
       "2                                     0   \n",
       "3                                     0   \n",
       "4                                     0   \n",
       "\n",
       "   Developer_has_microsoft-game-studios_n=3  \\\n",
       "0                                         0   \n",
       "1                                         0   \n",
       "2                                         0   \n",
       "3                                         0   \n",
       "4                                         0   \n",
       "\n",
       "   Developer_has_koei-tecmo-games_n=3  Developer_has_namco-bandai-games_n=3  \n",
       "0                                   0                                     0  \n",
       "1                                   0                                     0  \n",
       "2                                   0                                     0  \n",
       "3                                   0                                     0  \n",
       "4                                   0                                     0  "
      ]
     },
     "execution_count": 18,
     "metadata": {},
     "output_type": "execute_result"
    }
   ],
   "source": [
    "block = NGramBlock(train_df, column='Developer', top_n=20, n=3)\n",
    "block.fit(train_df).head()"
   ]
  },
  {
   "cell_type": "code",
   "execution_count": 19,
   "metadata": {},
   "outputs": [
    {
     "data": {
      "text/plain": [
       "Developer_has_high-voltage-software_n=3             10\n",
       "Developer_has_harmonix-music-systems_n=3            15\n",
       "Developer_has_artificial-mind-movement_n=3          27\n",
       "Developer_has_eurocom-entertainment-software_n=3    14\n",
       "Developer_has_san-diego-studios_n=3                  0\n",
       "Developer_has_scea-san-diego_n=3                     0\n",
       "Developer_has_arc-system-works_n=3                  22\n",
       "Developer_has_heavy-iron-studios_n=3                 2\n",
       "Developer_has_nippon-ichi-software_n=3               0\n",
       "Developer_has_scee-london-studio_n=3                 0\n",
       "Developer_has_sce-japan-studio_n=3                   0\n",
       "Developer_has_rockstar-san-diego_n=3                 1\n",
       "Developer_has_blue-castle-games_n=3                  0\n",
       "Developer_has_take-two-interactive_n=3               0\n",
       "Developer_has_monkey-bar-games_n=3                   5\n",
       "Developer_has_black-lantern-studios_n=3             14\n",
       "Developer_has_double-helix-games_n=3                 9\n",
       "Developer_has_microsoft-game-studios_n=3             1\n",
       "Developer_has_koei-tecmo-games_n=3                   0\n",
       "Developer_has_namco-bandai-games_n=3                30\n",
       "dtype: int64"
      ]
     },
     "execution_count": 19,
     "metadata": {},
     "output_type": "execute_result"
    }
   ],
   "source": [
    "block.transform(test_df).sum()"
   ]
  },
  {
   "cell_type": "markdown",
   "metadata": {},
   "source": [
    "### 名前の類似度と距離（使っていない）"
   ]
  },
  {
   "cell_type": "code",
   "execution_count": 20,
   "metadata": {},
   "outputs": [],
   "source": [
    "from typing import List\n",
    "from sklearn.feature_extraction.text import TfidfVectorizer \n",
    "from sklearn.decomposition import TruncatedSVD\n",
    "import re\n",
    "import string\n",
    "from sklearn.cluster import KMeans"
   ]
  },
  {
   "cell_type": "code",
   "execution_count": 21,
   "metadata": {},
   "outputs": [],
   "source": [
    "def tokenize(text: str) -> List[str]:\n",
    "    \"\"\"記号を分離して、文章を単語ごとに分割する関数\n",
    "    \"\"\"\n",
    "    re_tok = re.compile(f'([{string.punctuation}“”¨«»®´·º½¾¿¡§£₤‘’])')\n",
    "    return re_tok.sub(r' \\1 ', text).split()\n",
    "\n",
    "def create_tf_idf(x, n):\n",
    "    tfidf = TfidfVectorizer(\n",
    "        ngram_range=(2, n),  # bi-gram まで考慮\n",
    "        tokenizer=tokenize,  # 文章の分割のアルゴリズム\n",
    "        min_df=3,  # 最低でも3つの文章に出現するものに限定する\n",
    "        max_df=0.8,  # 全体の80%以下の文章に出現するものに限定する\n",
    "        sublinear_tf=True  # カウントに log スケールをかける\n",
    "    )\n",
    "    \n",
    "    tfidf.fit(x.fillna('unknown'))\n",
    "    return tfidf\n",
    "\n",
    "def change_dim(matrix, dim):\n",
    "    svd_ = TruncatedSVD(n_components=dim, random_state=1337)\n",
    "    svd_.fit(matrix)\n",
    "    return svd_\n",
    "\n",
    "class TF_IDF_DIST_Block(BaseBlock):\n",
    "    def __init__(self, column:str='Name', weight_column:str='Global_Sales', n=3, dim=24, n_clusters=20):\n",
    "        self.column = column\n",
    "        self.n = n\n",
    "        self.dim = dim\n",
    "        self.weight_column = weight_column\n",
    "        self.n_clusters = n_clusters\n",
    "    \n",
    "    def fit(self, input_df):\n",
    "        # 文字列のベクトル化・次元削減\n",
    "        self.tfidf = create_tf_idf(input_df[self.column], self.n)\n",
    "        matrix = self.tfidf.transform(input_df[self.column].fillna('Unknown'))\n",
    "        self.svd = change_dim(matrix, self.dim)\n",
    "        matrix = self.svd.transform(matrix)\n",
    "\n",
    "        # 各クラスタの中心からの距離\n",
    "        self.kmeans = KMeans(n_clusters=self.n_clusters, random_state=20)\n",
    "        self.kmeans.fit(matrix, sample_weight=np.log1p(input_df[self.weight_column]))\n",
    "        distance_from_clusters = pd.DataFrame(self.kmeans.transform(matrix))\n",
    "        \n",
    "        return distance_from_clusters.add_prefix(f'DIST_{self.column}_').add_suffix(f'_{self.weight_column}')\n",
    "    \n",
    "    def transform(self, input_df):\n",
    "        matrix = self.tfidf.transform(input_df[self.column].fillna('Unknown'))\n",
    "        matrix = self.svd.transform(matrix)\n",
    "        distance_from_clusters = pd.DataFrame(self.kmeans.transform(matrix))\n",
    "        return distance_from_clusters.add_prefix(f'DIST_{self.column}_').add_suffix(f'_{self.weight_column}')"
   ]
  },
  {
   "cell_type": "code",
   "execution_count": 22,
   "metadata": {},
   "outputs": [
    {
     "name": "stderr",
     "output_type": "stream",
     "text": [
      "C:\\Users\\akira.shirahama\\Anaconda3\\envs\\kaggle_workspace\\lib\\site-packages\\sklearn\\feature_extraction\\text.py:484: UserWarning: The parameter 'token_pattern' will not be used since 'tokenizer' is not None'\n",
      "  warnings.warn(\"The parameter 'token_pattern' will not be used\"\n",
      "C:\\Users\\akira.shirahama\\Anaconda3\\envs\\kaggle_workspace\\lib\\site-packages\\sklearn\\feature_extraction\\text.py:484: UserWarning: The parameter 'token_pattern' will not be used since 'tokenizer' is not None'\n",
      "  warnings.warn(\"The parameter 'token_pattern' will not be used\"\n"
     ]
    },
    {
     "data": {
      "text/html": [
       "<div>\n",
       "<style scoped>\n",
       "    .dataframe tbody tr th:only-of-type {\n",
       "        vertical-align: middle;\n",
       "    }\n",
       "\n",
       "    .dataframe tbody tr th {\n",
       "        vertical-align: top;\n",
       "    }\n",
       "\n",
       "    .dataframe thead th {\n",
       "        text-align: right;\n",
       "    }\n",
       "</style>\n",
       "<table border=\"1\" class=\"dataframe\">\n",
       "  <thead>\n",
       "    <tr style=\"text-align: right;\">\n",
       "      <th></th>\n",
       "      <th>DIST_Name_0_Global_Sales</th>\n",
       "      <th>DIST_Name_1_Global_Sales</th>\n",
       "      <th>DIST_Name_2_Global_Sales</th>\n",
       "      <th>DIST_Name_3_Global_Sales</th>\n",
       "      <th>DIST_Name_4_Global_Sales</th>\n",
       "      <th>DIST_Name_5_Global_Sales</th>\n",
       "      <th>DIST_Name_6_Global_Sales</th>\n",
       "      <th>DIST_Name_7_Global_Sales</th>\n",
       "      <th>DIST_Name_8_Global_Sales</th>\n",
       "      <th>DIST_Name_9_Global_Sales</th>\n",
       "      <th>DIST_Name_10_Global_Sales</th>\n",
       "      <th>DIST_Name_11_Global_Sales</th>\n",
       "      <th>DIST_Name_12_Global_Sales</th>\n",
       "      <th>DIST_Name_13_Global_Sales</th>\n",
       "      <th>DIST_Name_14_Global_Sales</th>\n",
       "      <th>DIST_Name_15_Global_Sales</th>\n",
       "      <th>DIST_Name_16_Global_Sales</th>\n",
       "      <th>DIST_Name_17_Global_Sales</th>\n",
       "      <th>DIST_Name_18_Global_Sales</th>\n",
       "      <th>DIST_Name_19_Global_Sales</th>\n",
       "    </tr>\n",
       "  </thead>\n",
       "  <tbody>\n",
       "    <tr>\n",
       "      <th>0</th>\n",
       "      <td>0.276188</td>\n",
       "      <td>0.136293</td>\n",
       "      <td>0.400109</td>\n",
       "      <td>1.033808</td>\n",
       "      <td>0.621597</td>\n",
       "      <td>0.852616</td>\n",
       "      <td>0.880372</td>\n",
       "      <td>0.728274</td>\n",
       "      <td>0.614397</td>\n",
       "      <td>0.766710</td>\n",
       "      <td>0.653906</td>\n",
       "      <td>0.572631</td>\n",
       "      <td>0.791250</td>\n",
       "      <td>0.815299</td>\n",
       "      <td>0.838854</td>\n",
       "      <td>0.567802</td>\n",
       "      <td>0.892429</td>\n",
       "      <td>0.400221</td>\n",
       "      <td>0.660726</td>\n",
       "      <td>0.700522</td>\n",
       "    </tr>\n",
       "    <tr>\n",
       "      <th>1</th>\n",
       "      <td>0.156973</td>\n",
       "      <td>0.184952</td>\n",
       "      <td>0.333580</td>\n",
       "      <td>1.006428</td>\n",
       "      <td>0.578811</td>\n",
       "      <td>0.821164</td>\n",
       "      <td>0.843126</td>\n",
       "      <td>0.696667</td>\n",
       "      <td>0.562225</td>\n",
       "      <td>0.733313</td>\n",
       "      <td>0.620362</td>\n",
       "      <td>0.534496</td>\n",
       "      <td>0.739493</td>\n",
       "      <td>0.781980</td>\n",
       "      <td>0.817788</td>\n",
       "      <td>0.500980</td>\n",
       "      <td>0.869291</td>\n",
       "      <td>0.327676</td>\n",
       "      <td>0.594922</td>\n",
       "      <td>0.695144</td>\n",
       "    </tr>\n",
       "    <tr>\n",
       "      <th>2</th>\n",
       "      <td>0.276188</td>\n",
       "      <td>0.136293</td>\n",
       "      <td>0.400109</td>\n",
       "      <td>1.033808</td>\n",
       "      <td>0.621597</td>\n",
       "      <td>0.852616</td>\n",
       "      <td>0.880372</td>\n",
       "      <td>0.728274</td>\n",
       "      <td>0.614397</td>\n",
       "      <td>0.766710</td>\n",
       "      <td>0.653906</td>\n",
       "      <td>0.572631</td>\n",
       "      <td>0.791250</td>\n",
       "      <td>0.815299</td>\n",
       "      <td>0.838854</td>\n",
       "      <td>0.567802</td>\n",
       "      <td>0.892429</td>\n",
       "      <td>0.400221</td>\n",
       "      <td>0.660726</td>\n",
       "      <td>0.700522</td>\n",
       "    </tr>\n",
       "    <tr>\n",
       "      <th>3</th>\n",
       "      <td>0.010477</td>\n",
       "      <td>0.338387</td>\n",
       "      <td>0.296533</td>\n",
       "      <td>0.994020</td>\n",
       "      <td>0.558334</td>\n",
       "      <td>0.805634</td>\n",
       "      <td>0.828501</td>\n",
       "      <td>0.684895</td>\n",
       "      <td>0.573447</td>\n",
       "      <td>0.716146</td>\n",
       "      <td>0.603749</td>\n",
       "      <td>0.516779</td>\n",
       "      <td>0.717287</td>\n",
       "      <td>0.767971</td>\n",
       "      <td>0.802154</td>\n",
       "      <td>0.476034</td>\n",
       "      <td>0.854625</td>\n",
       "      <td>0.295875</td>\n",
       "      <td>0.580495</td>\n",
       "      <td>0.678907</td>\n",
       "    </tr>\n",
       "    <tr>\n",
       "      <th>4</th>\n",
       "      <td>0.063352</td>\n",
       "      <td>0.346730</td>\n",
       "      <td>0.303543</td>\n",
       "      <td>0.996263</td>\n",
       "      <td>0.562640</td>\n",
       "      <td>0.808136</td>\n",
       "      <td>0.830943</td>\n",
       "      <td>0.686915</td>\n",
       "      <td>0.578704</td>\n",
       "      <td>0.719415</td>\n",
       "      <td>0.605127</td>\n",
       "      <td>0.520460</td>\n",
       "      <td>0.721955</td>\n",
       "      <td>0.767337</td>\n",
       "      <td>0.795058</td>\n",
       "      <td>0.480169</td>\n",
       "      <td>0.858218</td>\n",
       "      <td>0.304162</td>\n",
       "      <td>0.584153</td>\n",
       "      <td>0.694697</td>\n",
       "    </tr>\n",
       "  </tbody>\n",
       "</table>\n",
       "</div>"
      ],
      "text/plain": [
       "   DIST_Name_0_Global_Sales  DIST_Name_1_Global_Sales  \\\n",
       "0                  0.276188                  0.136293   \n",
       "1                  0.156973                  0.184952   \n",
       "2                  0.276188                  0.136293   \n",
       "3                  0.010477                  0.338387   \n",
       "4                  0.063352                  0.346730   \n",
       "\n",
       "   DIST_Name_2_Global_Sales  DIST_Name_3_Global_Sales  \\\n",
       "0                  0.400109                  1.033808   \n",
       "1                  0.333580                  1.006428   \n",
       "2                  0.400109                  1.033808   \n",
       "3                  0.296533                  0.994020   \n",
       "4                  0.303543                  0.996263   \n",
       "\n",
       "   DIST_Name_4_Global_Sales  DIST_Name_5_Global_Sales  \\\n",
       "0                  0.621597                  0.852616   \n",
       "1                  0.578811                  0.821164   \n",
       "2                  0.621597                  0.852616   \n",
       "3                  0.558334                  0.805634   \n",
       "4                  0.562640                  0.808136   \n",
       "\n",
       "   DIST_Name_6_Global_Sales  DIST_Name_7_Global_Sales  \\\n",
       "0                  0.880372                  0.728274   \n",
       "1                  0.843126                  0.696667   \n",
       "2                  0.880372                  0.728274   \n",
       "3                  0.828501                  0.684895   \n",
       "4                  0.830943                  0.686915   \n",
       "\n",
       "   DIST_Name_8_Global_Sales  DIST_Name_9_Global_Sales  \\\n",
       "0                  0.614397                  0.766710   \n",
       "1                  0.562225                  0.733313   \n",
       "2                  0.614397                  0.766710   \n",
       "3                  0.573447                  0.716146   \n",
       "4                  0.578704                  0.719415   \n",
       "\n",
       "   DIST_Name_10_Global_Sales  DIST_Name_11_Global_Sales  \\\n",
       "0                   0.653906                   0.572631   \n",
       "1                   0.620362                   0.534496   \n",
       "2                   0.653906                   0.572631   \n",
       "3                   0.603749                   0.516779   \n",
       "4                   0.605127                   0.520460   \n",
       "\n",
       "   DIST_Name_12_Global_Sales  DIST_Name_13_Global_Sales  \\\n",
       "0                   0.791250                   0.815299   \n",
       "1                   0.739493                   0.781980   \n",
       "2                   0.791250                   0.815299   \n",
       "3                   0.717287                   0.767971   \n",
       "4                   0.721955                   0.767337   \n",
       "\n",
       "   DIST_Name_14_Global_Sales  DIST_Name_15_Global_Sales  \\\n",
       "0                   0.838854                   0.567802   \n",
       "1                   0.817788                   0.500980   \n",
       "2                   0.838854                   0.567802   \n",
       "3                   0.802154                   0.476034   \n",
       "4                   0.795058                   0.480169   \n",
       "\n",
       "   DIST_Name_16_Global_Sales  DIST_Name_17_Global_Sales  \\\n",
       "0                   0.892429                   0.400221   \n",
       "1                   0.869291                   0.327676   \n",
       "2                   0.892429                   0.400221   \n",
       "3                   0.854625                   0.295875   \n",
       "4                   0.858218                   0.304162   \n",
       "\n",
       "   DIST_Name_18_Global_Sales  DIST_Name_19_Global_Sales  \n",
       "0                   0.660726                   0.700522  \n",
       "1                   0.594922                   0.695144  \n",
       "2                   0.660726                   0.700522  \n",
       "3                   0.580495                   0.678907  \n",
       "4                   0.584153                   0.694697  "
      ]
     },
     "metadata": {},
     "output_type": "display_data"
    }
   ],
   "source": [
    "block = TF_IDF_DIST_Block()\n",
    "assert block.fit(train_df).head().equals(block.transform(train_df).head())\n",
    "display( block.fit(train_df).head())"
   ]
  },
  {
   "cell_type": "markdown",
   "metadata": {},
   "source": [
    "### 同一Name、且つYear_of_ReleaseがNAの場合最頻値で埋める"
   ]
  },
  {
   "cell_type": "code",
   "execution_count": 23,
   "metadata": {
    "scrolled": true
   },
   "outputs": [],
   "source": [
    "def get_mode(x):\n",
    "    if len(x.dropna()) > 2:\n",
    "        if len(x.dropna().mode()) > 1:\n",
    "            result = np.full(len(x), x.dropna().mode()[0])\n",
    "        else:\n",
    "            result = np.full(len(x), x.dropna().mode())\n",
    "    else:\n",
    "        result = x\n",
    "    \n",
    "    return result\n",
    "\n",
    "class FillNaOfYearOfReleaseBlock(BaseBlock):\n",
    "    def __init__(self, whole_df):\n",
    "        self.whole_df = whole_df.copy()\n",
    "    \n",
    "    def fit(self, input_df):\n",
    "        return self.transform(input_df)\n",
    "    \n",
    "    def transform(self, input_df):\n",
    "        out_df = input_df.copy()\n",
    "        out_df = out_df[['Name', 'Year_of_Release']]\n",
    "        out_df['Is_Null_Year'] = out_df['Year_of_Release'].isnull()\n",
    "        out_df['Name'] = out_df['Name'].fillna('unknown')\n",
    "        out_df['Replace_Year'] = out_df.groupby('Name')['Year_of_Release'].transform(get_mode)\n",
    "        out_df.loc[out_df['Is_Null_Year'], 'Year_of_Release'] = out_df.loc[out_df['Is_Null_Year'], 'Replace_Year']\n",
    "        return out_df['Replace_Year']"
   ]
  },
  {
   "cell_type": "code",
   "execution_count": 24,
   "metadata": {},
   "outputs": [
    {
     "data": {
      "text/plain": [
       "0   NaN\n",
       "1   NaN\n",
       "2   NaN\n",
       "3   NaN\n",
       "4   NaN\n",
       "Name: Replace_Year, dtype: float64"
      ]
     },
     "metadata": {},
     "output_type": "display_data"
    }
   ],
   "source": [
    "block = FillNaOfYearOfReleaseBlock(whole_df)\n",
    "assert block.fit(train_df).head().equals(block.transform(train_df).head())\n",
    "display(block.fit(train_df.head()))"
   ]
  },
  {
   "cell_type": "markdown",
   "metadata": {},
   "source": [
    "### 売り上げポートフォリオ"
   ]
  },
  {
   "cell_type": "code",
   "execution_count": 25,
   "metadata": {},
   "outputs": [],
   "source": [
    "sales_columns = train_df.columns[train_df.columns.str.contains('Sales')].tolist()\n",
    "sales_columns = sorted(sales_columns)"
   ]
  },
  {
   "cell_type": "code",
   "execution_count": 26,
   "metadata": {},
   "outputs": [],
   "source": [
    "class SalesPortfolioBlock(BaseBlock):\n",
    "    \"\"\"売上ポートフォリオ\"\"\"\n",
    "    \n",
    "    def __init__(self, key: str):\n",
    "        self.key = key    \n",
    "        self.meta_df = None\n",
    "    \n",
    "    def fit(self, input_df):\n",
    "        _df = input_df[sales_columns].groupby(input_df[self.key]).sum()\n",
    "        _df = (_df.T / _df.sum(axis=1)).T\n",
    "        self.meta_df = _df\n",
    "        return self.transform(input_df)\n",
    "    \n",
    "    def transform(self, input_df):\n",
    "        out_df = pd.merge(input_df[self.key], self.meta_df, on=self.key, how='left').drop(columns=[self.key])\n",
    "        out_df = out_df.add_prefix(f'SP@{self.key}_')\n",
    "        return out_df"
   ]
  },
  {
   "cell_type": "code",
   "execution_count": 27,
   "metadata": {},
   "outputs": [
    {
     "data": {
      "text/html": [
       "<div>\n",
       "<style scoped>\n",
       "    .dataframe tbody tr th:only-of-type {\n",
       "        vertical-align: middle;\n",
       "    }\n",
       "\n",
       "    .dataframe tbody tr th {\n",
       "        vertical-align: top;\n",
       "    }\n",
       "\n",
       "    .dataframe thead th {\n",
       "        text-align: right;\n",
       "    }\n",
       "</style>\n",
       "<table border=\"1\" class=\"dataframe\">\n",
       "  <thead>\n",
       "    <tr style=\"text-align: right;\">\n",
       "      <th></th>\n",
       "      <th>SP@Genre_EU_Sales</th>\n",
       "      <th>SP@Genre_Global_Sales</th>\n",
       "      <th>SP@Genre_JP_Sales</th>\n",
       "      <th>SP@Genre_NA_Sales</th>\n",
       "      <th>SP@Genre_Other_Sales</th>\n",
       "    </tr>\n",
       "  </thead>\n",
       "  <tbody>\n",
       "    <tr>\n",
       "      <th>0</th>\n",
       "      <td>0.137158</td>\n",
       "      <td>0.501093</td>\n",
       "      <td>0.0</td>\n",
       "      <td>0.313115</td>\n",
       "      <td>0.048634</td>\n",
       "    </tr>\n",
       "    <tr>\n",
       "      <th>1</th>\n",
       "      <td>0.137158</td>\n",
       "      <td>0.501093</td>\n",
       "      <td>0.0</td>\n",
       "      <td>0.313115</td>\n",
       "      <td>0.048634</td>\n",
       "    </tr>\n",
       "    <tr>\n",
       "      <th>2</th>\n",
       "      <td>0.137158</td>\n",
       "      <td>0.501093</td>\n",
       "      <td>0.0</td>\n",
       "      <td>0.313115</td>\n",
       "      <td>0.048634</td>\n",
       "    </tr>\n",
       "    <tr>\n",
       "      <th>3</th>\n",
       "      <td>0.137158</td>\n",
       "      <td>0.501093</td>\n",
       "      <td>0.0</td>\n",
       "      <td>0.313115</td>\n",
       "      <td>0.048634</td>\n",
       "    </tr>\n",
       "    <tr>\n",
       "      <th>4</th>\n",
       "      <td>0.137158</td>\n",
       "      <td>0.501093</td>\n",
       "      <td>0.0</td>\n",
       "      <td>0.313115</td>\n",
       "      <td>0.048634</td>\n",
       "    </tr>\n",
       "  </tbody>\n",
       "</table>\n",
       "</div>"
      ],
      "text/plain": [
       "   SP@Genre_EU_Sales  SP@Genre_Global_Sales  SP@Genre_JP_Sales  \\\n",
       "0           0.137158               0.501093                0.0   \n",
       "1           0.137158               0.501093                0.0   \n",
       "2           0.137158               0.501093                0.0   \n",
       "3           0.137158               0.501093                0.0   \n",
       "4           0.137158               0.501093                0.0   \n",
       "\n",
       "   SP@Genre_NA_Sales  SP@Genre_Other_Sales  \n",
       "0           0.313115              0.048634  \n",
       "1           0.313115              0.048634  \n",
       "2           0.313115              0.048634  \n",
       "3           0.313115              0.048634  \n",
       "4           0.313115              0.048634  "
      ]
     },
     "metadata": {},
     "output_type": "display_data"
    }
   ],
   "source": [
    "block = SalesPortfolioBlock('Genre')\n",
    "assert len(block.fit(train_df)) == len(train_df)\n",
    "display(block.fit(train_df.head()))"
   ]
  },
  {
   "cell_type": "code",
   "execution_count": 28,
   "metadata": {},
   "outputs": [],
   "source": [
    "class WrapperBlock(BaseBlock):\n",
    "    def __init__(self, function):\n",
    "        self.function = function\n",
    "        \n",
    "    def transform(self, input_df):\n",
    "        return self.function(input_df)"
   ]
  },
  {
   "cell_type": "markdown",
   "metadata": {},
   "source": [
    "### Target Encoding（使っていない）"
   ]
  },
  {
   "cell_type": "code",
   "execution_count": 29,
   "metadata": {},
   "outputs": [],
   "source": [
    "from sklearn.model_selection import KFold\n",
    "\n",
    "class TargetEnodingBlock(BaseBlock):\n",
    "    def __init__(self, column:str='Genre', target_column:str='Global_Sales', agg_funcs:str=['mean', 'var', 'min', 'max']):\n",
    "        self.column = column\n",
    "        self.target_column = target_column\n",
    "        self.agg_funcs = agg_funcs\n",
    "\n",
    "    def fit(self, input_df):\n",
    "        self.target_map = input_df.groupby(self.column)[self.target_column].agg(self.agg_funcs)\n",
    "        \n",
    "        output_encoded = np.zeros((len(input_df), len(self.agg_funcs)))\n",
    "        kf = KFold(n_splits=4, shuffle=True, random_state=1000)\n",
    "        for index, agg_func in enumerate(self.agg_funcs):\n",
    "            for train_idx, valid_idx in kf.split(input_df):\n",
    "                target_map = input_df.iloc[train_idx].groupby(self.column)[self.target_column].agg(self.agg_funcs)\n",
    "                output_encoded[valid_idx, index] = input_df.iloc[valid_idx][self.column].map(target_map[agg_func].to_dict())\n",
    "        \n",
    "        output_encoded = pd.DataFrame(output_encoded)\n",
    "        output_encoded.columns = [f'TE_{self.column}_{self.target_column}_{agg_func}' for agg_func in self.agg_funcs]\n",
    "        return output_encoded\n",
    "    \n",
    "    def transform(self, input_df):\n",
    "        output_encoded = np.zeros((len(input_df), len(self.agg_funcs)))\n",
    "        for index, agg_func in enumerate(self.agg_funcs):        \n",
    "            output_encoded[:,index] = input_df[self.column].map(self.target_map['mean'].to_dict()).values\n",
    "            \n",
    "        output_encoded = pd.DataFrame(output_encoded)\n",
    "        output_encoded.columns = [f'TE_{self.column}_{self.target_column}_{agg_func}' for agg_func in self.agg_funcs]\n",
    "        return output_encoded"
   ]
  },
  {
   "cell_type": "code",
   "execution_count": 30,
   "metadata": {},
   "outputs": [
    {
     "data": {
      "text/html": [
       "<div>\n",
       "<style scoped>\n",
       "    .dataframe tbody tr th:only-of-type {\n",
       "        vertical-align: middle;\n",
       "    }\n",
       "\n",
       "    .dataframe tbody tr th {\n",
       "        vertical-align: top;\n",
       "    }\n",
       "\n",
       "    .dataframe thead th {\n",
       "        text-align: right;\n",
       "    }\n",
       "</style>\n",
       "<table border=\"1\" class=\"dataframe\">\n",
       "  <thead>\n",
       "    <tr style=\"text-align: right;\">\n",
       "      <th></th>\n",
       "      <th>TE_Genre_Global_Sales_mean</th>\n",
       "      <th>TE_Genre_Global_Sales_var</th>\n",
       "      <th>TE_Genre_Global_Sales_min</th>\n",
       "      <th>TE_Genre_Global_Sales_max</th>\n",
       "    </tr>\n",
       "  </thead>\n",
       "  <tbody>\n",
       "    <tr>\n",
       "      <th>0</th>\n",
       "      <td>61.443615</td>\n",
       "      <td>21100.293343</td>\n",
       "      <td>1.0</td>\n",
       "      <td>2104.0</td>\n",
       "    </tr>\n",
       "    <tr>\n",
       "      <th>1</th>\n",
       "      <td>62.091183</td>\n",
       "      <td>18410.846129</td>\n",
       "      <td>1.0</td>\n",
       "      <td>2081.0</td>\n",
       "    </tr>\n",
       "    <tr>\n",
       "      <th>2</th>\n",
       "      <td>59.647522</td>\n",
       "      <td>17517.466212</td>\n",
       "      <td>1.0</td>\n",
       "      <td>2104.0</td>\n",
       "    </tr>\n",
       "    <tr>\n",
       "      <th>3</th>\n",
       "      <td>60.796440</td>\n",
       "      <td>20443.688198</td>\n",
       "      <td>1.0</td>\n",
       "      <td>2104.0</td>\n",
       "    </tr>\n",
       "    <tr>\n",
       "      <th>4</th>\n",
       "      <td>61.443615</td>\n",
       "      <td>21100.293343</td>\n",
       "      <td>1.0</td>\n",
       "      <td>2104.0</td>\n",
       "    </tr>\n",
       "  </tbody>\n",
       "</table>\n",
       "</div>"
      ],
      "text/plain": [
       "   TE_Genre_Global_Sales_mean  TE_Genre_Global_Sales_var  \\\n",
       "0                   61.443615               21100.293343   \n",
       "1                   62.091183               18410.846129   \n",
       "2                   59.647522               17517.466212   \n",
       "3                   60.796440               20443.688198   \n",
       "4                   61.443615               21100.293343   \n",
       "\n",
       "   TE_Genre_Global_Sales_min  TE_Genre_Global_Sales_max  \n",
       "0                        1.0                     2104.0  \n",
       "1                        1.0                     2081.0  \n",
       "2                        1.0                     2104.0  \n",
       "3                        1.0                     2104.0  \n",
       "4                        1.0                     2104.0  "
      ]
     },
     "metadata": {},
     "output_type": "display_data"
    }
   ],
   "source": [
    "block = TargetEnodingBlock()\n",
    "assert len(block.fit(train_df)) == len(train_df)\n",
    "display( block.fit(train_df).head())"
   ]
  },
  {
   "cell_type": "markdown",
   "metadata": {},
   "source": [
    "### Publisherごとの各要素のカウント"
   ]
  },
  {
   "cell_type": "code",
   "execution_count": 31,
   "metadata": {},
   "outputs": [],
   "source": [
    "class PublisherCountBlock(BaseBlock):\n",
    "    def __init__(self, whole_df, column:str='Platform'):\n",
    "        self.column = column\n",
    "        self.whole_df = whole_df\n",
    "\n",
    "    def fit(self, input_df):\n",
    "        self.publisher_pivot_df = self.whole_df.pivot_table(index='Publisher', columns=self.column, values='Name', aggfunc='count').reset_index().fillna(0)\n",
    "        out_df = pd.merge(input_df['Publisher'], self.publisher_pivot_df, on='Publisher', how='left').drop(columns=['Publisher'])\n",
    "        out_df = out_df.add_prefix(f'SP@{self.column}_')\n",
    "        return out_df\n",
    "    \n",
    "    def transform(self, input_df):\n",
    "        out_df = pd.merge(input_df['Publisher'], self.publisher_pivot_df, on='Publisher', how='left').drop(columns=['Publisher'])\n",
    "        out_df = out_df.add_prefix(f'PG@{self.column}_')\n",
    "        return out_df"
   ]
  },
  {
   "cell_type": "code",
   "execution_count": 32,
   "metadata": {},
   "outputs": [
    {
     "data": {
      "text/html": [
       "<div>\n",
       "<style scoped>\n",
       "    .dataframe tbody tr th:only-of-type {\n",
       "        vertical-align: middle;\n",
       "    }\n",
       "\n",
       "    .dataframe tbody tr th {\n",
       "        vertical-align: top;\n",
       "    }\n",
       "\n",
       "    .dataframe thead th {\n",
       "        text-align: right;\n",
       "    }\n",
       "</style>\n",
       "<table border=\"1\" class=\"dataframe\">\n",
       "  <thead>\n",
       "    <tr style=\"text-align: right;\">\n",
       "      <th></th>\n",
       "      <th>SP@Platform_2600</th>\n",
       "      <th>SP@Platform_3DO</th>\n",
       "      <th>SP@Platform_3DS</th>\n",
       "      <th>SP@Platform_DC</th>\n",
       "      <th>SP@Platform_DS</th>\n",
       "      <th>SP@Platform_GB</th>\n",
       "      <th>SP@Platform_GBA</th>\n",
       "      <th>SP@Platform_GC</th>\n",
       "      <th>SP@Platform_GEN</th>\n",
       "      <th>SP@Platform_GG</th>\n",
       "      <th>...</th>\n",
       "      <th>SP@Platform_SAT</th>\n",
       "      <th>SP@Platform_SCD</th>\n",
       "      <th>SP@Platform_SNES</th>\n",
       "      <th>SP@Platform_TG16</th>\n",
       "      <th>SP@Platform_WS</th>\n",
       "      <th>SP@Platform_Wii</th>\n",
       "      <th>SP@Platform_WiiU</th>\n",
       "      <th>SP@Platform_X360</th>\n",
       "      <th>SP@Platform_XB</th>\n",
       "      <th>SP@Platform_XOne</th>\n",
       "    </tr>\n",
       "  </thead>\n",
       "  <tbody>\n",
       "    <tr>\n",
       "      <th>0</th>\n",
       "      <td>0.0</td>\n",
       "      <td>0.0</td>\n",
       "      <td>18.0</td>\n",
       "      <td>0.0</td>\n",
       "      <td>32.0</td>\n",
       "      <td>0.0</td>\n",
       "      <td>0.0</td>\n",
       "      <td>1.0</td>\n",
       "      <td>0.0</td>\n",
       "      <td>0.0</td>\n",
       "      <td>...</td>\n",
       "      <td>0.0</td>\n",
       "      <td>0.0</td>\n",
       "      <td>0.0</td>\n",
       "      <td>0.0</td>\n",
       "      <td>0.0</td>\n",
       "      <td>24.0</td>\n",
       "      <td>15.0</td>\n",
       "      <td>34.0</td>\n",
       "      <td>0.0</td>\n",
       "      <td>14.0</td>\n",
       "    </tr>\n",
       "    <tr>\n",
       "      <th>1</th>\n",
       "      <td>0.0</td>\n",
       "      <td>0.0</td>\n",
       "      <td>1.0</td>\n",
       "      <td>0.0</td>\n",
       "      <td>9.0</td>\n",
       "      <td>0.0</td>\n",
       "      <td>1.0</td>\n",
       "      <td>4.0</td>\n",
       "      <td>0.0</td>\n",
       "      <td>0.0</td>\n",
       "      <td>...</td>\n",
       "      <td>0.0</td>\n",
       "      <td>0.0</td>\n",
       "      <td>0.0</td>\n",
       "      <td>0.0</td>\n",
       "      <td>0.0</td>\n",
       "      <td>8.0</td>\n",
       "      <td>0.0</td>\n",
       "      <td>8.0</td>\n",
       "      <td>8.0</td>\n",
       "      <td>0.0</td>\n",
       "    </tr>\n",
       "    <tr>\n",
       "      <th>2</th>\n",
       "      <td>0.0</td>\n",
       "      <td>0.0</td>\n",
       "      <td>18.0</td>\n",
       "      <td>0.0</td>\n",
       "      <td>32.0</td>\n",
       "      <td>0.0</td>\n",
       "      <td>0.0</td>\n",
       "      <td>1.0</td>\n",
       "      <td>0.0</td>\n",
       "      <td>0.0</td>\n",
       "      <td>...</td>\n",
       "      <td>0.0</td>\n",
       "      <td>0.0</td>\n",
       "      <td>0.0</td>\n",
       "      <td>0.0</td>\n",
       "      <td>0.0</td>\n",
       "      <td>24.0</td>\n",
       "      <td>15.0</td>\n",
       "      <td>34.0</td>\n",
       "      <td>0.0</td>\n",
       "      <td>14.0</td>\n",
       "    </tr>\n",
       "    <tr>\n",
       "      <th>3</th>\n",
       "      <td>54.0</td>\n",
       "      <td>0.0</td>\n",
       "      <td>1.0</td>\n",
       "      <td>0.0</td>\n",
       "      <td>36.0</td>\n",
       "      <td>0.0</td>\n",
       "      <td>44.0</td>\n",
       "      <td>18.0</td>\n",
       "      <td>0.0</td>\n",
       "      <td>0.0</td>\n",
       "      <td>...</td>\n",
       "      <td>0.0</td>\n",
       "      <td>0.0</td>\n",
       "      <td>0.0</td>\n",
       "      <td>0.0</td>\n",
       "      <td>0.0</td>\n",
       "      <td>24.0</td>\n",
       "      <td>0.0</td>\n",
       "      <td>20.0</td>\n",
       "      <td>37.0</td>\n",
       "      <td>2.0</td>\n",
       "    </tr>\n",
       "    <tr>\n",
       "      <th>4</th>\n",
       "      <td>0.0</td>\n",
       "      <td>0.0</td>\n",
       "      <td>18.0</td>\n",
       "      <td>0.0</td>\n",
       "      <td>32.0</td>\n",
       "      <td>0.0</td>\n",
       "      <td>0.0</td>\n",
       "      <td>1.0</td>\n",
       "      <td>0.0</td>\n",
       "      <td>0.0</td>\n",
       "      <td>...</td>\n",
       "      <td>0.0</td>\n",
       "      <td>0.0</td>\n",
       "      <td>0.0</td>\n",
       "      <td>0.0</td>\n",
       "      <td>0.0</td>\n",
       "      <td>24.0</td>\n",
       "      <td>15.0</td>\n",
       "      <td>34.0</td>\n",
       "      <td>0.0</td>\n",
       "      <td>14.0</td>\n",
       "    </tr>\n",
       "  </tbody>\n",
       "</table>\n",
       "<p>5 rows × 31 columns</p>\n",
       "</div>"
      ],
      "text/plain": [
       "   SP@Platform_2600  SP@Platform_3DO  SP@Platform_3DS  SP@Platform_DC  \\\n",
       "0               0.0              0.0             18.0             0.0   \n",
       "1               0.0              0.0              1.0             0.0   \n",
       "2               0.0              0.0             18.0             0.0   \n",
       "3              54.0              0.0              1.0             0.0   \n",
       "4               0.0              0.0             18.0             0.0   \n",
       "\n",
       "   SP@Platform_DS  SP@Platform_GB  SP@Platform_GBA  SP@Platform_GC  \\\n",
       "0            32.0             0.0              0.0             1.0   \n",
       "1             9.0             0.0              1.0             4.0   \n",
       "2            32.0             0.0              0.0             1.0   \n",
       "3            36.0             0.0             44.0            18.0   \n",
       "4            32.0             0.0              0.0             1.0   \n",
       "\n",
       "   SP@Platform_GEN  SP@Platform_GG  ...  SP@Platform_SAT  SP@Platform_SCD  \\\n",
       "0              0.0             0.0  ...              0.0              0.0   \n",
       "1              0.0             0.0  ...              0.0              0.0   \n",
       "2              0.0             0.0  ...              0.0              0.0   \n",
       "3              0.0             0.0  ...              0.0              0.0   \n",
       "4              0.0             0.0  ...              0.0              0.0   \n",
       "\n",
       "   SP@Platform_SNES  SP@Platform_TG16  SP@Platform_WS  SP@Platform_Wii  \\\n",
       "0               0.0               0.0             0.0             24.0   \n",
       "1               0.0               0.0             0.0              8.0   \n",
       "2               0.0               0.0             0.0             24.0   \n",
       "3               0.0               0.0             0.0             24.0   \n",
       "4               0.0               0.0             0.0             24.0   \n",
       "\n",
       "   SP@Platform_WiiU  SP@Platform_X360  SP@Platform_XB  SP@Platform_XOne  \n",
       "0              15.0              34.0             0.0              14.0  \n",
       "1               0.0               8.0             8.0               0.0  \n",
       "2              15.0              34.0             0.0              14.0  \n",
       "3               0.0              20.0            37.0               2.0  \n",
       "4              15.0              34.0             0.0              14.0  \n",
       "\n",
       "[5 rows x 31 columns]"
      ]
     },
     "metadata": {},
     "output_type": "display_data"
    }
   ],
   "source": [
    "block = PublisherCountBlock(whole_df)\n",
    "assert len(block.fit(train_df)) == len(train_df)\n",
    "display( block.fit(train_df).head())"
   ]
  },
  {
   "cell_type": "markdown",
   "metadata": {},
   "source": [
    "### Developerを分解してOne-Hot-Encoding（使っていない）"
   ]
  },
  {
   "cell_type": "code",
   "execution_count": 33,
   "metadata": {},
   "outputs": [],
   "source": [
    "import itertools\n",
    "from sklearn.preprocessing import MultiLabelBinarizer\n",
    "\n",
    "class DeveloperOHBlock(BaseBlock):\n",
    "    def __init__(self, whole_df, min_count=20):\n",
    "        self.whole_df = whole_df\n",
    "        self.min_count = min_count\n",
    "    \n",
    "    def fit(self, input_df):\n",
    "        self.whole_df['Developer_S'] = self.whole_df['Developer'].str.split(', ')\n",
    "        whole_developers = pd.Series(list(itertools.chain.from_iterable(self.whole_df['Developer_S'].fillna('').values)))\n",
    "        whole_developers = whole_developers.value_counts()\n",
    "        all_developers = whole_developers[whole_developers > self.min_count].index\n",
    "        \n",
    "        self.mlb = MultiLabelBinarizer()\n",
    "        self.mlb.fit([list(all_developers)])\n",
    "        \n",
    "        temp_df = input_df.copy()\n",
    "        temp_df['Developer_S'] = temp_df['Developer'].str.split(', ')\n",
    "        out_df = pd.DataFrame(self.mlb.transform(temp_df['Developer_S'].fillna('').values), columns=self.mlb.classes_).add_prefix('Developer_Count_')\n",
    "        return out_df\n",
    "    \n",
    "    def transform(self, input_df):\n",
    "        temp_df = input_df.copy()\n",
    "        temp_df['Developer_S'] = temp_df['Developer'].str.split(', ')\n",
    "        out_df = pd.DataFrame(self.mlb.transform(temp_df['Developer_S'].fillna('').values), columns=self.mlb.classes_).add_prefix('Developer_Count_')\n",
    "        return out_df"
   ]
  },
  {
   "cell_type": "code",
   "execution_count": 34,
   "metadata": {},
   "outputs": [
    {
     "name": "stderr",
     "output_type": "stream",
     "text": [
      "C:\\Users\\akira.shirahama\\Anaconda3\\envs\\kaggle_workspace\\lib\\site-packages\\sklearn\\preprocessing\\_label.py:994: UserWarning: unknown class(es) ['10tacle Studios', '1C', '1C Company', '1C:Ino-Co', '1st Playable Productions', '2015', '2D Boy', '2K Australia', '2K Czech', '2K Games', '2K Marin', '2K Play', '2K Shanghai', '2K Sports', '2XL Games', '343 Industries', '3D Realms', '3DO', '3G Studios', '3d6 Games', '49Games', '4A Games', '4J Studios', '5TH Cell', '5pb', '7 Studios', '777 Studios', '8Monkey Labs', '8ing/Raizing', 'AI', 'AQ Interactive', 'AWE Games', 'Access Games', 'Acquire', 'Activision Value', 'Adrenium', 'Agatsuma Entertainment', 'Agenda', 'Airtight Games', 'Akella', 'Alawar Entertainment', 'Alfa System', 'Alphadream Corporation', 'Alternative Software', 'Ambrella', 'Amedio', 'Amusement Vision', 'Amuze', 'Anchor', 'Angel Studios', 'Anino Entertainment', 'ApolloSoft', 'Appaloosa Interactive', 'Aqua Pacific', 'Aqua Plus', 'Arcade Moon', 'Argonaut Games', 'Arika', 'Arkane Studios', 'Armature Studio', 'Arrowhead Game Studios', 'Art', 'Art Co.', 'Artdink', 'ArtePiazza', 'Artech Studios', 'Artefacts Studio', 'Artoon', 'Arzest', 'Ascaron Entertainment GmbH', 'Asmik Ace Entertainment', 'Asobo Studio', 'Aspect', 'Aspyr', 'Astroll', 'Atari', 'Atari SA', 'Atlus Co.', 'Atomic Games', 'Atomic Planet Entertainment', 'Attention To Detail', 'Attractive Games', 'Autumn Moon', 'Avalanche Studios', 'Avanquest Software', 'Avit-Niigata', 'Awesome Play Ltd.', 'Awesome Studios', 'Axis Entertainment', 'B-Alive', 'BIP Games', 'Babylon Software', 'Backbone Emeryville', 'Bam Entertainment', 'Bandai', 'Banpresto', 'Barking Lizards', 'Barnhouse Effect', 'BattleGoat Studios', 'Battlefront.com', 'BeeWorks', 'Beep Industries', 'Behaviour Interactive', 'Best Way', 'Bethesda Game Studios', 'Bethesda Softworks', 'Beyond Games', 'Big Ant Studios', 'Big Blue Box', 'Big Blue Bubble Inc.', 'Big Blue Entertainment', 'Big Fish Games', 'Big Head Games Ltd.', 'Big Huge Games', 'Big John Games', 'Big Red Button Entertainment', 'Big Sky Software', 'Big Time Software', 'BigPark', 'Bigben Interactive', 'Bigbig Studios', 'Bionic Games', 'Bit Town', 'Bits Studios', 'Bizarre Creations', 'Black Box', 'Black Ops Entertainment', 'Black Rock Studio', 'Black Ship Games', 'Blade Interactive', 'Blast! Entertainment Ltd', 'Blitz Games Studios', 'Blizzard North', 'Blue 52', 'Blue Castle Games', 'Blue Fang Games', 'Blue Planet Software', 'Blue Shift', 'Blue Tongue', 'Blue Tongue Entertainment', 'Bluepoint Games', 'Blueshift', 'Blueside', 'Bohemia Interactive', 'Boomzap', 'Boston Animation', 'BottleRocket Entertainment', 'Boxed Dream', 'Brain Toys', 'Brainbox Games', 'Brash Entertainment', 'Breakthrough New Media', 'Brownie Brown', 'BudCat', 'Buddiez', 'Buena Vista Games', 'Buena Vista Interactive', 'Bugbear', 'Buka Entertainment', 'Bullets', 'Bungie', 'Bungie Software', 'CAProduction', 'CCP', 'CD Projekt', 'CD Projekt Localisation Centre', 'CD Projekt Red Studio', 'CUBETYPE', 'Camelot Software Planning', 'Camouflaj', 'Capcom Vancouver', 'Career Soft', 'Cat Daddy Games', 'Cattle Call', 'Cave', 'Cave Barn', 'Cavia Inc.', 'Celeris', 'Cerasus Media', 'Chris Sawyer', 'ChunSoft', 'CiRCLE', 'Cinegroupe', 'Cinemaware', 'Cing', 'Circus Freak', 'Clap Hanz', 'Climax Entertainment', 'Climax Studios', 'Clover Studio', 'CodeFire', 'Codo Games', 'Coffee Stain Studios', 'Cohort Studios', 'CokeM Interactive', 'Coldwood Interactive', 'Collision Studios', 'Colossal Order', 'Compile Heart', 'Compulsion Games', 'Computer Artworks', 'Conspiracy Entertainment', 'Cooking Mama Limited', 'Coresoft', 'Cowboy Rodeo', 'Coyote Console', 'Coyote Developments', 'Crafts & Meister', 'Cranky Pants Games', 'Crawfish Interactive', 'Crea-Tech', 'Creat Studios', 'Creations', 'Creatures Inc.', 'Crenetic Studios', \"Crispy's\", 'Croteam', 'Cryptic Studios', 'Crytek', 'Culture Brain', 'Cunning Developments', 'Curious Pictures', 'Curly Monsters', 'Cyan Worlds', 'Cyanide', 'Cyanide Studios', 'Cyber Planet', 'Cyberlore Studios', 'Cygames', 'D3Publisher', 'DC Studios', 'DMA Design', 'DONTNOD Entertainment', 'DTP Entertainment', 'Dancing Dots', 'Data Design Interactive', 'David A. Palmer Productions', 'Day 1 Studios', 'Deck 13', 'Deep Fried Entertainment', 'Deep Red', 'Deep Space', 'Deibus Studios', 'Demiurge Studios', 'Design Factory', 'Destination Software', 'Destineer', 'DiP Interactive', 'Digital Anvil', 'Digital Embryo', 'Digital Extremes', 'Digital Fiction', 'Digital Illusions', 'Digital Leisure Inc.', 'Dingo Inc.', 'Direct Action Games', 'Disney Interactive', 'Disney Interactive Studios', 'Dorasu', 'Double Eleven', 'Double Fine Productions', 'DoubleTap Games', 'Doublesix', 'DreamFactory', 'DreamRift', 'Dreamcatcher', 'Dusenberry Martin Racing', 'EA Mythic', 'ECI', 'EKO Software', 'Easy Interactive', 'Eden', 'Eden Studios', 'Edge of Reality', 'Egosoft', 'Eiconic Games', 'Eidos Montreal', 'Eighting', 'Elixir Studios', 'Empire Oxford', 'Empty Clip Studios', 'Engine Software', 'EnjoyUp Games', 'Ensemble Studios', 'Entersphere', 'Entertainment Analysis & Development Division', 'Epic Games', 'Epicenter Studios', 'Epics', 'Etranges Libellules', 'Eugen Systems', 'Evolution Games', 'Evolution Studios', 'Examu', 'Experience Inc.', 'Extra Mile Studios', 'F84 Games', 'FASA Studio', 'Factor 5', 'Falcom', 'Fall Line Studio', 'Farsight Studios', 'FeelPlus', 'Firaxis Games', 'FireFly Studios', 'Firebrand Games', 'Fizz Factor', 'Flagship', 'Flight-Plan', 'Fluid Studios', 'Flying Lab Software', 'Foreign Media', 'Frame Studios Interactive', 'FreeStyleGames', 'French-Bread', 'Frima Studio', 'Frogwares', 'FrontLine Studios', 'Frontier Developments', 'Frozenbyte', 'FuRyu', 'Full Fat', 'Funcom', 'Fuse Games Limited', 'Fusionsphere Systems', 'G-Artists', 'G1M2', 'GCREST', 'GREZZO', 'GRIN', 'GSC Game World', 'Gaia (Sony)', 'Gaijin Entertainment', 'Game Arts', 'Game Freak', 'Game Machine Studios', 'Game Republic', 'GameCo', 'GameMill Publishing', 'Gameinvest', 'Gaming Minds Studios', 'Ganbarion', 'Gas Powered Games', 'Genius Sonority Inc.', 'Genki', 'Genuine Games', 'Giants Software', 'Gimagin Games', 'Global Star Software', 'GlyphX Games', 'Glyphic Entertainment', 'Gogii Games', 'Good Science Studio', 'Good-Feel', 'Gorilla Games', 'Gorilla Systems', 'Goshow', 'Graffiti Entertainment', 'Graphic Research', 'Graphic State', 'Grasshopper Manufacture', 'Guerilla Cambridge', 'Guerrilla', 'Gulti', 'Gust', 'Gusto Games', 'HAL Labs', 'Haemimont', 'Halfbrick Studios', 'HandMade Game', 'Handheld Games', 'Hangar 13', 'Happy Happening', 'Hasbro Interactive', 'Headfirst Productions', 'Headstrong Games', 'Headup Games', 'Helixe', 'Hellbent Games', 'Her Interactive', 'HexaDrive', 'High Impact Games', 'High Moon Studios', 'Hijinx Studios', 'Hit Maker', 'Hitmaker', 'Hot Lava Games', 'HotGen', 'Housemarque', 'Hudson', 'Hudson Entertainment', 'Hudson Soft', 'Humagade', 'Human Head Studios', 'Human Soft', 'Humongous Entertainment', 'Hyde', 'Hydravision', 'Hyper-Devbox', 'Hyperspace Cowgirls', 'Hypnotix', 'I-Imagine', 'ITL', 'Ice-Pick Lodge', 'Icon Games', 'Idea Factory', 'Idol Minds', 'Ignition Entertainment', 'Illusion Softworks', 'Image Epoch', 'Imageepoch', 'ImaginEngine', 'Impressions Games', 'Impulse Games', 'In2Games', 'InLight Entertainment', 'InXile Entertainment', 'Inc', 'Incinerator Games', 'Incognito Inc.', 'Indie Built', 'Indies Zero', 'Inevitable Entertainment', 'Infinite Dreams', 'Infinite Interactive', 'Infinite Machine', 'Ino-Co', 'Insomniac Games', 'Intelligent Systems', 'InterActive Vision Games', 'InterServ International', 'Interactive Brains', 'Interchannel', 'Interchannel-Holon', 'Inti', 'Inti Creates', 'Irem', 'Iridon Interactive AB', 'Iron Galaxy Studios', 'Iron Lore Entertainment', 'IronNos Co.,Ltd.', 'Ironclad Games', 'Irrational Games', 'Ivolgamus', 'Jaleco Entertainment', 'JapanStudio', 'Jellyvision', 'Jester Interactive', 'Jet Black Games', 'Joindots', 'Juice Games', 'Junction Point', 'Jupiter Corporation', 'Jupiter Multimedia', 'Just Add Monsters', 'K2', 'K2 LLC', 'KING Art', 'Kadokawa', 'Kalypso', 'Kando Games', 'Kaos Studios', 'Kat Games', 'Keen Games', 'Kemco', 'King of the Jungle', 'Klein Computer Entertainment', 'Knockout Games', 'Knowledge Adventure Inc.', 'Kodiak Interactive', 'Koei Canada', 'Koei Tecmo Games', 'Koei/Inis', 'Kokolo Corporation', 'Kouyousha', 'Kuju Entertainment', 'Kung Fu Factory', 'Kunos Simulazioni', 'LDW', 'LLC', 'LSP', 'Lab Rats Games', 'Lancarse', 'Larian Studios', 'Lda', 'Lead Pursuit', 'Left Field Productions', 'Legacy Interactive', 'Level 5', 'Light Weight', 'LightBox Interactive', 'Lionhead Studios', 'Liquid Entertainment', 'Locomotive Games', 'Logris Games', 'Lost Toys', 'Ltd.', 'Lucas Learning', 'Lucky Chicken', 'Ludia Inc.', 'M2', 'M4 Limited', 'MBA International', 'MTO', 'Mac Play', 'MacPlay', 'Machatin', 'MachineGames', 'Mad Catz', 'Mad Doc Software', 'Magellan Interactive', 'Magenta Software', 'Magic Pixel Games', 'Magic Rings', 'Magicpot', 'Magnin & Associates', 'Majesco', 'Majesco Games', 'Marvelous', 'Marvelous AQL', 'Marvelous Inc.', 'Mass Media', 'Massive Entertainment', 'Mastertronic', 'Matrix Software', 'Maximum Family Games', 'Maximum Games', 'Media Molecule', 'Media Vision', 'Mediascape', 'Melbourne House', 'Melesta', 'Merscom LLC', 'Metanet Software Inc.', 'Metia Interactive', 'Metro', 'Metro Graphics', 'Micro Cabin', 'MicroProse', 'Microids', 'Microsoft Game Studios', 'Microsoft Game Studios Japan', 'Mikoishi', 'MileStone Inc.', 'Milestone', 'Million', 'Mindscape', 'Mindscape Inc.', 'Mistic Software', 'Mistwalker', 'Mitchell', 'Mobius Entertainment', 'Monkey Bar Games', 'Monolith Productions', 'Monolith Soft', 'Monster Games Inc.', 'Monte Cristo Multimedia', 'Monumental Games', 'Moss', 'Most Wanted Entertainment', 'Mud Duck Productions', 'Multimedia Intelligence Transfer', 'MumboJumbo', 'N-Fusion Interactive Entertainment Corp.', 'NATSUME ATARI Inc.', 'NEC Interchannel', 'Namco Bandai Games America', 'NanaOn-Sha', 'Naps Team', 'Naughty Dog', 'Nautilus', 'Nd Cube', 'Neko Entertainment', 'Neopica', 'NetherRealm Studios', 'Neverland', 'Nex Entertainment', 'Next Entertainment', 'Next Level Games', 'Nicalis', 'Nihilistic', 'Nikitova Games', 'Ninja Studio', 'Ninja Theory', 'Nintendo EAD Tokyo', 'Nintendo Software Technology', 'Nitro Games', 'Nixxes Software', 'NoWay Studio', 'Nobilis', 'Noise Factory', 'Noise Inc.', 'Novarama', 'Ntreev Soft', 'Number None Inc.', 'Nvizzio Creations', 'O-Games', 'Obsidian Entertainment', 'Oddworld Inhabitants', 'Office Create', 'OfficeCreate', 'One Man Band', 'OneNine Studios', 'Opus', 'Opus Studio', 'Ornith', 'Other Ocean Interactive', 'Otomate', 'Outrage Games', 'Overkill Software', 'Overworks', 'Oxygen Interactive', 'PLAYGROUND', 'Pacific Coast Power & Light', 'Page 44 Studios', 'Pam Development', 'Panic Button', 'Paon Corporation', 'Papaya Studios', 'Papyrus', 'Paradigm Entertainment', 'Paradox Development Studio', 'Paradox Interactive', 'Paragon 5', 'Pax Softonica', 'Pendulo Studios', 'Performance Designed Products', 'Petroglyph', 'Phenomedia', 'Phosphor Games Studio', 'Pinegrow', 'Pipe Dream Interactive', 'Pipeworks Software', 'Pitbull Syndicate', 'Planet Interactive', 'Planet Moon Studios', 'Platinum Egg', 'Playground Games', 'Playrix Entertainment', 'Pocket Studios', 'Polygon Magic', 'Polyphony Digital', 'PopTop Software', 'Powerhead Games', 'Project Aces', 'Project Sora', 'Prolific', 'Pronto Games', 'Propaganda Games', 'Prope', 'Pseudo Interactive', 'Psyonix', 'Punchline', 'Purple Hills', 'Pyramid', 'Pyro Studios', 'Q Entertainment', 'Q-Games', 'QLOC', 'Quantic Dream', 'Quest', 'RED Entertainment', 'RFX Interactive', 'Racjin', 'Radius9', 'Rage Software', 'Rare Ltd.', 'Ratbag', 'Raven Software', 'Ravenscourt', 'Razorback Developments', 'Razorworks Studios', 'Re-Logic', 'Reactor Zero', 'Ready at Dawn', 'Realism Ltd', 'Realmforge Studios', 'Realtime Worlds', 'Red 5 Software', 'Red Fly Studio', 'Red Tribe', 'Red Wagon Games', 'Red Zone Entertainment', 'RedLynx', 'Reflections Interactive', 'Relic', 'Reloaded Games Inc.', 'Reloaded Productions', 'Remedy Entertainment', 'Renegade Kid', 'Retro Studios', 'Revolution Software', 'Rockstar Leeds', 'Rockstar London', 'Rockstar North', 'Rockstar San Diego', 'Rockstar Studios', 'Rockstar Toronto', 'Rockstar Vancouver', 'Rockstar Vienna', 'Rocksteady Studios', 'Rovio Entertainment', 'Rovio Mobile', 'Ruffian Games', 'Runecraft', 'Russia', 'Ryu ga Gotoku Studios', 'S-Neo', 'SCE Japan Studio', 'SCE Santa Monica', 'SCE Studio Cambridge', 'SCE/WWS', 'SCEA', 'SCEA Sports Studio', 'SCEE', 'SCEI', 'SCEJ', 'SCS Software', 'SEGA Racing Studio', 'SME Dynamic Systems Limited', 'SNK', 'Sabarasa Entertainment', 'Saber Interactive', 'Saffire', 'Sand Grain Studios', 'Sandlot', 'Sandlot Games', 'Santa Cruz Games', 'Santa Entertainment', 'Sanuk Games', 'Sanuk Software Co.', 'Sanzaru Games', 'Sarbakan Inc.', 'Savage Entertainment', 'Scientifically Proven', 'Screenlife Games', 'Seamless Entertainment', 'Secret Level', 'Seed Studios', 'Sega AM2', 'Sega AM3', 'Sega Studios San Francisco', 'Sennari Interactive', 'Sensory Sweep', 'Seta Corporation', 'Shift', \"Shin'en\", 'Shiny Entertainment', 'Shirogumi', 'Silicon Knights', 'Silicon Studio', 'Silver Wish Games', 'SilverBirch Studios', 'SimBin', 'Simon & Schuster', 'Sims', 'Skonec', 'SkyRiver Studios', 'Skyworks Technologies', 'Slam Games', 'Slant Six', 'Smack Down Productions', 'Small Rockets', 'Smilebit', 'Snapdragon', 'Snowblind Studios', 'Societe Pollene', 'SoftMax', 'SolWorks', 'Sonic Powered', 'Sony Bend', 'Sony Interactive Entertainment', 'SouthPeak Games', 'Spark Unlimited', 'Spiders', 'Spidersoft', 'Spike', 'Spike Chunsoft', 'Spike Chunsoft Co. Ltd.', 'Splash Damage', 'Sports Interactive', 'SquareSoft', 'Squashy Software', 'Stainless Games', 'Stainless Steel Studios', 'Stalker Entertainment', 'Starbreeze', 'Starfish', 'Starfish SD', 'Starsphere Interactive', 'Steel Monkeys', 'Sting', 'Storm City Games', 'Stormfront Studios', 'Stormregion', 'Studio 33', 'Studio Archcraft', 'Studio Gigante', 'Studio Liverpool', 'Studio Saizensen', 'StudioBlack Games', 'Success', 'Sucker Punch', 'SunSoft', 'Sunflowers Interactive', 'Super Empire', 'Super X Studios', 'SuperBot Entertainment', 'SuperMassive Games', 'SuperVillain Studios', 'Supersonic Software', 'Surreal Software', 'Suzak', \"Swingin' Ape\", 'Swordfish Studios', 'Synetic', 'Syscom', 'System 3', 'System Prisma', 'T&E Soft', 'TDK Mediactive', 'THQ Australia', 'THQ Digital Studio Phoenix', 'TML-Studios', 'TT Fusion', 'Tabot', 'Tactical Development', 'Takara', 'Takara Tomy', 'Take-Two Interactive', 'Tamsoft', 'Tango Gameworks', 'Taniko', 'Tantalus Interactive', 'Tantatus', 'Targem Games', 'Tarsier Studios', 'Team Bondi', 'Team Ninja', 'Team Soho', 'Team6 Game Studios', 'Techland', 'Tecmo Koei Canada', 'Tecmo Koei Games', 'Tectonic Studios', 'Telltale Games', 'Tenyo', 'Tetris Online', 'Teyon', 'ThatGameCompany', 'The Behemoth', 'The Coalition', 'The Code Monkeys', 'The Fun Pimps Entertainment LLC', 'The Pokemon Company', 'The Tangentlemen', 'The Workshop', 'Think and Feel', 'Tigon', 'Tilted Mill', 'TimeGate Studios', 'Titus Software', 'Tiwak', 'Toka', 'Tom Create', 'Tommo', 'Tomy Corporation', 'Tornado Studios', 'Totally Games', 'Touchdown Entertainment', 'Tragnarion Studios', 'Tranji', 'Treasure', 'Tri-Ace', 'Tri-Crescendo', 'Turn 10', 'Turtle Rock Studios', 'Twelve Games', 'Twisted Pixel Games', 'Two Tribes', 'UFO Interactive', 'UGA', 'Unigine Corp', 'United Coders', 'United Front Games', 'Universomo', 'V5 Play Studio', 'VIS Entertainment', 'VSTEP', 'Valcon Games', 'Valhalla Game Studios', 'ValuSoft', 'Valuewave Co.,Ltd.', 'Valve Software', 'Vanguard', 'Vanilla Ware', 'Vanillaware', 'Various', 'Velez & Dubail', 'Venom Games', 'Vigil Games', 'Vingt-et-un Systems', 'Vir2L Studios', 'Virtual Play Inc.', 'Virtual Toys', 'Virtucraft', 'Visual Impact', 'Vivarium', 'Vivendi Games', 'Vogster', 'Void Productions', 'WB Games Montreal', 'WXP', 'Walt Disney Japan', 'War Drum Studios', 'Warashi', 'Wargaming.net', 'Warner Bros. Interactive Entertainment', 'Warthog', 'Webfoot Technologies', 'White Birds Productions', 'Wicked Studios', 'Wicked Witch Software', 'Wide Games', 'Wideload Games Inc.', 'WildTangent', 'Wildfire Studios', 'Will', 'Wizarbox', 'Wizardry Engineering', 'WorkJam', 'Wow Entertainment', 'XS Games', 'Xpec', 'Yacht Club Games', 'Yager', \"Yuke's Company of America\", 'Zed Two Limited', 'Zen Studios', 'Zener Works', 'ZeniMax Media', 'Zerodiv', 'Zindagi Games', 'Zipper Interactive', 'Zoe Mode', 'Zombie', 'Zombie Studios', 'Zoo Games', 'comcept', 'eGames', 'h.a.n.d. Inc.', 'iNiS', 'iRock Interactive', 'iWin', 'id Software', 'neo Software', 'odenis studio', 'oeFun', 'syn Sophia', 'zSlide'] will be ignored\n",
      "  warnings.warn('unknown class(es) {0} will be ignored'\n",
      "C:\\Users\\akira.shirahama\\Anaconda3\\envs\\kaggle_workspace\\lib\\site-packages\\sklearn\\preprocessing\\_label.py:994: UserWarning: unknown class(es) ['10tacle Studios', '1C', '1C Company', '1C:Ino-Co', '1st Playable Productions', '2015', '2D Boy', '2K Australia', '2K Czech', '2K Games', '2K Marin', '2K Play', '2K Shanghai', '2K Sports', '2XL Games', '343 Industries', '3D Realms', '3DO', '3G Studios', '3d6 Games', '49Games', '4A Games', '4J Studios', '5TH Cell', '5pb', '7 Studios', '777 Studios', '8Monkey Labs', '8ing/Raizing', 'AI', 'AQ Interactive', 'AWE Games', 'Access Games', 'Acquire', 'Activision Value', 'Adrenium', 'Agatsuma Entertainment', 'Agenda', 'Airtight Games', 'Akella', 'Alawar Entertainment', 'Alfa System', 'Alphadream Corporation', 'Alternative Software', 'Ambrella', 'Amedio', 'Amusement Vision', 'Amuze', 'Anchor', 'Angel Studios', 'Anino Entertainment', 'ApolloSoft', 'Appaloosa Interactive', 'Aqua Pacific', 'Aqua Plus', 'Arcade Moon', 'Argonaut Games', 'Arika', 'Arkane Studios', 'Armature Studio', 'Arrowhead Game Studios', 'Art', 'Art Co.', 'Artdink', 'ArtePiazza', 'Artech Studios', 'Artefacts Studio', 'Artoon', 'Arzest', 'Ascaron Entertainment GmbH', 'Asmik Ace Entertainment', 'Asobo Studio', 'Aspect', 'Aspyr', 'Astroll', 'Atari', 'Atari SA', 'Atlus Co.', 'Atomic Games', 'Atomic Planet Entertainment', 'Attention To Detail', 'Attractive Games', 'Autumn Moon', 'Avalanche Studios', 'Avanquest Software', 'Avit-Niigata', 'Awesome Play Ltd.', 'Awesome Studios', 'Axis Entertainment', 'B-Alive', 'BIP Games', 'Babylon Software', 'Backbone Emeryville', 'Bam Entertainment', 'Bandai', 'Banpresto', 'Barking Lizards', 'Barnhouse Effect', 'BattleGoat Studios', 'Battlefront.com', 'BeeWorks', 'Beep Industries', 'Behaviour Interactive', 'Best Way', 'Bethesda Game Studios', 'Bethesda Softworks', 'Beyond Games', 'Big Ant Studios', 'Big Blue Box', 'Big Blue Bubble Inc.', 'Big Blue Entertainment', 'Big Fish Games', 'Big Head Games Ltd.', 'Big Huge Games', 'Big John Games', 'Big Red Button Entertainment', 'Big Sky Software', 'Big Time Software', 'BigPark', 'Bigben Interactive', 'Bigbig Studios', 'Bionic Games', 'Bit Town', 'Bits Studios', 'Bizarre Creations', 'Black Box', 'Black Ops Entertainment', 'Black Rock Studio', 'Black Ship Games', 'Blade Interactive', 'Blast! Entertainment Ltd', 'Blitz Games Studios', 'Blizzard North', 'Blue 52', 'Blue Castle Games', 'Blue Fang Games', 'Blue Planet Software', 'Blue Shift', 'Blue Tongue', 'Blue Tongue Entertainment', 'Bluepoint Games', 'Blueshift', 'Blueside', 'Bohemia Interactive', 'Boomzap', 'Boston Animation', 'BottleRocket Entertainment', 'Boxed Dream', 'Brain Toys', 'Brainbox Games', 'Brash Entertainment', 'Breakthrough New Media', 'Brownie Brown', 'BudCat', 'Buddiez', 'Buena Vista Games', 'Buena Vista Interactive', 'Bugbear', 'Buka Entertainment', 'Bullets', 'Bungie', 'Bungie Software', 'CAProduction', 'CCP', 'CD Projekt', 'CD Projekt Localisation Centre', 'CD Projekt Red Studio', 'CUBETYPE', 'Camelot Software Planning', 'Camouflaj', 'Capcom Vancouver', 'Career Soft', 'Cat Daddy Games', 'Cattle Call', 'Cave', 'Cave Barn', 'Cavia Inc.', 'Celeris', 'Cerasus Media', 'Chris Sawyer', 'ChunSoft', 'CiRCLE', 'Cinegroupe', 'Cinemaware', 'Cing', 'Circus Freak', 'Clap Hanz', 'Climax Entertainment', 'Climax Studios', 'Clover Studio', 'CodeFire', 'Codo Games', 'Coffee Stain Studios', 'Cohort Studios', 'CokeM Interactive', 'Coldwood Interactive', 'Collision Studios', 'Colossal Order', 'Compile Heart', 'Compulsion Games', 'Computer Artworks', 'Conspiracy Entertainment', 'Cooking Mama Limited', 'Coresoft', 'Cowboy Rodeo', 'Coyote Console', 'Coyote Developments', 'Crafts & Meister', 'Cranky Pants Games', 'Crawfish Interactive', 'Crea-Tech', 'Creat Studios', 'Creations', 'Creatures Inc.', 'Crenetic Studios', \"Crispy's\", 'Croteam', 'Cryptic Studios', 'Crytek', 'Culture Brain', 'Cunning Developments', 'Curious Pictures', 'Curly Monsters', 'Cyan Worlds', 'Cyanide', 'Cyanide Studios', 'Cyber Planet', 'Cyberlore Studios', 'Cygames', 'D3Publisher', 'DC Studios', 'DMA Design', 'DONTNOD Entertainment', 'DTP Entertainment', 'Dancing Dots', 'Data Design Interactive', 'David A. Palmer Productions', 'Day 1 Studios', 'Deck 13', 'Deep Fried Entertainment', 'Deep Red', 'Deep Space', 'Deibus Studios', 'Demiurge Studios', 'Design Factory', 'Destination Software', 'Destineer', 'DiP Interactive', 'Digital Anvil', 'Digital Embryo', 'Digital Extremes', 'Digital Fiction', 'Digital Illusions', 'Digital Leisure Inc.', 'Dingo Inc.', 'Direct Action Games', 'Disney Interactive', 'Disney Interactive Studios', 'Dorasu', 'Double Eleven', 'Double Fine Productions', 'DoubleTap Games', 'Doublesix', 'DreamFactory', 'DreamRift', 'Dreamcatcher', 'Dusenberry Martin Racing', 'EA Mythic', 'ECI', 'EKO Software', 'Easy Interactive', 'Eden', 'Eden Studios', 'Edge of Reality', 'Egosoft', 'Eiconic Games', 'Eidos Montreal', 'Eighting', 'Elixir Studios', 'Empire Oxford', 'Empty Clip Studios', 'Engine Software', 'EnjoyUp Games', 'Ensemble Studios', 'Entersphere', 'Entertainment Analysis & Development Division', 'Epic Games', 'Epicenter Studios', 'Epics', 'Etranges Libellules', 'Eugen Systems', 'Evolution Games', 'Evolution Studios', 'Examu', 'Experience Inc.', 'Extra Mile Studios', 'F84 Games', 'FASA Studio', 'Factor 5', 'Falcom', 'Fall Line Studio', 'Farsight Studios', 'FeelPlus', 'Firaxis Games', 'FireFly Studios', 'Firebrand Games', 'Fizz Factor', 'Flagship', 'Flight-Plan', 'Fluid Studios', 'Flying Lab Software', 'Foreign Media', 'Frame Studios Interactive', 'FreeStyleGames', 'French-Bread', 'Frima Studio', 'Frogwares', 'FrontLine Studios', 'Frontier Developments', 'Frozenbyte', 'FuRyu', 'Full Fat', 'Funcom', 'Fuse Games Limited', 'Fusionsphere Systems', 'G-Artists', 'G1M2', 'GCREST', 'GREZZO', 'GRIN', 'GSC Game World', 'Gaia (Sony)', 'Gaijin Entertainment', 'Game Arts', 'Game Freak', 'Game Machine Studios', 'Game Republic', 'GameCo', 'GameMill Publishing', 'Gameinvest', 'Gaming Minds Studios', 'Ganbarion', 'Gas Powered Games', 'Genius Sonority Inc.', 'Genki', 'Genuine Games', 'Giants Software', 'Gimagin Games', 'Global Star Software', 'GlyphX Games', 'Glyphic Entertainment', 'Gogii Games', 'Good Science Studio', 'Good-Feel', 'Gorilla Games', 'Gorilla Systems', 'Goshow', 'Graffiti Entertainment', 'Graphic Research', 'Graphic State', 'Grasshopper Manufacture', 'Guerilla Cambridge', 'Guerrilla', 'Gulti', 'Gust', 'Gusto Games', 'HAL Labs', 'Haemimont', 'Halfbrick Studios', 'HandMade Game', 'Handheld Games', 'Hangar 13', 'Happy Happening', 'Hasbro Interactive', 'Headfirst Productions', 'Headstrong Games', 'Headup Games', 'Helixe', 'Hellbent Games', 'Her Interactive', 'HexaDrive', 'High Impact Games', 'High Moon Studios', 'Hijinx Studios', 'Hit Maker', 'Hitmaker', 'Hot Lava Games', 'HotGen', 'Housemarque', 'Hudson', 'Hudson Entertainment', 'Hudson Soft', 'Humagade', 'Human Head Studios', 'Human Soft', 'Humongous Entertainment', 'Hyde', 'Hydravision', 'Hyper-Devbox', 'Hyperspace Cowgirls', 'Hypnotix', 'I-Imagine', 'ITL', 'Ice-Pick Lodge', 'Icon Games', 'Idea Factory', 'Idol Minds', 'Ignition Entertainment', 'Illusion Softworks', 'Image Epoch', 'Imageepoch', 'ImaginEngine', 'Impressions Games', 'Impulse Games', 'In2Games', 'InLight Entertainment', 'InXile Entertainment', 'Inc', 'Incinerator Games', 'Incognito Inc.', 'Indie Built', 'Indies Zero', 'Inevitable Entertainment', 'Infinite Dreams', 'Infinite Interactive', 'Infinite Machine', 'Ino-Co', 'Insomniac Games', 'Intelligent Systems', 'InterActive Vision Games', 'InterServ International', 'Interactive Brains', 'Interchannel', 'Interchannel-Holon', 'Inti', 'Inti Creates', 'Irem', 'Iridon Interactive AB', 'Iron Galaxy Studios', 'Iron Lore Entertainment', 'IronNos Co.,Ltd.', 'Ironclad Games', 'Irrational Games', 'Ivolgamus', 'Jaleco Entertainment', 'JapanStudio', 'Jellyvision', 'Jester Interactive', 'Jet Black Games', 'Joindots', 'Juice Games', 'Junction Point', 'Jupiter Corporation', 'Jupiter Multimedia', 'Just Add Monsters', 'K2', 'K2 LLC', 'KING Art', 'Kadokawa', 'Kalypso', 'Kando Games', 'Kaos Studios', 'Kat Games', 'Keen Games', 'Kemco', 'King of the Jungle', 'Klein Computer Entertainment', 'Knockout Games', 'Knowledge Adventure Inc.', 'Kodiak Interactive', 'Koei Canada', 'Koei Tecmo Games', 'Koei/Inis', 'Kokolo Corporation', 'Kouyousha', 'Kuju Entertainment', 'Kung Fu Factory', 'Kunos Simulazioni', 'LDW', 'LLC', 'LSP', 'Lab Rats Games', 'Lancarse', 'Larian Studios', 'Lda', 'Lead Pursuit', 'Left Field Productions', 'Legacy Interactive', 'Level 5', 'Light Weight', 'LightBox Interactive', 'Lionhead Studios', 'Liquid Entertainment', 'Locomotive Games', 'Logris Games', 'Lost Toys', 'Ltd.', 'Lucas Learning', 'Lucky Chicken', 'Ludia Inc.', 'M2', 'M4 Limited', 'MBA International', 'MTO', 'Mac Play', 'MacPlay', 'Machatin', 'MachineGames', 'Mad Catz', 'Mad Doc Software', 'Magellan Interactive', 'Magenta Software', 'Magic Pixel Games', 'Magic Rings', 'Magicpot', 'Magnin & Associates', 'Majesco', 'Majesco Games', 'Marvelous', 'Marvelous AQL', 'Marvelous Inc.', 'Mass Media', 'Massive Entertainment', 'Mastertronic', 'Matrix Software', 'Maximum Family Games', 'Maximum Games', 'Media Molecule', 'Media Vision', 'Mediascape', 'Melbourne House', 'Melesta', 'Merscom LLC', 'Metanet Software Inc.', 'Metia Interactive', 'Metro', 'Metro Graphics', 'Micro Cabin', 'MicroProse', 'Microids', 'Microsoft Game Studios', 'Microsoft Game Studios Japan', 'Mikoishi', 'MileStone Inc.', 'Milestone', 'Million', 'Mindscape', 'Mindscape Inc.', 'Mistic Software', 'Mistwalker', 'Mitchell', 'Mobius Entertainment', 'Monkey Bar Games', 'Monolith Productions', 'Monolith Soft', 'Monster Games Inc.', 'Monte Cristo Multimedia', 'Monumental Games', 'Moss', 'Most Wanted Entertainment', 'Mud Duck Productions', 'Multimedia Intelligence Transfer', 'MumboJumbo', 'N-Fusion Interactive Entertainment Corp.', 'NATSUME ATARI Inc.', 'NEC Interchannel', 'Namco Bandai Games America', 'NanaOn-Sha', 'Naps Team', 'Naughty Dog', 'Nautilus', 'Nd Cube', 'Neko Entertainment', 'Neopica', 'NetherRealm Studios', 'Neverland', 'Nex Entertainment', 'Next Entertainment', 'Next Level Games', 'Nicalis', 'Nihilistic', 'Nikitova Games', 'Ninja Studio', 'Ninja Theory', 'Nintendo EAD Tokyo', 'Nintendo Software Technology', 'Nitro Games', 'Nixxes Software', 'NoWay Studio', 'Nobilis', 'Noise Factory', 'Noise Inc.', 'Novarama', 'Ntreev Soft', 'Number None Inc.', 'Nvizzio Creations', 'O-Games', 'Obsidian Entertainment', 'Oddworld Inhabitants', 'Office Create', 'OfficeCreate', 'One Man Band', 'OneNine Studios', 'Opus', 'Opus Studio', 'Ornith', 'Other Ocean Interactive', 'Otomate', 'Outrage Games', 'Overkill Software', 'Overworks', 'Oxygen Interactive', 'PLAYGROUND', 'Pacific Coast Power & Light', 'Page 44 Studios', 'Pam Development', 'Panic Button', 'Paon Corporation', 'Papaya Studios', 'Papyrus', 'Paradigm Entertainment', 'Paradox Development Studio', 'Paradox Interactive', 'Paragon 5', 'Pax Softonica', 'Pendulo Studios', 'Performance Designed Products', 'Petroglyph', 'Phenomedia', 'Phosphor Games Studio', 'Pinegrow', 'Pipe Dream Interactive', 'Pipeworks Software', 'Pitbull Syndicate', 'Planet Interactive', 'Planet Moon Studios', 'Platinum Egg', 'Playground Games', 'Playrix Entertainment', 'Pocket Studios', 'Polygon Magic', 'Polyphony Digital', 'PopTop Software', 'Powerhead Games', 'Project Aces', 'Project Sora', 'Prolific', 'Pronto Games', 'Propaganda Games', 'Prope', 'Pseudo Interactive', 'Psyonix', 'Punchline', 'Purple Hills', 'Pyramid', 'Pyro Studios', 'Q Entertainment', 'Q-Games', 'QLOC', 'Quantic Dream', 'Quest', 'RED Entertainment', 'RFX Interactive', 'Racjin', 'Radius9', 'Rage Software', 'Rare Ltd.', 'Ratbag', 'Raven Software', 'Ravenscourt', 'Razorback Developments', 'Razorworks Studios', 'Re-Logic', 'Reactor Zero', 'Ready at Dawn', 'Realism Ltd', 'Realmforge Studios', 'Realtime Worlds', 'Red 5 Software', 'Red Fly Studio', 'Red Tribe', 'Red Wagon Games', 'Red Zone Entertainment', 'RedLynx', 'Reflections Interactive', 'Relic', 'Reloaded Games Inc.', 'Reloaded Productions', 'Remedy Entertainment', 'Renegade Kid', 'Retro Studios', 'Revolution Software', 'Rockstar Leeds', 'Rockstar London', 'Rockstar North', 'Rockstar San Diego', 'Rockstar Studios', 'Rockstar Toronto', 'Rockstar Vancouver', 'Rockstar Vienna', 'Rocksteady Studios', 'Rovio Entertainment', 'Rovio Mobile', 'Ruffian Games', 'Runecraft', 'Russia', 'Ryu ga Gotoku Studios', 'S-Neo', 'SCE Japan Studio', 'SCE Santa Monica', 'SCE Studio Cambridge', 'SCE/WWS', 'SCEA', 'SCEA Sports Studio', 'SCEE', 'SCEI', 'SCEJ', 'SCS Software', 'SEGA Racing Studio', 'SME Dynamic Systems Limited', 'SNK', 'Sabarasa Entertainment', 'Saber Interactive', 'Saffire', 'Sand Grain Studios', 'Sandlot', 'Sandlot Games', 'Santa Cruz Games', 'Santa Entertainment', 'Sanuk Games', 'Sanuk Software Co.', 'Sanzaru Games', 'Sarbakan Inc.', 'Savage Entertainment', 'Scientifically Proven', 'Screenlife Games', 'Seamless Entertainment', 'Secret Level', 'Seed Studios', 'Sega AM2', 'Sega AM3', 'Sega Studios San Francisco', 'Sennari Interactive', 'Sensory Sweep', 'Seta Corporation', 'Shift', \"Shin'en\", 'Shiny Entertainment', 'Shirogumi', 'Silicon Knights', 'Silicon Studio', 'Silver Wish Games', 'SilverBirch Studios', 'SimBin', 'Simon & Schuster', 'Sims', 'Skonec', 'SkyRiver Studios', 'Skyworks Technologies', 'Slam Games', 'Slant Six', 'Smack Down Productions', 'Small Rockets', 'Smilebit', 'Snapdragon', 'Snowblind Studios', 'Societe Pollene', 'SoftMax', 'SolWorks', 'Sonic Powered', 'Sony Bend', 'Sony Interactive Entertainment', 'SouthPeak Games', 'Spark Unlimited', 'Spiders', 'Spidersoft', 'Spike', 'Spike Chunsoft', 'Spike Chunsoft Co. Ltd.', 'Splash Damage', 'Sports Interactive', 'SquareSoft', 'Squashy Software', 'Stainless Games', 'Stainless Steel Studios', 'Stalker Entertainment', 'Starbreeze', 'Starfish', 'Starfish SD', 'Starsphere Interactive', 'Steel Monkeys', 'Sting', 'Storm City Games', 'Stormfront Studios', 'Stormregion', 'Studio 33', 'Studio Archcraft', 'Studio Gigante', 'Studio Liverpool', 'Studio Saizensen', 'StudioBlack Games', 'Success', 'Sucker Punch', 'SunSoft', 'Sunflowers Interactive', 'Super Empire', 'Super X Studios', 'SuperBot Entertainment', 'SuperMassive Games', 'SuperVillain Studios', 'Supersonic Software', 'Surreal Software', 'Suzak', \"Swingin' Ape\", 'Swordfish Studios', 'Synetic', 'Syscom', 'System 3', 'System Prisma', 'T&E Soft', 'TDK Mediactive', 'THQ Australia', 'THQ Digital Studio Phoenix', 'TML-Studios', 'TT Fusion', 'Tabot', 'Tactical Development', 'Takara', 'Takara Tomy', 'Take-Two Interactive', 'Tamsoft', 'Tango Gameworks', 'Taniko', 'Tantalus Interactive', 'Tantatus', 'Targem Games', 'Tarsier Studios', 'Team Bondi', 'Team Ninja', 'Team Soho', 'Team6 Game Studios', 'Techland', 'Tecmo Koei Canada', 'Tecmo Koei Games', 'Tectonic Studios', 'Telltale Games', 'Tenyo', 'Tetris Online', 'Teyon', 'ThatGameCompany', 'The Behemoth', 'The Coalition', 'The Code Monkeys', 'The Fun Pimps Entertainment LLC', 'The Pokemon Company', 'The Tangentlemen', 'The Workshop', 'Think and Feel', 'Tigon', 'Tilted Mill', 'TimeGate Studios', 'Titus Software', 'Tiwak', 'Toka', 'Tom Create', 'Tommo', 'Tomy Corporation', 'Tornado Studios', 'Totally Games', 'Touchdown Entertainment', 'Tragnarion Studios', 'Tranji', 'Treasure', 'Tri-Ace', 'Tri-Crescendo', 'Turn 10', 'Turtle Rock Studios', 'Twelve Games', 'Twisted Pixel Games', 'Two Tribes', 'UFO Interactive', 'UGA', 'Unigine Corp', 'United Coders', 'United Front Games', 'Universomo', 'V5 Play Studio', 'VIS Entertainment', 'VSTEP', 'Valcon Games', 'Valhalla Game Studios', 'ValuSoft', 'Valuewave Co.,Ltd.', 'Valve Software', 'Vanguard', 'Vanilla Ware', 'Vanillaware', 'Various', 'Velez & Dubail', 'Venom Games', 'Vigil Games', 'Vingt-et-un Systems', 'Vir2L Studios', 'Virtual Play Inc.', 'Virtual Toys', 'Virtucraft', 'Visual Impact', 'Vivarium', 'Vivendi Games', 'Vogster', 'Void Productions', 'WB Games Montreal', 'WXP', 'Walt Disney Japan', 'War Drum Studios', 'Warashi', 'Wargaming.net', 'Warner Bros. Interactive Entertainment', 'Warthog', 'Webfoot Technologies', 'White Birds Productions', 'Wicked Studios', 'Wicked Witch Software', 'Wide Games', 'Wideload Games Inc.', 'WildTangent', 'Wildfire Studios', 'Will', 'Wizarbox', 'Wizardry Engineering', 'WorkJam', 'Wow Entertainment', 'XS Games', 'Xpec', 'Yacht Club Games', 'Yager', \"Yuke's Company of America\", 'Zed Two Limited', 'Zen Studios', 'Zener Works', 'ZeniMax Media', 'Zerodiv', 'Zindagi Games', 'Zipper Interactive', 'Zoe Mode', 'Zombie', 'Zombie Studios', 'Zoo Games', 'comcept', 'eGames', 'h.a.n.d. Inc.', 'iNiS', 'iRock Interactive', 'iWin', 'id Software', 'neo Software', 'odenis studio', 'oeFun', 'syn Sophia', 'zSlide'] will be ignored\n",
      "  warnings.warn('unknown class(es) {0} will be ignored'\n"
     ]
    },
    {
     "data": {
      "text/html": [
       "<div>\n",
       "<style scoped>\n",
       "    .dataframe tbody tr th:only-of-type {\n",
       "        vertical-align: middle;\n",
       "    }\n",
       "\n",
       "    .dataframe tbody tr th {\n",
       "        vertical-align: top;\n",
       "    }\n",
       "\n",
       "    .dataframe thead th {\n",
       "        text-align: right;\n",
       "    }\n",
       "</style>\n",
       "<table border=\"1\" class=\"dataframe\">\n",
       "  <thead>\n",
       "    <tr style=\"text-align: right;\">\n",
       "      <th></th>\n",
       "      <th>Developer_Count_505 Games</th>\n",
       "      <th>Developer_Count_989 Sports</th>\n",
       "      <th>Developer_Count_Acclaim</th>\n",
       "      <th>Developer_Count_Activision</th>\n",
       "      <th>Developer_Count_Altron</th>\n",
       "      <th>Developer_Count_Amaze Entertainment</th>\n",
       "      <th>Developer_Count_Arc System Works</th>\n",
       "      <th>Developer_Count_Artificial Mind and Movement</th>\n",
       "      <th>Developer_Count_Atlus</th>\n",
       "      <th>Developer_Count_Avalanche Software</th>\n",
       "      <th>...</th>\n",
       "      <th>Developer_Count_Ubisoft Paris</th>\n",
       "      <th>Developer_Count_Ubisoft Shanghai</th>\n",
       "      <th>Developer_Count_Vicarious Visions</th>\n",
       "      <th>Developer_Count_Vicious Cycle</th>\n",
       "      <th>Developer_Count_Virtuos</th>\n",
       "      <th>Developer_Count_Visual Concepts</th>\n",
       "      <th>Developer_Count_Volition Inc.</th>\n",
       "      <th>Developer_Count_WayForward</th>\n",
       "      <th>Developer_Count_Yuke's</th>\n",
       "      <th>Developer_Count_n-Space</th>\n",
       "    </tr>\n",
       "  </thead>\n",
       "  <tbody>\n",
       "    <tr>\n",
       "      <th>0</th>\n",
       "      <td>0</td>\n",
       "      <td>0</td>\n",
       "      <td>0</td>\n",
       "      <td>0</td>\n",
       "      <td>0</td>\n",
       "      <td>0</td>\n",
       "      <td>0</td>\n",
       "      <td>0</td>\n",
       "      <td>0</td>\n",
       "      <td>0</td>\n",
       "      <td>...</td>\n",
       "      <td>0</td>\n",
       "      <td>0</td>\n",
       "      <td>0</td>\n",
       "      <td>0</td>\n",
       "      <td>0</td>\n",
       "      <td>0</td>\n",
       "      <td>0</td>\n",
       "      <td>0</td>\n",
       "      <td>0</td>\n",
       "      <td>0</td>\n",
       "    </tr>\n",
       "    <tr>\n",
       "      <th>1</th>\n",
       "      <td>0</td>\n",
       "      <td>0</td>\n",
       "      <td>0</td>\n",
       "      <td>0</td>\n",
       "      <td>0</td>\n",
       "      <td>0</td>\n",
       "      <td>0</td>\n",
       "      <td>0</td>\n",
       "      <td>0</td>\n",
       "      <td>0</td>\n",
       "      <td>...</td>\n",
       "      <td>0</td>\n",
       "      <td>0</td>\n",
       "      <td>0</td>\n",
       "      <td>0</td>\n",
       "      <td>0</td>\n",
       "      <td>0</td>\n",
       "      <td>0</td>\n",
       "      <td>0</td>\n",
       "      <td>0</td>\n",
       "      <td>0</td>\n",
       "    </tr>\n",
       "    <tr>\n",
       "      <th>2</th>\n",
       "      <td>0</td>\n",
       "      <td>0</td>\n",
       "      <td>0</td>\n",
       "      <td>0</td>\n",
       "      <td>0</td>\n",
       "      <td>0</td>\n",
       "      <td>0</td>\n",
       "      <td>0</td>\n",
       "      <td>0</td>\n",
       "      <td>0</td>\n",
       "      <td>...</td>\n",
       "      <td>0</td>\n",
       "      <td>0</td>\n",
       "      <td>0</td>\n",
       "      <td>0</td>\n",
       "      <td>0</td>\n",
       "      <td>0</td>\n",
       "      <td>0</td>\n",
       "      <td>0</td>\n",
       "      <td>0</td>\n",
       "      <td>0</td>\n",
       "    </tr>\n",
       "    <tr>\n",
       "      <th>3</th>\n",
       "      <td>0</td>\n",
       "      <td>0</td>\n",
       "      <td>0</td>\n",
       "      <td>0</td>\n",
       "      <td>0</td>\n",
       "      <td>0</td>\n",
       "      <td>0</td>\n",
       "      <td>0</td>\n",
       "      <td>0</td>\n",
       "      <td>0</td>\n",
       "      <td>...</td>\n",
       "      <td>0</td>\n",
       "      <td>0</td>\n",
       "      <td>0</td>\n",
       "      <td>0</td>\n",
       "      <td>0</td>\n",
       "      <td>0</td>\n",
       "      <td>0</td>\n",
       "      <td>0</td>\n",
       "      <td>0</td>\n",
       "      <td>0</td>\n",
       "    </tr>\n",
       "    <tr>\n",
       "      <th>4</th>\n",
       "      <td>0</td>\n",
       "      <td>0</td>\n",
       "      <td>0</td>\n",
       "      <td>0</td>\n",
       "      <td>0</td>\n",
       "      <td>0</td>\n",
       "      <td>0</td>\n",
       "      <td>0</td>\n",
       "      <td>0</td>\n",
       "      <td>0</td>\n",
       "      <td>...</td>\n",
       "      <td>0</td>\n",
       "      <td>0</td>\n",
       "      <td>0</td>\n",
       "      <td>0</td>\n",
       "      <td>0</td>\n",
       "      <td>0</td>\n",
       "      <td>0</td>\n",
       "      <td>0</td>\n",
       "      <td>0</td>\n",
       "      <td>0</td>\n",
       "    </tr>\n",
       "  </tbody>\n",
       "</table>\n",
       "<p>5 rows × 107 columns</p>\n",
       "</div>"
      ],
      "text/plain": [
       "   Developer_Count_505 Games  Developer_Count_989 Sports  \\\n",
       "0                          0                           0   \n",
       "1                          0                           0   \n",
       "2                          0                           0   \n",
       "3                          0                           0   \n",
       "4                          0                           0   \n",
       "\n",
       "   Developer_Count_Acclaim  Developer_Count_Activision  \\\n",
       "0                        0                           0   \n",
       "1                        0                           0   \n",
       "2                        0                           0   \n",
       "3                        0                           0   \n",
       "4                        0                           0   \n",
       "\n",
       "   Developer_Count_Altron  Developer_Count_Amaze Entertainment  \\\n",
       "0                       0                                    0   \n",
       "1                       0                                    0   \n",
       "2                       0                                    0   \n",
       "3                       0                                    0   \n",
       "4                       0                                    0   \n",
       "\n",
       "   Developer_Count_Arc System Works  \\\n",
       "0                                 0   \n",
       "1                                 0   \n",
       "2                                 0   \n",
       "3                                 0   \n",
       "4                                 0   \n",
       "\n",
       "   Developer_Count_Artificial Mind and Movement  Developer_Count_Atlus  \\\n",
       "0                                             0                      0   \n",
       "1                                             0                      0   \n",
       "2                                             0                      0   \n",
       "3                                             0                      0   \n",
       "4                                             0                      0   \n",
       "\n",
       "   Developer_Count_Avalanche Software  ...  Developer_Count_Ubisoft Paris  \\\n",
       "0                                   0  ...                              0   \n",
       "1                                   0  ...                              0   \n",
       "2                                   0  ...                              0   \n",
       "3                                   0  ...                              0   \n",
       "4                                   0  ...                              0   \n",
       "\n",
       "   Developer_Count_Ubisoft Shanghai  Developer_Count_Vicarious Visions  \\\n",
       "0                                 0                                  0   \n",
       "1                                 0                                  0   \n",
       "2                                 0                                  0   \n",
       "3                                 0                                  0   \n",
       "4                                 0                                  0   \n",
       "\n",
       "   Developer_Count_Vicious Cycle  Developer_Count_Virtuos  \\\n",
       "0                              0                        0   \n",
       "1                              0                        0   \n",
       "2                              0                        0   \n",
       "3                              0                        0   \n",
       "4                              0                        0   \n",
       "\n",
       "   Developer_Count_Visual Concepts  Developer_Count_Volition Inc.  \\\n",
       "0                                0                              0   \n",
       "1                                0                              0   \n",
       "2                                0                              0   \n",
       "3                                0                              0   \n",
       "4                                0                              0   \n",
       "\n",
       "   Developer_Count_WayForward  Developer_Count_Yuke's  Developer_Count_n-Space  \n",
       "0                           0                       0                        0  \n",
       "1                           0                       0                        0  \n",
       "2                           0                       0                        0  \n",
       "3                           0                       0                        0  \n",
       "4                           0                       0                        0  \n",
       "\n",
       "[5 rows x 107 columns]"
      ]
     },
     "metadata": {},
     "output_type": "display_data"
    }
   ],
   "source": [
    "block = DeveloperOHBlock(whole_df)\n",
    "assert len(block.fit(train_df)) == len(train_df)\n",
    "display( block.fit(train_df).head())"
   ]
  },
  {
   "cell_type": "markdown",
   "metadata": {},
   "source": [
    "### Developerを分解してOne-Hot-Encodingした上でKMeans（使っていない）"
   ]
  },
  {
   "cell_type": "code",
   "execution_count": 35,
   "metadata": {},
   "outputs": [],
   "source": [
    "class DeveloperOHDistBlock(BaseBlock):\n",
    "    def __init__(self, whole_df, weight_column:str='Global_Sales', min_count=20, n_clusters=20):\n",
    "        self.whole_df = whole_df\n",
    "        self.weight_column = weight_column\n",
    "        self.min_count = min_count\n",
    "        self.n_clusters = n_clusters\n",
    "    \n",
    "    def fit(self, input_df):\n",
    "        self.whole_df['Developer_S'] = self.whole_df['Developer'].str.split(', ')\n",
    "        whole_developers = pd.Series(list(itertools.chain.from_iterable(self.whole_df['Developer_S'].fillna('').values)))\n",
    "        whole_developers = whole_developers.value_counts()\n",
    "        all_developers = whole_developers[whole_developers > self.min_count].index\n",
    "        \n",
    "        self.mlb = MultiLabelBinarizer()\n",
    "        self.mlb.fit([list(all_developers)])\n",
    "        \n",
    "        temp_df = input_df.copy()\n",
    "        temp_df['Developer_S'] = temp_df['Developer'].str.split(', ')\n",
    "        matrix = self.mlb.transform(temp_df['Developer_S'].fillna('').values)\n",
    "\n",
    "        # 各クラスタの中心からの距離\n",
    "        self.kmeans = KMeans(n_clusters=self.n_clusters, random_state=20)\n",
    "        self.kmeans.fit(matrix, sample_weight=np.log1p(input_df[self.weight_column]))\n",
    "        distance_from_clusters = pd.DataFrame(self.kmeans.transform(matrix))\n",
    "        \n",
    "        return distance_from_clusters.add_prefix('DeveloperOH_').add_suffix(f'_{self.weight_column}')\n",
    "    \n",
    "    def transform(self, input_df):\n",
    "        temp_df = input_df.copy()\n",
    "        temp_df['Developer_S'] = temp_df['Developer'].str.split(', ')\n",
    "        matrix = self.mlb.transform(temp_df['Developer_S'].fillna('').values)\n",
    "\n",
    "        # 各クラスタの中心からの距離\n",
    "        distance_from_clusters = pd.DataFrame(self.kmeans.transform(matrix))\n",
    "        \n",
    "        return distance_from_clusters.add_prefix('DeveloperOH_').add_suffix(f'_{self.weight_column}')"
   ]
  },
  {
   "cell_type": "code",
   "execution_count": 36,
   "metadata": {},
   "outputs": [
    {
     "name": "stderr",
     "output_type": "stream",
     "text": [
      "C:\\Users\\akira.shirahama\\Anaconda3\\envs\\kaggle_workspace\\lib\\site-packages\\sklearn\\preprocessing\\_label.py:994: UserWarning: unknown class(es) ['10tacle Studios', '1C', '1C Company', '1C:Ino-Co', '1st Playable Productions', '2015', '2D Boy', '2K Australia', '2K Czech', '2K Games', '2K Marin', '2K Play', '2K Shanghai', '2K Sports', '2XL Games', '343 Industries', '3D Realms', '3DO', '3G Studios', '3d6 Games', '49Games', '4A Games', '4J Studios', '5TH Cell', '5pb', '7 Studios', '777 Studios', '8Monkey Labs', '8ing/Raizing', 'AI', 'AQ Interactive', 'AWE Games', 'Access Games', 'Acquire', 'Activision Value', 'Adrenium', 'Agatsuma Entertainment', 'Agenda', 'Airtight Games', 'Akella', 'Alawar Entertainment', 'Alfa System', 'Alphadream Corporation', 'Alternative Software', 'Ambrella', 'Amedio', 'Amusement Vision', 'Amuze', 'Anchor', 'Angel Studios', 'Anino Entertainment', 'ApolloSoft', 'Appaloosa Interactive', 'Aqua Pacific', 'Aqua Plus', 'Arcade Moon', 'Argonaut Games', 'Arika', 'Arkane Studios', 'Armature Studio', 'Arrowhead Game Studios', 'Art', 'Art Co.', 'Artdink', 'ArtePiazza', 'Artech Studios', 'Artefacts Studio', 'Artoon', 'Arzest', 'Ascaron Entertainment GmbH', 'Asmik Ace Entertainment', 'Asobo Studio', 'Aspect', 'Aspyr', 'Astroll', 'Atari', 'Atari SA', 'Atlus Co.', 'Atomic Games', 'Atomic Planet Entertainment', 'Attention To Detail', 'Attractive Games', 'Autumn Moon', 'Avalanche Studios', 'Avanquest Software', 'Avit-Niigata', 'Awesome Play Ltd.', 'Awesome Studios', 'Axis Entertainment', 'B-Alive', 'BIP Games', 'Babylon Software', 'Backbone Emeryville', 'Bam Entertainment', 'Bandai', 'Banpresto', 'Barking Lizards', 'Barnhouse Effect', 'BattleGoat Studios', 'Battlefront.com', 'BeeWorks', 'Beep Industries', 'Behaviour Interactive', 'Best Way', 'Bethesda Game Studios', 'Bethesda Softworks', 'Beyond Games', 'Big Ant Studios', 'Big Blue Box', 'Big Blue Bubble Inc.', 'Big Blue Entertainment', 'Big Fish Games', 'Big Head Games Ltd.', 'Big Huge Games', 'Big John Games', 'Big Red Button Entertainment', 'Big Sky Software', 'Big Time Software', 'BigPark', 'Bigben Interactive', 'Bigbig Studios', 'Bionic Games', 'Bit Town', 'Bits Studios', 'Bizarre Creations', 'Black Box', 'Black Ops Entertainment', 'Black Rock Studio', 'Black Ship Games', 'Blade Interactive', 'Blast! Entertainment Ltd', 'Blitz Games Studios', 'Blizzard North', 'Blue 52', 'Blue Castle Games', 'Blue Fang Games', 'Blue Planet Software', 'Blue Shift', 'Blue Tongue', 'Blue Tongue Entertainment', 'Bluepoint Games', 'Blueshift', 'Blueside', 'Bohemia Interactive', 'Boomzap', 'Boston Animation', 'BottleRocket Entertainment', 'Boxed Dream', 'Brain Toys', 'Brainbox Games', 'Brash Entertainment', 'Breakthrough New Media', 'Brownie Brown', 'BudCat', 'Buddiez', 'Buena Vista Games', 'Buena Vista Interactive', 'Bugbear', 'Buka Entertainment', 'Bullets', 'Bungie', 'Bungie Software', 'CAProduction', 'CCP', 'CD Projekt', 'CD Projekt Localisation Centre', 'CD Projekt Red Studio', 'CUBETYPE', 'Camelot Software Planning', 'Camouflaj', 'Capcom Vancouver', 'Career Soft', 'Cat Daddy Games', 'Cattle Call', 'Cave', 'Cave Barn', 'Cavia Inc.', 'Celeris', 'Cerasus Media', 'Chris Sawyer', 'ChunSoft', 'CiRCLE', 'Cinegroupe', 'Cinemaware', 'Cing', 'Circus Freak', 'Clap Hanz', 'Climax Entertainment', 'Climax Studios', 'Clover Studio', 'CodeFire', 'Codo Games', 'Coffee Stain Studios', 'Cohort Studios', 'CokeM Interactive', 'Coldwood Interactive', 'Collision Studios', 'Colossal Order', 'Compile Heart', 'Compulsion Games', 'Computer Artworks', 'Conspiracy Entertainment', 'Cooking Mama Limited', 'Coresoft', 'Cowboy Rodeo', 'Coyote Console', 'Coyote Developments', 'Crafts & Meister', 'Cranky Pants Games', 'Crawfish Interactive', 'Crea-Tech', 'Creat Studios', 'Creations', 'Creatures Inc.', 'Crenetic Studios', \"Crispy's\", 'Croteam', 'Cryptic Studios', 'Crytek', 'Culture Brain', 'Cunning Developments', 'Curious Pictures', 'Curly Monsters', 'Cyan Worlds', 'Cyanide', 'Cyanide Studios', 'Cyber Planet', 'Cyberlore Studios', 'Cygames', 'D3Publisher', 'DC Studios', 'DMA Design', 'DONTNOD Entertainment', 'DTP Entertainment', 'Dancing Dots', 'Data Design Interactive', 'David A. Palmer Productions', 'Day 1 Studios', 'Deck 13', 'Deep Fried Entertainment', 'Deep Red', 'Deep Space', 'Deibus Studios', 'Demiurge Studios', 'Design Factory', 'Destination Software', 'Destineer', 'DiP Interactive', 'Digital Anvil', 'Digital Embryo', 'Digital Extremes', 'Digital Fiction', 'Digital Illusions', 'Digital Leisure Inc.', 'Dingo Inc.', 'Direct Action Games', 'Disney Interactive', 'Disney Interactive Studios', 'Dorasu', 'Double Eleven', 'Double Fine Productions', 'DoubleTap Games', 'Doublesix', 'DreamFactory', 'DreamRift', 'Dreamcatcher', 'Dusenberry Martin Racing', 'EA Mythic', 'ECI', 'EKO Software', 'Easy Interactive', 'Eden', 'Eden Studios', 'Edge of Reality', 'Egosoft', 'Eiconic Games', 'Eidos Montreal', 'Eighting', 'Elixir Studios', 'Empire Oxford', 'Empty Clip Studios', 'Engine Software', 'EnjoyUp Games', 'Ensemble Studios', 'Entersphere', 'Entertainment Analysis & Development Division', 'Epic Games', 'Epicenter Studios', 'Epics', 'Etranges Libellules', 'Eugen Systems', 'Evolution Games', 'Evolution Studios', 'Examu', 'Experience Inc.', 'Extra Mile Studios', 'F84 Games', 'FASA Studio', 'Factor 5', 'Falcom', 'Fall Line Studio', 'Farsight Studios', 'FeelPlus', 'Firaxis Games', 'FireFly Studios', 'Firebrand Games', 'Fizz Factor', 'Flagship', 'Flight-Plan', 'Fluid Studios', 'Flying Lab Software', 'Foreign Media', 'Frame Studios Interactive', 'FreeStyleGames', 'French-Bread', 'Frima Studio', 'Frogwares', 'FrontLine Studios', 'Frontier Developments', 'Frozenbyte', 'FuRyu', 'Full Fat', 'Funcom', 'Fuse Games Limited', 'Fusionsphere Systems', 'G-Artists', 'G1M2', 'GCREST', 'GREZZO', 'GRIN', 'GSC Game World', 'Gaia (Sony)', 'Gaijin Entertainment', 'Game Arts', 'Game Freak', 'Game Machine Studios', 'Game Republic', 'GameCo', 'GameMill Publishing', 'Gameinvest', 'Gaming Minds Studios', 'Ganbarion', 'Gas Powered Games', 'Genius Sonority Inc.', 'Genki', 'Genuine Games', 'Giants Software', 'Gimagin Games', 'Global Star Software', 'GlyphX Games', 'Glyphic Entertainment', 'Gogii Games', 'Good Science Studio', 'Good-Feel', 'Gorilla Games', 'Gorilla Systems', 'Goshow', 'Graffiti Entertainment', 'Graphic Research', 'Graphic State', 'Grasshopper Manufacture', 'Guerilla Cambridge', 'Guerrilla', 'Gulti', 'Gust', 'Gusto Games', 'HAL Labs', 'Haemimont', 'Halfbrick Studios', 'HandMade Game', 'Handheld Games', 'Hangar 13', 'Happy Happening', 'Hasbro Interactive', 'Headfirst Productions', 'Headstrong Games', 'Headup Games', 'Helixe', 'Hellbent Games', 'Her Interactive', 'HexaDrive', 'High Impact Games', 'High Moon Studios', 'Hijinx Studios', 'Hit Maker', 'Hitmaker', 'Hot Lava Games', 'HotGen', 'Housemarque', 'Hudson', 'Hudson Entertainment', 'Hudson Soft', 'Humagade', 'Human Head Studios', 'Human Soft', 'Humongous Entertainment', 'Hyde', 'Hydravision', 'Hyper-Devbox', 'Hyperspace Cowgirls', 'Hypnotix', 'I-Imagine', 'ITL', 'Ice-Pick Lodge', 'Icon Games', 'Idea Factory', 'Idol Minds', 'Ignition Entertainment', 'Illusion Softworks', 'Image Epoch', 'Imageepoch', 'ImaginEngine', 'Impressions Games', 'Impulse Games', 'In2Games', 'InLight Entertainment', 'InXile Entertainment', 'Inc', 'Incinerator Games', 'Incognito Inc.', 'Indie Built', 'Indies Zero', 'Inevitable Entertainment', 'Infinite Dreams', 'Infinite Interactive', 'Infinite Machine', 'Ino-Co', 'Insomniac Games', 'Intelligent Systems', 'InterActive Vision Games', 'InterServ International', 'Interactive Brains', 'Interchannel', 'Interchannel-Holon', 'Inti', 'Inti Creates', 'Irem', 'Iridon Interactive AB', 'Iron Galaxy Studios', 'Iron Lore Entertainment', 'IronNos Co.,Ltd.', 'Ironclad Games', 'Irrational Games', 'Ivolgamus', 'Jaleco Entertainment', 'JapanStudio', 'Jellyvision', 'Jester Interactive', 'Jet Black Games', 'Joindots', 'Juice Games', 'Junction Point', 'Jupiter Corporation', 'Jupiter Multimedia', 'Just Add Monsters', 'K2', 'K2 LLC', 'KING Art', 'Kadokawa', 'Kalypso', 'Kando Games', 'Kaos Studios', 'Kat Games', 'Keen Games', 'Kemco', 'King of the Jungle', 'Klein Computer Entertainment', 'Knockout Games', 'Knowledge Adventure Inc.', 'Kodiak Interactive', 'Koei Canada', 'Koei Tecmo Games', 'Koei/Inis', 'Kokolo Corporation', 'Kouyousha', 'Kuju Entertainment', 'Kung Fu Factory', 'Kunos Simulazioni', 'LDW', 'LLC', 'LSP', 'Lab Rats Games', 'Lancarse', 'Larian Studios', 'Lda', 'Lead Pursuit', 'Left Field Productions', 'Legacy Interactive', 'Level 5', 'Light Weight', 'LightBox Interactive', 'Lionhead Studios', 'Liquid Entertainment', 'Locomotive Games', 'Logris Games', 'Lost Toys', 'Ltd.', 'Lucas Learning', 'Lucky Chicken', 'Ludia Inc.', 'M2', 'M4 Limited', 'MBA International', 'MTO', 'Mac Play', 'MacPlay', 'Machatin', 'MachineGames', 'Mad Catz', 'Mad Doc Software', 'Magellan Interactive', 'Magenta Software', 'Magic Pixel Games', 'Magic Rings', 'Magicpot', 'Magnin & Associates', 'Majesco', 'Majesco Games', 'Marvelous', 'Marvelous AQL', 'Marvelous Inc.', 'Mass Media', 'Massive Entertainment', 'Mastertronic', 'Matrix Software', 'Maximum Family Games', 'Maximum Games', 'Media Molecule', 'Media Vision', 'Mediascape', 'Melbourne House', 'Melesta', 'Merscom LLC', 'Metanet Software Inc.', 'Metia Interactive', 'Metro', 'Metro Graphics', 'Micro Cabin', 'MicroProse', 'Microids', 'Microsoft Game Studios', 'Microsoft Game Studios Japan', 'Mikoishi', 'MileStone Inc.', 'Milestone', 'Million', 'Mindscape', 'Mindscape Inc.', 'Mistic Software', 'Mistwalker', 'Mitchell', 'Mobius Entertainment', 'Monkey Bar Games', 'Monolith Productions', 'Monolith Soft', 'Monster Games Inc.', 'Monte Cristo Multimedia', 'Monumental Games', 'Moss', 'Most Wanted Entertainment', 'Mud Duck Productions', 'Multimedia Intelligence Transfer', 'MumboJumbo', 'N-Fusion Interactive Entertainment Corp.', 'NATSUME ATARI Inc.', 'NEC Interchannel', 'Namco Bandai Games America', 'NanaOn-Sha', 'Naps Team', 'Naughty Dog', 'Nautilus', 'Nd Cube', 'Neko Entertainment', 'Neopica', 'NetherRealm Studios', 'Neverland', 'Nex Entertainment', 'Next Entertainment', 'Next Level Games', 'Nicalis', 'Nihilistic', 'Nikitova Games', 'Ninja Studio', 'Ninja Theory', 'Nintendo EAD Tokyo', 'Nintendo Software Technology', 'Nitro Games', 'Nixxes Software', 'NoWay Studio', 'Nobilis', 'Noise Factory', 'Noise Inc.', 'Novarama', 'Ntreev Soft', 'Number None Inc.', 'Nvizzio Creations', 'O-Games', 'Obsidian Entertainment', 'Oddworld Inhabitants', 'Office Create', 'OfficeCreate', 'One Man Band', 'OneNine Studios', 'Opus', 'Opus Studio', 'Ornith', 'Other Ocean Interactive', 'Otomate', 'Outrage Games', 'Overkill Software', 'Overworks', 'Oxygen Interactive', 'PLAYGROUND', 'Pacific Coast Power & Light', 'Page 44 Studios', 'Pam Development', 'Panic Button', 'Paon Corporation', 'Papaya Studios', 'Papyrus', 'Paradigm Entertainment', 'Paradox Development Studio', 'Paradox Interactive', 'Paragon 5', 'Pax Softonica', 'Pendulo Studios', 'Performance Designed Products', 'Petroglyph', 'Phenomedia', 'Phosphor Games Studio', 'Pinegrow', 'Pipe Dream Interactive', 'Pipeworks Software', 'Pitbull Syndicate', 'Planet Interactive', 'Planet Moon Studios', 'Platinum Egg', 'Playground Games', 'Playrix Entertainment', 'Pocket Studios', 'Polygon Magic', 'Polyphony Digital', 'PopTop Software', 'Powerhead Games', 'Project Aces', 'Project Sora', 'Prolific', 'Pronto Games', 'Propaganda Games', 'Prope', 'Pseudo Interactive', 'Psyonix', 'Punchline', 'Purple Hills', 'Pyramid', 'Pyro Studios', 'Q Entertainment', 'Q-Games', 'QLOC', 'Quantic Dream', 'Quest', 'RED Entertainment', 'RFX Interactive', 'Racjin', 'Radius9', 'Rage Software', 'Rare Ltd.', 'Ratbag', 'Raven Software', 'Ravenscourt', 'Razorback Developments', 'Razorworks Studios', 'Re-Logic', 'Reactor Zero', 'Ready at Dawn', 'Realism Ltd', 'Realmforge Studios', 'Realtime Worlds', 'Red 5 Software', 'Red Fly Studio', 'Red Tribe', 'Red Wagon Games', 'Red Zone Entertainment', 'RedLynx', 'Reflections Interactive', 'Relic', 'Reloaded Games Inc.', 'Reloaded Productions', 'Remedy Entertainment', 'Renegade Kid', 'Retro Studios', 'Revolution Software', 'Rockstar Leeds', 'Rockstar London', 'Rockstar North', 'Rockstar San Diego', 'Rockstar Studios', 'Rockstar Toronto', 'Rockstar Vancouver', 'Rockstar Vienna', 'Rocksteady Studios', 'Rovio Entertainment', 'Rovio Mobile', 'Ruffian Games', 'Runecraft', 'Russia', 'Ryu ga Gotoku Studios', 'S-Neo', 'SCE Japan Studio', 'SCE Santa Monica', 'SCE Studio Cambridge', 'SCE/WWS', 'SCEA', 'SCEA Sports Studio', 'SCEE', 'SCEI', 'SCEJ', 'SCS Software', 'SEGA Racing Studio', 'SME Dynamic Systems Limited', 'SNK', 'Sabarasa Entertainment', 'Saber Interactive', 'Saffire', 'Sand Grain Studios', 'Sandlot', 'Sandlot Games', 'Santa Cruz Games', 'Santa Entertainment', 'Sanuk Games', 'Sanuk Software Co.', 'Sanzaru Games', 'Sarbakan Inc.', 'Savage Entertainment', 'Scientifically Proven', 'Screenlife Games', 'Seamless Entertainment', 'Secret Level', 'Seed Studios', 'Sega AM2', 'Sega AM3', 'Sega Studios San Francisco', 'Sennari Interactive', 'Sensory Sweep', 'Seta Corporation', 'Shift', \"Shin'en\", 'Shiny Entertainment', 'Shirogumi', 'Silicon Knights', 'Silicon Studio', 'Silver Wish Games', 'SilverBirch Studios', 'SimBin', 'Simon & Schuster', 'Sims', 'Skonec', 'SkyRiver Studios', 'Skyworks Technologies', 'Slam Games', 'Slant Six', 'Smack Down Productions', 'Small Rockets', 'Smilebit', 'Snapdragon', 'Snowblind Studios', 'Societe Pollene', 'SoftMax', 'SolWorks', 'Sonic Powered', 'Sony Bend', 'Sony Interactive Entertainment', 'SouthPeak Games', 'Spark Unlimited', 'Spiders', 'Spidersoft', 'Spike', 'Spike Chunsoft', 'Spike Chunsoft Co. Ltd.', 'Splash Damage', 'Sports Interactive', 'SquareSoft', 'Squashy Software', 'Stainless Games', 'Stainless Steel Studios', 'Stalker Entertainment', 'Starbreeze', 'Starfish', 'Starfish SD', 'Starsphere Interactive', 'Steel Monkeys', 'Sting', 'Storm City Games', 'Stormfront Studios', 'Stormregion', 'Studio 33', 'Studio Archcraft', 'Studio Gigante', 'Studio Liverpool', 'Studio Saizensen', 'StudioBlack Games', 'Success', 'Sucker Punch', 'SunSoft', 'Sunflowers Interactive', 'Super Empire', 'Super X Studios', 'SuperBot Entertainment', 'SuperMassive Games', 'SuperVillain Studios', 'Supersonic Software', 'Surreal Software', 'Suzak', \"Swingin' Ape\", 'Swordfish Studios', 'Synetic', 'Syscom', 'System 3', 'System Prisma', 'T&E Soft', 'TDK Mediactive', 'THQ Australia', 'THQ Digital Studio Phoenix', 'TML-Studios', 'TT Fusion', 'Tabot', 'Tactical Development', 'Takara', 'Takara Tomy', 'Take-Two Interactive', 'Tamsoft', 'Tango Gameworks', 'Taniko', 'Tantalus Interactive', 'Tantatus', 'Targem Games', 'Tarsier Studios', 'Team Bondi', 'Team Ninja', 'Team Soho', 'Team6 Game Studios', 'Techland', 'Tecmo Koei Canada', 'Tecmo Koei Games', 'Tectonic Studios', 'Telltale Games', 'Tenyo', 'Tetris Online', 'Teyon', 'ThatGameCompany', 'The Behemoth', 'The Coalition', 'The Code Monkeys', 'The Fun Pimps Entertainment LLC', 'The Pokemon Company', 'The Tangentlemen', 'The Workshop', 'Think and Feel', 'Tigon', 'Tilted Mill', 'TimeGate Studios', 'Titus Software', 'Tiwak', 'Toka', 'Tom Create', 'Tommo', 'Tomy Corporation', 'Tornado Studios', 'Totally Games', 'Touchdown Entertainment', 'Tragnarion Studios', 'Tranji', 'Treasure', 'Tri-Ace', 'Tri-Crescendo', 'Turn 10', 'Turtle Rock Studios', 'Twelve Games', 'Twisted Pixel Games', 'Two Tribes', 'UFO Interactive', 'UGA', 'Unigine Corp', 'United Coders', 'United Front Games', 'Universomo', 'V5 Play Studio', 'VIS Entertainment', 'VSTEP', 'Valcon Games', 'Valhalla Game Studios', 'ValuSoft', 'Valuewave Co.,Ltd.', 'Valve Software', 'Vanguard', 'Vanilla Ware', 'Vanillaware', 'Various', 'Velez & Dubail', 'Venom Games', 'Vigil Games', 'Vingt-et-un Systems', 'Vir2L Studios', 'Virtual Play Inc.', 'Virtual Toys', 'Virtucraft', 'Visual Impact', 'Vivarium', 'Vivendi Games', 'Vogster', 'Void Productions', 'WB Games Montreal', 'WXP', 'Walt Disney Japan', 'War Drum Studios', 'Warashi', 'Wargaming.net', 'Warner Bros. Interactive Entertainment', 'Warthog', 'Webfoot Technologies', 'White Birds Productions', 'Wicked Studios', 'Wicked Witch Software', 'Wide Games', 'Wideload Games Inc.', 'WildTangent', 'Wildfire Studios', 'Will', 'Wizarbox', 'Wizardry Engineering', 'WorkJam', 'Wow Entertainment', 'XS Games', 'Xpec', 'Yacht Club Games', 'Yager', \"Yuke's Company of America\", 'Zed Two Limited', 'Zen Studios', 'Zener Works', 'ZeniMax Media', 'Zerodiv', 'Zindagi Games', 'Zipper Interactive', 'Zoe Mode', 'Zombie', 'Zombie Studios', 'Zoo Games', 'comcept', 'eGames', 'h.a.n.d. Inc.', 'iNiS', 'iRock Interactive', 'iWin', 'id Software', 'neo Software', 'odenis studio', 'oeFun', 'syn Sophia', 'zSlide'] will be ignored\n",
      "  warnings.warn('unknown class(es) {0} will be ignored'\n"
     ]
    },
    {
     "name": "stderr",
     "output_type": "stream",
     "text": [
      "C:\\Users\\akira.shirahama\\Anaconda3\\envs\\kaggle_workspace\\lib\\site-packages\\sklearn\\preprocessing\\_label.py:994: UserWarning: unknown class(es) ['10tacle Studios', '1C', '1C Company', '1C:Ino-Co', '1st Playable Productions', '2015', '2D Boy', '2K Australia', '2K Czech', '2K Games', '2K Marin', '2K Play', '2K Shanghai', '2K Sports', '2XL Games', '343 Industries', '3D Realms', '3DO', '3G Studios', '3d6 Games', '49Games', '4A Games', '4J Studios', '5TH Cell', '5pb', '7 Studios', '777 Studios', '8Monkey Labs', '8ing/Raizing', 'AI', 'AQ Interactive', 'AWE Games', 'Access Games', 'Acquire', 'Activision Value', 'Adrenium', 'Agatsuma Entertainment', 'Agenda', 'Airtight Games', 'Akella', 'Alawar Entertainment', 'Alfa System', 'Alphadream Corporation', 'Alternative Software', 'Ambrella', 'Amedio', 'Amusement Vision', 'Amuze', 'Anchor', 'Angel Studios', 'Anino Entertainment', 'ApolloSoft', 'Appaloosa Interactive', 'Aqua Pacific', 'Aqua Plus', 'Arcade Moon', 'Argonaut Games', 'Arika', 'Arkane Studios', 'Armature Studio', 'Arrowhead Game Studios', 'Art', 'Art Co.', 'Artdink', 'ArtePiazza', 'Artech Studios', 'Artefacts Studio', 'Artoon', 'Arzest', 'Ascaron Entertainment GmbH', 'Asmik Ace Entertainment', 'Asobo Studio', 'Aspect', 'Aspyr', 'Astroll', 'Atari', 'Atari SA', 'Atlus Co.', 'Atomic Games', 'Atomic Planet Entertainment', 'Attention To Detail', 'Attractive Games', 'Autumn Moon', 'Avalanche Studios', 'Avanquest Software', 'Avit-Niigata', 'Awesome Play Ltd.', 'Awesome Studios', 'Axis Entertainment', 'B-Alive', 'BIP Games', 'Babylon Software', 'Backbone Emeryville', 'Bam Entertainment', 'Bandai', 'Banpresto', 'Barking Lizards', 'Barnhouse Effect', 'BattleGoat Studios', 'Battlefront.com', 'BeeWorks', 'Beep Industries', 'Behaviour Interactive', 'Best Way', 'Bethesda Game Studios', 'Bethesda Softworks', 'Beyond Games', 'Big Ant Studios', 'Big Blue Box', 'Big Blue Bubble Inc.', 'Big Blue Entertainment', 'Big Fish Games', 'Big Head Games Ltd.', 'Big Huge Games', 'Big John Games', 'Big Red Button Entertainment', 'Big Sky Software', 'Big Time Software', 'BigPark', 'Bigben Interactive', 'Bigbig Studios', 'Bionic Games', 'Bit Town', 'Bits Studios', 'Bizarre Creations', 'Black Box', 'Black Ops Entertainment', 'Black Rock Studio', 'Black Ship Games', 'Blade Interactive', 'Blast! Entertainment Ltd', 'Blitz Games Studios', 'Blizzard North', 'Blue 52', 'Blue Castle Games', 'Blue Fang Games', 'Blue Planet Software', 'Blue Shift', 'Blue Tongue', 'Blue Tongue Entertainment', 'Bluepoint Games', 'Blueshift', 'Blueside', 'Bohemia Interactive', 'Boomzap', 'Boston Animation', 'BottleRocket Entertainment', 'Boxed Dream', 'Brain Toys', 'Brainbox Games', 'Brash Entertainment', 'Breakthrough New Media', 'Brownie Brown', 'BudCat', 'Buddiez', 'Buena Vista Games', 'Buena Vista Interactive', 'Bugbear', 'Buka Entertainment', 'Bullets', 'Bungie', 'Bungie Software', 'CAProduction', 'CCP', 'CD Projekt', 'CD Projekt Localisation Centre', 'CD Projekt Red Studio', 'CUBETYPE', 'Camelot Software Planning', 'Camouflaj', 'Capcom Vancouver', 'Career Soft', 'Cat Daddy Games', 'Cattle Call', 'Cave', 'Cave Barn', 'Cavia Inc.', 'Celeris', 'Cerasus Media', 'Chris Sawyer', 'ChunSoft', 'CiRCLE', 'Cinegroupe', 'Cinemaware', 'Cing', 'Circus Freak', 'Clap Hanz', 'Climax Entertainment', 'Climax Studios', 'Clover Studio', 'CodeFire', 'Codo Games', 'Coffee Stain Studios', 'Cohort Studios', 'CokeM Interactive', 'Coldwood Interactive', 'Collision Studios', 'Colossal Order', 'Compile Heart', 'Compulsion Games', 'Computer Artworks', 'Conspiracy Entertainment', 'Cooking Mama Limited', 'Coresoft', 'Cowboy Rodeo', 'Coyote Console', 'Coyote Developments', 'Crafts & Meister', 'Cranky Pants Games', 'Crawfish Interactive', 'Crea-Tech', 'Creat Studios', 'Creations', 'Creatures Inc.', 'Crenetic Studios', \"Crispy's\", 'Croteam', 'Cryptic Studios', 'Crytek', 'Culture Brain', 'Cunning Developments', 'Curious Pictures', 'Curly Monsters', 'Cyan Worlds', 'Cyanide', 'Cyanide Studios', 'Cyber Planet', 'Cyberlore Studios', 'Cygames', 'D3Publisher', 'DC Studios', 'DMA Design', 'DONTNOD Entertainment', 'DTP Entertainment', 'Dancing Dots', 'Data Design Interactive', 'David A. Palmer Productions', 'Day 1 Studios', 'Deck 13', 'Deep Fried Entertainment', 'Deep Red', 'Deep Space', 'Deibus Studios', 'Demiurge Studios', 'Design Factory', 'Destination Software', 'Destineer', 'DiP Interactive', 'Digital Anvil', 'Digital Embryo', 'Digital Extremes', 'Digital Fiction', 'Digital Illusions', 'Digital Leisure Inc.', 'Dingo Inc.', 'Direct Action Games', 'Disney Interactive', 'Disney Interactive Studios', 'Dorasu', 'Double Eleven', 'Double Fine Productions', 'DoubleTap Games', 'Doublesix', 'DreamFactory', 'DreamRift', 'Dreamcatcher', 'Dusenberry Martin Racing', 'EA Mythic', 'ECI', 'EKO Software', 'Easy Interactive', 'Eden', 'Eden Studios', 'Edge of Reality', 'Egosoft', 'Eiconic Games', 'Eidos Montreal', 'Eighting', 'Elixir Studios', 'Empire Oxford', 'Empty Clip Studios', 'Engine Software', 'EnjoyUp Games', 'Ensemble Studios', 'Entersphere', 'Entertainment Analysis & Development Division', 'Epic Games', 'Epicenter Studios', 'Epics', 'Etranges Libellules', 'Eugen Systems', 'Evolution Games', 'Evolution Studios', 'Examu', 'Experience Inc.', 'Extra Mile Studios', 'F84 Games', 'FASA Studio', 'Factor 5', 'Falcom', 'Fall Line Studio', 'Farsight Studios', 'FeelPlus', 'Firaxis Games', 'FireFly Studios', 'Firebrand Games', 'Fizz Factor', 'Flagship', 'Flight-Plan', 'Fluid Studios', 'Flying Lab Software', 'Foreign Media', 'Frame Studios Interactive', 'FreeStyleGames', 'French-Bread', 'Frima Studio', 'Frogwares', 'FrontLine Studios', 'Frontier Developments', 'Frozenbyte', 'FuRyu', 'Full Fat', 'Funcom', 'Fuse Games Limited', 'Fusionsphere Systems', 'G-Artists', 'G1M2', 'GCREST', 'GREZZO', 'GRIN', 'GSC Game World', 'Gaia (Sony)', 'Gaijin Entertainment', 'Game Arts', 'Game Freak', 'Game Machine Studios', 'Game Republic', 'GameCo', 'GameMill Publishing', 'Gameinvest', 'Gaming Minds Studios', 'Ganbarion', 'Gas Powered Games', 'Genius Sonority Inc.', 'Genki', 'Genuine Games', 'Giants Software', 'Gimagin Games', 'Global Star Software', 'GlyphX Games', 'Glyphic Entertainment', 'Gogii Games', 'Good Science Studio', 'Good-Feel', 'Gorilla Games', 'Gorilla Systems', 'Goshow', 'Graffiti Entertainment', 'Graphic Research', 'Graphic State', 'Grasshopper Manufacture', 'Guerilla Cambridge', 'Guerrilla', 'Gulti', 'Gust', 'Gusto Games', 'HAL Labs', 'Haemimont', 'Halfbrick Studios', 'HandMade Game', 'Handheld Games', 'Hangar 13', 'Happy Happening', 'Hasbro Interactive', 'Headfirst Productions', 'Headstrong Games', 'Headup Games', 'Helixe', 'Hellbent Games', 'Her Interactive', 'HexaDrive', 'High Impact Games', 'High Moon Studios', 'Hijinx Studios', 'Hit Maker', 'Hitmaker', 'Hot Lava Games', 'HotGen', 'Housemarque', 'Hudson', 'Hudson Entertainment', 'Hudson Soft', 'Humagade', 'Human Head Studios', 'Human Soft', 'Humongous Entertainment', 'Hyde', 'Hydravision', 'Hyper-Devbox', 'Hyperspace Cowgirls', 'Hypnotix', 'I-Imagine', 'ITL', 'Ice-Pick Lodge', 'Icon Games', 'Idea Factory', 'Idol Minds', 'Ignition Entertainment', 'Illusion Softworks', 'Image Epoch', 'Imageepoch', 'ImaginEngine', 'Impressions Games', 'Impulse Games', 'In2Games', 'InLight Entertainment', 'InXile Entertainment', 'Inc', 'Incinerator Games', 'Incognito Inc.', 'Indie Built', 'Indies Zero', 'Inevitable Entertainment', 'Infinite Dreams', 'Infinite Interactive', 'Infinite Machine', 'Ino-Co', 'Insomniac Games', 'Intelligent Systems', 'InterActive Vision Games', 'InterServ International', 'Interactive Brains', 'Interchannel', 'Interchannel-Holon', 'Inti', 'Inti Creates', 'Irem', 'Iridon Interactive AB', 'Iron Galaxy Studios', 'Iron Lore Entertainment', 'IronNos Co.,Ltd.', 'Ironclad Games', 'Irrational Games', 'Ivolgamus', 'Jaleco Entertainment', 'JapanStudio', 'Jellyvision', 'Jester Interactive', 'Jet Black Games', 'Joindots', 'Juice Games', 'Junction Point', 'Jupiter Corporation', 'Jupiter Multimedia', 'Just Add Monsters', 'K2', 'K2 LLC', 'KING Art', 'Kadokawa', 'Kalypso', 'Kando Games', 'Kaos Studios', 'Kat Games', 'Keen Games', 'Kemco', 'King of the Jungle', 'Klein Computer Entertainment', 'Knockout Games', 'Knowledge Adventure Inc.', 'Kodiak Interactive', 'Koei Canada', 'Koei Tecmo Games', 'Koei/Inis', 'Kokolo Corporation', 'Kouyousha', 'Kuju Entertainment', 'Kung Fu Factory', 'Kunos Simulazioni', 'LDW', 'LLC', 'LSP', 'Lab Rats Games', 'Lancarse', 'Larian Studios', 'Lda', 'Lead Pursuit', 'Left Field Productions', 'Legacy Interactive', 'Level 5', 'Light Weight', 'LightBox Interactive', 'Lionhead Studios', 'Liquid Entertainment', 'Locomotive Games', 'Logris Games', 'Lost Toys', 'Ltd.', 'Lucas Learning', 'Lucky Chicken', 'Ludia Inc.', 'M2', 'M4 Limited', 'MBA International', 'MTO', 'Mac Play', 'MacPlay', 'Machatin', 'MachineGames', 'Mad Catz', 'Mad Doc Software', 'Magellan Interactive', 'Magenta Software', 'Magic Pixel Games', 'Magic Rings', 'Magicpot', 'Magnin & Associates', 'Majesco', 'Majesco Games', 'Marvelous', 'Marvelous AQL', 'Marvelous Inc.', 'Mass Media', 'Massive Entertainment', 'Mastertronic', 'Matrix Software', 'Maximum Family Games', 'Maximum Games', 'Media Molecule', 'Media Vision', 'Mediascape', 'Melbourne House', 'Melesta', 'Merscom LLC', 'Metanet Software Inc.', 'Metia Interactive', 'Metro', 'Metro Graphics', 'Micro Cabin', 'MicroProse', 'Microids', 'Microsoft Game Studios', 'Microsoft Game Studios Japan', 'Mikoishi', 'MileStone Inc.', 'Milestone', 'Million', 'Mindscape', 'Mindscape Inc.', 'Mistic Software', 'Mistwalker', 'Mitchell', 'Mobius Entertainment', 'Monkey Bar Games', 'Monolith Productions', 'Monolith Soft', 'Monster Games Inc.', 'Monte Cristo Multimedia', 'Monumental Games', 'Moss', 'Most Wanted Entertainment', 'Mud Duck Productions', 'Multimedia Intelligence Transfer', 'MumboJumbo', 'N-Fusion Interactive Entertainment Corp.', 'NATSUME ATARI Inc.', 'NEC Interchannel', 'Namco Bandai Games America', 'NanaOn-Sha', 'Naps Team', 'Naughty Dog', 'Nautilus', 'Nd Cube', 'Neko Entertainment', 'Neopica', 'NetherRealm Studios', 'Neverland', 'Nex Entertainment', 'Next Entertainment', 'Next Level Games', 'Nicalis', 'Nihilistic', 'Nikitova Games', 'Ninja Studio', 'Ninja Theory', 'Nintendo EAD Tokyo', 'Nintendo Software Technology', 'Nitro Games', 'Nixxes Software', 'NoWay Studio', 'Nobilis', 'Noise Factory', 'Noise Inc.', 'Novarama', 'Ntreev Soft', 'Number None Inc.', 'Nvizzio Creations', 'O-Games', 'Obsidian Entertainment', 'Oddworld Inhabitants', 'Office Create', 'OfficeCreate', 'One Man Band', 'OneNine Studios', 'Opus', 'Opus Studio', 'Ornith', 'Other Ocean Interactive', 'Otomate', 'Outrage Games', 'Overkill Software', 'Overworks', 'Oxygen Interactive', 'PLAYGROUND', 'Pacific Coast Power & Light', 'Page 44 Studios', 'Pam Development', 'Panic Button', 'Paon Corporation', 'Papaya Studios', 'Papyrus', 'Paradigm Entertainment', 'Paradox Development Studio', 'Paradox Interactive', 'Paragon 5', 'Pax Softonica', 'Pendulo Studios', 'Performance Designed Products', 'Petroglyph', 'Phenomedia', 'Phosphor Games Studio', 'Pinegrow', 'Pipe Dream Interactive', 'Pipeworks Software', 'Pitbull Syndicate', 'Planet Interactive', 'Planet Moon Studios', 'Platinum Egg', 'Playground Games', 'Playrix Entertainment', 'Pocket Studios', 'Polygon Magic', 'Polyphony Digital', 'PopTop Software', 'Powerhead Games', 'Project Aces', 'Project Sora', 'Prolific', 'Pronto Games', 'Propaganda Games', 'Prope', 'Pseudo Interactive', 'Psyonix', 'Punchline', 'Purple Hills', 'Pyramid', 'Pyro Studios', 'Q Entertainment', 'Q-Games', 'QLOC', 'Quantic Dream', 'Quest', 'RED Entertainment', 'RFX Interactive', 'Racjin', 'Radius9', 'Rage Software', 'Rare Ltd.', 'Ratbag', 'Raven Software', 'Ravenscourt', 'Razorback Developments', 'Razorworks Studios', 'Re-Logic', 'Reactor Zero', 'Ready at Dawn', 'Realism Ltd', 'Realmforge Studios', 'Realtime Worlds', 'Red 5 Software', 'Red Fly Studio', 'Red Tribe', 'Red Wagon Games', 'Red Zone Entertainment', 'RedLynx', 'Reflections Interactive', 'Relic', 'Reloaded Games Inc.', 'Reloaded Productions', 'Remedy Entertainment', 'Renegade Kid', 'Retro Studios', 'Revolution Software', 'Rockstar Leeds', 'Rockstar London', 'Rockstar North', 'Rockstar San Diego', 'Rockstar Studios', 'Rockstar Toronto', 'Rockstar Vancouver', 'Rockstar Vienna', 'Rocksteady Studios', 'Rovio Entertainment', 'Rovio Mobile', 'Ruffian Games', 'Runecraft', 'Russia', 'Ryu ga Gotoku Studios', 'S-Neo', 'SCE Japan Studio', 'SCE Santa Monica', 'SCE Studio Cambridge', 'SCE/WWS', 'SCEA', 'SCEA Sports Studio', 'SCEE', 'SCEI', 'SCEJ', 'SCS Software', 'SEGA Racing Studio', 'SME Dynamic Systems Limited', 'SNK', 'Sabarasa Entertainment', 'Saber Interactive', 'Saffire', 'Sand Grain Studios', 'Sandlot', 'Sandlot Games', 'Santa Cruz Games', 'Santa Entertainment', 'Sanuk Games', 'Sanuk Software Co.', 'Sanzaru Games', 'Sarbakan Inc.', 'Savage Entertainment', 'Scientifically Proven', 'Screenlife Games', 'Seamless Entertainment', 'Secret Level', 'Seed Studios', 'Sega AM2', 'Sega AM3', 'Sega Studios San Francisco', 'Sennari Interactive', 'Sensory Sweep', 'Seta Corporation', 'Shift', \"Shin'en\", 'Shiny Entertainment', 'Shirogumi', 'Silicon Knights', 'Silicon Studio', 'Silver Wish Games', 'SilverBirch Studios', 'SimBin', 'Simon & Schuster', 'Sims', 'Skonec', 'SkyRiver Studios', 'Skyworks Technologies', 'Slam Games', 'Slant Six', 'Smack Down Productions', 'Small Rockets', 'Smilebit', 'Snapdragon', 'Snowblind Studios', 'Societe Pollene', 'SoftMax', 'SolWorks', 'Sonic Powered', 'Sony Bend', 'Sony Interactive Entertainment', 'SouthPeak Games', 'Spark Unlimited', 'Spiders', 'Spidersoft', 'Spike', 'Spike Chunsoft', 'Spike Chunsoft Co. Ltd.', 'Splash Damage', 'Sports Interactive', 'SquareSoft', 'Squashy Software', 'Stainless Games', 'Stainless Steel Studios', 'Stalker Entertainment', 'Starbreeze', 'Starfish', 'Starfish SD', 'Starsphere Interactive', 'Steel Monkeys', 'Sting', 'Storm City Games', 'Stormfront Studios', 'Stormregion', 'Studio 33', 'Studio Archcraft', 'Studio Gigante', 'Studio Liverpool', 'Studio Saizensen', 'StudioBlack Games', 'Success', 'Sucker Punch', 'SunSoft', 'Sunflowers Interactive', 'Super Empire', 'Super X Studios', 'SuperBot Entertainment', 'SuperMassive Games', 'SuperVillain Studios', 'Supersonic Software', 'Surreal Software', 'Suzak', \"Swingin' Ape\", 'Swordfish Studios', 'Synetic', 'Syscom', 'System 3', 'System Prisma', 'T&E Soft', 'TDK Mediactive', 'THQ Australia', 'THQ Digital Studio Phoenix', 'TML-Studios', 'TT Fusion', 'Tabot', 'Tactical Development', 'Takara', 'Takara Tomy', 'Take-Two Interactive', 'Tamsoft', 'Tango Gameworks', 'Taniko', 'Tantalus Interactive', 'Tantatus', 'Targem Games', 'Tarsier Studios', 'Team Bondi', 'Team Ninja', 'Team Soho', 'Team6 Game Studios', 'Techland', 'Tecmo Koei Canada', 'Tecmo Koei Games', 'Tectonic Studios', 'Telltale Games', 'Tenyo', 'Tetris Online', 'Teyon', 'ThatGameCompany', 'The Behemoth', 'The Coalition', 'The Code Monkeys', 'The Fun Pimps Entertainment LLC', 'The Pokemon Company', 'The Tangentlemen', 'The Workshop', 'Think and Feel', 'Tigon', 'Tilted Mill', 'TimeGate Studios', 'Titus Software', 'Tiwak', 'Toka', 'Tom Create', 'Tommo', 'Tomy Corporation', 'Tornado Studios', 'Totally Games', 'Touchdown Entertainment', 'Tragnarion Studios', 'Tranji', 'Treasure', 'Tri-Ace', 'Tri-Crescendo', 'Turn 10', 'Turtle Rock Studios', 'Twelve Games', 'Twisted Pixel Games', 'Two Tribes', 'UFO Interactive', 'UGA', 'Unigine Corp', 'United Coders', 'United Front Games', 'Universomo', 'V5 Play Studio', 'VIS Entertainment', 'VSTEP', 'Valcon Games', 'Valhalla Game Studios', 'ValuSoft', 'Valuewave Co.,Ltd.', 'Valve Software', 'Vanguard', 'Vanilla Ware', 'Vanillaware', 'Various', 'Velez & Dubail', 'Venom Games', 'Vigil Games', 'Vingt-et-un Systems', 'Vir2L Studios', 'Virtual Play Inc.', 'Virtual Toys', 'Virtucraft', 'Visual Impact', 'Vivarium', 'Vivendi Games', 'Vogster', 'Void Productions', 'WB Games Montreal', 'WXP', 'Walt Disney Japan', 'War Drum Studios', 'Warashi', 'Wargaming.net', 'Warner Bros. Interactive Entertainment', 'Warthog', 'Webfoot Technologies', 'White Birds Productions', 'Wicked Studios', 'Wicked Witch Software', 'Wide Games', 'Wideload Games Inc.', 'WildTangent', 'Wildfire Studios', 'Will', 'Wizarbox', 'Wizardry Engineering', 'WorkJam', 'Wow Entertainment', 'XS Games', 'Xpec', 'Yacht Club Games', 'Yager', \"Yuke's Company of America\", 'Zed Two Limited', 'Zen Studios', 'Zener Works', 'ZeniMax Media', 'Zerodiv', 'Zindagi Games', 'Zipper Interactive', 'Zoe Mode', 'Zombie', 'Zombie Studios', 'Zoo Games', 'comcept', 'eGames', 'h.a.n.d. Inc.', 'iNiS', 'iRock Interactive', 'iWin', 'id Software', 'neo Software', 'odenis studio', 'oeFun', 'syn Sophia', 'zSlide'] will be ignored\n",
      "  warnings.warn('unknown class(es) {0} will be ignored'\n"
     ]
    },
    {
     "data": {
      "text/html": [
       "<div>\n",
       "<style scoped>\n",
       "    .dataframe tbody tr th:only-of-type {\n",
       "        vertical-align: middle;\n",
       "    }\n",
       "\n",
       "    .dataframe tbody tr th {\n",
       "        vertical-align: top;\n",
       "    }\n",
       "\n",
       "    .dataframe thead th {\n",
       "        text-align: right;\n",
       "    }\n",
       "</style>\n",
       "<table border=\"1\" class=\"dataframe\">\n",
       "  <thead>\n",
       "    <tr style=\"text-align: right;\">\n",
       "      <th></th>\n",
       "      <th>DeveloperOH_0_Global_Sales</th>\n",
       "      <th>DeveloperOH_1_Global_Sales</th>\n",
       "      <th>DeveloperOH_2_Global_Sales</th>\n",
       "      <th>DeveloperOH_3_Global_Sales</th>\n",
       "      <th>DeveloperOH_4_Global_Sales</th>\n",
       "      <th>DeveloperOH_5_Global_Sales</th>\n",
       "      <th>DeveloperOH_6_Global_Sales</th>\n",
       "      <th>DeveloperOH_7_Global_Sales</th>\n",
       "      <th>DeveloperOH_8_Global_Sales</th>\n",
       "      <th>DeveloperOH_9_Global_Sales</th>\n",
       "      <th>DeveloperOH_10_Global_Sales</th>\n",
       "      <th>DeveloperOH_11_Global_Sales</th>\n",
       "      <th>DeveloperOH_12_Global_Sales</th>\n",
       "      <th>DeveloperOH_13_Global_Sales</th>\n",
       "      <th>DeveloperOH_14_Global_Sales</th>\n",
       "      <th>DeveloperOH_15_Global_Sales</th>\n",
       "      <th>DeveloperOH_16_Global_Sales</th>\n",
       "      <th>DeveloperOH_17_Global_Sales</th>\n",
       "      <th>DeveloperOH_18_Global_Sales</th>\n",
       "      <th>DeveloperOH_19_Global_Sales</th>\n",
       "    </tr>\n",
       "  </thead>\n",
       "  <tbody>\n",
       "    <tr>\n",
       "      <th>0</th>\n",
       "      <td>1.000204</td>\n",
       "      <td>1.416412</td>\n",
       "      <td>1.414425</td>\n",
       "      <td>1.414455</td>\n",
       "      <td>1.414272</td>\n",
       "      <td>1.414333</td>\n",
       "      <td>1.414214</td>\n",
       "      <td>1.414335</td>\n",
       "      <td>1.414214</td>\n",
       "      <td>1.414214</td>\n",
       "      <td>1.415682</td>\n",
       "      <td>0.0</td>\n",
       "      <td>1.414434</td>\n",
       "      <td>1.414214</td>\n",
       "      <td>1.414616</td>\n",
       "      <td>1.414214</td>\n",
       "      <td>1.414214</td>\n",
       "      <td>1.414214</td>\n",
       "      <td>1.414214</td>\n",
       "      <td>1.414214</td>\n",
       "    </tr>\n",
       "    <tr>\n",
       "      <th>1</th>\n",
       "      <td>1.000204</td>\n",
       "      <td>1.416412</td>\n",
       "      <td>1.414425</td>\n",
       "      <td>1.414455</td>\n",
       "      <td>1.414272</td>\n",
       "      <td>1.414333</td>\n",
       "      <td>1.414214</td>\n",
       "      <td>1.414335</td>\n",
       "      <td>1.414214</td>\n",
       "      <td>1.414214</td>\n",
       "      <td>1.415682</td>\n",
       "      <td>0.0</td>\n",
       "      <td>1.414434</td>\n",
       "      <td>1.414214</td>\n",
       "      <td>1.414616</td>\n",
       "      <td>1.414214</td>\n",
       "      <td>1.414214</td>\n",
       "      <td>1.414214</td>\n",
       "      <td>1.414214</td>\n",
       "      <td>1.414214</td>\n",
       "    </tr>\n",
       "    <tr>\n",
       "      <th>2</th>\n",
       "      <td>1.000204</td>\n",
       "      <td>1.416412</td>\n",
       "      <td>1.414425</td>\n",
       "      <td>1.414455</td>\n",
       "      <td>1.414272</td>\n",
       "      <td>1.414333</td>\n",
       "      <td>1.414214</td>\n",
       "      <td>1.414335</td>\n",
       "      <td>1.414214</td>\n",
       "      <td>1.414214</td>\n",
       "      <td>1.415682</td>\n",
       "      <td>0.0</td>\n",
       "      <td>1.414434</td>\n",
       "      <td>1.414214</td>\n",
       "      <td>1.414616</td>\n",
       "      <td>1.414214</td>\n",
       "      <td>1.414214</td>\n",
       "      <td>1.414214</td>\n",
       "      <td>1.414214</td>\n",
       "      <td>1.414214</td>\n",
       "    </tr>\n",
       "    <tr>\n",
       "      <th>3</th>\n",
       "      <td>0.020202</td>\n",
       "      <td>1.003106</td>\n",
       "      <td>1.000299</td>\n",
       "      <td>1.000341</td>\n",
       "      <td>1.000083</td>\n",
       "      <td>1.000169</td>\n",
       "      <td>1.000000</td>\n",
       "      <td>1.000171</td>\n",
       "      <td>1.000000</td>\n",
       "      <td>1.000000</td>\n",
       "      <td>1.002076</td>\n",
       "      <td>1.0</td>\n",
       "      <td>1.000312</td>\n",
       "      <td>1.000000</td>\n",
       "      <td>1.000570</td>\n",
       "      <td>1.000000</td>\n",
       "      <td>1.000000</td>\n",
       "      <td>1.000000</td>\n",
       "      <td>1.000000</td>\n",
       "      <td>1.000000</td>\n",
       "    </tr>\n",
       "    <tr>\n",
       "      <th>4</th>\n",
       "      <td>1.000204</td>\n",
       "      <td>1.416412</td>\n",
       "      <td>1.414425</td>\n",
       "      <td>1.414455</td>\n",
       "      <td>1.414272</td>\n",
       "      <td>1.414333</td>\n",
       "      <td>1.414214</td>\n",
       "      <td>1.414335</td>\n",
       "      <td>1.414214</td>\n",
       "      <td>1.414214</td>\n",
       "      <td>1.415682</td>\n",
       "      <td>0.0</td>\n",
       "      <td>1.414434</td>\n",
       "      <td>1.414214</td>\n",
       "      <td>1.414616</td>\n",
       "      <td>1.414214</td>\n",
       "      <td>1.414214</td>\n",
       "      <td>1.414214</td>\n",
       "      <td>1.414214</td>\n",
       "      <td>1.414214</td>\n",
       "    </tr>\n",
       "  </tbody>\n",
       "</table>\n",
       "</div>"
      ],
      "text/plain": [
       "   DeveloperOH_0_Global_Sales  DeveloperOH_1_Global_Sales  \\\n",
       "0                    1.000204                    1.416412   \n",
       "1                    1.000204                    1.416412   \n",
       "2                    1.000204                    1.416412   \n",
       "3                    0.020202                    1.003106   \n",
       "4                    1.000204                    1.416412   \n",
       "\n",
       "   DeveloperOH_2_Global_Sales  DeveloperOH_3_Global_Sales  \\\n",
       "0                    1.414425                    1.414455   \n",
       "1                    1.414425                    1.414455   \n",
       "2                    1.414425                    1.414455   \n",
       "3                    1.000299                    1.000341   \n",
       "4                    1.414425                    1.414455   \n",
       "\n",
       "   DeveloperOH_4_Global_Sales  DeveloperOH_5_Global_Sales  \\\n",
       "0                    1.414272                    1.414333   \n",
       "1                    1.414272                    1.414333   \n",
       "2                    1.414272                    1.414333   \n",
       "3                    1.000083                    1.000169   \n",
       "4                    1.414272                    1.414333   \n",
       "\n",
       "   DeveloperOH_6_Global_Sales  DeveloperOH_7_Global_Sales  \\\n",
       "0                    1.414214                    1.414335   \n",
       "1                    1.414214                    1.414335   \n",
       "2                    1.414214                    1.414335   \n",
       "3                    1.000000                    1.000171   \n",
       "4                    1.414214                    1.414335   \n",
       "\n",
       "   DeveloperOH_8_Global_Sales  DeveloperOH_9_Global_Sales  \\\n",
       "0                    1.414214                    1.414214   \n",
       "1                    1.414214                    1.414214   \n",
       "2                    1.414214                    1.414214   \n",
       "3                    1.000000                    1.000000   \n",
       "4                    1.414214                    1.414214   \n",
       "\n",
       "   DeveloperOH_10_Global_Sales  DeveloperOH_11_Global_Sales  \\\n",
       "0                     1.415682                          0.0   \n",
       "1                     1.415682                          0.0   \n",
       "2                     1.415682                          0.0   \n",
       "3                     1.002076                          1.0   \n",
       "4                     1.415682                          0.0   \n",
       "\n",
       "   DeveloperOH_12_Global_Sales  DeveloperOH_13_Global_Sales  \\\n",
       "0                     1.414434                     1.414214   \n",
       "1                     1.414434                     1.414214   \n",
       "2                     1.414434                     1.414214   \n",
       "3                     1.000312                     1.000000   \n",
       "4                     1.414434                     1.414214   \n",
       "\n",
       "   DeveloperOH_14_Global_Sales  DeveloperOH_15_Global_Sales  \\\n",
       "0                     1.414616                     1.414214   \n",
       "1                     1.414616                     1.414214   \n",
       "2                     1.414616                     1.414214   \n",
       "3                     1.000570                     1.000000   \n",
       "4                     1.414616                     1.414214   \n",
       "\n",
       "   DeveloperOH_16_Global_Sales  DeveloperOH_17_Global_Sales  \\\n",
       "0                     1.414214                     1.414214   \n",
       "1                     1.414214                     1.414214   \n",
       "2                     1.414214                     1.414214   \n",
       "3                     1.000000                     1.000000   \n",
       "4                     1.414214                     1.414214   \n",
       "\n",
       "   DeveloperOH_18_Global_Sales  DeveloperOH_19_Global_Sales  \n",
       "0                     1.414214                     1.414214  \n",
       "1                     1.414214                     1.414214  \n",
       "2                     1.414214                     1.414214  \n",
       "3                     1.000000                     1.000000  \n",
       "4                     1.414214                     1.414214  "
      ]
     },
     "metadata": {},
     "output_type": "display_data"
    }
   ],
   "source": [
    "block = DeveloperOHDistBlock(whole_df)\n",
    "assert len(block.fit(train_df)) == len(train_df)\n",
    "display( block.fit(train_df).head())"
   ]
  },
  {
   "cell_type": "markdown",
   "metadata": {},
   "source": [
    "### Developerを分解してカウント（使っていない）"
   ]
  },
  {
   "cell_type": "code",
   "execution_count": 37,
   "metadata": {},
   "outputs": [],
   "source": [
    "class SplitedCountBlock(BaseBlock): \n",
    "    def __init__(self, column:str='Developer', split:str=', '):\n",
    "        self.column = column\n",
    "        self.split = split\n",
    "        \n",
    "    def fit(self, input_df):\n",
    "        out_df = input_df.copy()\n",
    "        out_df[f'Split_Count_{self.column}'] = out_df[self.column].fillna('[unknown]').apply(len)\n",
    "        return out_df[f'Split_Count_{self.column}']\n",
    "    \n",
    "    def transform(self, input_df):\n",
    "        out_df = input_df.copy()\n",
    "        out_df[f'Split_Count_{self.column}'] = out_df[self.column].fillna('[unknown]').apply(len)\n",
    "        return out_df[f'Split_Count_{self.column}']"
   ]
  },
  {
   "cell_type": "code",
   "execution_count": 38,
   "metadata": {},
   "outputs": [
    {
     "data": {
      "text/plain": [
       "3625    49\n",
       "7952    59\n",
       "7953    59\n",
       "6691    60\n",
       "5127    80\n",
       "Name: Split_Count_Developer, dtype: int64"
      ]
     },
     "metadata": {},
     "output_type": "display_data"
    }
   ],
   "source": [
    "block = SplitedCountBlock()\n",
    "assert len(block.fit(train_df)) == len(train_df)\n",
    "display( block.fit(train_df).sort_values().tail())"
   ]
  },
  {
   "cell_type": "markdown",
   "metadata": {},
   "source": [
    "### 集計"
   ]
  },
  {
   "cell_type": "code",
   "execution_count": 39,
   "metadata": {},
   "outputs": [],
   "source": [
    "class AggregateBlock(BaseBlock):\n",
    "    def __init__(self, whole_df, key:str, agg_column:str, agg_funcs:List[str]=['mean'], fill_na=None):\n",
    "        self.whole_df = whole_df.copy()\n",
    "        self.key = key\n",
    "        self.agg_column = agg_column\n",
    "        self.agg_funcs = agg_funcs\n",
    "        self.fill_na = fill_na\n",
    "    \n",
    "    def fit(self, input_df):\n",
    "        if self.fill_na:\n",
    "            self.whole_df[self.agg_column] = self.whole_df[self.agg_column].fillna(fill_na)\n",
    "        \n",
    "        self.gp_df = self.whole_df.groupby(self.key).agg({self.agg_column: self.agg_funcs}).reset_index()\n",
    "        column_names = [ f'GP_{self.agg_column}@{self.key}_{agg_func}' for agg_func in self.agg_funcs]\n",
    "        self.gp_df.columns = [self.key] + column_names\n",
    "        out_df = pd.merge(input_df[self.key], self.gp_df, on=self.key, how='left').drop(columns=[self.key])\n",
    "        return out_df\n",
    "        \n",
    "    def transform(self, input_df):\n",
    "        out_df = pd.merge(input_df[self.key], self.gp_df, on=self.key, how='left').drop(columns=[self.key])\n",
    "        return out_df"
   ]
  },
  {
   "cell_type": "code",
   "execution_count": 40,
   "metadata": {},
   "outputs": [
    {
     "data": {
      "text/html": [
       "<div>\n",
       "<style scoped>\n",
       "    .dataframe tbody tr th:only-of-type {\n",
       "        vertical-align: middle;\n",
       "    }\n",
       "\n",
       "    .dataframe tbody tr th {\n",
       "        vertical-align: top;\n",
       "    }\n",
       "\n",
       "    .dataframe thead th {\n",
       "        text-align: right;\n",
       "    }\n",
       "</style>\n",
       "<table border=\"1\" class=\"dataframe\">\n",
       "  <thead>\n",
       "    <tr style=\"text-align: right;\">\n",
       "      <th></th>\n",
       "      <th>GP_User_Count@Rating_mean</th>\n",
       "    </tr>\n",
       "  </thead>\n",
       "  <tbody>\n",
       "    <tr>\n",
       "      <th>0</th>\n",
       "      <td>79.853308</td>\n",
       "    </tr>\n",
       "    <tr>\n",
       "      <th>1</th>\n",
       "      <td>79.853308</td>\n",
       "    </tr>\n",
       "    <tr>\n",
       "      <th>2</th>\n",
       "      <td>79.853308</td>\n",
       "    </tr>\n",
       "    <tr>\n",
       "      <th>3</th>\n",
       "      <td>NaN</td>\n",
       "    </tr>\n",
       "    <tr>\n",
       "      <th>4</th>\n",
       "      <td>79.853308</td>\n",
       "    </tr>\n",
       "  </tbody>\n",
       "</table>\n",
       "</div>"
      ],
      "text/plain": [
       "   GP_User_Count@Rating_mean\n",
       "0                  79.853308\n",
       "1                  79.853308\n",
       "2                  79.853308\n",
       "3                        NaN\n",
       "4                  79.853308"
      ]
     },
     "metadata": {},
     "output_type": "display_data"
    }
   ],
   "source": [
    "block = AggregateBlock(whole_df, key='Rating', agg_column='User_Count', agg_funcs=['mean'])\n",
    "assert len(block.fit(train_df)) == len(train_df)\n",
    "display( block.fit(train_df).head())"
   ]
  },
  {
   "cell_type": "markdown",
   "metadata": {},
   "source": [
    "### Shiftした特徴量の作成"
   ]
  },
  {
   "cell_type": "code",
   "execution_count": 41,
   "metadata": {},
   "outputs": [],
   "source": [
    "class ShiftBlock(BaseBlock):\n",
    "    def __init__(self, key:str, target_column:str, shift:int):\n",
    "        self.key = key\n",
    "        self.target_column = target_column\n",
    "        self.shift = shift\n",
    "    \n",
    "    def fit(self, input_df):\n",
    "        return self.transform(input_df)\n",
    "        \n",
    "    def transform(self, input_df):\n",
    "        out_df = input_df.copy()\n",
    "        out_df[self.key] = out_df[self.key].fillna('unknown')\n",
    "        out_df[f'Shift{self.shift}_{self.target_column}@{self.key}'] = out_df.groupby(self.key)[self.target_column].transform(lambda x: x.shift(self.shift))\n",
    "        return out_df[f'Shift{self.shift}_{self.target_column}@{self.key}']"
   ]
  },
  {
   "cell_type": "code",
   "execution_count": 42,
   "metadata": {},
   "outputs": [
    {
     "data": {
      "text/plain": [
       "0       NaN\n",
       "1    1994.0\n",
       "2       NaN\n",
       "3       NaN\n",
       "4       NaN\n",
       "Name: Shift-1_Year_of_Release@Publisher, dtype: float64"
      ]
     },
     "metadata": {},
     "output_type": "display_data"
    }
   ],
   "source": [
    "block = ShiftBlock(key='Publisher', target_column='Year_of_Release', shift=-1)\n",
    "assert len(block.fit(train_df)) == len(train_df)\n",
    "display( block.fit(train_df).head())"
   ]
  },
  {
   "cell_type": "markdown",
   "metadata": {},
   "source": [
    "### 特定カラム同士の四則演算"
   ]
  },
  {
   "cell_type": "code",
   "execution_count": 43,
   "metadata": {},
   "outputs": [],
   "source": [
    "class ArithmeticOperationBlock(BaseBlock):\n",
    "    def __init__(self, target_columns1:str, target_columns2:str, operation:str):\n",
    "        self.target_columns1 = target_columns1\n",
    "        self.target_columns2 = target_columns2\n",
    "        self.operation = operation\n",
    "    \n",
    "    def fit(self, input_df):\n",
    "        return self.transform(input_df)\n",
    "    \n",
    "    def transform(self, input_df):\n",
    "        out_df = input_df.copy()\n",
    "        out_column_name = f'{self.target_columns1}{self.operation}{self.target_columns2}'\n",
    "        \n",
    "        if self.operation == '+':\n",
    "            out_df[out_column_name] = out_df[self.target_columns1] + out_df[self.target_columns2]\n",
    "        elif self.operation == '-':\n",
    "            out_df[out_column_name] = out_df[self.target_columns1] - out_df[self.target_columns2]\n",
    "        elif self.operation == '*':\n",
    "            out_df[out_column_name] = out_df[self.target_columns1] * out_df[self.target_columns2]\n",
    "        elif self.operation == '/':\n",
    "            out_df[out_column_name] = out_df[self.target_columns1] / out_df[self.target_columns2]\n",
    "            \n",
    "        return out_df[out_column_name]"
   ]
  },
  {
   "cell_type": "code",
   "execution_count": 44,
   "metadata": {},
   "outputs": [
    {
     "data": {
      "text/plain": [
       "0    306\n",
       "1    234\n",
       "2    128\n",
       "3    125\n",
       "4    124\n",
       "Name: Global_Sales-JP_Sales, dtype: int64"
      ]
     },
     "metadata": {},
     "output_type": "display_data"
    }
   ],
   "source": [
    "block = ArithmeticOperationBlock('Global_Sales','JP_Sales', '-')\n",
    "assert len(block.fit(train_df)) == len(train_df)\n",
    "display( block.fit(train_df).head())"
   ]
  },
  {
   "cell_type": "markdown",
   "metadata": {},
   "source": [
    "### 類似する名前でグルーピング\n",
    "name_group_dictを作るのがそこそこ時間かかるので、できたらdumpしておく"
   ]
  },
  {
   "cell_type": "code",
   "execution_count": 45,
   "metadata": {},
   "outputs": [],
   "source": [
    "import pickle"
   ]
  },
  {
   "cell_type": "code",
   "execution_count": 46,
   "metadata": {},
   "outputs": [],
   "source": [
    "# from textdistance import jaro\n",
    "# game_names = whole_df.sort_values('Year_of_Release')['Name'].unique()\n",
    "# name_group_dict = {k : -1 for k in game_names} \n",
    "# class_num = 0\n",
    "\n",
    "# for name in game_names:\n",
    "#     results = np.array([jaro(name, x) for x in game_names])\n",
    "#     same_group_names = game_names[np.where(results > .8)[0]]\n",
    "#     for n in same_group_names:\n",
    "#         name_group_dict[n] = class_num\n",
    "#     game_names = game_names[np.where(results <= .8)[0]]\n",
    "    \n",
    "#     class_num += 1\n",
    "    \n",
    "# with open(os.path.join(INPUT_DIR, 'name_group_dict_jaro0.8.pickle'), 'wb') as f:\n",
    "#     pickle.dump(name_group_dict, f)"
   ]
  },
  {
   "cell_type": "code",
   "execution_count": 47,
   "metadata": {},
   "outputs": [],
   "source": [
    "with open(os.path.join(INPUT_DIR, 'name_group_dict_jaro0.8.pickle'), 'rb') as f:\n",
    "  name_group_dict = pickle.load(f)\n",
    "\n",
    "class NameSimilarityGroupBlock(BaseBlock):\n",
    "    def fit(self, input_df):\n",
    "        return self.transform(input_df)\n",
    "        \n",
    "    def transform(self, input_df):\n",
    "        out_df = input_df.copy()\n",
    "        out_df['Name2'] = clearn_by_hero(input_df['Name'])\n",
    "        out_df['NameSimilarGroup'] = out_df['Name2'].map(name_group_dict)\n",
    "        return out_df['NameSimilarGroup']"
   ]
  },
  {
   "cell_type": "code",
   "execution_count": 48,
   "metadata": {},
   "outputs": [
    {
     "data": {
      "text/plain": [
       "0    3627\n",
       "1    5695\n",
       "2    3627\n",
       "3    1077\n",
       "4    7410\n",
       "Name: NameSimilarGroup, dtype: int64"
      ]
     },
     "metadata": {},
     "output_type": "display_data"
    }
   ],
   "source": [
    "block = NameSimilarityGroupBlock()\n",
    "assert len(block.fit(train_df)) == len(train_df)\n",
    "display( block.fit(train_df).head())"
   ]
  },
  {
   "cell_type": "markdown",
   "metadata": {},
   "source": [
    "### Score系特徴量の変換"
   ]
  },
  {
   "cell_type": "code",
   "execution_count": 49,
   "metadata": {},
   "outputs": [
    {
     "data": {
      "text/plain": [
       "0    74.0\n",
       "1    78.0\n",
       "2    73.0\n",
       "3     NaN\n",
       "4    76.0\n",
       "Name: Critic_Score, dtype: float64"
      ]
     },
     "execution_count": 49,
     "metadata": {},
     "output_type": "execute_result"
    }
   ],
   "source": [
    "train_df['Critic_Score'].head()"
   ]
  },
  {
   "cell_type": "code",
   "execution_count": 50,
   "metadata": {},
   "outputs": [
    {
     "data": {
      "text/html": [
       "<div>\n",
       "<style scoped>\n",
       "    .dataframe tbody tr th:only-of-type {\n",
       "        vertical-align: middle;\n",
       "    }\n",
       "\n",
       "    .dataframe tbody tr th {\n",
       "        vertical-align: top;\n",
       "    }\n",
       "\n",
       "    .dataframe thead th {\n",
       "        text-align: right;\n",
       "    }\n",
       "</style>\n",
       "<table border=\"1\" class=\"dataframe\">\n",
       "  <thead>\n",
       "    <tr style=\"text-align: right;\">\n",
       "      <th></th>\n",
       "      <th>Name</th>\n",
       "      <th>Platform</th>\n",
       "      <th>Year_of_Release</th>\n",
       "      <th>Genre</th>\n",
       "      <th>Publisher</th>\n",
       "      <th>NA_Sales</th>\n",
       "      <th>EU_Sales</th>\n",
       "      <th>JP_Sales</th>\n",
       "      <th>Other_Sales</th>\n",
       "      <th>Global_Sales</th>\n",
       "      <th>...</th>\n",
       "      <th>User_Count</th>\n",
       "      <th>Developer</th>\n",
       "      <th>Rating</th>\n",
       "      <th>Year_of_Release_Platform</th>\n",
       "      <th>Year_of_Release_Genre</th>\n",
       "      <th>Year_of_Release_Platform_Genre</th>\n",
       "      <th>Year_of_Release_Platform_Genre_Rating</th>\n",
       "      <th>Year_of_Release_Rating</th>\n",
       "      <th>Platform_Genre</th>\n",
       "      <th>Publisher_Genre</th>\n",
       "    </tr>\n",
       "  </thead>\n",
       "  <tbody>\n",
       "  </tbody>\n",
       "</table>\n",
       "<p>0 rows × 23 columns</p>\n",
       "</div>"
      ],
      "text/plain": [
       "Empty DataFrame\n",
       "Columns: [Name, Platform, Year_of_Release, Genre, Publisher, NA_Sales, EU_Sales, JP_Sales, Other_Sales, Global_Sales, Critic_Score, Critic_Count, User_Score, User_Count, Developer, Rating, Year_of_Release_Platform, Year_of_Release_Genre, Year_of_Release_Platform_Genre, Year_of_Release_Platform_Genre_Rating, Year_of_Release_Rating, Platform_Genre, Publisher_Genre]\n",
       "Index: []\n",
       "\n",
       "[0 rows x 23 columns]"
      ]
     },
     "execution_count": 50,
     "metadata": {},
     "output_type": "execute_result"
    }
   ],
   "source": [
    "train_df.query('Critic_Score == \"tbd\"')"
   ]
  },
  {
   "cell_type": "code",
   "execution_count": 51,
   "metadata": {},
   "outputs": [],
   "source": [
    "class ReplaceTBDToNaNBlock(BaseBlock):\n",
    "    def __init__(self, column:str='User_Score'):\n",
    "        self.column = column\n",
    "        \n",
    "    def fit(self, input_df):\n",
    "        return self.transform(input_df)\n",
    "    \n",
    "    def transform(self, input_df):\n",
    "        out_df = input_df.copy()[[self.column]]\n",
    "        out_df[f'Replace_{self.column}'] = out_df[self.column].str.replace('tbd', 'NaN')\n",
    "        return out_df[f'Replace_{self.column}']"
   ]
  },
  {
   "cell_type": "code",
   "execution_count": 52,
   "metadata": {},
   "outputs": [
    {
     "data": {
      "text/plain": [
       "0    7.9\n",
       "1    6.6\n",
       "2    7.4\n",
       "3    NaN\n",
       "4    7.8\n",
       "Name: Replace_User_Score, dtype: object"
      ]
     },
     "metadata": {},
     "output_type": "display_data"
    }
   ],
   "source": [
    "block = ReplaceTBDToNaNBlock()\n",
    "assert len(block.fit(train_df)) == len(train_df)\n",
    "display( block.fit(train_df).head())"
   ]
  },
  {
   "cell_type": "markdown",
   "metadata": {},
   "source": [
    "# 特徴量作成"
   ]
  },
  {
   "cell_type": "code",
   "execution_count": 53,
   "metadata": {},
   "outputs": [],
   "source": [
    "# https://github.com/nyk510/vivid/blob/master/vivid/utils.py\n",
    "from contextlib import contextmanager\n",
    "from time import time\n",
    "\n",
    "@contextmanager\n",
    "def timer(logger=None, format_str='{:.3f}[s]', prefix=None, suffix=None):\n",
    "    if prefix: format_str = str(prefix) + format_str\n",
    "    if suffix: format_str = format_str + str(suffix)\n",
    "    start = time()\n",
    "    yield\n",
    "    d = time() - start\n",
    "    out_str = format_str.format(d)\n",
    "    if logger:\n",
    "        logger.info(out_str)\n",
    "    else:\n",
    "        print(out_str)"
   ]
  },
  {
   "cell_type": "code",
   "execution_count": 54,
   "metadata": {},
   "outputs": [],
   "source": [
    "from tqdm import tqdm\n",
    "\n",
    "\n",
    "def get_function(block, is_train):\n",
    "    s = mapping = {\n",
    "        True: 'fit',\n",
    "        False: 'transform'\n",
    "    }.get(is_train)\n",
    "    return getattr(block, s)\n",
    "\n",
    "def add_preprocessed_feat(input_df, \n",
    "               blocks,\n",
    "               is_train=False):\n",
    "    out_df = input_df.copy()\n",
    "    \n",
    "    for block in tqdm(blocks, total=len(blocks)):\n",
    "        func = get_function(block, is_train)\n",
    "        \n",
    "        with timer(prefix='create ' + str(block) + ' '):\n",
    "            _df = func(input_df)\n",
    "        \n",
    "        assert len(_df) == len(input_df), func.__name__\n",
    "        out_df = pd.concat([out_df, _df], axis=1)\n",
    "        \n",
    "    return out_df\n",
    "    \n",
    "\n",
    "def to_feature(input_df, \n",
    "               blocks,\n",
    "               is_train=False):\n",
    "    out_df = pd.DataFrame()\n",
    "    \n",
    "    for block in tqdm(blocks, total=len(blocks)):\n",
    "        func = get_function(block, is_train)\n",
    "        \n",
    "        with timer(prefix='create ' + str(block) + ' '):\n",
    "            _df = func(input_df)\n",
    "        \n",
    "        assert len(_df) == len(input_df), func.__name__\n",
    "        out_df = pd.concat([out_df, _df], axis=1)\n",
    "        \n",
    "    return out_df"
   ]
  },
  {
   "cell_type": "markdown",
   "metadata": {},
   "source": [
    "## プロセス①"
   ]
  },
  {
   "cell_type": "code",
   "execution_count": 55,
   "metadata": {},
   "outputs": [],
   "source": [
    "preprocess_blocks = [\n",
    "    FillNaOfYearOfReleaseBlock(whole_df),\n",
    "    NameSimilarityGroupBlock(),\n",
    "    ReplaceTBDToNaNBlock(column='User_Score')\n",
    "]"
   ]
  },
  {
   "cell_type": "code",
   "execution_count": 56,
   "metadata": {},
   "outputs": [
    {
     "data": {
      "text/plain": [
       "[<__main__.FillNaOfYearOfReleaseBlock at 0x16f0e5ddd30>,\n",
       " <__main__.NameSimilarityGroupBlock at 0x16f0e5dd130>,\n",
       " <__main__.ReplaceTBDToNaNBlock at 0x16f0e5dd100>]"
      ]
     },
     "execution_count": 56,
     "metadata": {},
     "output_type": "execute_result"
    }
   ],
   "source": [
    "preprocess_blocks"
   ]
  },
  {
   "cell_type": "code",
   "execution_count": 57,
   "metadata": {},
   "outputs": [
    {
     "name": "stderr",
     "output_type": "stream",
     "text": [
      "100%|██████████| 3/3 [00:01<00:00,  1.66it/s]\n",
      "  0%|          | 0/3 [00:00<?, ?it/s]"
     ]
    },
    {
     "name": "stdout",
     "output_type": "stream",
     "text": [
      "create <__main__.FillNaOfYearOfReleaseBlock object at 0x0000016F0E5DDD30> 1.635[s]\n",
      "create <__main__.NameSimilarityGroupBlock object at 0x0000016F0E5DD130> 0.153[s]\n",
      "create <__main__.ReplaceTBDToNaNBlock object at 0x0000016F0E5DD100> 0.007[s]\n"
     ]
    },
    {
     "name": "stderr",
     "output_type": "stream",
     "text": [
      "100%|██████████| 3/3 [00:01<00:00,  1.81it/s]"
     ]
    },
    {
     "name": "stdout",
     "output_type": "stream",
     "text": [
      "create <__main__.FillNaOfYearOfReleaseBlock object at 0x0000016F0E5DDD30> 1.484[s]\n",
      "create <__main__.NameSimilarityGroupBlock object at 0x0000016F0E5DD130> 0.150[s]\n",
      "create <__main__.ReplaceTBDToNaNBlock object at 0x0000016F0E5DD100> 0.007[s]\n"
     ]
    },
    {
     "name": "stderr",
     "output_type": "stream",
     "text": [
      "\n"
     ]
    }
   ],
   "source": [
    "changed_train_df = add_preprocessed_feat(train_df, preprocess_blocks, is_train=True)\n",
    "changed_test_df = add_preprocessed_feat(test_df, preprocess_blocks)\n",
    "\n",
    "changed_train_df['Year_of_Release'] = changed_train_df['Replace_Year']\n",
    "changed_test_df['Year_of_Release'] = changed_test_df['Replace_Year']\n",
    "changed_train_df['User_Score'] = changed_train_df['Replace_User_Score']\n",
    "changed_test_df['User_Score'] = changed_test_df['Replace_User_Score']\n",
    "\n",
    "changed_whole_df = pd.concat([changed_train_df, changed_test_df], ignore_index=True)"
   ]
  },
  {
   "cell_type": "code",
   "execution_count": 58,
   "metadata": {},
   "outputs": [
    {
     "data": {
      "text/html": [
       "<div>\n",
       "<style scoped>\n",
       "    .dataframe tbody tr th:only-of-type {\n",
       "        vertical-align: middle;\n",
       "    }\n",
       "\n",
       "    .dataframe tbody tr th {\n",
       "        vertical-align: top;\n",
       "    }\n",
       "\n",
       "    .dataframe thead th {\n",
       "        text-align: right;\n",
       "    }\n",
       "</style>\n",
       "<table border=\"1\" class=\"dataframe\">\n",
       "  <thead>\n",
       "    <tr style=\"text-align: right;\">\n",
       "      <th></th>\n",
       "      <th>0</th>\n",
       "      <th>1</th>\n",
       "      <th>2</th>\n",
       "      <th>3</th>\n",
       "      <th>4</th>\n",
       "    </tr>\n",
       "  </thead>\n",
       "  <tbody>\n",
       "    <tr>\n",
       "      <th>Name</th>\n",
       "      <td>Hitman 2: Silent Assassin</td>\n",
       "      <td>Legacy of Kain: Soul Reaver</td>\n",
       "      <td>Metal Gear Solid 2: Substance</td>\n",
       "      <td>Silent Hill: Homecoming</td>\n",
       "      <td>Silent Hill: Homecoming</td>\n",
       "    </tr>\n",
       "    <tr>\n",
       "      <th>Platform</th>\n",
       "      <td>XB</td>\n",
       "      <td>PS</td>\n",
       "      <td>XB</td>\n",
       "      <td>X360</td>\n",
       "      <td>PS3</td>\n",
       "    </tr>\n",
       "    <tr>\n",
       "      <th>Year_of_Release</th>\n",
       "      <td>NaN</td>\n",
       "      <td>NaN</td>\n",
       "      <td>NaN</td>\n",
       "      <td>NaN</td>\n",
       "      <td>NaN</td>\n",
       "    </tr>\n",
       "    <tr>\n",
       "      <th>Genre</th>\n",
       "      <td>Action</td>\n",
       "      <td>Action</td>\n",
       "      <td>Action</td>\n",
       "      <td>Action</td>\n",
       "      <td>Action</td>\n",
       "    </tr>\n",
       "    <tr>\n",
       "      <th>Publisher</th>\n",
       "      <td>Eidos Interactive</td>\n",
       "      <td>Eidos Interactive</td>\n",
       "      <td>Konami Digital Entertainment</td>\n",
       "      <td>Konami Digital Entertainment</td>\n",
       "      <td>Konami Digital Entertainment</td>\n",
       "    </tr>\n",
       "    <tr>\n",
       "      <th>Critic_Score</th>\n",
       "      <td>84</td>\n",
       "      <td>91</td>\n",
       "      <td>87</td>\n",
       "      <td>70</td>\n",
       "      <td>71</td>\n",
       "    </tr>\n",
       "    <tr>\n",
       "      <th>Critic_Count</th>\n",
       "      <td>23</td>\n",
       "      <td>17</td>\n",
       "      <td>28</td>\n",
       "      <td>54</td>\n",
       "      <td>41</td>\n",
       "    </tr>\n",
       "    <tr>\n",
       "      <th>User_Score</th>\n",
       "      <td>8</td>\n",
       "      <td>9</td>\n",
       "      <td>8.5</td>\n",
       "      <td>6.9</td>\n",
       "      <td>6.9</td>\n",
       "    </tr>\n",
       "    <tr>\n",
       "      <th>User_Count</th>\n",
       "      <td>19</td>\n",
       "      <td>132</td>\n",
       "      <td>39</td>\n",
       "      <td>180</td>\n",
       "      <td>143</td>\n",
       "    </tr>\n",
       "    <tr>\n",
       "      <th>Developer</th>\n",
       "      <td>Io Interactive</td>\n",
       "      <td>Crystal Dynamics</td>\n",
       "      <td>KCEJ</td>\n",
       "      <td>Double Helix Games</td>\n",
       "      <td>Double Helix Games</td>\n",
       "    </tr>\n",
       "    <tr>\n",
       "      <th>Rating</th>\n",
       "      <td>M</td>\n",
       "      <td>T</td>\n",
       "      <td>M</td>\n",
       "      <td>M</td>\n",
       "      <td>M</td>\n",
       "    </tr>\n",
       "    <tr>\n",
       "      <th>Year_of_Release_Platform</th>\n",
       "      <td>nan_XB</td>\n",
       "      <td>nan_PS</td>\n",
       "      <td>nan_XB</td>\n",
       "      <td>nan_X360</td>\n",
       "      <td>nan_PS3</td>\n",
       "    </tr>\n",
       "    <tr>\n",
       "      <th>Year_of_Release_Genre</th>\n",
       "      <td>nan Action</td>\n",
       "      <td>nan Action</td>\n",
       "      <td>nan Action</td>\n",
       "      <td>nan Action</td>\n",
       "      <td>nan Action</td>\n",
       "    </tr>\n",
       "    <tr>\n",
       "      <th>Year_of_Release_Platform_Genre</th>\n",
       "      <td>nan_XB Action</td>\n",
       "      <td>nan_PS Action</td>\n",
       "      <td>nan_XB Action</td>\n",
       "      <td>nan_X360 Action</td>\n",
       "      <td>nan_PS3 Action</td>\n",
       "    </tr>\n",
       "    <tr>\n",
       "      <th>Year_of_Release_Platform_Genre_Rating</th>\n",
       "      <td>nan_XB Action M</td>\n",
       "      <td>nan_PS Action T</td>\n",
       "      <td>nan_XB Action M</td>\n",
       "      <td>nan_X360 Action M</td>\n",
       "      <td>nan_PS3 Action M</td>\n",
       "    </tr>\n",
       "    <tr>\n",
       "      <th>Year_of_Release_Rating</th>\n",
       "      <td>nan M</td>\n",
       "      <td>nan T</td>\n",
       "      <td>nan M</td>\n",
       "      <td>nan M</td>\n",
       "      <td>nan M</td>\n",
       "    </tr>\n",
       "    <tr>\n",
       "      <th>Platform_Genre</th>\n",
       "      <td>XB Action</td>\n",
       "      <td>PS Action</td>\n",
       "      <td>XB Action</td>\n",
       "      <td>X360 Action</td>\n",
       "      <td>PS3 Action</td>\n",
       "    </tr>\n",
       "    <tr>\n",
       "      <th>Publisher_Genre</th>\n",
       "      <td>Eidos Interactive Action</td>\n",
       "      <td>Eidos Interactive Action</td>\n",
       "      <td>Konami Digital Entertainment Action</td>\n",
       "      <td>Konami Digital Entertainment Action</td>\n",
       "      <td>Konami Digital Entertainment Action</td>\n",
       "    </tr>\n",
       "    <tr>\n",
       "      <th>Replace_Year</th>\n",
       "      <td>NaN</td>\n",
       "      <td>NaN</td>\n",
       "      <td>NaN</td>\n",
       "      <td>NaN</td>\n",
       "      <td>NaN</td>\n",
       "    </tr>\n",
       "    <tr>\n",
       "      <th>NameSimilarGroup</th>\n",
       "      <td>2626</td>\n",
       "      <td>2848</td>\n",
       "      <td>1119</td>\n",
       "      <td>1584</td>\n",
       "      <td>1584</td>\n",
       "    </tr>\n",
       "    <tr>\n",
       "      <th>Replace_User_Score</th>\n",
       "      <td>8</td>\n",
       "      <td>9</td>\n",
       "      <td>8.5</td>\n",
       "      <td>6.9</td>\n",
       "      <td>6.9</td>\n",
       "    </tr>\n",
       "  </tbody>\n",
       "</table>\n",
       "</div>"
      ],
      "text/plain": [
       "                                                               0  \\\n",
       "Name                                   Hitman 2: Silent Assassin   \n",
       "Platform                                                      XB   \n",
       "Year_of_Release                                              NaN   \n",
       "Genre                                                     Action   \n",
       "Publisher                                      Eidos Interactive   \n",
       "Critic_Score                                                  84   \n",
       "Critic_Count                                                  23   \n",
       "User_Score                                                     8   \n",
       "User_Count                                                    19   \n",
       "Developer                                         Io Interactive   \n",
       "Rating                                                         M   \n",
       "Year_of_Release_Platform                                  nan_XB   \n",
       "Year_of_Release_Genre                                 nan Action   \n",
       "Year_of_Release_Platform_Genre                     nan_XB Action   \n",
       "Year_of_Release_Platform_Genre_Rating            nan_XB Action M   \n",
       "Year_of_Release_Rating                                     nan M   \n",
       "Platform_Genre                                         XB Action   \n",
       "Publisher_Genre                         Eidos Interactive Action   \n",
       "Replace_Year                                                 NaN   \n",
       "NameSimilarGroup                                            2626   \n",
       "Replace_User_Score                                             8   \n",
       "\n",
       "                                                                 1  \\\n",
       "Name                                   Legacy of Kain: Soul Reaver   \n",
       "Platform                                                        PS   \n",
       "Year_of_Release                                                NaN   \n",
       "Genre                                                       Action   \n",
       "Publisher                                        Eidos Interactive   \n",
       "Critic_Score                                                    91   \n",
       "Critic_Count                                                    17   \n",
       "User_Score                                                       9   \n",
       "User_Count                                                     132   \n",
       "Developer                                         Crystal Dynamics   \n",
       "Rating                                                           T   \n",
       "Year_of_Release_Platform                                    nan_PS   \n",
       "Year_of_Release_Genre                                   nan Action   \n",
       "Year_of_Release_Platform_Genre                       nan_PS Action   \n",
       "Year_of_Release_Platform_Genre_Rating              nan_PS Action T   \n",
       "Year_of_Release_Rating                                       nan T   \n",
       "Platform_Genre                                           PS Action   \n",
       "Publisher_Genre                           Eidos Interactive Action   \n",
       "Replace_Year                                                   NaN   \n",
       "NameSimilarGroup                                              2848   \n",
       "Replace_User_Score                                               9   \n",
       "\n",
       "                                                                         2  \\\n",
       "Name                                         Metal Gear Solid 2: Substance   \n",
       "Platform                                                                XB   \n",
       "Year_of_Release                                                        NaN   \n",
       "Genre                                                               Action   \n",
       "Publisher                                     Konami Digital Entertainment   \n",
       "Critic_Score                                                            87   \n",
       "Critic_Count                                                            28   \n",
       "User_Score                                                             8.5   \n",
       "User_Count                                                              39   \n",
       "Developer                                                             KCEJ   \n",
       "Rating                                                                   M   \n",
       "Year_of_Release_Platform                                            nan_XB   \n",
       "Year_of_Release_Genre                                           nan Action   \n",
       "Year_of_Release_Platform_Genre                               nan_XB Action   \n",
       "Year_of_Release_Platform_Genre_Rating                      nan_XB Action M   \n",
       "Year_of_Release_Rating                                               nan M   \n",
       "Platform_Genre                                                   XB Action   \n",
       "Publisher_Genre                        Konami Digital Entertainment Action   \n",
       "Replace_Year                                                           NaN   \n",
       "NameSimilarGroup                                                      1119   \n",
       "Replace_User_Score                                                     8.5   \n",
       "\n",
       "                                                                         3  \\\n",
       "Name                                               Silent Hill: Homecoming   \n",
       "Platform                                                              X360   \n",
       "Year_of_Release                                                        NaN   \n",
       "Genre                                                               Action   \n",
       "Publisher                                     Konami Digital Entertainment   \n",
       "Critic_Score                                                            70   \n",
       "Critic_Count                                                            54   \n",
       "User_Score                                                             6.9   \n",
       "User_Count                                                             180   \n",
       "Developer                                               Double Helix Games   \n",
       "Rating                                                                   M   \n",
       "Year_of_Release_Platform                                          nan_X360   \n",
       "Year_of_Release_Genre                                           nan Action   \n",
       "Year_of_Release_Platform_Genre                             nan_X360 Action   \n",
       "Year_of_Release_Platform_Genre_Rating                    nan_X360 Action M   \n",
       "Year_of_Release_Rating                                               nan M   \n",
       "Platform_Genre                                                 X360 Action   \n",
       "Publisher_Genre                        Konami Digital Entertainment Action   \n",
       "Replace_Year                                                           NaN   \n",
       "NameSimilarGroup                                                      1584   \n",
       "Replace_User_Score                                                     6.9   \n",
       "\n",
       "                                                                         4  \n",
       "Name                                               Silent Hill: Homecoming  \n",
       "Platform                                                               PS3  \n",
       "Year_of_Release                                                        NaN  \n",
       "Genre                                                               Action  \n",
       "Publisher                                     Konami Digital Entertainment  \n",
       "Critic_Score                                                            71  \n",
       "Critic_Count                                                            41  \n",
       "User_Score                                                             6.9  \n",
       "User_Count                                                             143  \n",
       "Developer                                               Double Helix Games  \n",
       "Rating                                                                   M  \n",
       "Year_of_Release_Platform                                           nan_PS3  \n",
       "Year_of_Release_Genre                                           nan Action  \n",
       "Year_of_Release_Platform_Genre                              nan_PS3 Action  \n",
       "Year_of_Release_Platform_Genre_Rating                     nan_PS3 Action M  \n",
       "Year_of_Release_Rating                                               nan M  \n",
       "Platform_Genre                                                  PS3 Action  \n",
       "Publisher_Genre                        Konami Digital Entertainment Action  \n",
       "Replace_Year                                                           NaN  \n",
       "NameSimilarGroup                                                      1584  \n",
       "Replace_User_Score                                                     6.9  "
      ]
     },
     "execution_count": 58,
     "metadata": {},
     "output_type": "execute_result"
    }
   ],
   "source": [
    "changed_test_df.head().T"
   ]
  },
  {
   "cell_type": "markdown",
   "metadata": {},
   "source": [
    "## プロセス②"
   ]
  },
  {
   "cell_type": "code",
   "execution_count": 59,
   "metadata": {},
   "outputs": [],
   "source": [
    "process_blocks = [\n",
    "    WrapperBlock(create_continuous_features),\n",
    "    WrapperBlock(create_boolean_feature),\n",
    "    *[NGramBlock(changed_whole_df, column=c, top_n=20, n=3) for c in ['Name', 'Developer']],\n",
    "    *[OneHotBlock(c, count_limit=20) for c in ['Platform', 'Genre', 'Rating']],\n",
    "    *[CountEncodingBlock(c, whole_df=changed_whole_df) for c in ['Name', 'Platform', 'Year_of_Release', 'NameSimilarGroup']],\n",
    "    *[SalesPortfolioBlock(c) for c in ['Genre','Platform', 'Year_of_Release_Platform', 'Rating']],\n",
    "    *[ShiftBlock(key=c, target_column='Year_of_Release', shift=-5) for c in ['Publisher','Platform_Genre', 'NameSimilarGroup', 'Publisher_Genre']],\n",
    "    *[ShiftBlock(key=c, target_column='Year_of_Release', shift=-4) for c in ['Publisher','Platform_Genre', 'NameSimilarGroup', 'Publisher_Genre']],\n",
    "    *[ShiftBlock(key=c, target_column='Year_of_Release', shift=-3) for c in ['Publisher','Platform_Genre', 'NameSimilarGroup', 'Publisher_Genre']],\n",
    "    *[ShiftBlock(key=c, target_column='Year_of_Release', shift=-2) for c in ['Publisher','Platform_Genre', 'NameSimilarGroup', 'Publisher_Genre']],\n",
    "    *[ShiftBlock(key=c, target_column='Year_of_Release', shift=-1) for c in ['Publisher','Platform_Genre', 'NameSimilarGroup', 'Publisher_Genre']],\n",
    "    *[ShiftBlock(key=c, target_column='Year_of_Release', shift=1) for c in ['Publisher','Platform_Genre', 'NameSimilarGroup', 'Publisher_Genre']],\n",
    "    *[ShiftBlock(key=c, target_column='Year_of_Release', shift=2) for c in ['Publisher','Platform_Genre', 'NameSimilarGroup', 'Publisher_Genre']],\n",
    "    *[ShiftBlock(key=c, target_column='Year_of_Release', shift=3) for c in ['Publisher','Platform_Genre', 'NameSimilarGroup', 'Publisher_Genre']],\n",
    "    *[ShiftBlock(key=c, target_column='Year_of_Release', shift=4) for c in ['Publisher','Platform_Genre', 'NameSimilarGroup', 'Publisher_Genre']],\n",
    "    *[ShiftBlock(key=c, target_column='Year_of_Release', shift=5) for c in ['Publisher','Platform_Genre', 'NameSimilarGroup', 'Publisher_Genre']],\n",
    "    *[ShiftBlock(key=c, target_column='User_Count', shift=-5) for c in ['Publisher','Platform_Genre', 'NameSimilarGroup', 'Publisher_Genre']],\n",
    "    *[ShiftBlock(key=c, target_column='User_Count', shift=-4) for c in ['Publisher','Platform_Genre', 'NameSimilarGroup', 'Publisher_Genre']],\n",
    "    *[ShiftBlock(key=c, target_column='User_Count', shift=-3) for c in ['Publisher','Platform_Genre', 'NameSimilarGroup', 'Publisher_Genre']],\n",
    "    *[ShiftBlock(key=c, target_column='User_Count', shift=-2) for c in ['Publisher','Platform_Genre', 'NameSimilarGroup', 'Publisher_Genre']],\n",
    "    *[ShiftBlock(key=c, target_column='User_Count', shift=-1) for c in ['Publisher','Platform_Genre', 'NameSimilarGroup', 'Publisher_Genre']],\n",
    "    *[ShiftBlock(key=c, target_column='User_Count', shift=1) for c in ['Publisher','Platform_Genre', 'NameSimilarGroup', 'Publisher_Genre']],\n",
    "    *[ShiftBlock(key=c, target_column='User_Count', shift=2) for c in ['Publisher','Platform_Genre', 'NameSimilarGroup', 'Publisher_Genre']],\n",
    "    *[ShiftBlock(key=c, target_column='User_Count', shift=3) for c in ['Publisher','Platform_Genre', 'NameSimilarGroup', 'Publisher_Genre']],\n",
    "    *[ShiftBlock(key=c, target_column='User_Count', shift=4) for c in ['Publisher','Platform_Genre', 'NameSimilarGroup', 'Publisher_Genre']],\n",
    "    *[ShiftBlock(key=c, target_column='User_Count', shift=5) for c in ['Publisher','Platform_Genre', 'NameSimilarGroup', 'Publisher_Genre']],\n",
    "#     *[ShiftBlock(key=c, target_column='Critic_Count', shift=-5) for c in ['Publisher','Platform_Genre', 'NameSimilarGroup', 'Publisher_Genre']],\n",
    "#     *[ShiftBlock(key=c, target_column='Critic_Count', shift=-4) for c in ['Publisher','Platform_Genre', 'NameSimilarGroup', 'Publisher_Genre']],\n",
    "#     *[ShiftBlock(key=c, target_column='Critic_Count', shift=-3) for c in ['Publisher','Platform_Genre', 'NameSimilarGroup', 'Publisher_Genre']],\n",
    "#     *[ShiftBlock(key=c, target_column='Critic_Count', shift=-2) for c in ['Publisher','Platform_Genre', 'NameSimilarGroup', 'Publisher_Genre']],\n",
    "    *[ShiftBlock(key=c, target_column='Critic_Count', shift=-1) for c in ['Publisher','Platform_Genre', 'NameSimilarGroup', 'Publisher_Genre']],\n",
    "    *[ShiftBlock(key=c, target_column='Critic_Count', shift=1) for c in ['Publisher','Platform_Genre', 'NameSimilarGroup', 'Publisher_Genre']],\n",
    "#     *[ShiftBlock(key=c, target_column='Critic_Count', shift=2) for c in ['Publisher','Platform_Genre', 'NameSimilarGroup', 'Publisher_Genre']],\n",
    "#     *[ShiftBlock(key=c, target_column='Critic_Count', shift=3) for c in ['Publisher','Platform_Genre', 'NameSimilarGroup', 'Publisher_Genre']],\n",
    "#     *[ShiftBlock(key=c, target_column='Critic_Count', shift=4) for c in ['Publisher','Platform_Genre', 'NameSimilarGroup', 'Publisher_Genre']],\n",
    "#     *[ShiftBlock(key=c, target_column='Critic_Count', shift=5) for c in ['Publisher','Platform_Genre', 'NameSimilarGroup', 'Publisher_Genre']],\n",
    "    *[ShiftBlock(key=c, target_column='Critic_Score', shift=-1) for c in ['Publisher','Platform_Genre', 'NameSimilarGroup', 'Publisher_Genre']],\n",
    "    *[ShiftBlock(key=c, target_column='Critic_Score', shift=1) for c in ['Publisher','Platform_Genre', 'NameSimilarGroup', 'Publisher_Genre']],\n",
    "    *[ShiftBlock(key=c, target_column='User_Score', shift=-1) for c in ['Publisher','Platform_Genre', 'NameSimilarGroup', 'Publisher_Genre']],\n",
    "    *[ShiftBlock(key=c, target_column='User_Score', shift=1) for c in ['Publisher','Platform_Genre', 'NameSimilarGroup', 'Publisher_Genre']],\n",
    "    *[AggregateBlock(changed_whole_df, key=c, agg_column='User_Count', agg_funcs=['max'], fill_na=0) for c in ['NameSimilarGroup', 'Platform', 'Platform_Genre']],\n",
    "    *[AggregateBlock(changed_whole_df, key=c, agg_column='Critic_Count', agg_funcs=['max'], fill_na=0) for c in ['NameSimilarGroup', 'Platform', 'Platform_Genre']]\n",
    "]"
   ]
  },
  {
   "cell_type": "code",
   "execution_count": 60,
   "metadata": {},
   "outputs": [
    {
     "data": {
      "text/plain": [
       "[<__main__.WrapperBlock at 0x16f0e5cffa0>,\n",
       " <__main__.WrapperBlock at 0x16f05987730>,\n",
       " <__main__.NGramBlock at 0x16f0e5a4af0>,\n",
       " <__main__.NGramBlock at 0x16f0e5a4c40>,\n",
       " <__main__.OneHotBlock at 0x16f0e5a4d00>,\n",
       " <__main__.OneHotBlock at 0x16f0e5a41c0>,\n",
       " <__main__.OneHotBlock at 0x16f0e5a4ca0>,\n",
       " <__main__.CountEncodingBlock at 0x16f0e5a4370>,\n",
       " <__main__.CountEncodingBlock at 0x16f0e5a43a0>,\n",
       " <__main__.CountEncodingBlock at 0x16f0e5a4130>,\n",
       " <__main__.CountEncodingBlock at 0x16f0e5a4b80>,\n",
       " <__main__.SalesPortfolioBlock at 0x16f0e5a4910>,\n",
       " <__main__.SalesPortfolioBlock at 0x16f0e5a4fd0>,\n",
       " <__main__.SalesPortfolioBlock at 0x16f0e5a4940>,\n",
       " <__main__.SalesPortfolioBlock at 0x16f0e0a03a0>,\n",
       " <__main__.ShiftBlock at 0x16f0e0a07c0>,\n",
       " <__main__.ShiftBlock at 0x16f0e0a0700>,\n",
       " <__main__.ShiftBlock at 0x16f0e0a0af0>,\n",
       " <__main__.ShiftBlock at 0x16f0e0a0e20>,\n",
       " <__main__.ShiftBlock at 0x16f0e0a0a30>,\n",
       " <__main__.ShiftBlock at 0x16f0e0a0d00>,\n",
       " <__main__.ShiftBlock at 0x16f0e5dd760>,\n",
       " <__main__.ShiftBlock at 0x16f0e5dda00>,\n",
       " <__main__.ShiftBlock at 0x16f0e5dd520>,\n",
       " <__main__.ShiftBlock at 0x16f0e5dd9a0>,\n",
       " <__main__.ShiftBlock at 0x16f0e5dd820>,\n",
       " <__main__.ShiftBlock at 0x16f0e5dd8b0>,\n",
       " <__main__.ShiftBlock at 0x16f0e5dd640>,\n",
       " <__main__.ShiftBlock at 0x16f0e5dda30>,\n",
       " <__main__.ShiftBlock at 0x16f0e5dd280>,\n",
       " <__main__.ShiftBlock at 0x16f0e5ddbb0>,\n",
       " <__main__.ShiftBlock at 0x16f0e5dde50>,\n",
       " <__main__.ShiftBlock at 0x16f0e5ddf70>,\n",
       " <__main__.ShiftBlock at 0x16f0e5dd790>,\n",
       " <__main__.ShiftBlock at 0x16f0e5dd310>,\n",
       " <__main__.ShiftBlock at 0x16f0e586a30>,\n",
       " <__main__.ShiftBlock at 0x16f0e586cd0>,\n",
       " <__main__.ShiftBlock at 0x16f0e586370>,\n",
       " <__main__.ShiftBlock at 0x16f0e586c40>,\n",
       " <__main__.ShiftBlock at 0x16f0e5863a0>,\n",
       " <__main__.ShiftBlock at 0x16f0e5868e0>,\n",
       " <__main__.ShiftBlock at 0x16f0e5861c0>,\n",
       " <__main__.ShiftBlock at 0x16f0e586b80>,\n",
       " <__main__.ShiftBlock at 0x16f0e586340>,\n",
       " <__main__.ShiftBlock at 0x16f0e586ee0>,\n",
       " <__main__.ShiftBlock at 0x16f0e586910>,\n",
       " <__main__.ShiftBlock at 0x16f0e011d90>,\n",
       " <__main__.ShiftBlock at 0x16f0e011ca0>,\n",
       " <__main__.ShiftBlock at 0x16f0e011cd0>,\n",
       " <__main__.ShiftBlock at 0x16f0e011400>,\n",
       " <__main__.ShiftBlock at 0x16f0e0114c0>,\n",
       " <__main__.ShiftBlock at 0x16f0e011580>,\n",
       " <__main__.ShiftBlock at 0x16f0e011160>,\n",
       " <__main__.ShiftBlock at 0x16f0e011250>,\n",
       " <__main__.ShiftBlock at 0x16f0e011910>,\n",
       " <__main__.ShiftBlock at 0x16f0e011a30>,\n",
       " <__main__.ShiftBlock at 0x16f0e011ac0>,\n",
       " <__main__.ShiftBlock at 0x16f0e011f10>,\n",
       " <__main__.ShiftBlock at 0x16f0e0113d0>,\n",
       " <__main__.ShiftBlock at 0x16f0e011b50>,\n",
       " <__main__.ShiftBlock at 0x16f0e0110d0>,\n",
       " <__main__.ShiftBlock at 0x16f0e011040>,\n",
       " <__main__.ShiftBlock at 0x16f0e011bb0>,\n",
       " <__main__.ShiftBlock at 0x16f0e0110a0>,\n",
       " <__main__.ShiftBlock at 0x16f0e0118b0>,\n",
       " <__main__.ShiftBlock at 0x16f0e011940>,\n",
       " <__main__.ShiftBlock at 0x16f0e011640>,\n",
       " <__main__.ShiftBlock at 0x16f0e011b80>,\n",
       " <__main__.ShiftBlock at 0x16f0e0119a0>,\n",
       " <__main__.ShiftBlock at 0x16f0e011d00>,\n",
       " <__main__.ShiftBlock at 0x16f0e011e80>,\n",
       " <__main__.ShiftBlock at 0x16f0e011340>,\n",
       " <__main__.ShiftBlock at 0x16f0e011100>,\n",
       " <__main__.ShiftBlock at 0x16f0e011f40>,\n",
       " <__main__.ShiftBlock at 0x16f0e011eb0>,\n",
       " <__main__.ShiftBlock at 0x16f0e2490d0>,\n",
       " <__main__.ShiftBlock at 0x16f0e249520>,\n",
       " <__main__.ShiftBlock at 0x16f0e249af0>,\n",
       " <__main__.ShiftBlock at 0x16f0e2494c0>,\n",
       " <__main__.ShiftBlock at 0x16f0e249b50>,\n",
       " <__main__.ShiftBlock at 0x16f0e249850>,\n",
       " <__main__.ShiftBlock at 0x16f0e2497f0>,\n",
       " <__main__.ShiftBlock at 0x16f0e249550>,\n",
       " <__main__.ShiftBlock at 0x16f0e249ac0>,\n",
       " <__main__.ShiftBlock at 0x16f0e249d00>,\n",
       " <__main__.ShiftBlock at 0x16f0e249e80>,\n",
       " <__main__.ShiftBlock at 0x16f0e249190>,\n",
       " <__main__.ShiftBlock at 0x16f0e249160>,\n",
       " <__main__.ShiftBlock at 0x16f0e249b20>,\n",
       " <__main__.ShiftBlock at 0x16f0e249250>,\n",
       " <__main__.ShiftBlock at 0x16f0e249610>,\n",
       " <__main__.ShiftBlock at 0x16f0e2498b0>,\n",
       " <__main__.ShiftBlock at 0x16f0e249d90>,\n",
       " <__main__.ShiftBlock at 0x16f0e2497c0>,\n",
       " <__main__.ShiftBlock at 0x16f0e249eb0>,\n",
       " <__main__.ShiftBlock at 0x16f0e249940>,\n",
       " <__main__.ShiftBlock at 0x16f0e249ca0>,\n",
       " <__main__.ShiftBlock at 0x16f0e2495e0>,\n",
       " <__main__.ShiftBlock at 0x16f0e249670>,\n",
       " <__main__.ShiftBlock at 0x16f0e2493d0>,\n",
       " <__main__.ShiftBlock at 0x16f0e249d30>,\n",
       " <__main__.ShiftBlock at 0x16f0e2495b0>,\n",
       " <__main__.ShiftBlock at 0x16f0e249a30>,\n",
       " <__main__.ShiftBlock at 0x16f0e249700>,\n",
       " <__main__.ShiftBlock at 0x16f0e249df0>,\n",
       " <__main__.ShiftBlock at 0x16f0e249d60>,\n",
       " <__main__.ShiftBlock at 0x16f0e249dc0>,\n",
       " <__main__.ShiftBlock at 0x16f0e249a00>,\n",
       " <__main__.ShiftBlock at 0x16f0e249e20>,\n",
       " <__main__.ShiftBlock at 0x16f0e249070>,\n",
       " <__main__.ShiftBlock at 0x16f0e249460>,\n",
       " <__main__.ShiftBlock at 0x16f0e249370>,\n",
       " <__main__.ShiftBlock at 0x16f0e249580>,\n",
       " <__main__.ShiftBlock at 0x16f0e249790>,\n",
       " <__main__.ShiftBlock at 0x16f0e5c6220>,\n",
       " <__main__.ShiftBlock at 0x16f0e5c6a30>,\n",
       " <__main__.ShiftBlock at 0x16f0e5c6ac0>,\n",
       " <__main__.ShiftBlock at 0x16f0e5c6d30>,\n",
       " <__main__.ShiftBlock at 0x16f0e5c67f0>,\n",
       " <__main__.AggregateBlock at 0x16f0e5c6250>,\n",
       " <__main__.AggregateBlock at 0x16f0e5c6940>,\n",
       " <__main__.AggregateBlock at 0x16f0e5c6610>,\n",
       " <__main__.AggregateBlock at 0x16f0e5c6eb0>,\n",
       " <__main__.AggregateBlock at 0x16f0e5c6b50>,\n",
       " <__main__.AggregateBlock at 0x16f0e5c6af0>]"
      ]
     },
     "execution_count": 60,
     "metadata": {},
     "output_type": "execute_result"
    }
   ],
   "source": [
    "process_blocks"
   ]
  },
  {
   "cell_type": "code",
   "execution_count": 61,
   "metadata": {},
   "outputs": [
    {
     "name": "stderr",
     "output_type": "stream",
     "text": [
      "  2%|▏         | 2/125 [00:00<00:07, 15.50it/s]"
     ]
    },
    {
     "name": "stdout",
     "output_type": "stream",
     "text": [
      "create <__main__.WrapperBlock object at 0x0000016F0E5CFFA0> 0.008[s]\n",
      "create <__main__.WrapperBlock object at 0x0000016F05987730> 0.118[s]\n"
     ]
    },
    {
     "name": "stderr",
     "output_type": "stream",
     "text": [
      "\r",
      "  2%|▏         | 3/125 [00:00<00:22,  5.47it/s]"
     ]
    },
    {
     "name": "stdout",
     "output_type": "stream",
     "text": [
      "create <__main__.NGramBlock object at 0x0000016F0E5A4AF0> 0.456[s]\n"
     ]
    },
    {
     "name": "stderr",
     "output_type": "stream",
     "text": [
      " 11%|█         | 14/125 [00:01<00:19,  5.81it/s]"
     ]
    },
    {
     "name": "stdout",
     "output_type": "stream",
     "text": [
      "create <__main__.NGramBlock object at 0x0000016F0E5A4C40> 0.372[s]\n",
      "create <__main__.OneHotBlock object at 0x0000016F0E5A4D00> 0.004[s]\n",
      "create <__main__.OneHotBlock object at 0x0000016F0E5A41C0> 0.003[s]\n",
      "create <__main__.OneHotBlock object at 0x0000016F0E5A4CA0> 0.003[s]\n",
      "create <__main__.CountEncodingBlock object at 0x0000016F0E5A4370> 0.008[s]\n",
      "create <__main__.CountEncodingBlock object at 0x0000016F0E5A43A0> 0.004[s]\n",
      "create <__main__.CountEncodingBlock object at 0x0000016F0E5A4130> 0.002[s]\n",
      "create <__main__.CountEncodingBlock object at 0x0000016F0E5A4B80> 0.003[s]\n",
      "create <__main__.SalesPortfolioBlock object at 0x0000016F0E5A4910> 0.008[s]\n",
      "create <__main__.SalesPortfolioBlock object at 0x0000016F0E5A4FD0> 0.009[s]\n",
      "create <__main__.SalesPortfolioBlock object at 0x0000016F0E5A4940> 0.008[s]\n",
      "create <__main__.SalesPortfolioBlock object at 0x0000016F0E0A03A0> 0.008[s]\n",
      "create <__main__.ShiftBlock object at 0x0000016F0E0A07C0> 0.089[s]\n",
      "create <__main__.ShiftBlock object at 0x0000016F0E0A0700> 0.096[s]\n"
     ]
    },
    {
     "name": "stderr",
     "output_type": "stream",
     "text": [
      "\r",
      " 14%|█▍        | 18/125 [00:02<00:22,  4.69it/s]"
     ]
    },
    {
     "name": "stdout",
     "output_type": "stream",
     "text": [
      "create <__main__.ShiftBlock object at 0x0000016F0E0A0AF0> 1.000[s]\n"
     ]
    },
    {
     "name": "stderr",
     "output_type": "stream",
     "text": [
      "\r",
      " 17%|█▋        | 21/125 [00:02<00:19,  5.28it/s]"
     ]
    },
    {
     "name": "stdout",
     "output_type": "stream",
     "text": [
      "create <__main__.ShiftBlock object at 0x0000016F0E0A0E20> 0.225[s]\n",
      "create <__main__.ShiftBlock object at 0x0000016F0E0A0A30> 0.074[s]\n",
      "create <__main__.ShiftBlock object at 0x0000016F0E0A0D00> 0.071[s]\n",
      "create <__main__.ShiftBlock object at 0x0000016F0E5DD760> 0.890[s]\n"
     ]
    },
    {
     "name": "stderr",
     "output_type": "stream",
     "text": [
      " 20%|██        | 25/125 [00:04<00:23,  4.24it/s]"
     ]
    },
    {
     "name": "stdout",
     "output_type": "stream",
     "text": [
      "create <__main__.ShiftBlock object at 0x0000016F0E5DDA00> 0.224[s]\n",
      "create <__main__.ShiftBlock object at 0x0000016F0E5DD520> 0.071[s]\n",
      "create <__main__.ShiftBlock object at 0x0000016F0E5DD9A0> 0.070[s]\n",
      "create <__main__.ShiftBlock object at 0x0000016F0E5DD820> 0.927[s]\n"
     ]
    },
    {
     "name": "stderr",
     "output_type": "stream",
     "text": [
      " 23%|██▎       | 29/125 [00:05<00:25,  3.83it/s]"
     ]
    },
    {
     "name": "stdout",
     "output_type": "stream",
     "text": [
      "create <__main__.ShiftBlock object at 0x0000016F0E5DD8B0> 0.221[s]\n",
      "create <__main__.ShiftBlock object at 0x0000016F0E5DD640> 0.064[s]\n",
      "create <__main__.ShiftBlock object at 0x0000016F0E5DDA30> 0.075[s]\n",
      "create <__main__.ShiftBlock object at 0x0000016F0E5DD280> 0.907[s]\n"
     ]
    },
    {
     "name": "stderr",
     "output_type": "stream",
     "text": [
      " 26%|██▋       | 33/125 [00:06<00:25,  3.58it/s]"
     ]
    },
    {
     "name": "stdout",
     "output_type": "stream",
     "text": [
      "create <__main__.ShiftBlock object at 0x0000016F0E5DDBB0> 0.276[s]\n",
      "create <__main__.ShiftBlock object at 0x0000016F0E5DDE50> 0.069[s]\n",
      "create <__main__.ShiftBlock object at 0x0000016F0E5DDF70> 0.065[s]\n"
     ]
    },
    {
     "name": "stderr",
     "output_type": "stream",
     "text": [
      "\r",
      " 27%|██▋       | 34/125 [00:07<00:42,  2.15it/s]"
     ]
    },
    {
     "name": "stdout",
     "output_type": "stream",
     "text": [
      "create <__main__.ShiftBlock object at 0x0000016F0E5DD790> 0.888[s]\n"
     ]
    },
    {
     "name": "stderr",
     "output_type": "stream",
     "text": [
      " 30%|██▉       | 37/125 [00:08<00:26,  3.31it/s]"
     ]
    },
    {
     "name": "stdout",
     "output_type": "stream",
     "text": [
      "create <__main__.ShiftBlock object at 0x0000016F0E5DD310> 0.226[s]\n",
      "create <__main__.ShiftBlock object at 0x0000016F0E586A30> 0.080[s]\n",
      "create <__main__.ShiftBlock object at 0x0000016F0E586CD0> 0.073[s]\n"
     ]
    },
    {
     "name": "stderr",
     "output_type": "stream",
     "text": [
      "\r",
      " 30%|███       | 38/125 [00:08<00:43,  2.02it/s]"
     ]
    },
    {
     "name": "stdout",
     "output_type": "stream",
     "text": [
      "create <__main__.ShiftBlock object at 0x0000016F0E586370> 0.937[s]\n"
     ]
    },
    {
     "name": "stderr",
     "output_type": "stream",
     "text": [
      "\r",
      " 31%|███       | 39/125 [00:09<00:35,  2.39it/s]"
     ]
    },
    {
     "name": "stdout",
     "output_type": "stream",
     "text": [
      "create <__main__.ShiftBlock object at 0x0000016F0E586C40> 0.224[s]\n",
      "create <__main__.ShiftBlock object at 0x0000016F0E5863A0> 0.073[s]\n",
      "create <__main__.ShiftBlock object at 0x0000016F0E5868E0> 0.080[s]\n"
     ]
    },
    {
     "name": "stderr",
     "output_type": "stream",
     "text": [
      " 34%|███▎      | 42/125 [00:10<00:42,  1.97it/s]"
     ]
    },
    {
     "name": "stdout",
     "output_type": "stream",
     "text": [
      "create <__main__.ShiftBlock object at 0x0000016F0E5861C0> 0.932[s]\n"
     ]
    },
    {
     "name": "stderr",
     "output_type": "stream",
     "text": [
      " 36%|███▌      | 45/125 [00:10<00:25,  3.08it/s]"
     ]
    },
    {
     "name": "stdout",
     "output_type": "stream",
     "text": [
      "create <__main__.ShiftBlock object at 0x0000016F0E586B80> 0.228[s]\n",
      "create <__main__.ShiftBlock object at 0x0000016F0E586340> 0.073[s]\n",
      "create <__main__.ShiftBlock object at 0x0000016F0E586EE0> 0.069[s]\n"
     ]
    },
    {
     "name": "stderr",
     "output_type": "stream",
     "text": [
      "\r",
      " 37%|███▋      | 46/125 [00:11<00:38,  2.04it/s]"
     ]
    },
    {
     "name": "stdout",
     "output_type": "stream",
     "text": [
      "create <__main__.ShiftBlock object at 0x0000016F0E586910> 0.865[s]\n"
     ]
    },
    {
     "name": "stderr",
     "output_type": "stream",
     "text": [
      " 39%|███▉      | 49/125 [00:11<00:24,  3.16it/s]"
     ]
    },
    {
     "name": "stdout",
     "output_type": "stream",
     "text": [
      "create <__main__.ShiftBlock object at 0x0000016F0E011D90> 0.230[s]\n",
      "create <__main__.ShiftBlock object at 0x0000016F0E011CA0> 0.064[s]\n",
      "create <__main__.ShiftBlock object at 0x0000016F0E011CD0> 0.073[s]\n"
     ]
    },
    {
     "name": "stderr",
     "output_type": "stream",
     "text": [
      "\r",
      " 40%|████      | 50/125 [00:12<00:37,  2.00it/s]"
     ]
    },
    {
     "name": "stdout",
     "output_type": "stream",
     "text": [
      "create <__main__.ShiftBlock object at 0x0000016F0E011400> 0.920[s]\n"
     ]
    },
    {
     "name": "stderr",
     "output_type": "stream",
     "text": [
      " 42%|████▏     | 53/125 [00:13<00:23,  3.11it/s]"
     ]
    },
    {
     "name": "stdout",
     "output_type": "stream",
     "text": [
      "create <__main__.ShiftBlock object at 0x0000016F0E0114C0> 0.230[s]\n",
      "create <__main__.ShiftBlock object at 0x0000016F0E011580> 0.071[s]\n",
      "create <__main__.ShiftBlock object at 0x0000016F0E011160> 0.066[s]\n"
     ]
    },
    {
     "name": "stderr",
     "output_type": "stream",
     "text": [
      "\r",
      " 43%|████▎     | 54/125 [00:14<00:34,  2.04it/s]"
     ]
    },
    {
     "name": "stdout",
     "output_type": "stream",
     "text": [
      "create <__main__.ShiftBlock object at 0x0000016F0E011250> 0.870[s]\n"
     ]
    },
    {
     "name": "stderr",
     "output_type": "stream",
     "text": [
      " 46%|████▌     | 57/125 [00:14<00:21,  3.16it/s]"
     ]
    },
    {
     "name": "stdout",
     "output_type": "stream",
     "text": [
      "create <__main__.ShiftBlock object at 0x0000016F0E011910> 0.228[s]\n",
      "create <__main__.ShiftBlock object at 0x0000016F0E011A30> 0.064[s]\n",
      "create <__main__.ShiftBlock object at 0x0000016F0E011AC0> 0.077[s]\n"
     ]
    },
    {
     "name": "stderr",
     "output_type": "stream",
     "text": [
      "\r",
      " 46%|████▋     | 58/125 [00:15<00:33,  1.97it/s]"
     ]
    },
    {
     "name": "stdout",
     "output_type": "stream",
     "text": [
      "create <__main__.ShiftBlock object at 0x0000016F0E011F10> 0.939[s]\n"
     ]
    },
    {
     "name": "stderr",
     "output_type": "stream",
     "text": [
      "\r",
      " 47%|████▋     | 59/125 [00:15<00:28,  2.35it/s]"
     ]
    },
    {
     "name": "stdout",
     "output_type": "stream",
     "text": [
      "create <__main__.ShiftBlock object at 0x0000016F0E0113D0> 0.225[s]\n",
      "create <__main__.ShiftBlock object at 0x0000016F0E011B50> 0.069[s]\n",
      "create <__main__.ShiftBlock object at 0x0000016F0E0110D0> 0.070[s]\n"
     ]
    },
    {
     "name": "stderr",
     "output_type": "stream",
     "text": [
      " 50%|████▉     | 62/125 [00:16<00:32,  1.97it/s]"
     ]
    },
    {
     "name": "stdout",
     "output_type": "stream",
     "text": [
      "create <__main__.ShiftBlock object at 0x0000016F0E011040> 0.920[s]\n"
     ]
    },
    {
     "name": "stderr",
     "output_type": "stream",
     "text": [
      " 51%|█████     | 64/125 [00:17<00:20,  2.94it/s]"
     ]
    },
    {
     "name": "stdout",
     "output_type": "stream",
     "text": [
      "create <__main__.ShiftBlock object at 0x0000016F0E011BB0> 0.230[s]\n",
      "create <__main__.ShiftBlock object at 0x0000016F0E0110A0> 0.111[s]\n",
      "create <__main__.ShiftBlock object at 0x0000016F0E0118B0> 0.083[s]\n"
     ]
    },
    {
     "name": "stderr",
     "output_type": "stream",
     "text": [
      "\r",
      " 53%|█████▎    | 66/125 [00:18<00:23,  2.54it/s]"
     ]
    },
    {
     "name": "stdout",
     "output_type": "stream",
     "text": [
      "create <__main__.ShiftBlock object at 0x0000016F0E011940> 0.934[s]\n"
     ]
    },
    {
     "name": "stderr",
     "output_type": "stream",
     "text": [
      " 55%|█████▌    | 69/125 [00:18<00:15,  3.70it/s]"
     ]
    },
    {
     "name": "stdout",
     "output_type": "stream",
     "text": [
      "create <__main__.ShiftBlock object at 0x0000016F0E011640> 0.229[s]\n",
      "create <__main__.ShiftBlock object at 0x0000016F0E011B80> 0.070[s]\n",
      "create <__main__.ShiftBlock object at 0x0000016F0E0119A0> 0.081[s]\n"
     ]
    },
    {
     "name": "stderr",
     "output_type": "stream",
     "text": [
      "\r",
      " 56%|█████▌    | 70/125 [00:19<00:26,  2.06it/s]"
     ]
    },
    {
     "name": "stdout",
     "output_type": "stream",
     "text": [
      "create <__main__.ShiftBlock object at 0x0000016F0E011D00> 0.977[s]\n"
     ]
    },
    {
     "name": "stderr",
     "output_type": "stream",
     "text": [
      " 58%|█████▊    | 73/125 [00:20<00:16,  3.19it/s]"
     ]
    },
    {
     "name": "stdout",
     "output_type": "stream",
     "text": [
      "create <__main__.ShiftBlock object at 0x0000016F0E011E80> 0.223[s]\n",
      "create <__main__.ShiftBlock object at 0x0000016F0E011340> 0.071[s]\n",
      "create <__main__.ShiftBlock object at 0x0000016F0E011100> 0.062[s]\n"
     ]
    },
    {
     "name": "stderr",
     "output_type": "stream",
     "text": [
      "\r",
      " 59%|█████▉    | 74/125 [00:21<00:25,  2.01it/s]"
     ]
    },
    {
     "name": "stdout",
     "output_type": "stream",
     "text": [
      "create <__main__.ShiftBlock object at 0x0000016F0E011F40> 0.915[s]\n"
     ]
    },
    {
     "name": "stderr",
     "output_type": "stream",
     "text": [
      " 62%|██████▏   | 77/125 [00:21<00:15,  3.12it/s]"
     ]
    },
    {
     "name": "stdout",
     "output_type": "stream",
     "text": [
      "create <__main__.ShiftBlock object at 0x0000016F0E011EB0> 0.236[s]\n",
      "create <__main__.ShiftBlock object at 0x0000016F0E2490D0> 0.059[s]\n",
      "create <__main__.ShiftBlock object at 0x0000016F0E249520> 0.074[s]\n"
     ]
    },
    {
     "name": "stderr",
     "output_type": "stream",
     "text": [
      "\r",
      " 62%|██████▏   | 78/125 [00:22<00:23,  2.02it/s]"
     ]
    },
    {
     "name": "stdout",
     "output_type": "stream",
     "text": [
      "create <__main__.ShiftBlock object at 0x0000016F0E249AF0> 0.882[s]\n"
     ]
    },
    {
     "name": "stderr",
     "output_type": "stream",
     "text": [
      " 65%|██████▍   | 81/125 [00:22<00:14,  2.96it/s]"
     ]
    },
    {
     "name": "stdout",
     "output_type": "stream",
     "text": [
      "create <__main__.ShiftBlock object at 0x0000016F0E2494C0> 0.318[s]\n",
      "create <__main__.ShiftBlock object at 0x0000016F0E249B50> 0.083[s]\n",
      "create <__main__.ShiftBlock object at 0x0000016F0E249850> 0.065[s]\n"
     ]
    },
    {
     "name": "stderr",
     "output_type": "stream",
     "text": [
      "\r",
      " 66%|██████▌   | 82/125 [00:23<00:21,  1.98it/s]"
     ]
    },
    {
     "name": "stdout",
     "output_type": "stream",
     "text": [
      "create <__main__.ShiftBlock object at 0x0000016F0E2497F0> 0.871[s]\n"
     ]
    },
    {
     "name": "stderr",
     "output_type": "stream",
     "text": [
      " 68%|██████▊   | 85/125 [00:24<00:12,  3.10it/s]"
     ]
    },
    {
     "name": "stdout",
     "output_type": "stream",
     "text": [
      "create <__main__.ShiftBlock object at 0x0000016F0E249550> 0.227[s]\n",
      "create <__main__.ShiftBlock object at 0x0000016F0E249AC0> 0.070[s]\n",
      "create <__main__.ShiftBlock object at 0x0000016F0E249D00> 0.063[s]\n"
     ]
    },
    {
     "name": "stderr",
     "output_type": "stream",
     "text": [
      "\r",
      " 69%|██████▉   | 86/125 [00:25<00:20,  1.94it/s]"
     ]
    },
    {
     "name": "stdout",
     "output_type": "stream",
     "text": [
      "create <__main__.ShiftBlock object at 0x0000016F0E249E80> 0.953[s]\n"
     ]
    },
    {
     "name": "stderr",
     "output_type": "stream",
     "text": [
      "\r",
      " 70%|██████▉   | 87/125 [00:25<00:16,  2.27it/s]"
     ]
    },
    {
     "name": "stdout",
     "output_type": "stream",
     "text": [
      "create <__main__.ShiftBlock object at 0x0000016F0E249190> 0.248[s]\n",
      "create <__main__.ShiftBlock object at 0x0000016F0E249160> 0.063[s]\n",
      "create <__main__.ShiftBlock object at 0x0000016F0E249B20> 0.078[s]\n"
     ]
    },
    {
     "name": "stderr",
     "output_type": "stream",
     "text": [
      " 72%|███████▏  | 90/125 [00:26<00:17,  1.98it/s]"
     ]
    },
    {
     "name": "stdout",
     "output_type": "stream",
     "text": [
      "create <__main__.ShiftBlock object at 0x0000016F0E249250> 0.891[s]\n"
     ]
    },
    {
     "name": "stderr",
     "output_type": "stream",
     "text": [
      "\r",
      " 73%|███████▎  | 91/125 [00:26<00:15,  2.27it/s]"
     ]
    },
    {
     "name": "stdout",
     "output_type": "stream",
     "text": [
      "create <__main__.ShiftBlock object at 0x0000016F0E249610> 0.271[s]\n",
      "create <__main__.ShiftBlock object at 0x0000016F0E2498B0> 0.077[s]\n",
      "create <__main__.ShiftBlock object at 0x0000016F0E249D90> 0.065[s]\n"
     ]
    },
    {
     "name": "stderr",
     "output_type": "stream",
     "text": [
      " 75%|███████▌  | 94/125 [00:27<00:15,  2.02it/s]"
     ]
    },
    {
     "name": "stdout",
     "output_type": "stream",
     "text": [
      "create <__main__.ShiftBlock object at 0x0000016F0E2497C0> 0.843[s]\n"
     ]
    },
    {
     "name": "stderr",
     "output_type": "stream",
     "text": [
      " 78%|███████▊  | 97/125 [00:28<00:08,  3.14it/s]"
     ]
    },
    {
     "name": "stdout",
     "output_type": "stream",
     "text": [
      "create <__main__.ShiftBlock object at 0x0000016F0E249EB0> 0.220[s]\n",
      "create <__main__.ShiftBlock object at 0x0000016F0E249940> 0.060[s]\n",
      "create <__main__.ShiftBlock object at 0x0000016F0E249CA0> 0.078[s]\n"
     ]
    },
    {
     "name": "stderr",
     "output_type": "stream",
     "text": [
      "\r",
      " 78%|███████▊  | 98/125 [00:29<00:13,  1.96it/s]"
     ]
    },
    {
     "name": "stdout",
     "output_type": "stream",
     "text": [
      "create <__main__.ShiftBlock object at 0x0000016F0E2495E0> 0.939[s]\n"
     ]
    },
    {
     "name": "stderr",
     "output_type": "stream",
     "text": [
      " 81%|████████  | 101/125 [00:29<00:07,  3.06it/s]"
     ]
    },
    {
     "name": "stdout",
     "output_type": "stream",
     "text": [
      "create <__main__.ShiftBlock object at 0x0000016F0E249670> 0.229[s]\n",
      "create <__main__.ShiftBlock object at 0x0000016F0E2493D0> 0.068[s]\n",
      "create <__main__.ShiftBlock object at 0x0000016F0E249D30> 0.070[s]\n"
     ]
    },
    {
     "name": "stderr",
     "output_type": "stream",
     "text": [
      "\r",
      " 82%|████████▏ | 102/125 [00:30<00:11,  1.93it/s]"
     ]
    },
    {
     "name": "stdout",
     "output_type": "stream",
     "text": [
      "create <__main__.ShiftBlock object at 0x0000016F0E2495B0> 0.943[s]\n"
     ]
    },
    {
     "name": "stderr",
     "output_type": "stream",
     "text": [
      "\r",
      " 82%|████████▏ | 103/125 [00:30<00:09,  2.30it/s]"
     ]
    },
    {
     "name": "stdout",
     "output_type": "stream",
     "text": [
      "create <__main__.ShiftBlock object at 0x0000016F0E249A30> 0.223[s]\n",
      "create <__main__.ShiftBlock object at 0x0000016F0E249700> 0.062[s]\n",
      "create <__main__.ShiftBlock object at 0x0000016F0E249DF0> 0.078[s]\n"
     ]
    },
    {
     "name": "stderr",
     "output_type": "stream",
     "text": [
      " 85%|████████▍ | 106/125 [00:31<00:09,  2.00it/s]"
     ]
    },
    {
     "name": "stdout",
     "output_type": "stream",
     "text": [
      "create <__main__.ShiftBlock object at 0x0000016F0E249D60> 0.866[s]\n"
     ]
    },
    {
     "name": "stderr",
     "output_type": "stream",
     "text": [
      " 87%|████████▋ | 109/125 [00:32<00:05,  3.11it/s]"
     ]
    },
    {
     "name": "stdout",
     "output_type": "stream",
     "text": [
      "create <__main__.ShiftBlock object at 0x0000016F0E249DC0> 0.220[s]\n",
      "create <__main__.ShiftBlock object at 0x0000016F0E249A00> 0.066[s]\n",
      "create <__main__.ShiftBlock object at 0x0000016F0E249E20> 0.078[s]\n"
     ]
    },
    {
     "name": "stderr",
     "output_type": "stream",
     "text": [
      "\r",
      " 88%|████████▊ | 110/125 [00:33<00:08,  1.87it/s]"
     ]
    },
    {
     "name": "stdout",
     "output_type": "stream",
     "text": [
      "create <__main__.ShiftBlock object at 0x0000016F0E249070> 1.012[s]\n"
     ]
    },
    {
     "name": "stderr",
     "output_type": "stream",
     "text": [
      " 90%|████████▉ | 112/125 [00:33<00:04,  2.86it/s]"
     ]
    },
    {
     "name": "stdout",
     "output_type": "stream",
     "text": [
      "create <__main__.ShiftBlock object at 0x0000016F0E249460> 0.249[s]\n",
      "create <__main__.ShiftBlock object at 0x0000016F0E249370> 0.086[s]\n"
     ]
    },
    {
     "name": "stderr",
     "output_type": "stream",
     "text": [
      "\r",
      " 90%|█████████ | 113/125 [00:33<00:03,  3.55it/s]"
     ]
    },
    {
     "name": "stdout",
     "output_type": "stream",
     "text": [
      "create <__main__.ShiftBlock object at 0x0000016F0E249580> 0.099[s]\n"
     ]
    },
    {
     "name": "stderr",
     "output_type": "stream",
     "text": [
      "\r",
      " 91%|█████████ | 114/125 [00:34<00:05,  1.94it/s]"
     ]
    },
    {
     "name": "stdout",
     "output_type": "stream",
     "text": [
      "create <__main__.ShiftBlock object at 0x0000016F0E249790> 1.052[s]\n"
     ]
    },
    {
     "name": "stderr",
     "output_type": "stream",
     "text": [
      "\r",
      " 92%|█████████▏| 115/125 [00:35<00:04,  2.16it/s]"
     ]
    },
    {
     "name": "stdout",
     "output_type": "stream",
     "text": [
      "create <__main__.ShiftBlock object at 0x0000016F0E5C6220> 0.306[s]\n",
      "create <__main__.ShiftBlock object at 0x0000016F0E5C6A30> 0.078[s]\n",
      "create <__main__.ShiftBlock object at 0x0000016F0E5C6AC0> 0.073[s]\n"
     ]
    },
    {
     "name": "stderr",
     "output_type": "stream",
     "text": [
      " 94%|█████████▍| 118/125 [00:36<00:03,  1.84it/s]"
     ]
    },
    {
     "name": "stdout",
     "output_type": "stream",
     "text": [
      "create <__main__.ShiftBlock object at 0x0000016F0E5C6D30> 0.970[s]\n"
     ]
    },
    {
     "name": "stderr",
     "output_type": "stream",
     "text": [
      "100%|██████████| 125/125 [00:36<00:00,  3.39it/s]"
     ]
    },
    {
     "name": "stdout",
     "output_type": "stream",
     "text": [
      "create <__main__.ShiftBlock object at 0x0000016F0E5C67F0> 0.244[s]\n",
      "create <__main__.AggregateBlock object at 0x0000016F0E5C6250> 0.007[s]\n",
      "create <__main__.AggregateBlock object at 0x0000016F0E5C6940> 0.007[s]\n",
      "create <__main__.AggregateBlock object at 0x0000016F0E5C6610> 0.007[s]\n",
      "create <__main__.AggregateBlock object at 0x0000016F0E5C6EB0> 0.010[s]\n",
      "create <__main__.AggregateBlock object at 0x0000016F0E5C6B50> 0.014[s]\n",
      "create <__main__.AggregateBlock object at 0x0000016F0E5C6AF0> 0.008[s]\n"
     ]
    },
    {
     "name": "stderr",
     "output_type": "stream",
     "text": [
      "\n",
      "  2%|▏         | 2/125 [00:00<00:06, 17.67it/s]"
     ]
    },
    {
     "name": "stdout",
     "output_type": "stream",
     "text": [
      "create <__main__.WrapperBlock object at 0x0000016F0E5CFFA0> 0.013[s]\n",
      "create <__main__.WrapperBlock object at 0x0000016F05987730> 0.099[s]\n"
     ]
    },
    {
     "name": "stderr",
     "output_type": "stream",
     "text": [
      "  3%|▎         | 4/125 [00:00<00:16,  7.55it/s]"
     ]
    },
    {
     "name": "stdout",
     "output_type": "stream",
     "text": [
      "create <__main__.NGramBlock object at 0x0000016F0E5A4AF0> 0.266[s]\n",
      "create <__main__.NGramBlock object at 0x0000016F0E5A4C40> 0.162[s]\n",
      "create <__main__.OneHotBlock object at 0x0000016F0E5A4D00> 0.015[s]\n"
     ]
    },
    {
     "name": "stderr",
     "output_type": "stream",
     "text": [
      "\r",
      " 12%|█▏        | 15/125 [00:00<00:10, 10.48it/s]"
     ]
    },
    {
     "name": "stdout",
     "output_type": "stream",
     "text": [
      "create <__main__.OneHotBlock object at 0x0000016F0E5A41C0> 0.001[s]\n",
      "create <__main__.OneHotBlock object at 0x0000016F0E5A4CA0> 0.002[s]\n",
      "create <__main__.CountEncodingBlock object at 0x0000016F0E5A4370> 0.007[s]\n",
      "create <__main__.CountEncodingBlock object at 0x0000016F0E5A43A0> 0.004[s]\n",
      "create <__main__.CountEncodingBlock object at 0x0000016F0E5A4130> 0.003[s]\n",
      "create <__main__.CountEncodingBlock object at 0x0000016F0E5A4B80> 0.003[s]\n",
      "create <__main__.SalesPortfolioBlock object at 0x0000016F0E5A4910> 0.002[s]\n",
      "create <__main__.SalesPortfolioBlock object at 0x0000016F0E5A4FD0> 0.000[s]\n",
      "create <__main__.SalesPortfolioBlock object at 0x0000016F0E5A4940> 0.011[s]\n",
      "create <__main__.SalesPortfolioBlock object at 0x0000016F0E0A03A0> 0.000[s]\n",
      "create <__main__.ShiftBlock object at 0x0000016F0E0A07C0> 0.074[s]\n",
      "create <__main__.ShiftBlock object at 0x0000016F0E0A0700> 0.069[s]\n",
      "create <__main__.ShiftBlock object at 0x0000016F0E0A0AF0> 0.777[s]\n"
     ]
    },
    {
     "name": "stderr",
     "output_type": "stream",
     "text": [
      "\r",
      " 15%|█▌        | 19/125 [00:01<00:16,  6.44it/s]"
     ]
    },
    {
     "name": "stdout",
     "output_type": "stream",
     "text": [
      "create <__main__.ShiftBlock object at 0x0000016F0E0A0E20> 0.221[s]\n",
      "create <__main__.ShiftBlock object at 0x0000016F0E0A0A30> 0.061[s]\n",
      "create <__main__.ShiftBlock object at 0x0000016F0E0A0D00> 0.063[s]\n"
     ]
    },
    {
     "name": "stderr",
     "output_type": "stream",
     "text": [
      "\r",
      " 18%|█▊        | 22/125 [00:02<00:21,  4.74it/s]"
     ]
    },
    {
     "name": "stdout",
     "output_type": "stream",
     "text": [
      "create <__main__.ShiftBlock object at 0x0000016F0E5DD760> 0.872[s]\n"
     ]
    },
    {
     "name": "stderr",
     "output_type": "stream",
     "text": [
      "\r",
      " 19%|█▉        | 24/125 [00:03<00:19,  5.17it/s]"
     ]
    },
    {
     "name": "stdout",
     "output_type": "stream",
     "text": [
      "create <__main__.ShiftBlock object at 0x0000016F0E5DDA00> 0.217[s]\n",
      "create <__main__.ShiftBlock object at 0x0000016F0E5DD520> 0.077[s]\n",
      "create <__main__.ShiftBlock object at 0x0000016F0E5DD9A0> 0.071[s]\n"
     ]
    },
    {
     "name": "stderr",
     "output_type": "stream",
     "text": [
      "\r",
      " 21%|██        | 26/125 [00:04<00:27,  3.66it/s]"
     ]
    },
    {
     "name": "stdout",
     "output_type": "stream",
     "text": [
      "create <__main__.ShiftBlock object at 0x0000016F0E5DD820> 0.823[s]\n"
     ]
    },
    {
     "name": "stderr",
     "output_type": "stream",
     "text": [
      "\r",
      " 22%|██▏       | 28/125 [00:04<00:22,  4.23it/s]"
     ]
    },
    {
     "name": "stdout",
     "output_type": "stream",
     "text": [
      "create <__main__.ShiftBlock object at 0x0000016F0E5DD8B0> 0.217[s]\n",
      "create <__main__.ShiftBlock object at 0x0000016F0E5DD640> 0.057[s]\n",
      "create <__main__.ShiftBlock object at 0x0000016F0E5DDA30> 0.067[s]\n"
     ]
    },
    {
     "name": "stderr",
     "output_type": "stream",
     "text": [
      "\r",
      " 24%|██▍       | 30/125 [00:05<00:29,  3.23it/s]"
     ]
    },
    {
     "name": "stdout",
     "output_type": "stream",
     "text": [
      "create <__main__.ShiftBlock object at 0x0000016F0E5DD280> 0.889[s]\n",
      "create <__main__.ShiftBlock object at 0x0000016F0E5DDBB0> 0.206[s]\n"
     ]
    },
    {
     "name": "stderr",
     "output_type": "stream",
     "text": [
      " 26%|██▋       | 33/125 [00:05<00:20,  4.49it/s]"
     ]
    },
    {
     "name": "stdout",
     "output_type": "stream",
     "text": [
      "create <__main__.ShiftBlock object at 0x0000016F0E5DDE50> 0.079[s]\n",
      "create <__main__.ShiftBlock object at 0x0000016F0E5DDF70> 0.063[s]\n"
     ]
    },
    {
     "name": "stderr",
     "output_type": "stream",
     "text": [
      "\r",
      " 27%|██▋       | 34/125 [00:06<00:37,  2.43it/s]"
     ]
    },
    {
     "name": "stdout",
     "output_type": "stream",
     "text": [
      "create <__main__.ShiftBlock object at 0x0000016F0E5DD790> 0.854[s]\n"
     ]
    },
    {
     "name": "stderr",
     "output_type": "stream",
     "text": [
      " 30%|██▉       | 37/125 [00:06<00:24,  3.62it/s]"
     ]
    },
    {
     "name": "stdout",
     "output_type": "stream",
     "text": [
      "create <__main__.ShiftBlock object at 0x0000016F0E5DD310> 0.210[s]\n",
      "create <__main__.ShiftBlock object at 0x0000016F0E586A30> 0.063[s]\n",
      "create <__main__.ShiftBlock object at 0x0000016F0E586CD0> 0.068[s]\n"
     ]
    },
    {
     "name": "stderr",
     "output_type": "stream",
     "text": [
      "\r",
      " 30%|███       | 38/125 [00:07<00:37,  2.30it/s]"
     ]
    },
    {
     "name": "stdout",
     "output_type": "stream",
     "text": [
      "create <__main__.ShiftBlock object at 0x0000016F0E586370> 0.798[s]\n"
     ]
    },
    {
     "name": "stderr",
     "output_type": "stream",
     "text": [
      " 33%|███▎      | 41/125 [00:08<00:24,  3.48it/s]"
     ]
    },
    {
     "name": "stdout",
     "output_type": "stream",
     "text": [
      "create <__main__.ShiftBlock object at 0x0000016F0E586C40> 0.223[s]\n",
      "create <__main__.ShiftBlock object at 0x0000016F0E5863A0> 0.061[s]\n",
      "create <__main__.ShiftBlock object at 0x0000016F0E5868E0> 0.070[s]\n"
     ]
    },
    {
     "name": "stderr",
     "output_type": "stream",
     "text": [
      "\r",
      " 34%|███▎      | 42/125 [00:09<00:38,  2.13it/s]"
     ]
    },
    {
     "name": "stdout",
     "output_type": "stream",
     "text": [
      "create <__main__.ShiftBlock object at 0x0000016F0E5861C0> 0.882[s]\n"
     ]
    },
    {
     "name": "stderr",
     "output_type": "stream",
     "text": [
      " 36%|███▌      | 45/125 [00:09<00:24,  3.26it/s]"
     ]
    },
    {
     "name": "stdout",
     "output_type": "stream",
     "text": [
      "create <__main__.ShiftBlock object at 0x0000016F0E586B80> 0.231[s]\n",
      "create <__main__.ShiftBlock object at 0x0000016F0E586340> 0.081[s]\n",
      "create <__main__.ShiftBlock object at 0x0000016F0E586EE0> 0.071[s]\n"
     ]
    },
    {
     "name": "stderr",
     "output_type": "stream",
     "text": [
      "\r",
      " 37%|███▋      | 46/125 [00:10<00:37,  2.09it/s]"
     ]
    },
    {
     "name": "stdout",
     "output_type": "stream",
     "text": [
      "create <__main__.ShiftBlock object at 0x0000016F0E586910> 0.872[s]\n"
     ]
    },
    {
     "name": "stderr",
     "output_type": "stream",
     "text": [
      " 39%|███▉      | 49/125 [00:10<00:23,  3.25it/s]"
     ]
    },
    {
     "name": "stdout",
     "output_type": "stream",
     "text": [
      "create <__main__.ShiftBlock object at 0x0000016F0E011D90> 0.224[s]\n",
      "create <__main__.ShiftBlock object at 0x0000016F0E011CA0> 0.059[s]\n",
      "create <__main__.ShiftBlock object at 0x0000016F0E011CD0> 0.066[s]\n"
     ]
    },
    {
     "name": "stderr",
     "output_type": "stream",
     "text": [
      "\r",
      " 40%|████      | 50/125 [00:11<00:36,  2.07it/s]"
     ]
    },
    {
     "name": "stdout",
     "output_type": "stream",
     "text": [
      "create <__main__.ShiftBlock object at 0x0000016F0E011400> 0.877[s]\n"
     ]
    },
    {
     "name": "stderr",
     "output_type": "stream",
     "text": [
      " 42%|████▏     | 53/125 [00:12<00:22,  3.22it/s]"
     ]
    },
    {
     "name": "stdout",
     "output_type": "stream",
     "text": [
      "create <__main__.ShiftBlock object at 0x0000016F0E0114C0> 0.224[s]\n",
      "create <__main__.ShiftBlock object at 0x0000016F0E011580> 0.060[s]\n",
      "create <__main__.ShiftBlock object at 0x0000016F0E011160> 0.063[s]\n"
     ]
    },
    {
     "name": "stderr",
     "output_type": "stream",
     "text": [
      "\r",
      " 43%|████▎     | 54/125 [00:13<00:36,  1.97it/s]"
     ]
    },
    {
     "name": "stdout",
     "output_type": "stream",
     "text": [
      "create <__main__.ShiftBlock object at 0x0000016F0E011250> 0.963[s]\n"
     ]
    },
    {
     "name": "stderr",
     "output_type": "stream",
     "text": [
      " 46%|████▌     | 57/125 [00:13<00:22,  3.08it/s]"
     ]
    },
    {
     "name": "stdout",
     "output_type": "stream",
     "text": [
      "create <__main__.ShiftBlock object at 0x0000016F0E011910> 0.228[s]\n",
      "create <__main__.ShiftBlock object at 0x0000016F0E011A30> 0.083[s]\n",
      "create <__main__.ShiftBlock object at 0x0000016F0E011AC0> 0.078[s]\n"
     ]
    },
    {
     "name": "stderr",
     "output_type": "stream",
     "text": [
      "\r",
      " 46%|████▋     | 58/125 [00:14<00:32,  2.05it/s]"
     ]
    },
    {
     "name": "stdout",
     "output_type": "stream",
     "text": [
      "create <__main__.ShiftBlock object at 0x0000016F0E011F10> 0.851[s]\n"
     ]
    },
    {
     "name": "stderr",
     "output_type": "stream",
     "text": [
      " 49%|████▉     | 61/125 [00:14<00:19,  3.22it/s]"
     ]
    },
    {
     "name": "stdout",
     "output_type": "stream",
     "text": [
      "create <__main__.ShiftBlock object at 0x0000016F0E0113D0> 0.203[s]\n",
      "create <__main__.ShiftBlock object at 0x0000016F0E011B50> 0.062[s]\n",
      "create <__main__.ShiftBlock object at 0x0000016F0E0110D0> 0.073[s]\n"
     ]
    },
    {
     "name": "stderr",
     "output_type": "stream",
     "text": [
      "\r",
      " 50%|████▉     | 62/125 [00:15<00:30,  2.10it/s]"
     ]
    },
    {
     "name": "stdout",
     "output_type": "stream",
     "text": [
      "create <__main__.ShiftBlock object at 0x0000016F0E011040> 0.847[s]\n"
     ]
    },
    {
     "name": "stderr",
     "output_type": "stream",
     "text": [
      "\r",
      " 50%|█████     | 63/125 [00:15<00:25,  2.47it/s]"
     ]
    },
    {
     "name": "stdout",
     "output_type": "stream",
     "text": [
      "create <__main__.ShiftBlock object at 0x0000016F0E011BB0> 0.219[s]\n",
      "create <__main__.ShiftBlock object at 0x0000016F0E0110A0> 0.062[s]\n",
      "create <__main__.ShiftBlock object at 0x0000016F0E0118B0> 0.069[s]\n"
     ]
    },
    {
     "name": "stderr",
     "output_type": "stream",
     "text": [
      " 53%|█████▎    | 66/125 [00:16<00:27,  2.12it/s]"
     ]
    },
    {
     "name": "stdout",
     "output_type": "stream",
     "text": [
      "create <__main__.ShiftBlock object at 0x0000016F0E011940> 0.833[s]\n"
     ]
    },
    {
     "name": "stderr",
     "output_type": "stream",
     "text": [
      " 55%|█████▌    | 69/125 [00:17<00:17,  3.17it/s]"
     ]
    },
    {
     "name": "stdout",
     "output_type": "stream",
     "text": [
      "create <__main__.ShiftBlock object at 0x0000016F0E011640> 0.277[s]\n",
      "create <__main__.ShiftBlock object at 0x0000016F0E011B80> 0.071[s]\n",
      "create <__main__.ShiftBlock object at 0x0000016F0E0119A0> 0.067[s]\n"
     ]
    },
    {
     "name": "stderr",
     "output_type": "stream",
     "text": [
      "\r",
      " 56%|█████▌    | 70/125 [00:18<00:25,  2.15it/s]"
     ]
    },
    {
     "name": "stdout",
     "output_type": "stream",
     "text": [
      "create <__main__.ShiftBlock object at 0x0000016F0E011D00> 0.793[s]\n"
     ]
    },
    {
     "name": "stderr",
     "output_type": "stream",
     "text": [
      " 58%|█████▊    | 73/125 [00:18<00:15,  3.34it/s]"
     ]
    },
    {
     "name": "stdout",
     "output_type": "stream",
     "text": [
      "create <__main__.ShiftBlock object at 0x0000016F0E011E80> 0.219[s]\n",
      "create <__main__.ShiftBlock object at 0x0000016F0E011340> 0.057[s]\n",
      "create <__main__.ShiftBlock object at 0x0000016F0E011100> 0.063[s]\n"
     ]
    },
    {
     "name": "stderr",
     "output_type": "stream",
     "text": [
      "\r",
      " 59%|█████▉    | 74/125 [00:19<00:24,  2.09it/s]"
     ]
    },
    {
     "name": "stdout",
     "output_type": "stream",
     "text": [
      "create <__main__.ShiftBlock object at 0x0000016F0E011F40> 0.883[s]\n"
     ]
    },
    {
     "name": "stderr",
     "output_type": "stream",
     "text": [
      "\r",
      " 60%|██████    | 75/125 [00:19<00:20,  2.49it/s]"
     ]
    },
    {
     "name": "stdout",
     "output_type": "stream",
     "text": [
      "create <__main__.ShiftBlock object at 0x0000016F0E011EB0> 0.208[s]\n",
      "create <__main__.ShiftBlock object at 0x0000016F0E2490D0> 0.056[s]\n",
      "create <__main__.ShiftBlock object at 0x0000016F0E249520> 0.078[s]\n"
     ]
    },
    {
     "name": "stderr",
     "output_type": "stream",
     "text": [
      " 62%|██████▏   | 78/125 [00:20<00:21,  2.16it/s]"
     ]
    },
    {
     "name": "stdout",
     "output_type": "stream",
     "text": [
      "create <__main__.ShiftBlock object at 0x0000016F0E249AF0> 0.820[s]\n"
     ]
    },
    {
     "name": "stderr",
     "output_type": "stream",
     "text": [
      " 65%|██████▍   | 81/125 [00:20<00:13,  3.30it/s]"
     ]
    },
    {
     "name": "stdout",
     "output_type": "stream",
     "text": [
      "create <__main__.ShiftBlock object at 0x0000016F0E2494C0> 0.236[s]\n",
      "create <__main__.ShiftBlock object at 0x0000016F0E249B50> 0.070[s]\n",
      "create <__main__.ShiftBlock object at 0x0000016F0E249850> 0.051[s]\n"
     ]
    },
    {
     "name": "stderr",
     "output_type": "stream",
     "text": [
      "\r",
      " 66%|██████▌   | 82/125 [00:21<00:20,  2.09it/s]"
     ]
    },
    {
     "name": "stdout",
     "output_type": "stream",
     "text": [
      "create <__main__.ShiftBlock object at 0x0000016F0E2497F0> 0.862[s]\n"
     ]
    },
    {
     "name": "stderr",
     "output_type": "stream",
     "text": [
      " 68%|██████▊   | 85/125 [00:22<00:12,  3.24it/s]"
     ]
    },
    {
     "name": "stdout",
     "output_type": "stream",
     "text": [
      "create <__main__.ShiftBlock object at 0x0000016F0E249550> 0.218[s]\n",
      "create <__main__.ShiftBlock object at 0x0000016F0E249AC0> 0.059[s]\n",
      "create <__main__.ShiftBlock object at 0x0000016F0E249D00> 0.063[s]\n"
     ]
    },
    {
     "name": "stderr",
     "output_type": "stream",
     "text": [
      "\r",
      " 69%|██████▉   | 86/125 [00:23<00:18,  2.08it/s]"
     ]
    },
    {
     "name": "stdout",
     "output_type": "stream",
     "text": [
      "create <__main__.ShiftBlock object at 0x0000016F0E249E80> 0.863[s]\n"
     ]
    },
    {
     "name": "stderr",
     "output_type": "stream",
     "text": [
      " 71%|███████   | 89/125 [00:23<00:11,  3.23it/s]"
     ]
    },
    {
     "name": "stdout",
     "output_type": "stream",
     "text": [
      "create <__main__.ShiftBlock object at 0x0000016F0E249190> 0.222[s]\n",
      "create <__main__.ShiftBlock object at 0x0000016F0E249160> 0.062[s]\n",
      "create <__main__.ShiftBlock object at 0x0000016F0E249B20> 0.067[s]\n"
     ]
    },
    {
     "name": "stderr",
     "output_type": "stream",
     "text": [
      "\r",
      " 72%|███████▏  | 90/125 [00:24<00:16,  2.13it/s]"
     ]
    },
    {
     "name": "stdout",
     "output_type": "stream",
     "text": [
      "create <__main__.ShiftBlock object at 0x0000016F0E249250> 0.823[s]\n"
     ]
    },
    {
     "name": "stderr",
     "output_type": "stream",
     "text": [
      " 74%|███████▍  | 93/125 [00:24<00:09,  3.28it/s]"
     ]
    },
    {
     "name": "stdout",
     "output_type": "stream",
     "text": [
      "create <__main__.ShiftBlock object at 0x0000016F0E249610> 0.222[s]\n",
      "create <__main__.ShiftBlock object at 0x0000016F0E2498B0> 0.069[s]\n",
      "create <__main__.ShiftBlock object at 0x0000016F0E249D90> 0.061[s]\n"
     ]
    },
    {
     "name": "stderr",
     "output_type": "stream",
     "text": [
      "\r",
      " 75%|███████▌  | 94/125 [00:25<00:14,  2.11it/s]"
     ]
    },
    {
     "name": "stdout",
     "output_type": "stream",
     "text": [
      "create <__main__.ShiftBlock object at 0x0000016F0E2497C0> 0.847[s]\n"
     ]
    },
    {
     "name": "stderr",
     "output_type": "stream",
     "text": [
      " 78%|███████▊  | 97/125 [00:26<00:08,  3.26it/s]"
     ]
    },
    {
     "name": "stdout",
     "output_type": "stream",
     "text": [
      "create <__main__.ShiftBlock object at 0x0000016F0E249EB0> 0.216[s]\n",
      "create <__main__.ShiftBlock object at 0x0000016F0E249940> 0.055[s]\n",
      "create <__main__.ShiftBlock object at 0x0000016F0E249CA0> 0.048[s]\n"
     ]
    },
    {
     "name": "stderr",
     "output_type": "stream",
     "text": [
      "\r",
      " 78%|███████▊  | 98/125 [00:26<00:12,  2.20it/s]"
     ]
    },
    {
     "name": "stdout",
     "output_type": "stream",
     "text": [
      "create <__main__.ShiftBlock object at 0x0000016F0E2495E0> 0.783[s]\n"
     ]
    },
    {
     "name": "stderr",
     "output_type": "stream",
     "text": [
      " 81%|████████  | 101/125 [00:27<00:07,  3.40it/s]"
     ]
    },
    {
     "name": "stdout",
     "output_type": "stream",
     "text": [
      "create <__main__.ShiftBlock object at 0x0000016F0E249670> 0.205[s]\n",
      "create <__main__.ShiftBlock object at 0x0000016F0E2493D0> 0.071[s]\n",
      "create <__main__.ShiftBlock object at 0x0000016F0E249D30> 0.057[s]\n"
     ]
    },
    {
     "name": "stderr",
     "output_type": "stream",
     "text": [
      "\r",
      " 82%|████████▏ | 102/125 [00:28<00:10,  2.13it/s]"
     ]
    },
    {
     "name": "stdout",
     "output_type": "stream",
     "text": [
      "create <__main__.ShiftBlock object at 0x0000016F0E2495B0> 0.860[s]\n"
     ]
    },
    {
     "name": "stderr",
     "output_type": "stream",
     "text": [
      "\r",
      " 82%|████████▏ | 103/125 [00:28<00:09,  2.42it/s]"
     ]
    },
    {
     "name": "stdout",
     "output_type": "stream",
     "text": [
      "create <__main__.ShiftBlock object at 0x0000016F0E249A30> 0.258[s]\n",
      "create <__main__.ShiftBlock object at 0x0000016F0E249700> 0.074[s]\n",
      "create <__main__.ShiftBlock object at 0x0000016F0E249DF0> 0.073[s]\n"
     ]
    },
    {
     "name": "stderr",
     "output_type": "stream",
     "text": [
      " 85%|████████▍ | 106/125 [00:29<00:09,  2.07it/s]"
     ]
    },
    {
     "name": "stdout",
     "output_type": "stream",
     "text": [
      "create <__main__.ShiftBlock object at 0x0000016F0E249D60> 0.848[s]\n"
     ]
    },
    {
     "name": "stderr",
     "output_type": "stream",
     "text": [
      " 87%|████████▋ | 109/125 [00:29<00:05,  3.11it/s]"
     ]
    },
    {
     "name": "stdout",
     "output_type": "stream",
     "text": [
      "create <__main__.ShiftBlock object at 0x0000016F0E249DC0> 0.269[s]\n",
      "create <__main__.ShiftBlock object at 0x0000016F0E249A00> 0.058[s]\n",
      "create <__main__.ShiftBlock object at 0x0000016F0E249E20> 0.063[s]\n"
     ]
    },
    {
     "name": "stderr",
     "output_type": "stream",
     "text": [
      "\r",
      " 88%|████████▊ | 110/125 [00:30<00:07,  2.11it/s]"
     ]
    },
    {
     "name": "stdout",
     "output_type": "stream",
     "text": [
      "create <__main__.ShiftBlock object at 0x0000016F0E249070> 0.814[s]\n"
     ]
    },
    {
     "name": "stderr",
     "output_type": "stream",
     "text": [
      " 90%|█████████ | 113/125 [00:31<00:03,  3.23it/s]"
     ]
    },
    {
     "name": "stdout",
     "output_type": "stream",
     "text": [
      "create <__main__.ShiftBlock object at 0x0000016F0E249460> 0.218[s]\n",
      "create <__main__.ShiftBlock object at 0x0000016F0E249370> 0.082[s]\n",
      "create <__main__.ShiftBlock object at 0x0000016F0E249580> 0.063[s]\n"
     ]
    },
    {
     "name": "stderr",
     "output_type": "stream",
     "text": [
      "\r",
      " 91%|█████████ | 114/125 [00:32<00:05,  1.96it/s]"
     ]
    },
    {
     "name": "stdout",
     "output_type": "stream",
     "text": [
      "create <__main__.ShiftBlock object at 0x0000016F0E249790> 0.960[s]\n"
     ]
    },
    {
     "name": "stderr",
     "output_type": "stream",
     "text": [
      "\r",
      " 92%|█████████▏| 115/125 [00:32<00:04,  2.30it/s]"
     ]
    },
    {
     "name": "stdout",
     "output_type": "stream",
     "text": [
      "create <__main__.ShiftBlock object at 0x0000016F0E5C6220> 0.236[s]\n",
      "create <__main__.ShiftBlock object at 0x0000016F0E5C6A30> 0.064[s]\n",
      "create <__main__.ShiftBlock object at 0x0000016F0E5C6AC0> 0.082[s]\n"
     ]
    },
    {
     "name": "stderr",
     "output_type": "stream",
     "text": [
      " 94%|█████████▍| 118/125 [00:33<00:03,  1.97it/s]"
     ]
    },
    {
     "name": "stdout",
     "output_type": "stream",
     "text": [
      "create <__main__.ShiftBlock object at 0x0000016F0E5C6D30> 0.898[s]\n"
     ]
    },
    {
     "name": "stderr",
     "output_type": "stream",
     "text": [
      "100%|██████████| 125/125 [00:33<00:00,  3.68it/s]"
     ]
    },
    {
     "name": "stdout",
     "output_type": "stream",
     "text": [
      "create <__main__.ShiftBlock object at 0x0000016F0E5C67F0> 0.287[s]\n",
      "create <__main__.AggregateBlock object at 0x0000016F0E5C6250> 0.004[s]\n",
      "create <__main__.AggregateBlock object at 0x0000016F0E5C6940> 0.004[s]\n",
      "create <__main__.AggregateBlock object at 0x0000016F0E5C6610> 0.003[s]\n",
      "create <__main__.AggregateBlock object at 0x0000016F0E5C6EB0> 0.000[s]\n",
      "create <__main__.AggregateBlock object at 0x0000016F0E5C6B50> 0.016[s]\n",
      "create <__main__.AggregateBlock object at 0x0000016F0E5C6AF0> 0.011[s]\n"
     ]
    },
    {
     "name": "stderr",
     "output_type": "stream",
     "text": [
      "\n"
     ]
    }
   ],
   "source": [
    "train_feat_df = to_feature(changed_train_df, process_blocks, is_train=True)\n",
    "test_feat_df = to_feature(changed_test_df, process_blocks)"
   ]
  },
  {
   "cell_type": "code",
   "execution_count": 62,
   "metadata": {},
   "outputs": [
    {
     "data": {
      "text/html": [
       "<div>\n",
       "<style scoped>\n",
       "    .dataframe tbody tr th:only-of-type {\n",
       "        vertical-align: middle;\n",
       "    }\n",
       "\n",
       "    .dataframe tbody tr th {\n",
       "        vertical-align: top;\n",
       "    }\n",
       "\n",
       "    .dataframe thead th {\n",
       "        text-align: right;\n",
       "    }\n",
       "</style>\n",
       "<table border=\"1\" class=\"dataframe\">\n",
       "  <thead>\n",
       "    <tr style=\"text-align: right;\">\n",
       "      <th></th>\n",
       "      <th>0</th>\n",
       "      <th>1</th>\n",
       "      <th>2</th>\n",
       "      <th>3</th>\n",
       "      <th>4</th>\n",
       "    </tr>\n",
       "  </thead>\n",
       "  <tbody>\n",
       "    <tr>\n",
       "      <th>Critic_Score</th>\n",
       "      <td>84</td>\n",
       "      <td>91</td>\n",
       "      <td>87</td>\n",
       "      <td>70</td>\n",
       "      <td>71</td>\n",
       "    </tr>\n",
       "    <tr>\n",
       "      <th>Critic_Count</th>\n",
       "      <td>23</td>\n",
       "      <td>17</td>\n",
       "      <td>28</td>\n",
       "      <td>54</td>\n",
       "      <td>41</td>\n",
       "    </tr>\n",
       "    <tr>\n",
       "      <th>User_Score</th>\n",
       "      <td>8</td>\n",
       "      <td>9</td>\n",
       "      <td>8.5</td>\n",
       "      <td>6.9</td>\n",
       "      <td>6.9</td>\n",
       "    </tr>\n",
       "    <tr>\n",
       "      <th>User_Count</th>\n",
       "      <td>19</td>\n",
       "      <td>132</td>\n",
       "      <td>39</td>\n",
       "      <td>180</td>\n",
       "      <td>143</td>\n",
       "    </tr>\n",
       "    <tr>\n",
       "      <th>Year_of_Release</th>\n",
       "      <td>NaN</td>\n",
       "      <td>NaN</td>\n",
       "      <td>NaN</td>\n",
       "      <td>NaN</td>\n",
       "      <td>NaN</td>\n",
       "    </tr>\n",
       "    <tr>\n",
       "      <th>...</th>\n",
       "      <td>...</td>\n",
       "      <td>...</td>\n",
       "      <td>...</td>\n",
       "      <td>...</td>\n",
       "      <td>...</td>\n",
       "    </tr>\n",
       "    <tr>\n",
       "      <th>GP_User_Count@Platform_max</th>\n",
       "      <td>1283</td>\n",
       "      <td>1282</td>\n",
       "      <td>1283</td>\n",
       "      <td>8713</td>\n",
       "      <td>8003</td>\n",
       "    </tr>\n",
       "    <tr>\n",
       "      <th>GP_User_Count@Platform_Genre_max</th>\n",
       "      <td>160</td>\n",
       "      <td>918</td>\n",
       "      <td>160</td>\n",
       "      <td>3711</td>\n",
       "      <td>8003</td>\n",
       "    </tr>\n",
       "    <tr>\n",
       "      <th>GP_Critic_Count@NameSimilarGroup_max</th>\n",
       "      <td>23</td>\n",
       "      <td>34</td>\n",
       "      <td>86</td>\n",
       "      <td>57</td>\n",
       "      <td>57</td>\n",
       "    </tr>\n",
       "    <tr>\n",
       "      <th>GP_Critic_Count@Platform_max</th>\n",
       "      <td>91</td>\n",
       "      <td>24</td>\n",
       "      <td>91</td>\n",
       "      <td>100</td>\n",
       "      <td>107</td>\n",
       "    </tr>\n",
       "    <tr>\n",
       "      <th>GP_Critic_Count@Platform_Genre_max</th>\n",
       "      <td>89</td>\n",
       "      <td>22</td>\n",
       "      <td>89</td>\n",
       "      <td>100</td>\n",
       "      <td>105</td>\n",
       "    </tr>\n",
       "  </tbody>\n",
       "</table>\n",
       "<p>227 rows × 5 columns</p>\n",
       "</div>"
      ],
      "text/plain": [
       "                                         0     1     2     3     4\n",
       "Critic_Score                            84    91    87    70    71\n",
       "Critic_Count                            23    17    28    54    41\n",
       "User_Score                               8     9   8.5   6.9   6.9\n",
       "User_Count                              19   132    39   180   143\n",
       "Year_of_Release                        NaN   NaN   NaN   NaN   NaN\n",
       "...                                    ...   ...   ...   ...   ...\n",
       "GP_User_Count@Platform_max            1283  1282  1283  8713  8003\n",
       "GP_User_Count@Platform_Genre_max       160   918   160  3711  8003\n",
       "GP_Critic_Count@NameSimilarGroup_max    23    34    86    57    57\n",
       "GP_Critic_Count@Platform_max            91    24    91   100   107\n",
       "GP_Critic_Count@Platform_Genre_max      89    22    89   100   105\n",
       "\n",
       "[227 rows x 5 columns]"
      ]
     },
     "execution_count": 62,
     "metadata": {},
     "output_type": "execute_result"
    }
   ],
   "source": [
    "test_feat_df.head().T"
   ]
  },
  {
   "cell_type": "code",
   "execution_count": 63,
   "metadata": {},
   "outputs": [],
   "source": [
    "assert len(test_feat_df) == len(test_df)"
   ]
  },
  {
   "cell_type": "code",
   "execution_count": 64,
   "metadata": {},
   "outputs": [
    {
     "data": {
      "text/plain": [
       "['Critic_Score',\n",
       " 'Critic_Count',\n",
       " 'User_Score',\n",
       " 'User_Count',\n",
       " 'Year_of_Release',\n",
       " 'User_Score_is_tbd',\n",
       " 'Developer_has_japan',\n",
       " 'Developer_has_nintendo',\n",
       " 'Name_has_allregion',\n",
       " 'Name_has_jp',\n",
       " 'Name_has_butwrongsyste',\n",
       " 'Name_has_america',\n",
       " 'Name_has_other',\n",
       " 'Name_has_jikkyou-powerful-pro_n=3',\n",
       " 'Name_has_pro-evolution-soccer_n=3',\n",
       " 'Name_has_powerful-pro-yakyuu_n=3',\n",
       " 'Name_has_woods-pga-tour_n=3',\n",
       " 'Name_has_tiger-woods-pga_n=3',\n",
       " 'Name_has_dragon-ball-z_n=3',\n",
       " 'Name_has_yu-gi-oh_n=3',\n",
       " 'Name_has_major-league-baseball_n=3',\n",
       " 'Name_has_super-robot-taisen_n=3',\n",
       " 'Name_has_metal-gear-solid_n=3',\n",
       " 'Name_has_mobile-suit-gundam_n=3',\n",
       " 'Name_has_lego-star-wars_n=3',\n",
       " 'Name_has_mutant-ninja-turtles_n=3',\n",
       " 'Name_has_teenage-mutant-ninja_n=3',\n",
       " 'Name_has_grand-theft-auto_n=3',\n",
       " 'Name_has_smackdown-vs-raw_n=3',\n",
       " 'Name_has_wwe-smackdown-vs_n=3',\n",
       " 'Name_has_shin-megami-tensei_n=3',\n",
       " 'Name_has_dance-dance-revolution_n=3',\n",
       " 'Name_has_clancy-splinter-cell_n=3',\n",
       " 'Developer_has_artificial-mind-movement_n=3',\n",
       " 'Developer_has_high-voltage-software_n=3',\n",
       " 'Developer_has_harmonix-music-systems_n=3',\n",
       " 'Developer_has_eurocom-entertainment-software_n=3',\n",
       " 'Developer_has_namco-bandai-games_n=3',\n",
       " 'Developer_has_arc-system-works_n=3',\n",
       " 'Developer_has_milestone-r-l_n=3',\n",
       " 'Developer_has_bandai-namco-games_n=3',\n",
       " 'Developer_has_scea-san-diego_n=3',\n",
       " 'Developer_has_san-diego-studios_n=3',\n",
       " 'Developer_has_black-lantern-studios_n=3',\n",
       " 'Developer_has_ea-bright-light_n=3',\n",
       " 'Developer_has_hb-studios-multimedia_n=3',\n",
       " 'Developer_has_heavy-iron-studios_n=3',\n",
       " 'Developer_has_ea-redwood-shores_n=3',\n",
       " 'Developer_has_scee-london-studio_n=3',\n",
       " 'Developer_has_nippon-ichi-software_n=3',\n",
       " 'Developer_has_double-helix-games_n=3',\n",
       " 'Developer_has_rockstar-san-diego_n=3',\n",
       " 'Developer_has_sce-japan-studio_n=3',\n",
       " 'OH_Platform=DS',\n",
       " 'OH_Platform=PS2',\n",
       " 'OH_Platform=Wii',\n",
       " 'OH_Platform=PS3',\n",
       " 'OH_Platform=PSP',\n",
       " 'OH_Platform=X360',\n",
       " 'OH_Platform=PS',\n",
       " 'OH_Platform=GBA',\n",
       " 'OH_Platform=PC',\n",
       " 'OH_Platform=XB',\n",
       " 'OH_Platform=3DS',\n",
       " 'OH_Platform=PSV',\n",
       " 'OH_Platform=GC',\n",
       " 'OH_Platform=PS4',\n",
       " 'OH_Platform=SNES',\n",
       " 'OH_Platform=SAT',\n",
       " 'OH_Platform=N64',\n",
       " 'OH_Platform=XOne',\n",
       " 'OH_Platform=2600',\n",
       " 'OH_Platform=WiiU',\n",
       " 'OH_Platform=GB',\n",
       " 'OH_Platform=NES',\n",
       " 'OH_Platform=DC',\n",
       " 'OH_Platform=GEN',\n",
       " 'OH_Genre=Action',\n",
       " 'OH_Genre=Role-Playing',\n",
       " 'OH_Genre=Misc',\n",
       " 'OH_Genre=Sports',\n",
       " 'OH_Genre=Adventure',\n",
       " 'OH_Genre=Shooter',\n",
       " 'OH_Genre=Platform',\n",
       " 'OH_Genre=Racing',\n",
       " 'OH_Genre=Fighting',\n",
       " 'OH_Genre=Strategy',\n",
       " 'OH_Genre=Simulation',\n",
       " 'OH_Genre=Puzzle',\n",
       " 'OH_Rating=E',\n",
       " 'OH_Rating=T',\n",
       " 'OH_Rating=M',\n",
       " 'OH_Rating=E10+',\n",
       " 'CE_Name',\n",
       " 'CE_Platform',\n",
       " 'CE_Year_of_Release',\n",
       " 'CE_NameSimilarGroup',\n",
       " 'SP@Genre_EU_Sales',\n",
       " 'SP@Genre_Global_Sales',\n",
       " 'SP@Genre_JP_Sales',\n",
       " 'SP@Genre_NA_Sales',\n",
       " 'SP@Genre_Other_Sales',\n",
       " 'SP@Platform_EU_Sales',\n",
       " 'SP@Platform_Global_Sales',\n",
       " 'SP@Platform_JP_Sales',\n",
       " 'SP@Platform_NA_Sales',\n",
       " 'SP@Platform_Other_Sales',\n",
       " 'SP@Year_of_Release_Platform_EU_Sales',\n",
       " 'SP@Year_of_Release_Platform_Global_Sales',\n",
       " 'SP@Year_of_Release_Platform_JP_Sales',\n",
       " 'SP@Year_of_Release_Platform_NA_Sales',\n",
       " 'SP@Year_of_Release_Platform_Other_Sales',\n",
       " 'SP@Rating_EU_Sales',\n",
       " 'SP@Rating_Global_Sales',\n",
       " 'SP@Rating_JP_Sales',\n",
       " 'SP@Rating_NA_Sales',\n",
       " 'SP@Rating_Other_Sales',\n",
       " 'Shift-5_Year_of_Release@Publisher',\n",
       " 'Shift-5_Year_of_Release@Platform_Genre',\n",
       " 'Shift-5_Year_of_Release@NameSimilarGroup',\n",
       " 'Shift-5_Year_of_Release@Publisher_Genre',\n",
       " 'Shift-4_Year_of_Release@Publisher',\n",
       " 'Shift-4_Year_of_Release@Platform_Genre',\n",
       " 'Shift-4_Year_of_Release@NameSimilarGroup',\n",
       " 'Shift-4_Year_of_Release@Publisher_Genre',\n",
       " 'Shift-3_Year_of_Release@Publisher',\n",
       " 'Shift-3_Year_of_Release@Platform_Genre',\n",
       " 'Shift-3_Year_of_Release@NameSimilarGroup',\n",
       " 'Shift-3_Year_of_Release@Publisher_Genre',\n",
       " 'Shift-2_Year_of_Release@Publisher',\n",
       " 'Shift-2_Year_of_Release@Platform_Genre',\n",
       " 'Shift-2_Year_of_Release@NameSimilarGroup',\n",
       " 'Shift-2_Year_of_Release@Publisher_Genre',\n",
       " 'Shift-1_Year_of_Release@Publisher',\n",
       " 'Shift-1_Year_of_Release@Platform_Genre',\n",
       " 'Shift-1_Year_of_Release@NameSimilarGroup',\n",
       " 'Shift-1_Year_of_Release@Publisher_Genre',\n",
       " 'Shift1_Year_of_Release@Publisher',\n",
       " 'Shift1_Year_of_Release@Platform_Genre',\n",
       " 'Shift1_Year_of_Release@NameSimilarGroup',\n",
       " 'Shift1_Year_of_Release@Publisher_Genre',\n",
       " 'Shift2_Year_of_Release@Publisher',\n",
       " 'Shift2_Year_of_Release@Platform_Genre',\n",
       " 'Shift2_Year_of_Release@NameSimilarGroup',\n",
       " 'Shift2_Year_of_Release@Publisher_Genre',\n",
       " 'Shift3_Year_of_Release@Publisher',\n",
       " 'Shift3_Year_of_Release@Platform_Genre',\n",
       " 'Shift3_Year_of_Release@NameSimilarGroup',\n",
       " 'Shift3_Year_of_Release@Publisher_Genre',\n",
       " 'Shift4_Year_of_Release@Publisher',\n",
       " 'Shift4_Year_of_Release@Platform_Genre',\n",
       " 'Shift4_Year_of_Release@NameSimilarGroup',\n",
       " 'Shift4_Year_of_Release@Publisher_Genre',\n",
       " 'Shift5_Year_of_Release@Publisher',\n",
       " 'Shift5_Year_of_Release@Platform_Genre',\n",
       " 'Shift5_Year_of_Release@NameSimilarGroup',\n",
       " 'Shift5_Year_of_Release@Publisher_Genre',\n",
       " 'Shift-5_User_Count@Publisher',\n",
       " 'Shift-5_User_Count@Platform_Genre',\n",
       " 'Shift-5_User_Count@NameSimilarGroup',\n",
       " 'Shift-5_User_Count@Publisher_Genre',\n",
       " 'Shift-4_User_Count@Publisher',\n",
       " 'Shift-4_User_Count@Platform_Genre',\n",
       " 'Shift-4_User_Count@NameSimilarGroup',\n",
       " 'Shift-4_User_Count@Publisher_Genre',\n",
       " 'Shift-3_User_Count@Publisher',\n",
       " 'Shift-3_User_Count@Platform_Genre',\n",
       " 'Shift-3_User_Count@NameSimilarGroup',\n",
       " 'Shift-3_User_Count@Publisher_Genre',\n",
       " 'Shift-2_User_Count@Publisher',\n",
       " 'Shift-2_User_Count@Platform_Genre',\n",
       " 'Shift-2_User_Count@NameSimilarGroup',\n",
       " 'Shift-2_User_Count@Publisher_Genre',\n",
       " 'Shift-1_User_Count@Publisher',\n",
       " 'Shift-1_User_Count@Platform_Genre',\n",
       " 'Shift-1_User_Count@NameSimilarGroup',\n",
       " 'Shift-1_User_Count@Publisher_Genre',\n",
       " 'Shift1_User_Count@Publisher',\n",
       " 'Shift1_User_Count@Platform_Genre',\n",
       " 'Shift1_User_Count@NameSimilarGroup',\n",
       " 'Shift1_User_Count@Publisher_Genre',\n",
       " 'Shift2_User_Count@Publisher',\n",
       " 'Shift2_User_Count@Platform_Genre',\n",
       " 'Shift2_User_Count@NameSimilarGroup',\n",
       " 'Shift2_User_Count@Publisher_Genre',\n",
       " 'Shift3_User_Count@Publisher',\n",
       " 'Shift3_User_Count@Platform_Genre',\n",
       " 'Shift3_User_Count@NameSimilarGroup',\n",
       " 'Shift3_User_Count@Publisher_Genre',\n",
       " 'Shift4_User_Count@Publisher',\n",
       " 'Shift4_User_Count@Platform_Genre',\n",
       " 'Shift4_User_Count@NameSimilarGroup',\n",
       " 'Shift4_User_Count@Publisher_Genre',\n",
       " 'Shift5_User_Count@Publisher',\n",
       " 'Shift5_User_Count@Platform_Genre',\n",
       " 'Shift5_User_Count@NameSimilarGroup',\n",
       " 'Shift5_User_Count@Publisher_Genre',\n",
       " 'Shift-1_Critic_Count@Publisher',\n",
       " 'Shift-1_Critic_Count@Platform_Genre',\n",
       " 'Shift-1_Critic_Count@NameSimilarGroup',\n",
       " 'Shift-1_Critic_Count@Publisher_Genre',\n",
       " 'Shift1_Critic_Count@Publisher',\n",
       " 'Shift1_Critic_Count@Platform_Genre',\n",
       " 'Shift1_Critic_Count@NameSimilarGroup',\n",
       " 'Shift1_Critic_Count@Publisher_Genre',\n",
       " 'Shift-1_Critic_Score@Publisher',\n",
       " 'Shift-1_Critic_Score@Platform_Genre',\n",
       " 'Shift-1_Critic_Score@NameSimilarGroup',\n",
       " 'Shift-1_Critic_Score@Publisher_Genre',\n",
       " 'Shift1_Critic_Score@Publisher',\n",
       " 'Shift1_Critic_Score@Platform_Genre',\n",
       " 'Shift1_Critic_Score@NameSimilarGroup',\n",
       " 'Shift1_Critic_Score@Publisher_Genre',\n",
       " 'Shift-1_User_Score@Publisher',\n",
       " 'Shift-1_User_Score@Platform_Genre',\n",
       " 'Shift-1_User_Score@NameSimilarGroup',\n",
       " 'Shift-1_User_Score@Publisher_Genre',\n",
       " 'Shift1_User_Score@Publisher',\n",
       " 'Shift1_User_Score@Platform_Genre',\n",
       " 'Shift1_User_Score@NameSimilarGroup',\n",
       " 'Shift1_User_Score@Publisher_Genre',\n",
       " 'GP_User_Count@NameSimilarGroup_max',\n",
       " 'GP_User_Count@Platform_max',\n",
       " 'GP_User_Count@Platform_Genre_max',\n",
       " 'GP_Critic_Count@NameSimilarGroup_max',\n",
       " 'GP_Critic_Count@Platform_max',\n",
       " 'GP_Critic_Count@Platform_Genre_max']"
      ]
     },
     "execution_count": 64,
     "metadata": {},
     "output_type": "execute_result"
    }
   ],
   "source": [
    "train_feat_df.columns.tolist()"
   ]
  },
  {
   "cell_type": "markdown",
   "metadata": {},
   "source": [
    "## プロセス③（各特徴量同士の四則演算）"
   ]
  },
  {
   "cell_type": "code",
   "execution_count": 65,
   "metadata": {},
   "outputs": [],
   "source": [
    "arithmetic_blocks = [\n",
    "    ArithmeticOperationBlock('Shift-1_Year_of_Release@Publisher','Year_of_Release', '-'),\n",
    "    ArithmeticOperationBlock('Shift-1_Year_of_Release@Platform_Genre','Year_of_Release', '-'),\n",
    "    ArithmeticOperationBlock('Shift-1_Year_of_Release@NameSimilarGroup','Year_of_Release', '-'),\n",
    "    ArithmeticOperationBlock('Shift-1_Year_of_Release@Publisher_Genre','Year_of_Release', '-'),\n",
    "    \n",
    "    ArithmeticOperationBlock('Shift-2_Year_of_Release@Publisher','Year_of_Release', '-'),\n",
    "    ArithmeticOperationBlock('Shift-2_Year_of_Release@Platform_Genre','Year_of_Release', '-'),\n",
    "    ArithmeticOperationBlock('Shift-2_Year_of_Release@NameSimilarGroup','Year_of_Release', '-'),\n",
    "    ArithmeticOperationBlock('Shift-2_Year_of_Release@Publisher_Genre','Year_of_Release', '-'),\n",
    "    \n",
    "    ArithmeticOperationBlock('Shift-3_Year_of_Release@Publisher','Year_of_Release', '-'),\n",
    "    ArithmeticOperationBlock('Shift-3_Year_of_Release@Platform_Genre','Year_of_Release', '-'),\n",
    "    ArithmeticOperationBlock('Shift-3_Year_of_Release@NameSimilarGroup','Year_of_Release', '-'),\n",
    "    ArithmeticOperationBlock('Shift-3_Year_of_Release@Publisher_Genre','Year_of_Release', '-'),\n",
    "    \n",
    "    ArithmeticOperationBlock('Shift-4_Year_of_Release@Publisher','Year_of_Release', '-'),\n",
    "    ArithmeticOperationBlock('Shift-4_Year_of_Release@Platform_Genre','Year_of_Release', '-'),\n",
    "    ArithmeticOperationBlock('Shift-4_Year_of_Release@NameSimilarGroup','Year_of_Release', '-'),\n",
    "    ArithmeticOperationBlock('Shift-4_Year_of_Release@Publisher_Genre','Year_of_Release', '-'),\n",
    "    \n",
    "    ArithmeticOperationBlock('Shift-5_Year_of_Release@Publisher','Year_of_Release', '-'),\n",
    "    ArithmeticOperationBlock('Shift-5_Year_of_Release@Platform_Genre','Year_of_Release', '-'),\n",
    "    ArithmeticOperationBlock('Shift-5_Year_of_Release@NameSimilarGroup','Year_of_Release', '-'),\n",
    "    ArithmeticOperationBlock('Shift-5_Year_of_Release@Publisher_Genre','Year_of_Release', '-'),\n",
    "    \n",
    "    ArithmeticOperationBlock('Year_of_Release','Shift1_Year_of_Release@Publisher', '-'),\n",
    "    ArithmeticOperationBlock('Year_of_Release','Shift1_Year_of_Release@Platform_Genre', '-'),\n",
    "    ArithmeticOperationBlock('Year_of_Release','Shift1_Year_of_Release@NameSimilarGroup', '-'),\n",
    "    ArithmeticOperationBlock('Year_of_Release','Shift1_Year_of_Release@Publisher_Genre', '-'),\n",
    "    \n",
    "    ArithmeticOperationBlock('Year_of_Release','Shift2_Year_of_Release@Publisher', '-'),\n",
    "    ArithmeticOperationBlock('Year_of_Release','Shift2_Year_of_Release@Platform_Genre', '-'),\n",
    "    ArithmeticOperationBlock('Year_of_Release','Shift2_Year_of_Release@NameSimilarGroup', '-'),\n",
    "    ArithmeticOperationBlock('Year_of_Release','Shift2_Year_of_Release@Publisher_Genre', '-'),\n",
    "    \n",
    "    ArithmeticOperationBlock('Year_of_Release','Shift3_Year_of_Release@Publisher', '-'),\n",
    "    ArithmeticOperationBlock('Year_of_Release','Shift3_Year_of_Release@Platform_Genre', '-'),\n",
    "    ArithmeticOperationBlock('Year_of_Release','Shift3_Year_of_Release@NameSimilarGroup', '-'),\n",
    "    ArithmeticOperationBlock('Year_of_Release','Shift3_Year_of_Release@Publisher_Genre', '-'),\n",
    "    \n",
    "    ArithmeticOperationBlock('Year_of_Release','Shift4_Year_of_Release@Publisher', '-'),\n",
    "    ArithmeticOperationBlock('Year_of_Release','Shift4_Year_of_Release@Platform_Genre', '-'),\n",
    "    ArithmeticOperationBlock('Year_of_Release','Shift4_Year_of_Release@NameSimilarGroup', '-'),\n",
    "    ArithmeticOperationBlock('Year_of_Release','Shift4_Year_of_Release@Publisher_Genre', '-'),\n",
    "    \n",
    "    ArithmeticOperationBlock('Year_of_Release','Shift5_Year_of_Release@Publisher', '-'),\n",
    "    ArithmeticOperationBlock('Year_of_Release','Shift5_Year_of_Release@Platform_Genre', '-'),\n",
    "    ArithmeticOperationBlock('Year_of_Release','Shift5_Year_of_Release@NameSimilarGroup', '-'),\n",
    "    ArithmeticOperationBlock('Year_of_Release','Shift5_Year_of_Release@Publisher_Genre', '-'),\n",
    "]"
   ]
  },
  {
   "cell_type": "code",
   "execution_count": 66,
   "metadata": {},
   "outputs": [
    {
     "name": "stderr",
     "output_type": "stream",
     "text": [
      " 10%|█         | 4/40 [00:00<00:01, 32.70it/s]"
     ]
    },
    {
     "name": "stdout",
     "output_type": "stream",
     "text": [
      "create <__main__.ArithmeticOperationBlock object at 0x0000016F0E7B3700> 0.012[s]\n",
      "create <__main__.ArithmeticOperationBlock object at 0x0000016F0E7B3820> 0.007[s]\n",
      "create <__main__.ArithmeticOperationBlock object at 0x0000016F0E7B3A00> 0.008[s]\n",
      "create <__main__.ArithmeticOperationBlock object at 0x0000016F0E7B3F10> 0.007[s]\n",
      "create <__main__.ArithmeticOperationBlock object at 0x0000016F114A33A0> 0.008[s]\n",
      "create <__main__.ArithmeticOperationBlock object at 0x0000016F114A3550> 0.007[s]\n",
      "create <__main__.ArithmeticOperationBlock object at 0x0000016F114A3D30> 0.007[s]\n",
      "create <__main__.ArithmeticOperationBlock object at 0x0000016F114A31C0> 0.007[s]\n"
     ]
    },
    {
     "name": "stderr",
     "output_type": "stream",
     "text": [
      " 30%|███       | 12/40 [00:00<00:00, 34.13it/s]"
     ]
    },
    {
     "name": "stdout",
     "output_type": "stream",
     "text": [
      "create <__main__.ArithmeticOperationBlock object at 0x0000016F114A3E80> 0.008[s]\n",
      "create <__main__.ArithmeticOperationBlock object at 0x0000016F114A3DF0> 0.008[s]\n",
      "create <__main__.ArithmeticOperationBlock object at 0x0000016F114A3E20> 0.007[s]\n",
      "create <__main__.ArithmeticOperationBlock object at 0x0000016F114A3F10> 0.000[s]\n",
      "create <__main__.ArithmeticOperationBlock object at 0x0000016F114A3B80> 0.016[s]\n",
      "create <__main__.ArithmeticOperationBlock object at 0x0000016F114A3EB0> 0.006[s]\n",
      "create <__main__.ArithmeticOperationBlock object at 0x0000016F114A33D0> 0.000[s]\n"
     ]
    },
    {
     "name": "stderr",
     "output_type": "stream",
     "text": [
      " 50%|█████     | 20/40 [00:00<00:00, 33.64it/s]"
     ]
    },
    {
     "name": "stdout",
     "output_type": "stream",
     "text": [
      "create <__main__.ArithmeticOperationBlock object at 0x0000016F114A3D60> 0.012[s]\n",
      "create <__main__.ArithmeticOperationBlock object at 0x0000016F114A3B20> 0.007[s]\n",
      "create <__main__.ArithmeticOperationBlock object at 0x0000016F114A3A60> 0.006[s]\n",
      "create <__main__.ArithmeticOperationBlock object at 0x0000016F114A34C0> 0.003[s]\n",
      "create <__main__.ArithmeticOperationBlock object at 0x0000016F114A36A0> 0.000[s]\n",
      "create <__main__.ArithmeticOperationBlock object at 0x0000016F114A3730> 0.012[s]\n",
      "create <__main__.ArithmeticOperationBlock object at 0x0000016F114A3FA0> 0.007[s]\n"
     ]
    },
    {
     "name": "stderr",
     "output_type": "stream",
     "text": [
      " 70%|███████   | 28/40 [00:00<00:00, 33.02it/s]"
     ]
    },
    {
     "name": "stdout",
     "output_type": "stream",
     "text": [
      "create <__main__.ArithmeticOperationBlock object at 0x0000016F114A39D0> 0.008[s]\n",
      "create <__main__.ArithmeticOperationBlock object at 0x0000016F114A3130> 0.007[s]\n",
      "create <__main__.ArithmeticOperationBlock object at 0x0000016F114A3F40> 0.013[s]\n",
      "create <__main__.ArithmeticOperationBlock object at 0x0000016F114A31F0> 0.007[s]\n",
      "create <__main__.ArithmeticOperationBlock object at 0x0000016F114A3670> 0.007[s]\n",
      "create <__main__.ArithmeticOperationBlock object at 0x0000016F114A3640> 0.002[s]\n",
      "create <__main__.ArithmeticOperationBlock object at 0x0000016F114A3970> 0.015[s]\n"
     ]
    },
    {
     "name": "stderr",
     "output_type": "stream",
     "text": [
      "\r",
      " 80%|████████  | 32/40 [00:00<00:00, 32.04it/s]"
     ]
    },
    {
     "name": "stdout",
     "output_type": "stream",
     "text": [
      "create <__main__.ArithmeticOperationBlock object at 0x0000016F114A3370> 0.007[s]\n",
      "create <__main__.ArithmeticOperationBlock object at 0x0000016F114A3400> 0.007[s]\n",
      "create <__main__.ArithmeticOperationBlock object at 0x0000016F114A3040> 0.000[s]\n",
      "create <__main__.ArithmeticOperationBlock object at 0x0000016F114A3BB0> 0.007[s]\n",
      "create <__main__.ArithmeticOperationBlock object at 0x0000016F114A3520> 0.007[s]\n",
      "create <__main__.ArithmeticOperationBlock object at 0x0000016F114A34F0> 0.008[s]\n",
      "create <__main__.ArithmeticOperationBlock object at 0x0000016F114A35E0> 0.007[s]\n"
     ]
    },
    {
     "name": "stderr",
     "output_type": "stream",
     "text": [
      "100%|██████████| 40/40 [00:01<00:00, 32.25it/s]\n",
      "  0%|          | 0/40 [00:00<?, ?it/s]"
     ]
    },
    {
     "name": "stdout",
     "output_type": "stream",
     "text": [
      "create <__main__.ArithmeticOperationBlock object at 0x0000016F114A3340> 0.008[s]\n",
      "create <__main__.ArithmeticOperationBlock object at 0x0000016F114A38E0> 0.007[s]\n",
      "create <__main__.ArithmeticOperationBlock object at 0x0000016F114A37C0> 0.000[s]\n",
      "create <__main__.ArithmeticOperationBlock object at 0x0000016F114A3F70> 0.008[s]\n",
      "create <__main__.ArithmeticOperationBlock object at 0x0000016F0E7B3700> 0.009[s]\n",
      "create <__main__.ArithmeticOperationBlock object at 0x0000016F0E7B3820> 0.008[s]\n",
      "create <__main__.ArithmeticOperationBlock object at 0x0000016F0E7B3A00> 0.007[s]\n"
     ]
    },
    {
     "name": "stderr",
     "output_type": "stream",
     "text": [
      " 20%|██        | 8/40 [00:00<00:00, 35.24it/s]"
     ]
    },
    {
     "name": "stdout",
     "output_type": "stream",
     "text": [
      "create <__main__.ArithmeticOperationBlock object at 0x0000016F0E7B3F10> 0.007[s]\n",
      "create <__main__.ArithmeticOperationBlock object at 0x0000016F114A33A0> 0.007[s]\n",
      "create <__main__.ArithmeticOperationBlock object at 0x0000016F114A3550> 0.007[s]\n",
      "create <__main__.ArithmeticOperationBlock object at 0x0000016F114A3D30> 0.006[s]\n",
      "create <__main__.ArithmeticOperationBlock object at 0x0000016F114A31C0> 0.001[s]\n",
      "create <__main__.ArithmeticOperationBlock object at 0x0000016F114A3E80> 0.018[s]\n"
     ]
    },
    {
     "name": "stderr",
     "output_type": "stream",
     "text": [
      " 38%|███▊      | 15/40 [00:00<00:00, 33.23it/s]"
     ]
    },
    {
     "name": "stdout",
     "output_type": "stream",
     "text": [
      "create <__main__.ArithmeticOperationBlock object at 0x0000016F114A3DF0> 0.016[s]\n",
      "create <__main__.ArithmeticOperationBlock object at 0x0000016F114A3E20> 0.008[s]\n",
      "create <__main__.ArithmeticOperationBlock object at 0x0000016F114A3F10> 0.008[s]\n",
      "create <__main__.ArithmeticOperationBlock object at 0x0000016F114A3B80> 0.007[s]\n",
      "create <__main__.ArithmeticOperationBlock object at 0x0000016F114A3EB0> 0.007[s]\n",
      "create <__main__.ArithmeticOperationBlock object at 0x0000016F114A33D0> 0.016[s]\n",
      "create <__main__.ArithmeticOperationBlock object at 0x0000016F114A3D60> 0.011[s]\n"
     ]
    },
    {
     "name": "stderr",
     "output_type": "stream",
     "text": [
      " 57%|█████▊    | 23/40 [00:00<00:00, 33.23it/s]"
     ]
    },
    {
     "name": "stdout",
     "output_type": "stream",
     "text": [
      "create <__main__.ArithmeticOperationBlock object at 0x0000016F114A3B20> 0.007[s]\n",
      "create <__main__.ArithmeticOperationBlock object at 0x0000016F114A3A60> 0.006[s]\n",
      "create <__main__.ArithmeticOperationBlock object at 0x0000016F114A34C0> 0.007[s]\n",
      "create <__main__.ArithmeticOperationBlock object at 0x0000016F114A36A0> 0.010[s]\n",
      "create <__main__.ArithmeticOperationBlock object at 0x0000016F114A3730> 0.006[s]\n",
      "create <__main__.ArithmeticOperationBlock object at 0x0000016F114A3FA0> 0.003[s]\n",
      "create <__main__.ArithmeticOperationBlock object at 0x0000016F114A39D0> 0.016[s]\n"
     ]
    },
    {
     "name": "stderr",
     "output_type": "stream",
     "text": [
      "\r",
      " 65%|██████▌   | 26/40 [00:00<00:00, 32.04it/s]"
     ]
    },
    {
     "name": "stdout",
     "output_type": "stream",
     "text": [
      "create <__main__.ArithmeticOperationBlock object at 0x0000016F114A3130> 0.019[s]\n",
      "create <__main__.ArithmeticOperationBlock object at 0x0000016F114A3F40> 0.008[s]\n",
      "create <__main__.ArithmeticOperationBlock object at 0x0000016F114A31F0> 0.006[s]\n",
      "create <__main__.ArithmeticOperationBlock object at 0x0000016F114A3670> 0.014[s]\n",
      "create <__main__.ArithmeticOperationBlock object at 0x0000016F114A3640> 0.008[s]\n",
      "create <__main__.ArithmeticOperationBlock object at 0x0000016F114A3970> 0.017[s]\n",
      "create <__main__.ArithmeticOperationBlock object at 0x0000016F114A3370> 0.000[s]\n"
     ]
    },
    {
     "name": "stderr",
     "output_type": "stream",
     "text": [
      " 82%|████████▎ | 33/40 [00:01<00:00, 29.97it/s]"
     ]
    },
    {
     "name": "stdout",
     "output_type": "stream",
     "text": [
      "create <__main__.ArithmeticOperationBlock object at 0x0000016F114A3400> 0.010[s]\n",
      "create <__main__.ArithmeticOperationBlock object at 0x0000016F114A3040> 0.008[s]\n",
      "create <__main__.ArithmeticOperationBlock object at 0x0000016F114A3BB0> 0.000[s]\n",
      "create <__main__.ArithmeticOperationBlock object at 0x0000016F114A3520> 0.012[s]\n",
      "create <__main__.ArithmeticOperationBlock object at 0x0000016F114A34F0> 0.007[s]\n",
      "create <__main__.ArithmeticOperationBlock object at 0x0000016F114A35E0> 0.000[s]\n"
     ]
    },
    {
     "name": "stderr",
     "output_type": "stream",
     "text": [
      "100%|██████████| 40/40 [00:01<00:00, 31.42it/s]"
     ]
    },
    {
     "name": "stdout",
     "output_type": "stream",
     "text": [
      "create <__main__.ArithmeticOperationBlock object at 0x0000016F114A3340> 0.013[s]\n",
      "create <__main__.ArithmeticOperationBlock object at 0x0000016F114A38E0> 0.007[s]\n",
      "create <__main__.ArithmeticOperationBlock object at 0x0000016F114A37C0> 0.007[s]\n",
      "create <__main__.ArithmeticOperationBlock object at 0x0000016F114A3F70> 0.006[s]\n"
     ]
    },
    {
     "name": "stderr",
     "output_type": "stream",
     "text": [
      "\n"
     ]
    }
   ],
   "source": [
    "train_feat_df = add_preprocessed_feat(train_feat_df, arithmetic_blocks, is_train=True)\n",
    "test_feat_df = add_preprocessed_feat(test_feat_df, arithmetic_blocks)"
   ]
  },
  {
   "cell_type": "markdown",
   "metadata": {},
   "source": [
    "# LightGBM による CrossValidation を用いた学習"
   ]
  },
  {
   "cell_type": "code",
   "execution_count": 67,
   "metadata": {},
   "outputs": [],
   "source": [
    "import lightgbm as lgbm\n",
    "# import xgboost as xgb\n",
    "\n",
    "from sklearn.metrics import mean_squared_log_error\n",
    "from sklearn.metrics import mean_squared_error\n",
    "\n",
    "def fit_lgbm(X, \n",
    "             y, \n",
    "             cv, \n",
    "             params: dict=None, \n",
    "             verbose: int=50):\n",
    "    \"\"\"lightGBM を CrossValidation の枠組みで学習を行なう function\"\"\"\n",
    "    metric_func = mean_squared_error\n",
    "    \n",
    "    # パラメータがないときは、空の dict で置き換える\n",
    "    if params is None:\n",
    "        params = {}\n",
    "\n",
    "    models = []\n",
    "    # training data の target と同じだけのゼロ配列を用意\n",
    "    # float にしないと悲しい事件が起こるのでそこだけ注意\n",
    "    oof_pred = np.zeros_like(y, dtype=np.float)\n",
    "\n",
    "    for i, (idx_train, idx_valid) in enumerate(cv): \n",
    "        # この部分が交差検証のところです。データセットを cv instance によって分割します\n",
    "        # training data を trian/valid に分割\n",
    "        x_train, y_train = X[idx_train], y[idx_train]\n",
    "        x_valid, y_valid = X[idx_valid], y[idx_valid]\n",
    "\n",
    "        clf = lgbm.LGBMRegressor(**params)\n",
    "        \n",
    "        with timer(prefix='fit fold={} '.format(i + 1)):\n",
    "            clf.fit(x_train, y_train, \n",
    "                    eval_set=[(x_valid, y_valid)],  \n",
    "                    early_stopping_rounds=verbose,\n",
    "                    verbose=300)\n",
    "\n",
    "        pred_i = clf.predict(x_valid)\n",
    "        \n",
    "        oof_pred[idx_valid] = pred_i\n",
    "        models.append(clf)\n",
    "\n",
    "        print(f'Fold {i} RMSLE: {metric_func(y_valid, pred_i) ** .5:.4f}')\n",
    "\n",
    "    score = metric_func(y, oof_pred) ** .5\n",
    "    print('FINISHED | Whole RMSLE: {:.4f}'.format(score))\n",
    "    return oof_pred, models"
   ]
  },
  {
   "cell_type": "markdown",
   "metadata": {},
   "source": [
    "### parameter について\n",
    "\n",
    "LightGBM などの GBDT のパラメータは、そこまでセンシティブではありません。しかし、内部的にどういう意味を持つのかを知っておくと、問題ごとにどういうパラメータが良いかの感覚がわかったり、チューニングする際にも有効なパラメータに絞ってチューニングできますので、重要な変数に関してはその意味についてざっと目を通しておくことをおすすめします。\n",
    "\n",
    "以下参考文献です。\n",
    "\n",
    "* [勾配ブースティングで大事なパラメータの気持ち](https://nykergoto.hatenablog.jp/entry/2019/03/29/%E5%8B%BE%E9%85%8D%E3%83%96%E3%83%BC%E3%82%B9%E3%83%86%E3%82%A3%E3%83%B3%E3%82%B0%E3%81%A7%E5%A4%A7%E4%BA%8B%E3%81%AA%E3%83%91%E3%83%A9%E3%83%A1%E3%83%BC%E3%82%BF%E3%81%AE%E6%B0%97%E6%8C%81%E3%81%A1): 僕の書いた記事。日本語です。\n",
    "* [Parameters Tuning](https://lightgbm.readthedocs.io/en/latest/Parameters-Tuning.html): lightGBM 公式のパラメータチューニングガイド。英語です。"
   ]
  },
  {
   "cell_type": "code",
   "execution_count": 68,
   "metadata": {},
   "outputs": [],
   "source": [
    "params = {\n",
    "    'objective': 'rmse', # 目的関数. これの意味で最小となるようなパラメータを探します. \n",
    "    'learning_rate': .1, # 学習率. 小さいほどなめらかな決定境界が作られて性能向上に繋がる場合が多いです、がそれだけ木を作るため学習に時間がかかります\n",
    "    'max_depth': 6, # 木の深さ. 深い木を許容するほどより複雑な交互作用を考慮するようになります\n",
    "    'n_estimators': 10000, # 木の最大数. early_stopping という枠組みで木の数は制御されるようにしていますのでとても大きい値を指定しておきます.\n",
    "    'colsample_bytree': .5, # 木を作る際に考慮する特徴量の割合. 1以下を指定すると特徴をランダムに欠落させます。小さくすることで, まんべんなく特徴を使うという効果があります.\n",
    "    'importance_type': 'gain' # 特徴重要度計算のロジック(後述)\n",
    "}\n",
    "\n",
    "y = train_df['Global_Sales'].values\n",
    "y = np.log1p(y) # log + plus1 変換する"
   ]
  },
  {
   "cell_type": "markdown",
   "metadata": {},
   "source": [
    "#### KFold"
   ]
  },
  {
   "cell_type": "code",
   "execution_count": 69,
   "metadata": {},
   "outputs": [],
   "source": [
    "# from sklearn.model_selection import KFold, GroupKFold\n",
    "\n",
    "# fold = KFold(n_splits=5, shuffle=True, random_state=71)\n",
    "# cv = list(fold.split(train_feat_df, y)) # もともとが generator なため明示的に list に変換する"
   ]
  },
  {
   "cell_type": "code",
   "execution_count": 70,
   "metadata": {},
   "outputs": [],
   "source": [
    "# oof, models = fit_lgbm(train_feat_df.values, y, cv, params=params, verbose=300)"
   ]
  },
  {
   "cell_type": "markdown",
   "metadata": {},
   "source": [
    "#### StratifiedKFold"
   ]
  },
  {
   "cell_type": "code",
   "execution_count": 71,
   "metadata": {},
   "outputs": [
    {
     "data": {
      "text/plain": [
       "['Critic_Score',\n",
       " 'Critic_Count',\n",
       " 'User_Score',\n",
       " 'User_Count',\n",
       " 'Year_of_Release',\n",
       " 'User_Score_is_tbd',\n",
       " 'Developer_has_japan',\n",
       " 'Developer_has_nintendo',\n",
       " 'Name_has_allregion',\n",
       " 'Name_has_jp',\n",
       " 'Name_has_butwrongsyste',\n",
       " 'Name_has_america',\n",
       " 'Name_has_other',\n",
       " 'Name_has_jikkyou-powerful-pro_n=3',\n",
       " 'Name_has_pro-evolution-soccer_n=3',\n",
       " 'Name_has_powerful-pro-yakyuu_n=3',\n",
       " 'Name_has_woods-pga-tour_n=3',\n",
       " 'Name_has_tiger-woods-pga_n=3',\n",
       " 'Name_has_dragon-ball-z_n=3',\n",
       " 'Name_has_yu-gi-oh_n=3',\n",
       " 'Name_has_major-league-baseball_n=3',\n",
       " 'Name_has_super-robot-taisen_n=3',\n",
       " 'Name_has_metal-gear-solid_n=3',\n",
       " 'Name_has_mobile-suit-gundam_n=3',\n",
       " 'Name_has_lego-star-wars_n=3',\n",
       " 'Name_has_mutant-ninja-turtles_n=3',\n",
       " 'Name_has_teenage-mutant-ninja_n=3',\n",
       " 'Name_has_grand-theft-auto_n=3',\n",
       " 'Name_has_smackdown-vs-raw_n=3',\n",
       " 'Name_has_wwe-smackdown-vs_n=3',\n",
       " 'Name_has_shin-megami-tensei_n=3',\n",
       " 'Name_has_dance-dance-revolution_n=3',\n",
       " 'Name_has_clancy-splinter-cell_n=3',\n",
       " 'Developer_has_artificial-mind-movement_n=3',\n",
       " 'Developer_has_high-voltage-software_n=3',\n",
       " 'Developer_has_harmonix-music-systems_n=3',\n",
       " 'Developer_has_eurocom-entertainment-software_n=3',\n",
       " 'Developer_has_namco-bandai-games_n=3',\n",
       " 'Developer_has_arc-system-works_n=3',\n",
       " 'Developer_has_milestone-r-l_n=3',\n",
       " 'Developer_has_bandai-namco-games_n=3',\n",
       " 'Developer_has_scea-san-diego_n=3',\n",
       " 'Developer_has_san-diego-studios_n=3',\n",
       " 'Developer_has_black-lantern-studios_n=3',\n",
       " 'Developer_has_ea-bright-light_n=3',\n",
       " 'Developer_has_hb-studios-multimedia_n=3',\n",
       " 'Developer_has_heavy-iron-studios_n=3',\n",
       " 'Developer_has_ea-redwood-shores_n=3',\n",
       " 'Developer_has_scee-london-studio_n=3',\n",
       " 'Developer_has_nippon-ichi-software_n=3',\n",
       " 'Developer_has_double-helix-games_n=3',\n",
       " 'Developer_has_rockstar-san-diego_n=3',\n",
       " 'Developer_has_sce-japan-studio_n=3',\n",
       " 'OH_Platform=DS',\n",
       " 'OH_Platform=PS2',\n",
       " 'OH_Platform=Wii',\n",
       " 'OH_Platform=PS3',\n",
       " 'OH_Platform=PSP',\n",
       " 'OH_Platform=X360',\n",
       " 'OH_Platform=PS',\n",
       " 'OH_Platform=GBA',\n",
       " 'OH_Platform=PC',\n",
       " 'OH_Platform=XB',\n",
       " 'OH_Platform=3DS',\n",
       " 'OH_Platform=PSV',\n",
       " 'OH_Platform=GC',\n",
       " 'OH_Platform=PS4',\n",
       " 'OH_Platform=SNES',\n",
       " 'OH_Platform=SAT',\n",
       " 'OH_Platform=N64',\n",
       " 'OH_Platform=XOne',\n",
       " 'OH_Platform=2600',\n",
       " 'OH_Platform=WiiU',\n",
       " 'OH_Platform=GB',\n",
       " 'OH_Platform=NES',\n",
       " 'OH_Platform=DC',\n",
       " 'OH_Platform=GEN',\n",
       " 'OH_Genre=Action',\n",
       " 'OH_Genre=Role-Playing',\n",
       " 'OH_Genre=Misc',\n",
       " 'OH_Genre=Sports',\n",
       " 'OH_Genre=Adventure',\n",
       " 'OH_Genre=Shooter',\n",
       " 'OH_Genre=Platform',\n",
       " 'OH_Genre=Racing',\n",
       " 'OH_Genre=Fighting',\n",
       " 'OH_Genre=Strategy',\n",
       " 'OH_Genre=Simulation',\n",
       " 'OH_Genre=Puzzle',\n",
       " 'OH_Rating=E',\n",
       " 'OH_Rating=T',\n",
       " 'OH_Rating=M',\n",
       " 'OH_Rating=E10+',\n",
       " 'CE_Name',\n",
       " 'CE_Platform',\n",
       " 'CE_Year_of_Release',\n",
       " 'CE_NameSimilarGroup',\n",
       " 'SP@Genre_EU_Sales',\n",
       " 'SP@Genre_Global_Sales',\n",
       " 'SP@Genre_JP_Sales',\n",
       " 'SP@Genre_NA_Sales',\n",
       " 'SP@Genre_Other_Sales',\n",
       " 'SP@Platform_EU_Sales',\n",
       " 'SP@Platform_Global_Sales',\n",
       " 'SP@Platform_JP_Sales',\n",
       " 'SP@Platform_NA_Sales',\n",
       " 'SP@Platform_Other_Sales',\n",
       " 'SP@Year_of_Release_Platform_EU_Sales',\n",
       " 'SP@Year_of_Release_Platform_Global_Sales',\n",
       " 'SP@Year_of_Release_Platform_JP_Sales',\n",
       " 'SP@Year_of_Release_Platform_NA_Sales',\n",
       " 'SP@Year_of_Release_Platform_Other_Sales',\n",
       " 'SP@Rating_EU_Sales',\n",
       " 'SP@Rating_Global_Sales',\n",
       " 'SP@Rating_JP_Sales',\n",
       " 'SP@Rating_NA_Sales',\n",
       " 'SP@Rating_Other_Sales',\n",
       " 'Shift-5_Year_of_Release@Publisher',\n",
       " 'Shift-5_Year_of_Release@Platform_Genre',\n",
       " 'Shift-5_Year_of_Release@NameSimilarGroup',\n",
       " 'Shift-5_Year_of_Release@Publisher_Genre',\n",
       " 'Shift-4_Year_of_Release@Publisher',\n",
       " 'Shift-4_Year_of_Release@Platform_Genre',\n",
       " 'Shift-4_Year_of_Release@NameSimilarGroup',\n",
       " 'Shift-4_Year_of_Release@Publisher_Genre',\n",
       " 'Shift-3_Year_of_Release@Publisher',\n",
       " 'Shift-3_Year_of_Release@Platform_Genre',\n",
       " 'Shift-3_Year_of_Release@NameSimilarGroup',\n",
       " 'Shift-3_Year_of_Release@Publisher_Genre',\n",
       " 'Shift-2_Year_of_Release@Publisher',\n",
       " 'Shift-2_Year_of_Release@Platform_Genre',\n",
       " 'Shift-2_Year_of_Release@NameSimilarGroup',\n",
       " 'Shift-2_Year_of_Release@Publisher_Genre',\n",
       " 'Shift-1_Year_of_Release@Publisher',\n",
       " 'Shift-1_Year_of_Release@Platform_Genre',\n",
       " 'Shift-1_Year_of_Release@NameSimilarGroup',\n",
       " 'Shift-1_Year_of_Release@Publisher_Genre',\n",
       " 'Shift1_Year_of_Release@Publisher',\n",
       " 'Shift1_Year_of_Release@Platform_Genre',\n",
       " 'Shift1_Year_of_Release@NameSimilarGroup',\n",
       " 'Shift1_Year_of_Release@Publisher_Genre',\n",
       " 'Shift2_Year_of_Release@Publisher',\n",
       " 'Shift2_Year_of_Release@Platform_Genre',\n",
       " 'Shift2_Year_of_Release@NameSimilarGroup',\n",
       " 'Shift2_Year_of_Release@Publisher_Genre',\n",
       " 'Shift3_Year_of_Release@Publisher',\n",
       " 'Shift3_Year_of_Release@Platform_Genre',\n",
       " 'Shift3_Year_of_Release@NameSimilarGroup',\n",
       " 'Shift3_Year_of_Release@Publisher_Genre',\n",
       " 'Shift4_Year_of_Release@Publisher',\n",
       " 'Shift4_Year_of_Release@Platform_Genre',\n",
       " 'Shift4_Year_of_Release@NameSimilarGroup',\n",
       " 'Shift4_Year_of_Release@Publisher_Genre',\n",
       " 'Shift5_Year_of_Release@Publisher',\n",
       " 'Shift5_Year_of_Release@Platform_Genre',\n",
       " 'Shift5_Year_of_Release@NameSimilarGroup',\n",
       " 'Shift5_Year_of_Release@Publisher_Genre',\n",
       " 'Shift-5_User_Count@Publisher',\n",
       " 'Shift-5_User_Count@Platform_Genre',\n",
       " 'Shift-5_User_Count@NameSimilarGroup',\n",
       " 'Shift-5_User_Count@Publisher_Genre',\n",
       " 'Shift-4_User_Count@Publisher',\n",
       " 'Shift-4_User_Count@Platform_Genre',\n",
       " 'Shift-4_User_Count@NameSimilarGroup',\n",
       " 'Shift-4_User_Count@Publisher_Genre',\n",
       " 'Shift-3_User_Count@Publisher',\n",
       " 'Shift-3_User_Count@Platform_Genre',\n",
       " 'Shift-3_User_Count@NameSimilarGroup',\n",
       " 'Shift-3_User_Count@Publisher_Genre',\n",
       " 'Shift-2_User_Count@Publisher',\n",
       " 'Shift-2_User_Count@Platform_Genre',\n",
       " 'Shift-2_User_Count@NameSimilarGroup',\n",
       " 'Shift-2_User_Count@Publisher_Genre',\n",
       " 'Shift-1_User_Count@Publisher',\n",
       " 'Shift-1_User_Count@Platform_Genre',\n",
       " 'Shift-1_User_Count@NameSimilarGroup',\n",
       " 'Shift-1_User_Count@Publisher_Genre',\n",
       " 'Shift1_User_Count@Publisher',\n",
       " 'Shift1_User_Count@Platform_Genre',\n",
       " 'Shift1_User_Count@NameSimilarGroup',\n",
       " 'Shift1_User_Count@Publisher_Genre',\n",
       " 'Shift2_User_Count@Publisher',\n",
       " 'Shift2_User_Count@Platform_Genre',\n",
       " 'Shift2_User_Count@NameSimilarGroup',\n",
       " 'Shift2_User_Count@Publisher_Genre',\n",
       " 'Shift3_User_Count@Publisher',\n",
       " 'Shift3_User_Count@Platform_Genre',\n",
       " 'Shift3_User_Count@NameSimilarGroup',\n",
       " 'Shift3_User_Count@Publisher_Genre',\n",
       " 'Shift4_User_Count@Publisher',\n",
       " 'Shift4_User_Count@Platform_Genre',\n",
       " 'Shift4_User_Count@NameSimilarGroup',\n",
       " 'Shift4_User_Count@Publisher_Genre',\n",
       " 'Shift5_User_Count@Publisher',\n",
       " 'Shift5_User_Count@Platform_Genre',\n",
       " 'Shift5_User_Count@NameSimilarGroup',\n",
       " 'Shift5_User_Count@Publisher_Genre',\n",
       " 'Shift-1_Critic_Count@Publisher',\n",
       " 'Shift-1_Critic_Count@Platform_Genre',\n",
       " 'Shift-1_Critic_Count@NameSimilarGroup',\n",
       " 'Shift-1_Critic_Count@Publisher_Genre',\n",
       " 'Shift1_Critic_Count@Publisher',\n",
       " 'Shift1_Critic_Count@Platform_Genre',\n",
       " 'Shift1_Critic_Count@NameSimilarGroup',\n",
       " 'Shift1_Critic_Count@Publisher_Genre',\n",
       " 'Shift-1_Critic_Score@Publisher',\n",
       " 'Shift-1_Critic_Score@Platform_Genre',\n",
       " 'Shift-1_Critic_Score@NameSimilarGroup',\n",
       " 'Shift-1_Critic_Score@Publisher_Genre',\n",
       " 'Shift1_Critic_Score@Publisher',\n",
       " 'Shift1_Critic_Score@Platform_Genre',\n",
       " 'Shift1_Critic_Score@NameSimilarGroup',\n",
       " 'Shift1_Critic_Score@Publisher_Genre',\n",
       " 'Shift-1_User_Score@Publisher',\n",
       " 'Shift-1_User_Score@Platform_Genre',\n",
       " 'Shift-1_User_Score@NameSimilarGroup',\n",
       " 'Shift-1_User_Score@Publisher_Genre',\n",
       " 'Shift1_User_Score@Publisher',\n",
       " 'Shift1_User_Score@Platform_Genre',\n",
       " 'Shift1_User_Score@NameSimilarGroup',\n",
       " 'Shift1_User_Score@Publisher_Genre',\n",
       " 'GP_User_Count@NameSimilarGroup_max',\n",
       " 'GP_User_Count@Platform_max',\n",
       " 'GP_User_Count@Platform_Genre_max',\n",
       " 'GP_Critic_Count@NameSimilarGroup_max',\n",
       " 'GP_Critic_Count@Platform_max',\n",
       " 'GP_Critic_Count@Platform_Genre_max',\n",
       " 'Shift-1_Year_of_Release@Publisher-Year_of_Release',\n",
       " 'Shift-1_Year_of_Release@Platform_Genre-Year_of_Release',\n",
       " 'Shift-1_Year_of_Release@NameSimilarGroup-Year_of_Release',\n",
       " 'Shift-1_Year_of_Release@Publisher_Genre-Year_of_Release',\n",
       " 'Shift-2_Year_of_Release@Publisher-Year_of_Release',\n",
       " 'Shift-2_Year_of_Release@Platform_Genre-Year_of_Release',\n",
       " 'Shift-2_Year_of_Release@NameSimilarGroup-Year_of_Release',\n",
       " 'Shift-2_Year_of_Release@Publisher_Genre-Year_of_Release',\n",
       " 'Shift-3_Year_of_Release@Publisher-Year_of_Release',\n",
       " 'Shift-3_Year_of_Release@Platform_Genre-Year_of_Release',\n",
       " 'Shift-3_Year_of_Release@NameSimilarGroup-Year_of_Release',\n",
       " 'Shift-3_Year_of_Release@Publisher_Genre-Year_of_Release',\n",
       " 'Shift-4_Year_of_Release@Publisher-Year_of_Release',\n",
       " 'Shift-4_Year_of_Release@Platform_Genre-Year_of_Release',\n",
       " 'Shift-4_Year_of_Release@NameSimilarGroup-Year_of_Release',\n",
       " 'Shift-4_Year_of_Release@Publisher_Genre-Year_of_Release',\n",
       " 'Shift-5_Year_of_Release@Publisher-Year_of_Release',\n",
       " 'Shift-5_Year_of_Release@Platform_Genre-Year_of_Release',\n",
       " 'Shift-5_Year_of_Release@NameSimilarGroup-Year_of_Release',\n",
       " 'Shift-5_Year_of_Release@Publisher_Genre-Year_of_Release',\n",
       " 'Year_of_Release-Shift1_Year_of_Release@Publisher',\n",
       " 'Year_of_Release-Shift1_Year_of_Release@Platform_Genre',\n",
       " 'Year_of_Release-Shift1_Year_of_Release@NameSimilarGroup',\n",
       " 'Year_of_Release-Shift1_Year_of_Release@Publisher_Genre',\n",
       " 'Year_of_Release-Shift2_Year_of_Release@Publisher',\n",
       " 'Year_of_Release-Shift2_Year_of_Release@Platform_Genre',\n",
       " 'Year_of_Release-Shift2_Year_of_Release@NameSimilarGroup',\n",
       " 'Year_of_Release-Shift2_Year_of_Release@Publisher_Genre',\n",
       " 'Year_of_Release-Shift3_Year_of_Release@Publisher',\n",
       " 'Year_of_Release-Shift3_Year_of_Release@Platform_Genre',\n",
       " 'Year_of_Release-Shift3_Year_of_Release@NameSimilarGroup',\n",
       " 'Year_of_Release-Shift3_Year_of_Release@Publisher_Genre',\n",
       " 'Year_of_Release-Shift4_Year_of_Release@Publisher',\n",
       " 'Year_of_Release-Shift4_Year_of_Release@Platform_Genre',\n",
       " 'Year_of_Release-Shift4_Year_of_Release@NameSimilarGroup',\n",
       " 'Year_of_Release-Shift4_Year_of_Release@Publisher_Genre',\n",
       " 'Year_of_Release-Shift5_Year_of_Release@Publisher',\n",
       " 'Year_of_Release-Shift5_Year_of_Release@Platform_Genre',\n",
       " 'Year_of_Release-Shift5_Year_of_Release@NameSimilarGroup',\n",
       " 'Year_of_Release-Shift5_Year_of_Release@Publisher_Genre']"
      ]
     },
     "execution_count": 71,
     "metadata": {},
     "output_type": "execute_result"
    }
   ],
   "source": [
    "train_feat_df.columns.tolist()"
   ]
  },
  {
   "cell_type": "code",
   "execution_count": 72,
   "metadata": {},
   "outputs": [
    {
     "data": {
      "text/plain": [
       "267"
      ]
     },
     "execution_count": 72,
     "metadata": {},
     "output_type": "execute_result"
    }
   ],
   "source": [
    "len(train_feat_df.columns.tolist())"
   ]
  },
  {
   "cell_type": "code",
   "execution_count": 73,
   "metadata": {},
   "outputs": [],
   "source": [
    "from sklearn.model_selection import StratifiedKFold\n",
    "\n",
    "def create_folds(data, target_col):\n",
    "    num_bins = np.int(1 + np.log2(len(data)))\n",
    "    bins = pd.cut(\n",
    "        data[target_col],\n",
    "        bins=num_bins,\n",
    "        labels=False\n",
    "    )\n",
    "    kf = StratifiedKFold(n_splits=10)\n",
    "    fold_ids = list(kf.split(X=data, y=bins.values))\n",
    "    return fold_ids"
   ]
  },
  {
   "cell_type": "code",
   "execution_count": 74,
   "metadata": {},
   "outputs": [
    {
     "name": "stderr",
     "output_type": "stream",
     "text": [
      "C:\\Users\\akira.shirahama\\Anaconda3\\envs\\kaggle_workspace\\lib\\site-packages\\sklearn\\model_selection\\_split.py:670: UserWarning: The least populated class in y has only 1 members, which is less than n_splits=10.\n",
      "  warnings.warn((\"The least populated class in y has only %d\"\n"
     ]
    },
    {
     "name": "stdout",
     "output_type": "stream",
     "text": [
      "Training until validation scores don't improve for 50 rounds\n",
      "Early stopping, best iteration is:\n",
      "[34]\tvalid_0's rmse: 1.01589\n",
      "fit fold=1 0.760[s]\n",
      "Fold 0 RMSLE: 1.0159\n",
      "Training until validation scores don't improve for 50 rounds\n",
      "[300]\tvalid_0's rmse: 0.73526\n",
      "Early stopping, best iteration is:\n",
      "[268]\tvalid_0's rmse: 0.734116\n",
      "fit fold=2 1.898[s]\n",
      "Fold 1 RMSLE: 0.7341\n",
      "Training until validation scores don't improve for 50 rounds\n",
      "[300]\tvalid_0's rmse: 0.59775\n",
      "Early stopping, best iteration is:\n",
      "[262]\tvalid_0's rmse: 0.596143\n",
      "fit fold=3 1.969[s]\n",
      "Fold 2 RMSLE: 0.5961\n",
      "Training until validation scores don't improve for 50 rounds\n",
      "Early stopping, best iteration is:\n",
      "[207]\tvalid_0's rmse: 0.571348\n",
      "fit fold=4 1.786[s]\n",
      "Fold 3 RMSLE: 0.5713\n",
      "Training until validation scores don't improve for 50 rounds\n",
      "Early stopping, best iteration is:\n",
      "[207]\tvalid_0's rmse: 0.654804\n",
      "fit fold=5 2.027[s]\n",
      "Fold 4 RMSLE: 0.6548\n",
      "Training until validation scores don't improve for 50 rounds\n",
      "[300]\tvalid_0's rmse: 0.596448\n",
      "Early stopping, best iteration is:\n",
      "[278]\tvalid_0's rmse: 0.595231\n",
      "fit fold=6 2.240[s]\n",
      "Fold 5 RMSLE: 0.5952\n",
      "Training until validation scores don't improve for 50 rounds\n",
      "[300]\tvalid_0's rmse: 0.538087\n",
      "Early stopping, best iteration is:\n",
      "[275]\tvalid_0's rmse: 0.536501\n",
      "fit fold=7 2.152[s]\n",
      "Fold 6 RMSLE: 0.5365\n",
      "Training until validation scores don't improve for 50 rounds\n",
      "Early stopping, best iteration is:\n",
      "[205]\tvalid_0's rmse: 0.541691\n",
      "fit fold=8 1.891[s]\n",
      "Fold 7 RMSLE: 0.5417\n",
      "Training until validation scores don't improve for 50 rounds\n",
      "Early stopping, best iteration is:\n",
      "[112]\tvalid_0's rmse: 0.678003\n",
      "fit fold=9 1.287[s]\n",
      "Fold 8 RMSLE: 0.6780\n",
      "Training until validation scores don't improve for 50 rounds\n",
      "Early stopping, best iteration is:\n",
      "[231]\tvalid_0's rmse: 0.761468\n",
      "fit fold=10 1.938[s]\n",
      "Fold 9 RMSLE: 0.7615\n",
      "FINISHED | Whole RMSLE: 0.6824\n"
     ]
    }
   ],
   "source": [
    "cv = create_folds(train_df, 'Global_Sales')\n",
    "oof, models = fit_lgbm(train_feat_df.values, y, cv, params=params)"
   ]
  },
  {
   "cell_type": "code",
   "execution_count": 75,
   "metadata": {},
   "outputs": [],
   "source": [
    "def visualize_importance(models, feat_train_df):\n",
    "    \"\"\"lightGBM の model 配列の feature importance を plot する\n",
    "    CVごとのブレを boxen plot として表現します.\n",
    "    \n",
    "    args:\n",
    "        models:\n",
    "            List of lightGBM models\n",
    "        feat_train_df:\n",
    "            学習時に使った DataFrame\n",
    "    \"\"\"\n",
    "    feature_importance_df = pd.DataFrame()\n",
    "    for i, model in enumerate(models):\n",
    "        _df = pd.DataFrame()\n",
    "        _df['feature_importance'] = model.feature_importances_\n",
    "        _df['column'] = feat_train_df.columns\n",
    "        _df['fold'] = i + 1\n",
    "        feature_importance_df = pd.concat([feature_importance_df, _df], axis=0, ignore_index=True)\n",
    "\n",
    "    order = feature_importance_df.groupby('column')\\\n",
    "        .sum()[['feature_importance']]\\\n",
    "        .sort_values('feature_importance', ascending=False).index[:50]\n",
    "\n",
    "    fig, ax = plt.subplots(figsize=(max(6, len(order) * .4), 7))\n",
    "    sns.boxenplot(data=feature_importance_df, x='column', y='feature_importance', order=order, ax=ax, palette='viridis')\n",
    "    ax.tick_params(axis='x', rotation=90)\n",
    "    ax.grid()\n",
    "    fig.tight_layout()\n",
    "    return fig, ax"
   ]
  },
  {
   "cell_type": "code",
   "execution_count": 76,
   "metadata": {},
   "outputs": [
    {
     "data": {
      "image/png": "[encoded data removed]",
      "text/plain": [
       "<Figure size 1440x504 with 1 Axes>"
      ]
     },
     "metadata": {},
     "output_type": "display_data"
    }
   ],
   "source": [
    "fig, ax = visualize_importance(models, train_feat_df)"
   ]
  },
  {
   "cell_type": "code",
   "execution_count": 77,
   "metadata": {},
   "outputs": [],
   "source": [
    "pred = np.array([model.predict(test_feat_df.values) for model in models])\n",
    "pred = np.mean(pred, axis=0)\n",
    "pred = np.expm1(pred)\n",
    "pred = np.where(pred < 0, 0, pred)\n",
    "sub_df = pd.DataFrame({ 'Global_Sales': pred })\n",
    "sub_df.to_csv(os.path.join(OUTPUT_DIR, f'{NOTEOOKNAME}.csv'), index=False)"
   ]
  },
  {
   "cell_type": "markdown",
   "metadata": {},
   "source": [
    "Submission する前には予測値がまともかどうかちゃんと見ておきます。(貴重なsubmissionを無駄にしないため)"
   ]
  },
  {
   "cell_type": "code",
   "execution_count": 78,
   "metadata": {},
   "outputs": [
    {
     "data": {
      "image/png": "[encoded data removed]",
      "text/plain": [
       "<Figure size 576x576 with 1 Axes>"
      ]
     },
     "metadata": {},
     "output_type": "display_data"
    }
   ],
   "source": [
    "fig, ax = plt.subplots(figsize=(8, 8))\n",
    "sns.distplot(np.log1p(pred), label='Test Predict')\n",
    "sns.distplot(oof, label='Out Of Fold')\n",
    "ax.legend()\n",
    "ax.grid()"
   ]
  },
  {
   "cell_type": "code",
   "execution_count": null,
   "metadata": {},
   "outputs": [],
   "source": []
  },
  {
   "cell_type": "code",
   "execution_count": null,
   "metadata": {},
   "outputs": [],
   "source": []
  },
  {
   "cell_type": "code",
   "execution_count": null,
   "metadata": {},
   "outputs": [],
   "source": []
  }
 ],
 "metadata": {
  "kernelspec": {
   "display_name": "Python 3",
   "language": "python",
   "name": "python3"
  },
  "language_info": {
   "codemirror_mode": {
    "name": "ipython",
    "version": 3
   },
   "file_extension": ".py",
   "mimetype": "text/x-python",
   "name": "python",
   "nbconvert_exporter": "python",
   "pygments_lexer": "ipython3",
   "version": "3.7.6"
  }
 },
 "nbformat": 4,
 "nbformat_minor": 4
}
